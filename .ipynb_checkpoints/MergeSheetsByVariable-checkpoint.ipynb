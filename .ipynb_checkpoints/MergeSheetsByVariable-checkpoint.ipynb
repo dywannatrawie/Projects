{
 "cells": [
  {
   "cell_type": "markdown",
   "id": "7cae6d71-6e51-44a7-a11b-df894c432ee1",
   "metadata": {},
   "source": [
    "The purpose of this code is to merge data from different sheets from one excel file into one sheet. It groups data by Client name and search different sheets if there is Client variable. It has some features not to sum variables like VAT, quit and Marża (margin)"
   ]
  },
  {
   "cell_type": "code",
   "execution_count": null,
   "id": "8c237fcd-a91e-4b01-aeab-739e7a2a8cc7",
   "metadata": {},
   "outputs": [],
   "source": [
    "import pandas as pd\n",
    "\n",
    "# Wczytanie pliku Excel\n",
    "file_path = 'CompanyData.xlsx'\n",
    "new_file_path = 'CompanyData_merged.xlsx'"
   ]
  },
  {
   "cell_type": "code",
   "execution_count": null,
   "id": "719e2b02-81c3-4b03-ad60-70a8d1059cd5",
   "metadata": {},
   "outputs": [],
   "source": [
    "# Wczytanie wszystkich arkuszy do DataFrame\n",
    "xls = pd.ExcelFile(file_path)\n",
    "sheet_names = xls.sheet_names\n",
    "\n",
    "# Inicjalizacja DataFrame dla połączonych danych\n",
    "merged_df = pd.DataFrame()\n",
    "\n",
    "# Iteracja przez wszystkie arkusze i łączenie ich na podstawie kolumny \"Klient\"\n",
    "for sheet_name in sheet_names:\n",
    "    df = pd.read_excel(xls, sheet_name=sheet_name)\n",
    "    if 'Klient' in df.columns:\n",
    "        merged_df = pd.concat([merged_df, df], ignore_index=True)\n",
    "\n",
    "# Grupowanie danych po kolumnie \"Klient\" i agregowanie wartości liczbowych\n",
    "agg_dict = {col: 'sum' for col in merged_df.select_dtypes(include='number').columns}\n",
    "if 'Marża' in agg_dict:\n",
    "    agg_dict['Marża'] = 'mean'\n",
    "if 'quit' in agg_dict:\n",
    "    agg_dict['quit'] = 'max'  # Utrzymanie wartości 1, jeśli istnieje, w przeciwnym razie pozostaje 0\n",
    "if 'VAT' in agg_dict:\n",
    "    agg_dict['VAT'] = 'mean'\n",
    "\n",
    "grouped_df = merged_df.groupby('Klient', as_index=False).agg(agg_dict)\n",
    "\n",
    "# Segregowanie danych alfabetycznie po kolumnie \"Klient\"\n",
    "sorted_df = grouped_df.sort_values(by='Klient')\n",
    "\n",
    "# Zapisz wynikowy DataFrame do nowego pliku Excel\n",
    "with pd.ExcelWriter(new_file_path, engine='openpyxl') as writer:\n",
    "    sorted_df.to_excel(writer, sheet_name='MergedData', index=False)\n",
    "\n",
    "print(\"Dane zostały połączone, pogrupowane, posortowane i zapisane w nowym pliku 'CompanyData_Merged.xlsx'\")\n"
   ]
  }
 ],
 "metadata": {
  "kernelspec": {
   "display_name": "Python 3 (ipykernel)",
   "language": "python",
   "name": "python3"
  },
  "language_info": {
   "codemirror_mode": {
    "name": "ipython",
    "version": 3
   },
   "file_extension": ".py",
   "mimetype": "text/x-python",
   "name": "python",
   "nbconvert_exporter": "python",
   "pygments_lexer": "ipython3",
   "version": "3.12.7"
  }
 },
 "nbformat": 4,
 "nbformat_minor": 5
}
