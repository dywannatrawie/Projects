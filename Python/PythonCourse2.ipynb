{
 "cells": [
  {
   "cell_type": "markdown",
   "id": "87e88b9d-f8b8-4d1f-9435-e41b7a6b559c",
   "metadata": {},
   "source": [
    "Zadania 2.\n",
    "1. Rozbuduj kalkulator w poprzednich zajęć. Tym razem program powinien pytać o to jaka operacja ma być wykonana\n",
    "2. Pobierz z klawiatury 2 liczby. Niech program wskaże największą z nich\n",
    "3. Pobierz z klawiatury 5 liczb. Niech program wskaże największą z nich\n",
    "4. Niech program pobiera liczbę punktów uzyskanych z testu i na tej podstawie wystawia ocenę. np. 0-5 ndst; 6-7 dst; 7.5 dst+; 8 db; 9 db+; 10 bdb\n",
    "5. Napisz program proszący o nazwę użytkownika i hasło. O hasło ma pytać dwukrotnie. Jeśli dwa razy wpisano różne hasło powinien o tym poinformować. Jeśli hasło zostało wprowadzone prawidłowo, także powinien wyświetlić stosowny monit\n",
    "6. Rozbuduj program tak, żeby wyglądał jak ten na następnej stronie\n",
    "6. Rozbuduj program tak, żeby po założeniu konta pytał czy chcemy założyć konto superużytkownika\n",
    "7. Rozbuduj program tak, żeby po niezałożeniu konta superużytkownika pytał dlaczego (za drogie/nie potrzebuję)\n",
    "8. Napisz program, który wyznacza wartość bezwzględną podanej z klawiatury liczby.\n",
    "9. Napisz program, który sprawdza, czy podana liczba jest parzysta\n",
    "10. Napisz program, który sprawdza, czy podana liczba jest parzysta, czy nieparzysta. Jeśli jest parzysta, niech program wyświetli wynik podzielenia jej przez 2. Jeśli jest nieparzysta i jest większa od 10, proszę wyświetlić informację ”liczba jest duża”. Jeśli jest nieparzysta i nie jest większa od 10, proszę wyświetlić informację ”liczba jest mała”.\n",
    "12. Napisz program, który dla podanego (na stałe w kodzie) zdania KRZ narysuje tabele jak na slajdzie 12.\n",
    "13. Rozbuduj go tak, aby potrafił stwierdzić czy ma do czynienia z tautologią.\n",
    "14. Rozbuduj go tak, aby potrafił stwierdzić czy ma do czynienia z\n",
    "kontrtautologią."
   ]
  },
  {
   "cell_type": "code",
   "execution_count": 1,
   "id": "716f3080-a05d-48d4-ad89-22ffc8773ce5",
   "metadata": {},
   "outputs": [
    {
     "name": "stdout",
     "output_type": "stream",
     "text": [
      "Prosty kalkulator\n",
      "Jaką operację chcesz wykonać? Wprowadź odpowiedni znak\n",
      "Dodawanie - d\n",
      "Odejmowanie - o\n",
      "Mnożenie - m\n",
      "Dzielenie - z\n"
     ]
    },
    {
     "name": "stdin",
     "output_type": "stream",
     "text": [
      " z\n"
     ]
    },
    {
     "name": "stdout",
     "output_type": "stream",
     "text": [
      "Wprowadź pierwszą liczbę: \n"
     ]
    },
    {
     "name": "stdin",
     "output_type": "stream",
     "text": [
      " 21\n"
     ]
    },
    {
     "name": "stdout",
     "output_type": "stream",
     "text": [
      "Wprowadź drugą liczbę: \n"
     ]
    },
    {
     "name": "stdin",
     "output_type": "stream",
     "text": [
      " 3\n"
     ]
    },
    {
     "name": "stdout",
     "output_type": "stream",
     "text": [
      "Wynik dzielenia liczb: 7.0\n"
     ]
    }
   ],
   "source": [
    "# Zad 1 \n",
    "\n",
    "print(\"Prosty kalkulator\")\n",
    "print(\"Jaką operację chcesz wykonać? Wprowadź odpowiedni znak\\nDodawanie - d\\nOdejmowanie - o\\nMnożenie - m\\nDzielenie - z\")\n",
    "\n",
    "operacja = input()\n",
    "\n",
    "print(\"Wprowadź pierwszą liczbę: \")\n",
    "number1 = int(input())\n",
    "print(\"Wprowadź drugą liczbę: \")\n",
    "number2 = int(input())\n",
    "\n",
    "if operacja == \"d\":\n",
    "    print(f\"Wynik dodawania liczb: {number1+number2}\")\n",
    "elif operacja == \"o\":\n",
    "    print(f\"Wynik odejmowania liczb: {number1-number2}\")\n",
    "elif operacja == \"m\":\n",
    "    print(f\"Wynik mnożenia liczb: {number1*number2}\")\n",
    "elif operacja == \"z\":\n",
    "    print(f\"Wynik dzielenia liczb: {number1/number2}\")\n",
    "else:\n",
    "    print(\"Niezrozumiana komenda\")"
   ]
  },
  {
   "cell_type": "code",
   "execution_count": 7,
   "id": "f1a4dc0a-868d-4d10-ad26-0f9ebad38ef1",
   "metadata": {},
   "outputs": [
    {
     "name": "stdout",
     "output_type": "stream",
     "text": [
      "Teraz pobierzemy 2 liczby a następnie wskażemy większą z nich\n",
      "Wprowadź pierwszą liczbę: \n"
     ]
    },
    {
     "name": "stdin",
     "output_type": "stream",
     "text": [
      " 19\n"
     ]
    },
    {
     "name": "stdout",
     "output_type": "stream",
     "text": [
      "Wprowadź drugą liczbę: \n"
     ]
    },
    {
     "name": "stdin",
     "output_type": "stream",
     "text": [
      " 19\n"
     ]
    },
    {
     "name": "stdout",
     "output_type": "stream",
     "text": [
      "Liczby są sobie równe\n"
     ]
    }
   ],
   "source": [
    "# Zad 2 \n",
    "\n",
    "print(\"Teraz pobierzemy 2 liczby a następnie wskażemy większą z nich\")\n",
    "print(\"Wprowadź pierwszą liczbę: \")\n",
    "number3 = int(input())\n",
    "print(\"Wprowadź drugą liczbę: \")\n",
    "number4 = int(input())\n",
    "\n",
    "if number3 > number4:\n",
    "    print(\"Pierwsza liczba jest większa!\")\n",
    "elif number4 > number3:\n",
    "    print(\"Druga liczba jest większa\")\n",
    "else:\n",
    "    print(\"Liczby są sobie równe\")"
   ]
  },
  {
   "cell_type": "code",
   "execution_count": 36,
   "id": "e2b752b0-672e-4546-98c8-fd2af445772e",
   "metadata": {},
   "outputs": [
    {
     "name": "stdout",
     "output_type": "stream",
     "text": [
      "Teraz pobierzemy 5 liczb.\n",
      "Wprowadź pierwszą liczbę: \n"
     ]
    },
    {
     "name": "stdin",
     "output_type": "stream",
     "text": [
      " 19\n"
     ]
    },
    {
     "name": "stdout",
     "output_type": "stream",
     "text": [
      "Wprowadź drugą liczbę: \n"
     ]
    },
    {
     "name": "stdin",
     "output_type": "stream",
     "text": [
      " 3\n"
     ]
    },
    {
     "name": "stdout",
     "output_type": "stream",
     "text": [
      "Wprowadź trzecią liczbę: \n"
     ]
    },
    {
     "name": "stdin",
     "output_type": "stream",
     "text": [
      " 23\n"
     ]
    },
    {
     "name": "stdout",
     "output_type": "stream",
     "text": [
      "Wprowadź czwartą liczbę: \n"
     ]
    },
    {
     "name": "stdin",
     "output_type": "stream",
     "text": [
      " 1\n"
     ]
    },
    {
     "name": "stdout",
     "output_type": "stream",
     "text": [
      "Wprowadź piątą liczbę: \n"
     ]
    },
    {
     "name": "stdin",
     "output_type": "stream",
     "text": [
      " 29\n"
     ]
    },
    {
     "name": "stdout",
     "output_type": "stream",
     "text": [
      "Piąta liczba jest największa!\n"
     ]
    }
   ],
   "source": [
    "# Zad 3\n",
    "\n",
    "print(\"Teraz pobierzemy 5 liczb.\")\n",
    "\n",
    "print(\"Wprowadź pierwszą liczbę: \")\n",
    "number5 = int(input())\n",
    "print(\"Wprowadź drugą liczbę: \")\n",
    "number6 = int(input())\n",
    "print(\"Wprowadź trzecią liczbę: \")\n",
    "number7 = int(input())\n",
    "print(\"Wprowadź czwartą liczbę: \")\n",
    "number8 = int(input())\n",
    "print(\"Wprowadź piątą liczbę: \")\n",
    "number9 = int(input())\n",
    "\n",
    "if number5 > number6 and number5 > number7 and number5 > number8 and number5 > number9:\n",
    "    print(\"Pierwsza liczba jest największa!\")\n",
    "elif number6 > number5 and number6 > number7 and number6 > number8 and number6 > number9:\n",
    "    print(\"Druga liczba jest największa!\")\n",
    "elif number7 > number5 and number7 > number6 and number7 > number8 and number7 > number9:\n",
    "    print(\"Trzecia liczba jest największa!\")\n",
    "elif number8 > number5 and number8 >  number6 and number8 >  number7 and number8 >  number9:\n",
    "    print(\"Czwarta liczba jest największa!\")\n",
    "elif number9 > number5 and number9 > number6 and number9 > number7 and number9 > number8:\n",
    "    print(\"Piąta liczba jest największa!\")\n",
    "else: \n",
    "    print(\"Liczby są sobie równe! :D\")  "
   ]
  },
  {
   "cell_type": "code",
   "execution_count": 75,
   "id": "7a6a10bd-c40b-4ad8-826a-c1ced7d01ff5",
   "metadata": {},
   "outputs": [
    {
     "name": "stdout",
     "output_type": "stream",
     "text": [
      "Wprowadź liczbę punktów z egzaminu. \n",
      "Skala ocen:\n",
      " 0-50  - 2 \n",
      " 51-61 - 3 \n",
      " 62-71 - 3+ \n",
      " 72-81 - 4 \n",
      " 82-91 - 4+ \n",
      " 92-100 - 5\n"
     ]
    },
    {
     "name": "stdin",
     "output_type": "stream",
     "text": [
      " 52\n"
     ]
    },
    {
     "name": "stdout",
     "output_type": "stream",
     "text": [
      "Otrzymałeś 3!\n"
     ]
    }
   ],
   "source": [
    "# Zad 4 \n",
    "\n",
    "print(\"Wprowadź liczbę punktów z egzaminu. \\nSkala ocen:\\n 0-50  - 2 \\n 51-61 - 3 \\n 62-71 - 3+ \\n 72-81 - 4 \\n 82-91 - 4+ \\n 92-100 - 5\")\n",
    "\n",
    "wynik = int(input())\n",
    "\n",
    "if wynik < 0 or wynik > 100:\n",
    "    print(\"Niepoprawny wynik testu.\")\n",
    "elif wynik <= 50:\n",
    "    print(\"Powodzenia na drugim terminie! Twój wynik to 2.\")\n",
    "elif wynik <= 61:\n",
    "    print(\"Otrzymałeś 3!\")\n",
    "elif wynik <= 71:\n",
    "    print(\"Otrzymałeś 3+!\")\n",
    "elif wynik <= 81:\n",
    "    print(\"Otrzymałeś 4!\")\n",
    "elif wynik <= 91:\n",
    "    print(\"Otrzymałeś 4+!\")\n",
    "elif wynik >= 92 and wynik <= 100:\n",
    "    print(\"Otrzymałeś 5! Gratulacje.\")\n"
   ]
  },
  {
   "cell_type": "code",
   "execution_count": 99,
   "id": "5201fa82-0411-42be-b701-0a2af886a8e8",
   "metadata": {},
   "outputs": [
    {
     "name": "stdout",
     "output_type": "stream",
     "text": [
      "Utwórz swoje konto w BlueSpace. \n",
      " Wprowadź swój login: \n"
     ]
    },
    {
     "name": "stdin",
     "output_type": "stream",
     "text": [
      " dywan\n"
     ]
    },
    {
     "name": "stdout",
     "output_type": "stream",
     "text": [
      "Wprowadź teraz swoje hasło.\n"
     ]
    },
    {
     "name": "stdin",
     "output_type": "stream",
     "text": [
      " 13\n"
     ]
    },
    {
     "name": "stdout",
     "output_type": "stream",
     "text": [
      "Wprowadź ponownie hasło\n"
     ]
    },
    {
     "name": "stdin",
     "output_type": "stream",
     "text": [
      " 23\n"
     ]
    },
    {
     "name": "stdout",
     "output_type": "stream",
     "text": [
      "Wystąpił błąd. Spróbuj ponownie\n"
     ]
    }
   ],
   "source": [
    "# Zad 5, 6, 7, 8\n",
    "\n",
    "print(\"Utwórz swoje konto w BlueSpace. \\n Wprowadź swój login: \")\n",
    "login1 = input()\n",
    "\n",
    "print(\"Wprowadź teraz swoje hasło.\")\n",
    "password1 = input()\n",
    "\n",
    "print(\"Wprowadź ponownie hasło\")\n",
    "password1auth = input()\n",
    "\n",
    "if password1 == password1auth:\n",
    "    print(f\"{login1} Wprowadź swój wiek. \\nTylko osoby powyżej 13 roku życia mogą założyć konto w Bluespace\")\n",
    "    age1 = int(input())\n",
    "    if age1 < 0 and age1 > 199:\n",
    "        print(\"Niepoprawny wiek.\")\n",
    "    elif age1 < 13:\n",
    "        print(\"Czy masz zgodę rodziców na założenie konta? Wprowadź tak / nie\")\n",
    "        zgoda1 = input()\n",
    "        if zgoda1 != \"tak\" and zgoda1 != \"nie\":\n",
    "            print(\"Błąd\")\n",
    "        elif zgoda1 == \"nie\":\n",
    "            print(\"Niestety nie możesz założyć konta w BlueSpace\")\n",
    "        else:\n",
    "            print(f\"Gratulacje {login1}! Twoja konto zostało utworzone.\")\n",
    "            print(f\"{login1} czy chciałbyś założyć konto premium? Wprowadź tak / nie\")\n",
    "            premium1 = input()\n",
    "            if premium1 != \"tak\" and premium1 != \"nie\":\n",
    "                print(\"Błąd\")\n",
    "            elif premium1 == \"nie\":\n",
    "                print(\"Dlaczego?\")\n",
    "                pytanie1 = input()\n",
    "            else:\n",
    "                print(f\"Super! Konto premium założone {login1}\")\n",
    "    elif age1 >= 13:\n",
    "        print(f\"Gratulacje {login1}! Twoja konto zostało utworzone.\")\n",
    "        print(f\"{login1} czy chciałbyś założyć konto premium? Wprowadź tak / nie\")\n",
    "        premium1 = input()\n",
    "        if premium1 != \"tak\" or premium1 != \"nie\":\n",
    "            print(\"Błąd\")\n",
    "        elif premium1 == \"nie\":\n",
    "            print(\"Dlaczego?\")\n",
    "            pytanie1 = input()\n",
    "        else:\n",
    "             print(f\"Super! Konto premium założone {login1}\")\n",
    "else:\n",
    "    print(\"Wystąpił błąd. Spróbuj ponownie\")"
   ]
  },
  {
   "cell_type": "code",
   "execution_count": 124,
   "id": "fbf6b9a6-1bea-4022-8f3c-77206261f557",
   "metadata": {},
   "outputs": [
    {
     "name": "stdout",
     "output_type": "stream",
     "text": [
      "Wyznaczymy wartość bezwzględną z podanej liczby.\n",
      " Wprowadź liczbę:\n"
     ]
    },
    {
     "name": "stdin",
     "output_type": "stream",
     "text": [
      " -23.3\n"
     ]
    },
    {
     "name": "stdout",
     "output_type": "stream",
     "text": [
      "Wartość bezwzględna podanej liczby: 23.3\n"
     ]
    }
   ],
   "source": [
    "# Zad 9\n",
    "\n",
    "import math\n",
    "\n",
    "print(\"Wyznaczymy wartość bezwzględną z podanej liczby.\\n Wprowadź liczbę:\")\n",
    "\n",
    "number10 = float(input())\n",
    "\n",
    "potega = number10 ** 2\n",
    "wynik3 = math.sqrt(potega)\n",
    "\n",
    "print(f\"Wartość bezwzględna podanej liczby: {wynik3}\")"
   ]
  },
  {
   "cell_type": "code",
   "execution_count": 138,
   "id": "4efb5516-6017-4412-92bb-f3893ed0a123",
   "metadata": {},
   "outputs": [
    {
     "name": "stdout",
     "output_type": "stream",
     "text": [
      "Sprawdzimy czy podana liczba jest parzysta czy nieparzysta.\n",
      " Wprowadź liczbę:\n"
     ]
    },
    {
     "name": "stdin",
     "output_type": "stream",
     "text": [
      " 9\n"
     ]
    },
    {
     "name": "stdout",
     "output_type": "stream",
     "text": [
      "Nieparzysta\n",
      "Liczba jest mała\n"
     ]
    }
   ],
   "source": [
    "# Zad 10, 11\n",
    "\n",
    "print(\"Sprawdzimy czy podana liczba jest parzysta czy nieparzysta.\\n Wprowadź liczbę:\")\n",
    "\n",
    "number11 = float(input())\n",
    "\n",
    "if number11%2 == 0:\n",
    "    print(\"Parzysta\")\n",
    "    wynik4 = number11/2\n",
    "    print(f\"Wynik podzielenia przez 2: {wynik4}\")\n",
    "else:\n",
    "    print(\"Nieparzysta\")\n",
    "    if number11 >= 10:\n",
    "        print(\"Liczba jest duża\")\n",
    "    elif number11 < 10:\n",
    "        print(\"Liczba jest mała\")"
   ]
  },
  {
   "cell_type": "code",
   "execution_count": 161,
   "id": "a5a03c8d-b114-4e11-896b-19d4b9856481",
   "metadata": {},
   "outputs": [
    {
     "name": "stdout",
     "output_type": "stream",
     "text": [
      "Klasyczny rachunek zdań.\n",
      "Mamy formułę ~(pvq -> p), co czytamy\n",
      "\"Nieprawda, że jeśli p lub q to p\"\n",
      "p  q  pvq  pvq->p  ~(pvq -> p)\n",
      "1  0  1    1         0\n"
     ]
    }
   ],
   "source": [
    "# Zad 12, 13, 14\n",
    "\n",
    "# ~(p v q -> p)  kontrtautologia\n",
    "\n",
    "print(\"Klasyczny rachunek zdań.\\nMamy formułę ~(pvq -> p), co czytamy\\n\\\"Nieprawda, że jeśli p lub q to p\\\"\")\n",
    "\n",
    "print(\"p  q  pvq  pvq->p  ~(pvq -> p)\")\n",
    "print(\"1  0  1    1          0\")\n"
   ]
  },
  {
   "cell_type": "code",
   "execution_count": null,
   "id": "c49d2dd7-30b9-43f1-83eb-47c256905bf5",
   "metadata": {},
   "outputs": [],
   "source": []
  }
 ],
 "metadata": {
  "kernelspec": {
   "display_name": "Python 3 (ipykernel)",
   "language": "python",
   "name": "python3"
  },
  "language_info": {
   "codemirror_mode": {
    "name": "ipython",
    "version": 3
   },
   "file_extension": ".py",
   "mimetype": "text/x-python",
   "name": "python",
   "nbconvert_exporter": "python",
   "pygments_lexer": "ipython3",
   "version": "3.12.4"
  }
 },
 "nbformat": 4,
 "nbformat_minor": 5
}
