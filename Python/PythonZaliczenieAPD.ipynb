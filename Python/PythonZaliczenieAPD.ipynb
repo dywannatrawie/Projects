{
 "cells": [
  {
   "cell_type": "markdown",
   "id": "52220c12-7ade-4827-bda4-5245cb008b15",
   "metadata": {},
   "source": [
    "# Zad 1. \n",
    "Dwa prostokąty. Są zdefiniowane przez współrzędne dwóch przeciwległych wierzchołków; np. pierwszy prostokąt (1,3) i (5,7) (na wejściu mamy 4 współrzędne podane), nie wiadomo które to z przeciwległych wierzchołków (czy to dolny lewy i górny prawy, czy górny lewy i dolny prawy) i my mamy znaleźć prostokąt który jest częścią wspólną tych prostokątów (najlepiej ifami) i zapisać ten znaleziony jako dwa przeciwległe wierzchołki i jego pole i obwód znaleźć. (wsp. tych prostokątów na wejściu są całkowite)"
   ]
  },
  {
   "cell_type": "code",
   "execution_count": 1,
   "id": "dd5489e9-2dc3-4b7c-83f1-9ec52821187c",
   "metadata": {},
   "outputs": [
    {
     "name": "stdout",
     "output_type": "stream",
     "text": [
      "Współrzędne nowego prostokąta: (2, 4) i (5, 5)\n",
      "Pole: 3\n",
      "Obwód: 8\n"
     ]
    },
    {
     "data": {
      "image/png": "[encoded data removed]",
      "text/plain": [
       "<Figure size 432x288 with 1 Axes>"
      ]
     },
     "metadata": {
      "needs_background": "light"
     },
     "output_type": "display_data"
    }
   ],
   "source": [
    "import matplotlib.pyplot as plt\n",
    "import matplotlib.patches as patches\n",
    "\n",
    "\n",
    "# Wpisujemy przykładowe punkty\n",
    "rect1 = [1, 3, 5, 5]\n",
    "rect2 = [2, 4, 8, 7]\n",
    "\n",
    "def find_rectangle_intersection(rect1, rect2):\n",
    "    # Posortowanie wartości  -  x_min mniejsze o x_max\n",
    "    x1_min, x1_max = sorted(rect1[::2])   # slicing żeby wziąć z listy co drugi element i posortować   -> z danych [1,3,5,5] bierze 1 i 5\n",
    "    y1_min, y1_max = sorted(rect1[1::2])  # slicing żeby wziąć co drugi element zaczynając od drugiego i posortować\n",
    "    x2_min, x2_max = sorted(rect2[::2])  \n",
    "    y2_min, y2_max = sorted(rect2[1::2]) \n",
    "\n",
    "    # Obliczanie granic przecięcia, najbardziej wysunięte na lewo i prawo granice przecięcia osi X\n",
    "    left, right = max(x1_min, x2_min), min(x1_max, x2_max)    #  przecięcia w osi X\n",
    "    # bottom i top - najbardziej wysunięte na dół i górę granice przecięcia osi Y\n",
    "    bottom, top = max(y1_min, y2_min), min(y1_max, y2_max)    #  przecięcia w osi Y\n",
    "\n",
    "    # Jeśli left < right i bottom < top, oznacza to, że prostokąty się przecinają, \n",
    "    # ponieważ przecięcie ma dodatnie wymiary (szerokość i wysokość).\n",
    "    if left < right and bottom < top:\n",
    "        area = (right - left) * (top - bottom)\n",
    "        perimeter = 2 * ((right - left) + (top - bottom))\n",
    "        return [left, bottom, right, top, area, perimeter]\n",
    "    \n",
    "    # Jeśli prostokąty się nie przecinają, zwracamy None\n",
    "    return None\n",
    "\n",
    "# Wywołanie funkcji\n",
    "result = find_rectangle_intersection(rect1, rect2)\n",
    "\n",
    "if result:\n",
    "    left, bottom, right, top, area, perimeter = result\n",
    "    print(f\"Współrzędne nowego prostokąta: ({left}, {bottom}) i ({right}, {top})\")\n",
    "    print(f\"Pole: {area}\")\n",
    "    print(f\"Obwód: {perimeter}\")\n",
    "else:\n",
    "    print(\"Prostokąty się nie przecinają. Spróbuj wprowadzić inne dane.\")\n",
    "\n",
    "\n",
    "\n",
    "\n",
    "# Narysowanie prostokątów i powstałego prostokąta w wyniku przecięcia\n",
    "def draw_rectangles(rect1, rect2, intersection):\n",
    "    fig, ax = plt.subplots()\n",
    "\n",
    "    def draw_rect(rect, color):\n",
    "        ax.add_patch(patches.Rectangle((min(rect[0], rect[2]), min(rect[1], rect[3])), \n",
    "                                       abs(rect[2] - rect[0]), abs(rect[3] - rect[1]), \n",
    "                                       linewidth=1, edgecolor=color, facecolor='none'))\n",
    "    draw_rect(rect1, 'r')\n",
    "    draw_rect(rect2, 'b')\n",
    "\n",
    "    if intersection:\n",
    "        draw_rect(intersection[:4], 'g')\n",
    "\n",
    "    plt.xlim(0, 10)\n",
    "    plt.ylim(0, 10)\n",
    "    plt.gca().set_aspect('equal', adjustable='box')\n",
    "    plt.show()\n",
    "\n",
    "\n",
    "draw_rectangles(rect1, rect2, result)"
   ]
  },
  {
   "cell_type": "markdown",
   "id": "47cef159-8373-4b87-9c3d-a8e008f2788a",
   "metadata": {
    "tags": []
   },
   "source": [
    "# Zad 2.\n",
    "Dany jest wielomian a = [ 1, 2, 3, 5 ,7 ] i to interpretujemy jako wielomian a0 +a1x+ a2x^2 + ... wszystkie wsp sa całkowite;\n",
    "znalezienie wszystkich pierwiastków wymiernych tego wielomianu, one sa postaci p/q, gdzie p jest dzielnikiem a0, a q to dzielnik elementu przy najwyższej potędze. (wersja minimum to wystarczy znaleźć dzielniki całkowite q); pełna wersja to wszystkie pierwiastki wymierne;\n",
    "\n",
    "znaleźć pierwiastki wymierne wielomianu  \n",
    "\n",
    "DO POPRAWY"
   ]
  },
  {
   "cell_type": "code",
   "execution_count": 2,
   "id": "d1b0e11f-16bd-4342-a447-e278a122f8b5",
   "metadata": {},
   "outputs": [
    {
     "name": "stdout",
     "output_type": "stream",
     "text": [
      "Pierwiastki wymierne wielomianu: [1.0, 2.0, 3.0]\n"
     ]
    }
   ],
   "source": [
    "def znajdz_dzielniki(n):\n",
    "    n = abs(n)  # Wartość bezwzględna, by obsłużyć liczby ujemne\n",
    "    return [i for i in range(1, n + 1) if n % i == 0] + [-i for i in range(1, n + 1) if n % i == 0]\n",
    "\n",
    "def znajdz_dzielniki_q(wspolczynniki):\n",
    "    an = wspolczynniki[0]  # Współczynnik przy najwyższej potędze\n",
    "    a0 = wspolczynniki[-1]  # Współczynnik przy najniższej potędze\n",
    "    return {\"an_dzielniki\": znajdz_dzielniki(an), \"a0_dzielniki\": znajdz_dzielniki(a0)}\n",
    "\n",
    "def spr_pierwiastka(wsp, x):\n",
    "    wartosc = sum(wsp[i] * (x ** (len(wsp) - 1 - i)) for i in range(len(wsp)))\n",
    "    return wartosc\n",
    "\n",
    "# do znalezienia wszyskich potencjalnych pierwastków:\n",
    "def znajdz_pierwiastki_wymierne(wspolczynniki):\n",
    "    q_dzielniki = znajdz_dzielniki_q(wspolczynniki)\n",
    "    a0_dzielniki = q_dzielniki[\"a0_dzielniki\"]\n",
    "    an_dzielniki = q_dzielniki[\"an_dzielniki\"]\n",
    "    \n",
    "    pierwiastki = []\n",
    "    for p in a0_dzielniki:\n",
    "        for q in an_dzielniki:\n",
    "            x = p / q\n",
    "            if x not in pierwiastki and abs(spr_pierwiastka(wspolczynniki, x)) < 1e-9:\n",
    "                pierwiastki.append(x)\n",
    "    \n",
    "    return pierwiastki\n",
    "\n",
    "# Testujemy\n",
    "wielomian = [1, -6, 11, -6]  # x^3 - 6x^2 + 11x - 6\n",
    "pierwiastki_wymierne = znajdz_pierwiastki_wymierne(wielomian)\n",
    "print(\"Pierwiastki wymierne wielomianu:\", pierwiastki_wymierne)"
   ]
  },
  {
   "cell_type": "markdown",
   "id": "293ffbe8-98a5-4d02-9873-6a902ab9a326",
   "metadata": {},
   "source": [
    "# Dodatkowe zadanie\n",
    "Podobne co na wykładzie\n",
    "\n",
    "Działanie na macierzach 2x2 (dodawanie, mnożenie, odejmowanie)\n",
    "\n",
    "Macierz + macierz = wydrukowana następna macierz\n",
    "\n"
   ]
  },
  {
   "cell_type": "code",
   "execution_count": 3,
   "id": "2e709ccd-25ae-4014-b1a9-9076e7623e9d",
   "metadata": {},
   "outputs": [
    {
     "name": "stdout",
     "output_type": "stream",
     "text": [
      "Kalkulator Macierzy (2x2)\n",
      "Podaj elementy macierzy 2x2 wierszami:\n"
     ]
    },
    {
     "name": "stdin",
     "output_type": "stream",
     "text": [
      "Element [1,1]:  1\n",
      "Element [1,2]:  2\n",
      "Element [2,1]:  3\n",
      "Element [2,2]:  4\n"
     ]
    },
    {
     "name": "stdout",
     "output_type": "stream",
     "text": [
      "Podaj elementy macierzy 2x2 wierszami:\n"
     ]
    },
    {
     "name": "stdin",
     "output_type": "stream",
     "text": [
      "Element [1,1]:  5\n",
      "Element [1,2]:  6\n",
      "Element [2,1]:  7\n",
      "Element [2,2]:  8\n"
     ]
    },
    {
     "name": "stdout",
     "output_type": "stream",
     "text": [
      "Dodawanie:\n",
      " [[ 6.  8.]\n",
      " [10. 12.]]\n",
      "Odejmowanie:\n",
      " [[-4. -4.]\n",
      " [-4. -4.]]\n",
      "Mnożenie:\n",
      " [[19. 22.]\n",
      " [43. 50.]]\n",
      "Odwrotność pierwszej macierzy:\n",
      " [[-2.   1. ]\n",
      " [ 1.5 -0.5]]\n",
      "Odwrotność drugiej macierzy:\n",
      " [[-4.   3. ]\n",
      " [ 3.5 -2.5]]\n"
     ]
    }
   ],
   "source": [
    "import numpy as np\n",
    "\n",
    "# klasa macierzy\n",
    "class Macierz2x2:\n",
    "    def __init__(self, elementy):\n",
    "        if len(elementy) != 2 or any(len(wiersz) != 2 for wiersz in elementy):\n",
    "            raise ValueError(\"Macierz musi być 2x2\")\n",
    "        self.elementy = np.array(elementy, dtype=float)\n",
    "    \n",
    "    # dodawanie na tych samych pozycjach\n",
    "    def __add__(self, inna):\n",
    "        return Macierz2x2(self.elementy + inna.elementy)\n",
    "    \n",
    "    # odejmowanie na tych samych pozycjach\n",
    "    def __sub__(self, inna):\n",
    "        return Macierz2x2(self.elementy - inna.elementy)\n",
    "    \n",
    "    # mnożenie przez iloczyn macierzyowy\n",
    "    def __mul__(self, inna):\n",
    "        return Macierz2x2(np.dot(self.elementy, inna.elementy))\n",
    "    \n",
    "    # podnosi do potęgi całkowitej nieujemnej\n",
    "    def __pow__(self, wykladnik):\n",
    "        if not isinstance(wykladnik, int) or wykladnik < 0:\n",
    "            raise ValueError(\"Wykładnik musi być nieujemną liczbą całkowitą\")\n",
    "        wynik = np.linalg.matrix_power(self.elementy, wykladnik)\n",
    "        return Macierz2x2(wynik)\n",
    "    \n",
    "    def odwrotna(self):\n",
    "        wyznacznik = np.linalg.det(self.elementy)\n",
    "        if wyznacznik == 0:\n",
    "            raise ValueError(\"Macierz jest osobliwa i nie może być odwrócona\")\n",
    "        return Macierz2x2(np.linalg.inv(self.elementy))\n",
    "    \n",
    "    def __str__(self):\n",
    "        return str(self.elementy)\n",
    "\n",
    "\n",
    "# interfejs użytkownika\n",
    "class KalkulatorMacierzy:\n",
    "    @staticmethod\n",
    "    def pobierz_macierz_z_wejscia():\n",
    "        print(\"Podaj elementy macierzy 2x2 wierszami:\")\n",
    "        macierz = [[float(input(f\"Element [{i+1},{j+1}]: \")) for j in range(2)] for i in range(2)]\n",
    "        return Macierz2x2(macierz)\n",
    "    \n",
    "    @staticmethod\n",
    "    def uruchom():\n",
    "        print(\"Kalkulator Macierzy (2x2)\")\n",
    "        macierz1 = KalkulatorMacierzy.pobierz_macierz_z_wejscia()\n",
    "        macierz2 = KalkulatorMacierzy.pobierz_macierz_z_wejscia()\n",
    "        \n",
    "        print(\"Dodawanie:\\n\", macierz1 + macierz2)\n",
    "        print(\"Odejmowanie:\\n\", macierz1 - macierz2)\n",
    "        print(\"Mnożenie:\\n\", macierz1 * macierz2)\n",
    "        \n",
    "        try:\n",
    "            print(\"Odwrotność pierwszej macierzy:\\n\", macierz1.odwrotna())\n",
    "        except ValueError as e:\n",
    "            print(e)\n",
    "        \n",
    "        try:\n",
    "            print(\"Odwrotność drugiej macierzy:\\n\", macierz2.odwrotna())\n",
    "        except ValueError as e:\n",
    "            print(e)\n",
    "\n",
    "if __name__ == \"__main__\":\n",
    "    KalkulatorMacierzy.uruchom()"
   ]
  }
 ],
 "metadata": {
  "kernelspec": {
   "display_name": "Python 3 (ipykernel)",
   "language": "python",
   "name": "python3"
  },
  "language_info": {
   "codemirror_mode": {
    "name": "ipython",
    "version": 3
   },
   "file_extension": ".py",
   "mimetype": "text/x-python",
   "name": "python",
   "nbconvert_exporter": "python",
   "pygments_lexer": "ipython3",
   "version": "3.9.12"
  }
 },
 "nbformat": 4,
 "nbformat_minor": 5
}
