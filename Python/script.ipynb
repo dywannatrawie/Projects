{
 "cells": [
  {
   "cell_type": "code",
   "execution_count": 1,
   "id": "c68b6697-8cd0-4171-82eb-8f8b7dc0ad5c",
   "metadata": {},
   "outputs": [],
   "source": [
    "import pandas as pd\n",
    "\n",
    "sprzedaz_df = pd.read_csv(\"raport_kwartalny_sprzedaz.csv\", encoding=\"cp1250\")\n",
    "katalog_df = pd.read_csv(\"katalog_produktow.csv\", encoding=\"cp1250\")"
   ]
  },
  {
   "cell_type": "code",
   "execution_count": 2,
   "id": "d98f68d5-64f3-4cb5-aa97-f8a008266a41",
   "metadata": {},
   "outputs": [
    {
     "data": {
      "text/html": [
       "<div>\n",
       "<style scoped>\n",
       "    .dataframe tbody tr th:only-of-type {\n",
       "        vertical-align: middle;\n",
       "    }\n",
       "\n",
       "    .dataframe tbody tr th {\n",
       "        vertical-align: top;\n",
       "    }\n",
       "\n",
       "    .dataframe thead th {\n",
       "        text-align: right;\n",
       "    }\n",
       "</style>\n",
       "<table border=\"1\" class=\"dataframe\">\n",
       "  <thead>\n",
       "    <tr style=\"text-align: right;\">\n",
       "      <th></th>\n",
       "      <th>Data_Transakcji</th>\n",
       "      <th>ID_Produktu_Sprzedaz</th>\n",
       "      <th>Region</th>\n",
       "      <th>Ilosc_Sprzedana</th>\n",
       "      <th>Cena_Jednostkowa_Transakcji</th>\n",
       "      <th>Wartosc_Sprzedazy</th>\n",
       "    </tr>\n",
       "  </thead>\n",
       "  <tbody>\n",
       "    <tr>\n",
       "      <th>0</th>\n",
       "      <td>2025-05-08</td>\n",
       "      <td>1074</td>\n",
       "      <td>PóBnoc</td>\n",
       "      <td>1</td>\n",
       "      <td>44.30</td>\n",
       "      <td>44.30</td>\n",
       "    </tr>\n",
       "    <tr>\n",
       "      <th>1</th>\n",
       "      <td>2025-05-13</td>\n",
       "      <td>1068</td>\n",
       "      <td>PóBnoc</td>\n",
       "      <td>5</td>\n",
       "      <td>126.45</td>\n",
       "      <td>632.25</td>\n",
       "    </tr>\n",
       "    <tr>\n",
       "      <th>2</th>\n",
       "      <td>2025-04-12</td>\n",
       "      <td>1090</td>\n",
       "      <td>Wschód</td>\n",
       "      <td>2</td>\n",
       "      <td>3974.94</td>\n",
       "      <td>7949.88</td>\n",
       "    </tr>\n",
       "    <tr>\n",
       "      <th>3</th>\n",
       "      <td>2025-05-27</td>\n",
       "      <td>1031</td>\n",
       "      <td>Zachód</td>\n",
       "      <td>1</td>\n",
       "      <td>230.14</td>\n",
       "      <td>230.14</td>\n",
       "    </tr>\n",
       "    <tr>\n",
       "      <th>4</th>\n",
       "      <td>2025-06-23</td>\n",
       "      <td>1026</td>\n",
       "      <td>Wschód</td>\n",
       "      <td>5</td>\n",
       "      <td>167.64</td>\n",
       "      <td>838.20</td>\n",
       "    </tr>\n",
       "  </tbody>\n",
       "</table>\n",
       "</div>"
      ],
      "text/plain": [
       "  Data_Transakcji  ID_Produktu_Sprzedaz  Region  Ilosc_Sprzedana  \\\n",
       "0      2025-05-08                  1074  PóBnoc                1   \n",
       "1      2025-05-13                  1068  PóBnoc                5   \n",
       "2      2025-04-12                  1090  Wschód                2   \n",
       "3      2025-05-27                  1031  Zachód                1   \n",
       "4      2025-06-23                  1026  Wschód                5   \n",
       "\n",
       "   Cena_Jednostkowa_Transakcji  Wartosc_Sprzedazy  \n",
       "0                        44.30              44.30  \n",
       "1                       126.45             632.25  \n",
       "2                      3974.94            7949.88  \n",
       "3                       230.14             230.14  \n",
       "4                       167.64             838.20  "
      ]
     },
     "execution_count": 2,
     "metadata": {},
     "output_type": "execute_result"
    }
   ],
   "source": [
    "sprzedaz_df.head(5)"
   ]
  },
  {
   "cell_type": "code",
   "execution_count": 3,
   "id": "a982f282-7351-4960-897e-e0a5a57434b3",
   "metadata": {},
   "outputs": [
    {
     "name": "stdout",
     "output_type": "stream",
     "text": [
      "<class 'pandas.core.frame.DataFrame'>\n",
      "RangeIndex: 7500 entries, 0 to 7499\n",
      "Data columns (total 6 columns):\n",
      " #   Column                       Non-Null Count  Dtype  \n",
      "---  ------                       --------------  -----  \n",
      " 0   Data_Transakcji              7500 non-null   object \n",
      " 1   ID_Produktu_Sprzedaz         7500 non-null   int64  \n",
      " 2   Region                       7500 non-null   object \n",
      " 3   Ilosc_Sprzedana              7500 non-null   int64  \n",
      " 4   Cena_Jednostkowa_Transakcji  7500 non-null   float64\n",
      " 5   Wartosc_Sprzedazy            7500 non-null   float64\n",
      "dtypes: float64(2), int64(2), object(2)\n",
      "memory usage: 351.7+ KB\n"
     ]
    }
   ],
   "source": [
    "sprzedaz_df.info()"
   ]
  },
  {
   "cell_type": "code",
   "execution_count": 4,
   "id": "e5189c9e-adf8-464c-bae0-ba0b69339d3c",
   "metadata": {},
   "outputs": [
    {
     "data": {
      "text/html": [
       "<div>\n",
       "<style scoped>\n",
       "    .dataframe tbody tr th:only-of-type {\n",
       "        vertical-align: middle;\n",
       "    }\n",
       "\n",
       "    .dataframe tbody tr th {\n",
       "        vertical-align: top;\n",
       "    }\n",
       "\n",
       "    .dataframe thead th {\n",
       "        text-align: right;\n",
       "    }\n",
       "</style>\n",
       "<table border=\"1\" class=\"dataframe\">\n",
       "  <thead>\n",
       "    <tr style=\"text-align: right;\">\n",
       "      <th></th>\n",
       "      <th>ID_Produktu_Katalog</th>\n",
       "      <th>Nazwa_Produktu</th>\n",
       "      <th>Cena_Katalogowa</th>\n",
       "      <th>Kategoria_Produktu</th>\n",
       "    </tr>\n",
       "  </thead>\n",
       "  <tbody>\n",
       "    <tr>\n",
       "      <th>0</th>\n",
       "      <td>1001</td>\n",
       "      <td>Mie\u0007 na imi\u0019 Ósmy</td>\n",
       "      <td>339.36</td>\n",
       "      <td>Akcesoria</td>\n",
       "    </tr>\n",
       "    <tr>\n",
       "      <th>1</th>\n",
       "      <td>1002</td>\n",
       "      <td>MaBo Zapalenie</td>\n",
       "      <td>153.68</td>\n",
       "      <td>Biuro</td>\n",
       "    </tr>\n",
       "    <tr>\n",
       "      <th>2</th>\n",
       "      <td>1003</td>\n",
       "      <td>Kalendarz GBos</td>\n",
       "      <td>291.73</td>\n",
       "      <td>Oprogramowanie</td>\n",
       "    </tr>\n",
       "    <tr>\n",
       "      <th>3</th>\n",
       "      <td>1004</td>\n",
       "      <td>Dzielnica I[\u0007</td>\n",
       "      <td>307.01</td>\n",
       "      <td>Akcesoria</td>\n",
       "    </tr>\n",
       "    <tr>\n",
       "      <th>4</th>\n",
       "      <td>1005</td>\n",
       "      <td>Lot Centralny</td>\n",
       "      <td>977.54</td>\n",
       "      <td>Elektronika</td>\n",
       "    </tr>\n",
       "  </tbody>\n",
       "</table>\n",
       "</div>"
      ],
      "text/plain": [
       "   ID_Produktu_Katalog     Nazwa_Produktu  Cena_Katalogowa Kategoria_Produktu\n",
       "0                 1001  Mie\u0007 na imi\u0019 Ósmy           339.36          Akcesoria\n",
       "1                 1002     MaBo Zapalenie           153.68              Biuro\n",
       "2                 1003     Kalendarz GBos           291.73     Oprogramowanie\n",
       "3                 1004      Dzielnica I[\u0007           307.01          Akcesoria\n",
       "4                 1005      Lot Centralny           977.54        Elektronika"
      ]
     },
     "execution_count": 4,
     "metadata": {},
     "output_type": "execute_result"
    }
   ],
   "source": [
    "katalog_df.head(5)"
   ]
  },
  {
   "cell_type": "code",
   "execution_count": 5,
   "id": "0deff623-ea43-4a12-a248-4d82a476c71a",
   "metadata": {},
   "outputs": [
    {
     "name": "stdout",
     "output_type": "stream",
     "text": [
      "<class 'pandas.core.frame.DataFrame'>\n",
      "RangeIndex: 101 entries, 0 to 100\n",
      "Data columns (total 4 columns):\n",
      " #   Column               Non-Null Count  Dtype  \n",
      "---  ------               --------------  -----  \n",
      " 0   ID_Produktu_Katalog  101 non-null    int64  \n",
      " 1   Nazwa_Produktu       101 non-null    object \n",
      " 2   Cena_Katalogowa      101 non-null    float64\n",
      " 3   Kategoria_Produktu   101 non-null    object \n",
      "dtypes: float64(1), int64(1), object(2)\n",
      "memory usage: 3.3+ KB\n"
     ]
    }
   ],
   "source": [
    "katalog_df.info()"
   ]
  },
  {
   "cell_type": "markdown",
   "id": "751f1442-5b8f-4be6-998b-1cec39bafa3d",
   "metadata": {},
   "source": [
    "### Zad 1"
   ]
  },
  {
   "cell_type": "code",
   "execution_count": 7,
   "id": "7d3528eb-531d-4b75-957a-b433060e7d93",
   "metadata": {},
   "outputs": [
    {
     "name": "stdout",
     "output_type": "stream",
     "text": [
      "146\n"
     ]
    }
   ],
   "source": [
    "merged_df = sprzedaz_df.merge(katalog_df, how=\"left\",\n",
    "                              left_on=\"ID_Produktu_Sprzedaz\",\n",
    "                              right_on=\"ID_Produktu_Katalog\",\n",
    "                              validate=\"many_to_one\")\n",
    "\n",
    "brakujace_transakcje = merged_df[merged_df['ID_Produktu_Katalog'].isna()]\n",
    "\n",
    "liczba_unikalnych_transakcji = brakujace_transakcje['ID_Produktu_Sprzedaz'].nunique()\n",
    "\n",
    "print(liczba_unikalnych_transakcji)"
   ]
  },
  {
   "cell_type": "markdown",
   "id": "0b9decbd-d774-453a-8429-ba9164d3dc0f",
   "metadata": {},
   "source": [
    "### Zad 2"
   ]
  },
  {
   "cell_type": "code",
   "execution_count": 9,
   "id": "e19f38cf-1dbe-483f-a6b3-77140ee212c8",
   "metadata": {},
   "outputs": [
    {
     "name": "stdout",
     "output_type": "stream",
     "text": [
      "31336539.21\n"
     ]
    }
   ],
   "source": [
    "merged_df = sprzedaz_df.merge(katalog_df,\n",
    "                             how='inner',\n",
    "                             left_on='ID_Produktu_Sprzedaz',\n",
    "                             right_on='ID_Produktu_Katalog')\n",
    "\n",
    "wartosc_sprzedazy = merged_df['Wartosc_Sprzedazy'].sum()\n",
    "\n",
    "print(round(wartosc_sprzedazy, 2))"
   ]
  },
  {
   "cell_type": "markdown",
   "id": "ea450ea6-2eb2-40bc-bd6c-0dac67626229",
   "metadata": {},
   "source": [
    "### Zad 3a"
   ]
  },
  {
   "cell_type": "code",
   "execution_count": 11,
   "id": "791bf76f-ef4d-4fc7-b50a-aa1928ecfcec",
   "metadata": {},
   "outputs": [
    {
     "name": "stdout",
     "output_type": "stream",
     "text": [
      "Miara Przyczyna\n"
     ]
    }
   ],
   "source": [
    "merged_df = sprzedaz_df.merge(\n",
    "    katalog_df,\n",
    "    how='inner',\n",
    "    left_on='ID_Produktu_Sprzedaz',\n",
    "    right_on='ID_Produktu_Katalog',\n",
    "    validate='many_to_one'\n",
    ")\n",
    "\n",
    "avg_prices = merged_df.groupby('Nazwa_Produktu')['Cena_Jednostkowa_Transakcji'].mean().reset_index()\n",
    "\n",
    "avg_prices = avg_prices.merge(katalog_df[['Nazwa_Produktu', 'Cena_Katalogowa']], how='left', on='Nazwa_Produktu')\n",
    "\n",
    "avg_prices = avg_prices[avg_prices['Cena_Katalogowa'] != 0]\n",
    "\n",
    "avg_prices['roznicaprocentowa'] = (\n",
    "    abs(avg_prices['Cena_Jednostkowa_Transakcji'] - avg_prices['Cena_Katalogowa']) /\n",
    "    avg_prices['Cena_Katalogowa']\n",
    ")\n",
    "\n",
    "max_diff_product = avg_prices.loc[avg_prices['roznicaprocentowa'].idxmax()]\n",
    "\n",
    "print(max_diff_product['Nazwa_Produktu'])"
   ]
  },
  {
   "cell_type": "markdown",
   "id": "b407d479-4e3f-406a-b0a4-b49d4d017687",
   "metadata": {},
   "source": [
    "### Zad 3b"
   ]
  },
  {
   "cell_type": "code",
   "execution_count": 13,
   "id": "ae50a398-3dbb-4b51-9717-708386dd0fc2",
   "metadata": {},
   "outputs": [
    {
     "name": "stdout",
     "output_type": "stream",
     "text": [
      "-30.00%\n"
     ]
    }
   ],
   "source": [
    "merged_df = sprzedaz_df.merge(katalog_df,\n",
    "                             how='inner',\n",
    "                             left_on='ID_Produktu_Sprzedaz',\n",
    "                             right_on='ID_Produktu_Katalog')\n",
    "\n",
    "avg_prices = merged_df.groupby('Nazwa_Produktu')['Cena_Jednostkowa_Transakcji'].mean().reset_index()\n",
    "avg_prices = avg_prices.merge(katalog_df, how='left', on='Nazwa_Produktu')\n",
    "\n",
    "avg_prices['roznicaprocentowa_abs'] = (\n",
    "    abs(avg_prices['Cena_Jednostkowa_Transakcji'] - avg_prices['Cena_Katalogowa']) /\n",
    "    avg_prices['Cena_Katalogowa']\n",
    ")\n",
    "\n",
    "max_diff_product = avg_prices.loc[avg_prices['roznicaprocentowa_abs'].idxmax()]\n",
    "\n",
    "roznicaprocentowa = (\n",
    "    (max_diff_product['Cena_Jednostkowa_Transakcji'] - max_diff_product['Cena_Katalogowa']) /\n",
    "    max_diff_product['Cena_Katalogowa']\n",
    ") * 100\n",
    "\n",
    "print(f\"{roznicaprocentowa:+.2f}%\")"
   ]
  },
  {
   "cell_type": "markdown",
   "id": "741bd25d-ffb1-427a-9732-0e55ff6d2f21",
   "metadata": {},
   "source": [
    "### Zad 4"
   ]
  },
  {
   "cell_type": "code",
   "execution_count": 15,
   "id": "99dfc4bc-1f0b-4edb-8dc2-c408a82eab80",
   "metadata": {},
   "outputs": [
    {
     "name": "stdout",
     "output_type": "stream",
     "text": [
      "373\n"
     ]
    }
   ],
   "source": [
    "sprzedaz_df['Wartosc_Obliczona'] = sprzedaz_df['Ilosc_Sprzedana'] * sprzedaz_df['Cena_Jednostkowa_Transakcji']\n",
    "\n",
    "tolerancja = 0.01\n",
    "\n",
    "niezgodnosci_df = sprzedaz_df[abs(sprzedaz_df['Wartosc_Sprzedazy'] - sprzedaz_df['Wartosc_Obliczona']) > tolerancja]\n",
    "\n",
    "liczba_niezgodnosci = len(niezgodnosci_df)\n",
    "\n",
    "print(liczba_niezgodnosci)"
   ]
  },
  {
   "cell_type": "markdown",
   "id": "156f65e5-c46b-4d66-ba7f-51cc79fc65bc",
   "metadata": {},
   "source": [
    "### Zad 5"
   ]
  },
  {
   "cell_type": "code",
   "execution_count": 17,
   "id": "6a79ffbd-651f-41c9-80fc-28da424c0a84",
   "metadata": {},
   "outputs": [
    {
     "name": "stdout",
     "output_type": "stream",
     "text": [
      "Przykładowe wiersze z niezgodnościami:\n",
      "     Wartosc_Sprzedazy  Wartosc_Obliczona  Ilosc_Sprzedana  \\\n",
      "16             4915.53            4919.60                1   \n",
      "67              345.93             343.88                4   \n",
      "73              154.90             150.37                1   \n",
      "120             713.31             711.04                4   \n",
      "130            3366.47            3362.82                1   \n",
      "\n",
      "     Cena_Jednostkowa_Transakcji  \n",
      "16                       4919.60  \n",
      "67                         85.97  \n",
      "73                        150.37  \n",
      "120                       177.76  \n",
      "130                      3362.82  \n",
      "\n",
      "Łączna liczba niezgodności: 373\n"
     ]
    }
   ],
   "source": [
    "sprzedaz_df = pd.read_csv(\"raport_kwartalny_sprzedaz.csv\", encoding=\"cp1250\")\n",
    "\n",
    "sprzedaz_df['Wartosc_Obliczona'] = sprzedaz_df['Ilosc_Sprzedana'] * sprzedaz_df['Cena_Jednostkowa_Transakcji']\n",
    "\n",
    "tolerancja = 0.01\n",
    "\n",
    "niezgodnosci_df = sprzedaz_df[abs(sprzedaz_df['Wartosc_Sprzedazy'] - sprzedaz_df['Wartosc_Obliczona']) > tolerancja]\n",
    "\n",
    "if niezgodnosci_df.empty:\n",
    "    print(\"Nie wykryto niezgodności w danych.\")\n",
    "else:\n",
    "    print(\"Przykładowe wiersze z niezgodnościami:\")\n",
    "    print(niezgodnosci_df[['Wartosc_Sprzedazy', 'Wartosc_Obliczona', 'Ilosc_Sprzedana', 'Cena_Jednostkowa_Transakcji']].head())\n",
    "    print(f\"\\nŁączna liczba niezgodności: {len(niezgodnosci_df)}\")"
   ]
  },
  {
   "cell_type": "code",
   "execution_count": null,
   "id": "07ab08cb-7417-4954-a6d7-30e99c19c2fe",
   "metadata": {},
   "outputs": [],
   "source": []
  }
 ],
 "metadata": {
  "kernelspec": {
   "display_name": "Python 3 (ipykernel)",
   "language": "python",
   "name": "python3"
  },
  "language_info": {
   "codemirror_mode": {
    "name": "ipython",
    "version": 3
   },
   "file_extension": ".py",
   "mimetype": "text/x-python",
   "name": "python",
   "nbconvert_exporter": "python",
   "pygments_lexer": "ipython3",
   "version": "3.12.7"
  }
 },
 "nbformat": 4,
 "nbformat_minor": 5
}
