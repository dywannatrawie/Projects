{
 "cells": [
  {
   "cell_type": "markdown",
   "id": "ec9df81d-df2f-4f17-a71a-39dd84919ce3",
   "metadata": {},
   "source": [
    "Zadania 4.\n",
    "\n",
    "1. Napisz program, który symuluje odliczanie budzika (np. co sekundę pojawia się kolejny komunikat)\n",
    "2. Spraw aby światełka na kolorowej choince z poprzednich zajęć zaczęły migać\n",
    "3. Napisz program, który symuluje kostkę sześciościenną\n",
    "4. Napisz program, który symuluje działanie systemu LOTTO\n",
    "5. Napisz program, który symuluje działanie systemu LOTTO, ale zadbaj o to aby wylosowane liczby nie powtarzały się (bez użycia list)\n",
    "6. Napisz program, który losuje literę i każe użytkownikowi jak najszybciej wpisać ją na klawiaturze. Niech wyświetli czas, który był potrzeby na reakcję\n",
    "7. Powyższy program zmodyfikuj tak, aby powtarzał się pięciokrotnie. Następnie wyświetl czas potrzebny dla wciśniecie kolejnych klawiszy i średnią czasu reakcji\n",
    "8. Napisz program, który losuje liczby z zakresu od 0 do 99. Program powinien wyświetlać wylosowane liczby i zatrzymać swoje działanie jeśli wylosowana liczba będzie większa niż 90\n",
    "9. Przygotuj grę, w której podajesz liczbę z zakresu od 0 do 100. Komputer wybiera dla siebie także liczbę z tego zakresu. Wygrywa większa liczba\n",
    "10. Podaj komputerowi liczbę z zakresu od 0 100. Następnie, niech komputer wylosuję liczbę z zakresu od podanej liczby do 100. Wyświetl wylosowaną liczbę\n",
    "11. Przygotuj grę kamień-papier-nożyce lub jej rozszerzoną wersję: Youtube\n",
    "12. Przygotuj minutnik - program który odlicza od zadanej liczby sekund do zera.\n",
    "13. Napisz ”Generator przysłów”. Program powinien losować jedno z 5 dostępnych przysłów i wyświetlać je na ekranie.\n",
    "14. Napisz program, który losuje wartość prawdopodobieństwa. W zależności od tej wartości wyświetla inny napis."
   ]
  },
  {
   "cell_type": "code",
   "execution_count": 3,
   "id": "3b8cdf9b-0675-40d9-a0e0-d8a83089ac4f",
   "metadata": {},
   "outputs": [],
   "source": [
    "import random\n",
    "import time"
   ]
  },
  {
   "cell_type": "code",
   "execution_count": 4,
   "id": "fa660e6e-e7dc-4062-8ea1-629f7fd99ea9",
   "metadata": {},
   "outputs": [
    {
     "name": "stdout",
     "output_type": "stream",
     "text": [
      "5\n",
      "4\n",
      "3\n",
      "2\n",
      "1\n",
      "Boom!\n"
     ]
    }
   ],
   "source": [
    "# Zad 1 \n",
    "\n",
    "for i in range(5,0,-1):\n",
    "    print(i)\n",
    "    time.sleep(1)\n",
    "\n",
    "print(\"Boom!\")"
   ]
  },
  {
   "cell_type": "code",
   "execution_count": 5,
   "id": "7f8430e8-c81d-47cf-a765-717518259fb6",
   "metadata": {},
   "outputs": [],
   "source": [
    "# Zad 2 \n",
    "\n"
   ]
  },
  {
   "cell_type": "code",
   "execution_count": 13,
   "id": "84c1b728-56f9-46cc-babb-723f8b1bd8a9",
   "metadata": {},
   "outputs": [
    {
     "name": "stdout",
     "output_type": "stream",
     "text": [
      "Wprowadź \"g\" aby rzucić kostką: \n"
     ]
    },
    {
     "name": "stdin",
     "output_type": "stream",
     "text": [
      " g\n"
     ]
    },
    {
     "name": "stdout",
     "output_type": "stream",
     "text": [
      "5\n"
     ]
    }
   ],
   "source": [
    "# Zad 3\n",
    "\n",
    "print(\"Wprowadź \\\"g\\\" aby rzucić kostką: \")\n",
    "\n",
    "kostka = input()\n",
    "if kostka == \"g\":\n",
    "    wylosowana_kostka = random.randint(1,6)\n",
    "    print(wylosowana_kostka)\n",
    "else:\n",
    "    print(\"Niepoprawna litera\")\n"
   ]
  },
  {
   "cell_type": "code",
   "execution_count": 15,
   "id": "ff9b1557-8053-42d5-9e26-e3c5e1bb8793",
   "metadata": {},
   "outputs": [
    {
     "name": "stdout",
     "output_type": "stream",
     "text": [
      "Zagrajmy w LOTTO.\n",
      "\n",
      "Wybierz 6 liczb z zakresu od 1 do 49\n",
      "Wprowadź pierwszą liczbę: \n"
     ]
    },
    {
     "name": "stdin",
     "output_type": "stream",
     "text": [
      " 33\n"
     ]
    },
    {
     "name": "stdout",
     "output_type": "stream",
     "text": [
      "\n",
      "Wprowadź drugą liczbę: \n"
     ]
    },
    {
     "name": "stdin",
     "output_type": "stream",
     "text": [
      " 29\n"
     ]
    },
    {
     "name": "stdout",
     "output_type": "stream",
     "text": [
      "\n",
      "Wprowadź trzecią liczbę: \n"
     ]
    },
    {
     "name": "stdin",
     "output_type": "stream",
     "text": [
      " 49\n"
     ]
    },
    {
     "name": "stdout",
     "output_type": "stream",
     "text": [
      "\n",
      "Wprowadź czwartą liczbę: \n"
     ]
    },
    {
     "name": "stdin",
     "output_type": "stream",
     "text": [
      " 1\n"
     ]
    },
    {
     "name": "stdout",
     "output_type": "stream",
     "text": [
      "\n",
      "Wprowadź piątą liczbę: \n"
     ]
    },
    {
     "name": "stdin",
     "output_type": "stream",
     "text": [
      " 4\n"
     ]
    },
    {
     "name": "stdout",
     "output_type": "stream",
     "text": [
      "\n",
      "Wprowadź szóstą liczbę: \n"
     ]
    },
    {
     "name": "stdin",
     "output_type": "stream",
     "text": [
      " 23\n"
     ]
    },
    {
     "name": "stdout",
     "output_type": "stream",
     "text": [
      "Wybrane przez ciebie liczby to: ({33}, {29}, {49}, {1}, {4}, {23})\n",
      "Szczęśliwe liczby to: \n",
      "35\n",
      "4\n",
      "20\n",
      "47\n",
      "48\n",
      "3\n",
      "Szczęśliwe liczby: 35, 4, 20, 47, 48, 3\n",
      "Niestety nie udało ci się wygrać.\n"
     ]
    }
   ],
   "source": [
    "# Zad 4, 5 \n",
    "\n",
    "print(\"Zagrajmy w LOTTO.\\n\")\n",
    "print(\"Wybierz 6 liczb z zakresu od 1 do 49\")\n",
    "\n",
    "\n",
    "while True:\n",
    "    print(\"Wprowadź pierwszą liczbę: \")\n",
    "    number1 = int(input())\n",
    "    if number1 >= 1 and number1 <= 49:\n",
    "    \n",
    "        print(\"\\nWprowadź drugą liczbę: \")\n",
    "        number2 = int(input())\n",
    "        if number2 >= 1 and number2 <= 49:\n",
    "            \n",
    "            print(\"\\nWprowadź trzecią liczbę: \")\n",
    "            number3 = int(input())\n",
    "            if number3 >= 1 and number3 <= 49:\n",
    "    \n",
    "                print(\"\\nWprowadź czwartą liczbę: \")\n",
    "                number4 = int(input())\n",
    "                if number4 >= 1 and number4 <= 49:\n",
    "                    \n",
    "        \n",
    "                    print(\"\\nWprowadź piątą liczbę: \")\n",
    "                    number5 = int(input())\n",
    "                    if number5 >= 1 and number5 <= 49:\n",
    "        \n",
    "                        print(\"\\nWprowadź szóstą liczbę: \")\n",
    "                        number6 = int(input())\n",
    "                        if number6 >= 1 and number6 <= 49:\n",
    "                            break\n",
    "\n",
    "    else:\n",
    "        break\n",
    "\n",
    "wybrane_liczby = ({number1}, {number2}, {number3}, {number4}, {number5}, {number6})\n",
    "\n",
    "print(f\"Wybrane przez ciebie liczby to: {wybrane_liczby}\")\n",
    "\n",
    "\n",
    "while True:\n",
    "    lotto1 = random.randint(1, 49)\n",
    "    lotto2 = random.randint(1, 49)\n",
    "    if lotto2 != lotto1:\n",
    "        lotto3 = random.randint(1, 49)\n",
    "        if lotto3 != lotto1 and lotto3 != lotto2:\n",
    "            lotto4 = random.randint(1, 49)\n",
    "            if lotto4 != lotto1 and lotto4 != lotto2 and lotto4 != lotto3:\n",
    "                lotto5 = random.randint(1, 49)\n",
    "                if lotto5 != lotto1 and lotto5 != lotto2 and lotto5 != lotto3 and lotto5 != lotto4:\n",
    "                    lotto6 = random.randint(1, 49)\n",
    "                    if lotto6 != lotto1 and lotto6 != lotto2 and lotto6 != lotto3 and lotto6 != lotto4 and lotto6 != lotto5:\n",
    "                        lotto_liczby = ({lotto1}, {lotto2}, {lotto3}, {lotto4}, {lotto5}, {lotto6})\n",
    "                        break\n",
    "\n",
    "print(\"Szczęśliwe liczby to: \")\n",
    "    \n",
    "time.sleep(2)\n",
    "print(lotto1)\n",
    "    \n",
    "time.sleep(2)\n",
    "print(lotto2)\n",
    "    \n",
    "time.sleep(2)\n",
    "print(lotto3)\n",
    "    \n",
    "time.sleep(2)\n",
    "print(lotto4)\n",
    "    \n",
    "time.sleep(2)\n",
    "print(lotto5)\n",
    "    \n",
    "time.sleep(2)\n",
    "print(lotto6)\n",
    "\n",
    "time.sleep(1)\n",
    "print(f\"Szczęśliwe liczby: {lotto1}, {lotto2}, {lotto3}, {lotto4}, {lotto5}, {lotto6}\")\n",
    "\n",
    "\n",
    "if wybrane_liczby == lotto_liczby:\n",
    "    print(\"Jesteś milionerem! Gratulacje!\")\n",
    "else:\n",
    "    print(\"Niestety nie udało ci się wygrać.\")"
   ]
  },
  {
   "cell_type": "code",
   "execution_count": 17,
   "id": "6eb86c9b-85c8-46c5-98c4-1b208979028a",
   "metadata": {},
   "outputs": [
    {
     "name": "stdout",
     "output_type": "stream",
     "text": [
      "Wprowadź jak najszybciej wylosowaną literę\n",
      "Wylosowana litera: l\n"
     ]
    },
    {
     "name": "stdin",
     "output_type": "stream",
     "text": [
      " l\n"
     ]
    },
    {
     "name": "stdout",
     "output_type": "stream",
     "text": [
      "Wprowadzenie litery zajęło ci: 2.26 sekund\n",
      "Wylosowana litera: k\n"
     ]
    },
    {
     "name": "stdin",
     "output_type": "stream",
     "text": [
      " k\n"
     ]
    },
    {
     "name": "stdout",
     "output_type": "stream",
     "text": [
      "Wprowadzenie litery zajęło ci: 1.52 sekund\n",
      "Wylosowana litera: n\n"
     ]
    },
    {
     "name": "stdin",
     "output_type": "stream",
     "text": [
      " n\n"
     ]
    },
    {
     "name": "stdout",
     "output_type": "stream",
     "text": [
      "Wprowadzenie litery zajęło ci: 1.53 sekund\n",
      "Wylosowana litera: j\n"
     ]
    },
    {
     "name": "stdin",
     "output_type": "stream",
     "text": [
      " j\n"
     ]
    },
    {
     "name": "stdout",
     "output_type": "stream",
     "text": [
      "Wprowadzenie litery zajęło ci: 1.68 sekund\n",
      "Wylosowana litera: h\n"
     ]
    },
    {
     "name": "stdin",
     "output_type": "stream",
     "text": [
      " h\n"
     ]
    },
    {
     "name": "stdout",
     "output_type": "stream",
     "text": [
      "Wprowadzenie litery zajęło ci: 1.79 sekund\n",
      "Wprowadzenie litery zajęło ci średnio: 1.76 sekund\n"
     ]
    }
   ],
   "source": [
    "# Zad 6, 7\n",
    "\n",
    "litery = (\"qwertyuiopasdfghjklzxcvbnm\")\n",
    "mean = 0 \n",
    "n = 0\n",
    "total_time = 0\n",
    "\n",
    "print(\"Wprowadź jak najszybciej wylosowaną literę\")\n",
    "\n",
    "time.sleep(2)\n",
    "\n",
    "\n",
    "for i in range(5):\n",
    "    wylosowana_litera = random.choice(litery)\n",
    "    print(f\"Wylosowana litera: {wylosowana_litera}\")\n",
    "    \n",
    "    start_time = time.time()\n",
    "    litera = input()\n",
    "    \n",
    "    if litera == wylosowana_litera:\n",
    "        \n",
    "        end_time = time.time()\n",
    "        elapsed_time = end_time - start_time\n",
    "\n",
    "        print(f\"Wprowadzenie litery zajęło ci: {elapsed_time:.2f} sekund\")\n",
    "        \n",
    "        n += 1\n",
    "        total_time += elapsed_time\n",
    "        \n",
    "    else:\n",
    "        print(\"Niepoprawna litera\")\n",
    "        \n",
    "if n > 0:\n",
    "    mean = total_time / n\n",
    "    print(f\"Wprowadzenie litery zajęło ci średnio: {mean:.2f} sekund\")\n",
    "else:\n",
    "    print(\"Nie udało ci się poprawnie wprowadzić żadnej litery.\")"
   ]
  },
  {
   "cell_type": "code",
   "execution_count": 21,
   "id": "6fc1f01f-62e7-4c22-81b1-889ed29a0687",
   "metadata": {},
   "outputs": [
    {
     "name": "stdout",
     "output_type": "stream",
     "text": [
      "Losowa liczba: 47\n",
      "Losowa liczba: 16\n",
      "Losowa liczba: 10\n",
      "Losowa liczba: 24\n",
      "Losowa liczba: 73\n",
      "Losowa liczba: 38\n",
      "Losowa liczba: 59\n",
      "Losowa liczba: 86\n",
      "Losowa liczba 97 jest większa od 90.\n"
     ]
    }
   ],
   "source": [
    "# Zad 8\n",
    "\n",
    "while True:\n",
    "    losowa_liczba = random.randint(0,100)\n",
    "    if losowa_liczba >= 90:\n",
    "        print(f\"Losowa liczba {losowa_liczba} jest większa od 90.\")\n",
    "        break\n",
    "    else:\n",
    "        print(f\"Losowa liczba: {losowa_liczba}\")\n",
    "        time.sleep(1)\n",
    "        continue\n"
   ]
  },
  {
   "cell_type": "code",
   "execution_count": 23,
   "id": "8b68684a-e7d1-469c-a9e0-2b848f0e91a3",
   "metadata": {},
   "outputs": [
    {
     "name": "stdout",
     "output_type": "stream",
     "text": [
      "Wybierz sobie liczbę z zakresu od 0 do 100, komputer również wybierze sobie liczbę, a następnie zobaczymy kto ma większą\n"
     ]
    },
    {
     "name": "stdin",
     "output_type": "stream",
     "text": [
      " 33\n"
     ]
    },
    {
     "name": "stdout",
     "output_type": "stream",
     "text": [
      "Wygrałeś! Moja liczba: 33, liczba komputera: 60\n"
     ]
    }
   ],
   "source": [
    "# Zad 9 \n",
    "\n",
    "print(\"Wybierz sobie liczbę z zakresu od 0 do 100, komputer również wybierze sobie liczbę, a następnie zobaczymy kto ma większą\")\n",
    "\n",
    "moja_liczba = int(input())\n",
    "komputera_liczba = random.randint(0,100)\n",
    "\n",
    "if moja_liczba > komputera_liczba:\n",
    "    print(f\"Wygrałem! Moja liczba: {moja_liczba}, liczba komputera: {komputera_liczba}\")\n",
    "elif komputera_liczba > moja_liczba:\n",
    "    print(f\"Wygrałeś! Moja liczba: {moja_liczba}, liczba komputera: {komputera_liczba}\")\n",
    "else:\n",
    "    print(f\"Remis! Moja liczba: {moja_liczba}, liczba komputera: {komputera_liczba}\")\n"
   ]
  },
  {
   "cell_type": "code",
   "execution_count": 25,
   "id": "57acfa05-b311-4719-8688-0a760c22de47",
   "metadata": {},
   "outputs": [
    {
     "name": "stdout",
     "output_type": "stream",
     "text": [
      "Wprowadź liczbę od 0 do 100: \n"
     ]
    },
    {
     "name": "stdin",
     "output_type": "stream",
     "text": [
      " 77\n"
     ]
    },
    {
     "name": "stdout",
     "output_type": "stream",
     "text": [
      "Wylosowana liczba z zakresu od wprowadzonej do 100: 82\n"
     ]
    }
   ],
   "source": [
    "# Zad 10 \n",
    "\n",
    "print(\"Wprowadź liczbę od 0 do 100: \")\n",
    "wprowadzona_liczba = int(input())\n",
    "wylosowana_liczba2 = random.randint(wprowadzona_liczba, 100)\n",
    "\n",
    "print(f\"Wylosowana liczba z zakresu od wprowadzonej do 100: {wylosowana_liczba2}\")"
   ]
  },
  {
   "cell_type": "code",
   "execution_count": 27,
   "id": "f614c0f7-f9c9-40db-8f11-85742a6fb05c",
   "metadata": {},
   "outputs": [
    {
     "name": "stdout",
     "output_type": "stream",
     "text": [
      "Kamień, papier i nożyce - z komputerem\n",
      "Wybierz\n",
      "Kamień - k\n",
      "Papier - p\n",
      "Nożyce - n\n"
     ]
    },
    {
     "name": "stdin",
     "output_type": "stream",
     "text": [
      "Twój wybór:  k\n"
     ]
    },
    {
     "name": "stdout",
     "output_type": "stream",
     "text": [
      "Komputer wybrał: p\n",
      "Komputer wygrywa!\n"
     ]
    }
   ],
   "source": [
    "# Zad 11 \n",
    "\n",
    "gra = \"kpn\"\n",
    "\n",
    "print(\"Kamień, papier i nożyce - z komputerem\")\n",
    "print(\"Wybierz\\nKamień - k\\nPapier - p\\nNożyce - n\")\n",
    "\n",
    "wybor = input(\"Twój wybór: \")\n",
    "wyborpc = random.choice(gra)\n",
    "\n",
    "print(f\"Komputer wybrał: {wyborpc}\")\n",
    "\n",
    "if wybor == \"k\" and wyborpc == \"k\":\n",
    "    print(\"Remis!\")\n",
    "elif wybor == \"k\" and wyborpc == \"p\":\n",
    "    print(\"Komputer wygrywa!\")\n",
    "elif wybor == \"k\" and wyborpc == \"n\":\n",
    "    print(\"Wygrałeś!\")\n",
    "elif wybor == \"p\" and wyborpc == \"k\":\n",
    "    print(\"Wygrałeś!\")\n",
    "elif wybor == \"p\" and wyborpc == \"p\":\n",
    "    print(\"Remis!\")\n",
    "elif wybor == \"p\" and wyborpc == \"n\":\n",
    "    print(\"Komputer wygrywa!\")\n",
    "elif wybor == \"n\" and wyborpc == \"k\":\n",
    "    print(\"Komputer wygrywa!\")\n",
    "elif wybor == \"n\" and wyborpc == \"p\":\n",
    "    print(\"Wygrałeś!\")\n",
    "elif wybor == \"n\" and wyborpc == \"n\":\n",
    "    print(\"Remis!\")\n",
    "else:\n",
    "    print(\"Niepoprawny wybór. Spróbuj jeszcze raz!\")"
   ]
  },
  {
   "cell_type": "code",
   "execution_count": 29,
   "id": "8a42f381-452f-4d9d-a995-f9ae20efd91e",
   "metadata": {},
   "outputs": [
    {
     "name": "stdout",
     "output_type": "stream",
     "text": [
      "Minutnik\n",
      "Wprowadź wartość: \n"
     ]
    },
    {
     "name": "stdin",
     "output_type": "stream",
     "text": [
      " 4\n"
     ]
    },
    {
     "name": "stdout",
     "output_type": "stream",
     "text": [
      "Minęło 4 sekund.\n"
     ]
    }
   ],
   "source": [
    "# Zad 12\n",
    "\n",
    "print(\"Minutnik\")\n",
    "print(\"Wprowadź wartość: \")\n",
    "\n",
    "czas = int(input())\n",
    "start_time = time.time()\n",
    "\n",
    "\n",
    "while True:\n",
    "    elapsed_time = time.time() - start_time\n",
    "\n",
    "    if elapsed_time >= czas:\n",
    "        break\n",
    "\n",
    "print(f\"Minęło {czas} sekund.\")"
   ]
  },
  {
   "cell_type": "code",
   "execution_count": 31,
   "id": "2805f0cb-dccd-4694-b1ec-29f52c6252fb",
   "metadata": {},
   "outputs": [
    {
     "name": "stdout",
     "output_type": "stream",
     "text": [
      "Cicha woda brzegi rwie.\n"
     ]
    }
   ],
   "source": [
    "# Zad 13\n",
    "\n",
    "przyslowie1 = \"Gdzie kucharek sześć, tam nie ma co jeść.\"\n",
    "przyslowie2 = \"Co za dużo, to niezdrowo.\"\n",
    "przyslowie3 = \"Nie chwal dnia przed zachodem słońca.\"\n",
    "przyslowie4 = \"Kto pod kim dołki kopie, sam w nie wpada.\"\n",
    "przyslowie5 = \"Cicha woda brzegi rwie.\"\n",
    "\n",
    "przyslowia = (przyslowie1,przyslowie2,przyslowie3,przyslowie4,przyslowie5)\n",
    "\n",
    "wybor = random.choice(przyslowia)\n",
    "print(wybor)"
   ]
  },
  {
   "cell_type": "code",
   "execution_count": 41,
   "id": "39b44b3e-1f23-48b9-917a-90812b313e7f",
   "metadata": {},
   "outputs": [
    {
     "name": "stdout",
     "output_type": "stream",
     "text": [
      "Wylosowane prawdopodobieństwo: 0.77\n",
      "Wysokie prawdopodobieństwo.\n"
     ]
    }
   ],
   "source": [
    "# Zad 14 \n",
    "\n",
    "probability = random.random()\n",
    "\n",
    "print(f\"Wylosowane prawdopodobieństwo: {probability:.2f}\")\n",
    "\n",
    "if probability < 0.2:\n",
    "    print(\"Bardzo małe prawdopodobieństwo.\")\n",
    "elif probability < 0.5:\n",
    "    print(\"Średnie prawdopodobieństwo.\")\n",
    "elif probability < 0.8:\n",
    "    print(\"Wysokie prawdopodobieństwo.\")\n",
    "else:\n",
    "    print(\"Bardzo wysokie prawdopodobieństwo.\")"
   ]
  },
  {
   "cell_type": "code",
   "execution_count": null,
   "id": "d8c1b13a-5885-4163-ae1b-363062f08beb",
   "metadata": {},
   "outputs": [],
   "source": []
  }
 ],
 "metadata": {
  "kernelspec": {
   "display_name": "Python 3 (ipykernel)",
   "language": "python",
   "name": "python3"
  },
  "language_info": {
   "codemirror_mode": {
    "name": "ipython",
    "version": 3
   },
   "file_extension": ".py",
   "mimetype": "text/x-python",
   "name": "python",
   "nbconvert_exporter": "python",
   "pygments_lexer": "ipython3",
   "version": "3.12.7"
  }
 },
 "nbformat": 4,
 "nbformat_minor": 5
}
