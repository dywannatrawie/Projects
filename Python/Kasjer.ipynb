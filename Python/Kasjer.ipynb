{
 "cells": [
  {
   "cell_type": "markdown",
   "id": "b6b002fc-5759-4b8b-a743-294aae9fad00",
   "metadata": {},
   "source": [
    "Symulacja kasy\n",
    "Stan kasy (nie kwota, a ilość różnych nominałów)\n",
    "\n",
    "\n",
    "W pętli obsługa klientów\n",
    "Jakie nominały daje klient\n",
    "Wydawanie reszty (przy możliwie najmniejszej ilości nominałów)\n",
    "\n",
    "Przejście do kolejnej obsługi klienta\n",
    "\n",
    "Uniknąć wydawania nominałów, których nie posiadamy\n",
    "\n",
    "\n",
    "Na 3 - zrobić przy pomocy algorytmu zachłannego \n",
    "Na 5 - lepszy algorytm (zastosowanie np. programowania dynamicznego)\n",
    "\n",
    "Problemy\n",
    "- problem struktur danych \n",
    "- algorytm \n",
    "\n",
    "Artmetyka (10 groszy to nie 1/10)\n",
    "\n",
    "Na koniec pracy generowanie raportu. "
   ]
  },
  {
   "cell_type": "code",
   "execution_count": 5,
   "id": "0e52c95b-1ab7-47e3-ab2d-53e13f31135b",
   "metadata": {},
   "outputs": [
    {
     "name": "stdout",
     "output_type": "stream",
     "text": [
      "\n",
      "Aktualny stan kasy:\n",
      "Nominał 500.00 zł: 2 szt.\n",
      "Nominał 200.00 zł: 3 szt.\n",
      "Nominał 100.00 zł: 5 szt.\n",
      "Nominał 50.00 zł: 10 szt.\n",
      "Nominał 20.00 zł: 20 szt.\n",
      "Nominał 10.00 zł: 50 szt.\n",
      "Nominał 5.00 zł: 50 szt.\n",
      "Nominał 2.00 zł: 100 szt.\n",
      "Nominał 1.00 zł: 100 szt.\n",
      "Nominał 0.50 zł: 200 szt.\n",
      "Nominał 0.20 zł: 200 szt.\n",
      "Nominał 0.10 zł: 200 szt.\n",
      "Nominał 0.05 zł: 100 szt.\n",
      "Nominał 0.02 zł: 100 szt.\n",
      "Nominał 0.01 zł: 100 szt.\n",
      "\n",
      "Nowy klient\n"
     ]
    },
    {
     "name": "stdin",
     "output_type": "stream",
     "text": [
      "Podaj kwotę do zapłaty (np. 15.50):  0.01\n",
      "Jakie nominały daje klient? (np. 500zl,200zl):  500zl\n"
     ]
    },
    {
     "name": "stdout",
     "output_type": "stream",
     "text": [
      "Wydaj resztę:\n",
      "200.00 zł: 2 szt.\n",
      "50.00 zł: 1 szt.\n",
      "20.00 zł: 2 szt.\n",
      "5.00 zł: 1 szt.\n",
      "2.00 zł: 2 szt.\n",
      "0.50 zł: 1 szt.\n",
      "0.20 zł: 2 szt.\n",
      "0.05 zł: 1 szt.\n",
      "0.02 zł: 2 szt.\n",
      "\n",
      "Aktualny stan kasy:\n",
      "Nominał 500.00 zł: 3 szt.\n",
      "Nominał 200.00 zł: 1 szt.\n",
      "Nominał 100.00 zł: 5 szt.\n",
      "Nominał 50.00 zł: 9 szt.\n",
      "Nominał 20.00 zł: 18 szt.\n",
      "Nominał 10.00 zł: 50 szt.\n",
      "Nominał 5.00 zł: 49 szt.\n",
      "Nominał 2.00 zł: 98 szt.\n",
      "Nominał 1.00 zł: 100 szt.\n",
      "Nominał 0.50 zł: 199 szt.\n",
      "Nominał 0.20 zł: 198 szt.\n",
      "Nominał 0.10 zł: 200 szt.\n",
      "Nominał 0.05 zł: 99 szt.\n",
      "Nominał 0.02 zł: 98 szt.\n",
      "Nominał 0.01 zł: 100 szt.\n"
     ]
    },
    {
     "name": "stdin",
     "output_type": "stream",
     "text": [
      "Czy kolejny klient? (tak/nie):  tak\n"
     ]
    },
    {
     "name": "stdout",
     "output_type": "stream",
     "text": [
      "\n",
      "Nowy klient\n"
     ]
    },
    {
     "name": "stdin",
     "output_type": "stream",
     "text": [
      "Podaj kwotę do zapłaty (np. 15.50):  0.01\n",
      "Jakie nominały daje klient? (np. 500zl,200zl):  500zl\n"
     ]
    },
    {
     "name": "stdout",
     "output_type": "stream",
     "text": [
      "Wydaj resztę:\n",
      "200.00 zł: 1 szt.\n",
      "100.00 zł: 2 szt.\n",
      "50.00 zł: 1 szt.\n",
      "20.00 zł: 2 szt.\n",
      "5.00 zł: 1 szt.\n",
      "2.00 zł: 2 szt.\n",
      "0.50 zł: 1 szt.\n",
      "0.20 zł: 2 szt.\n",
      "0.05 zł: 1 szt.\n",
      "0.02 zł: 2 szt.\n",
      "\n",
      "Aktualny stan kasy:\n",
      "Nominał 500.00 zł: 4 szt.\n",
      "Nominał 200.00 zł: 0 szt.\n",
      "Nominał 100.00 zł: 3 szt.\n",
      "Nominał 50.00 zł: 8 szt.\n",
      "Nominał 20.00 zł: 16 szt.\n",
      "Nominał 10.00 zł: 50 szt.\n",
      "Nominał 5.00 zł: 48 szt.\n",
      "Nominał 2.00 zł: 96 szt.\n",
      "Nominał 1.00 zł: 100 szt.\n",
      "Nominał 0.50 zł: 198 szt.\n",
      "Nominał 0.20 zł: 196 szt.\n",
      "Nominał 0.10 zł: 200 szt.\n",
      "Nominał 0.05 zł: 98 szt.\n",
      "Nominał 0.02 zł: 96 szt.\n",
      "Nominał 0.01 zł: 100 szt.\n"
     ]
    },
    {
     "name": "stdin",
     "output_type": "stream",
     "text": [
      "Czy kolejny klient? (tak/nie):  tak\n"
     ]
    },
    {
     "name": "stdout",
     "output_type": "stream",
     "text": [
      "\n",
      "Nowy klient\n"
     ]
    },
    {
     "name": "stdin",
     "output_type": "stream",
     "text": [
      "Podaj kwotę do zapłaty (np. 15.50):  0.01\n",
      "Jakie nominały daje klient? (np. 500zl,200zl):  500zl\n"
     ]
    },
    {
     "name": "stdout",
     "output_type": "stream",
     "text": [
      "Wydaj resztę:\n",
      "100.00 zł: 3 szt.\n",
      "50.00 zł: 3 szt.\n",
      "20.00 zł: 2 szt.\n",
      "5.00 zł: 1 szt.\n",
      "2.00 zł: 2 szt.\n",
      "0.50 zł: 1 szt.\n",
      "0.20 zł: 2 szt.\n",
      "0.05 zł: 1 szt.\n",
      "0.02 zł: 2 szt.\n",
      "\n",
      "Aktualny stan kasy:\n",
      "Nominał 500.00 zł: 5 szt.\n",
      "Nominał 200.00 zł: 0 szt.\n",
      "Nominał 100.00 zł: 0 szt.\n",
      "Nominał 50.00 zł: 5 szt.\n",
      "Nominał 20.00 zł: 14 szt.\n",
      "Nominał 10.00 zł: 50 szt.\n",
      "Nominał 5.00 zł: 47 szt.\n",
      "Nominał 2.00 zł: 94 szt.\n",
      "Nominał 1.00 zł: 100 szt.\n",
      "Nominał 0.50 zł: 197 szt.\n",
      "Nominał 0.20 zł: 194 szt.\n",
      "Nominał 0.10 zł: 200 szt.\n",
      "Nominał 0.05 zł: 97 szt.\n",
      "Nominał 0.02 zł: 94 szt.\n",
      "Nominał 0.01 zł: 100 szt.\n"
     ]
    },
    {
     "name": "stdin",
     "output_type": "stream",
     "text": [
      "Czy kolejny klient? (tak/nie):  tak\n"
     ]
    },
    {
     "name": "stdout",
     "output_type": "stream",
     "text": [
      "\n",
      "Nowy klient\n"
     ]
    },
    {
     "name": "stdin",
     "output_type": "stream",
     "text": [
      "Podaj kwotę do zapłaty (np. 15.50):  0.01\n",
      "Jakie nominały daje klient? (np. 500zl,200zl):  500zl\n"
     ]
    },
    {
     "name": "stdout",
     "output_type": "stream",
     "text": [
      "Wydaj resztę:\n",
      "50.00 zł: 5 szt.\n",
      "20.00 zł: 12 szt.\n",
      "5.00 zł: 1 szt.\n",
      "2.00 zł: 2 szt.\n",
      "0.50 zł: 1 szt.\n",
      "0.20 zł: 2 szt.\n",
      "0.05 zł: 1 szt.\n",
      "0.02 zł: 2 szt.\n",
      "\n",
      "Aktualny stan kasy:\n",
      "Nominał 500.00 zł: 6 szt.\n",
      "Nominał 200.00 zł: 0 szt.\n",
      "Nominał 100.00 zł: 0 szt.\n",
      "Nominał 50.00 zł: 0 szt.\n",
      "Nominał 20.00 zł: 2 szt.\n",
      "Nominał 10.00 zł: 50 szt.\n",
      "Nominał 5.00 zł: 46 szt.\n",
      "Nominał 2.00 zł: 92 szt.\n",
      "Nominał 1.00 zł: 100 szt.\n",
      "Nominał 0.50 zł: 196 szt.\n",
      "Nominał 0.20 zł: 192 szt.\n",
      "Nominał 0.10 zł: 200 szt.\n",
      "Nominał 0.05 zł: 96 szt.\n",
      "Nominał 0.02 zł: 92 szt.\n",
      "Nominał 0.01 zł: 100 szt.\n"
     ]
    },
    {
     "name": "stdin",
     "output_type": "stream",
     "text": [
      "Czy kolejny klient? (tak/nie):  tak\n"
     ]
    },
    {
     "name": "stdout",
     "output_type": "stream",
     "text": [
      "\n",
      "Nowy klient\n"
     ]
    },
    {
     "name": "stdin",
     "output_type": "stream",
     "text": [
      "Podaj kwotę do zapłaty (np. 15.50):  0.01\n",
      "Jakie nominały daje klient? (np. 500zl,200zl):  500zl\n"
     ]
    },
    {
     "name": "stdout",
     "output_type": "stream",
     "text": [
      "Wydaj resztę:\n",
      "20.00 zł: 2 szt.\n",
      "10.00 zł: 45 szt.\n",
      "5.00 zł: 1 szt.\n",
      "2.00 zł: 2 szt.\n",
      "0.50 zł: 1 szt.\n",
      "0.20 zł: 2 szt.\n",
      "0.05 zł: 1 szt.\n",
      "0.02 zł: 2 szt.\n",
      "\n",
      "Aktualny stan kasy:\n",
      "Nominał 500.00 zł: 7 szt.\n",
      "Nominał 200.00 zł: 0 szt.\n",
      "Nominał 100.00 zł: 0 szt.\n",
      "Nominał 50.00 zł: 0 szt.\n",
      "Nominał 20.00 zł: 0 szt.\n",
      "Nominał 10.00 zł: 5 szt.\n",
      "Nominał 5.00 zł: 45 szt.\n",
      "Nominał 2.00 zł: 90 szt.\n",
      "Nominał 1.00 zł: 100 szt.\n",
      "Nominał 0.50 zł: 195 szt.\n",
      "Nominał 0.20 zł: 190 szt.\n",
      "Nominał 0.10 zł: 200 szt.\n",
      "Nominał 0.05 zł: 95 szt.\n",
      "Nominał 0.02 zł: 90 szt.\n",
      "Nominał 0.01 zł: 100 szt.\n"
     ]
    },
    {
     "name": "stdin",
     "output_type": "stream",
     "text": [
      "Czy kolejny klient? (tak/nie):  tak\n"
     ]
    },
    {
     "name": "stdout",
     "output_type": "stream",
     "text": [
      "\n",
      "Nowy klient\n"
     ]
    },
    {
     "name": "stdin",
     "output_type": "stream",
     "text": [
      "Podaj kwotę do zapłaty (np. 15.50):  0.01\n",
      "Jakie nominały daje klient? (np. 500zl,200zl):  500zl\n"
     ]
    },
    {
     "name": "stdout",
     "output_type": "stream",
     "text": [
      "Wydaj resztę:\n",
      "10.00 zł: 5 szt.\n",
      "5.00 zł: 45 szt.\n",
      "2.00 zł: 90 szt.\n",
      "1.00 zł: 44 szt.\n",
      "0.50 zł: 1 szt.\n",
      "0.20 zł: 2 szt.\n",
      "0.05 zł: 1 szt.\n",
      "0.02 zł: 2 szt.\n",
      "\n",
      "Aktualny stan kasy:\n",
      "Nominał 500.00 zł: 8 szt.\n",
      "Nominał 200.00 zł: 0 szt.\n",
      "Nominał 100.00 zł: 0 szt.\n",
      "Nominał 50.00 zł: 0 szt.\n",
      "Nominał 20.00 zł: 0 szt.\n",
      "Nominał 10.00 zł: 0 szt.\n",
      "Nominał 5.00 zł: 0 szt.\n",
      "Nominał 2.00 zł: 0 szt.\n",
      "Nominał 1.00 zł: 56 szt.\n",
      "Nominał 0.50 zł: 194 szt.\n",
      "Nominał 0.20 zł: 188 szt.\n",
      "Nominał 0.10 zł: 200 szt.\n",
      "Nominał 0.05 zł: 94 szt.\n",
      "Nominał 0.02 zł: 88 szt.\n",
      "Nominał 0.01 zł: 100 szt.\n"
     ]
    },
    {
     "name": "stdin",
     "output_type": "stream",
     "text": [
      "Czy kolejny klient? (tak/nie):  tak\n"
     ]
    },
    {
     "name": "stdout",
     "output_type": "stream",
     "text": [
      "\n",
      "Nowy klient\n"
     ]
    },
    {
     "name": "stdin",
     "output_type": "stream",
     "text": [
      "Podaj kwotę do zapłaty (np. 15.50):  0.01\n",
      "Jakie nominały daje klient? (np. 500zl,200zl):  500zl\n"
     ]
    },
    {
     "name": "stdout",
     "output_type": "stream",
     "text": [
      "Nie można wydać reszty!\n",
      "\n",
      "Aktualny stan kasy:\n",
      "Nominał 500.00 zł: 8 szt.\n",
      "Nominał 200.00 zł: 0 szt.\n",
      "Nominał 100.00 zł: 0 szt.\n",
      "Nominał 50.00 zł: 0 szt.\n",
      "Nominał 20.00 zł: 0 szt.\n",
      "Nominał 10.00 zł: 0 szt.\n",
      "Nominał 5.00 zł: 0 szt.\n",
      "Nominał 2.00 zł: 0 szt.\n",
      "Nominał 1.00 zł: 56 szt.\n",
      "Nominał 0.50 zł: 194 szt.\n",
      "Nominał 0.20 zł: 188 szt.\n",
      "Nominał 0.10 zł: 200 szt.\n",
      "Nominał 0.05 zł: 94 szt.\n",
      "Nominał 0.02 zł: 88 szt.\n",
      "Nominał 0.01 zł: 100 szt.\n"
     ]
    },
    {
     "name": "stdin",
     "output_type": "stream",
     "text": [
      "Czy kolejny klient? (tak/nie):  nie\n"
     ]
    },
    {
     "name": "stdout",
     "output_type": "stream",
     "text": [
      "\n",
      "=== Raport końcowy ===\n",
      "\n",
      "Aktualny stan kasy:\n",
      "Nominał 500.00 zł: 8 szt.\n",
      "Nominał 200.00 zł: 0 szt.\n",
      "Nominał 100.00 zł: 0 szt.\n",
      "Nominał 50.00 zł: 0 szt.\n",
      "Nominał 20.00 zł: 0 szt.\n",
      "Nominał 10.00 zł: 0 szt.\n",
      "Nominał 5.00 zł: 0 szt.\n",
      "Nominał 2.00 zł: 0 szt.\n",
      "Nominał 1.00 zł: 56 szt.\n",
      "Nominał 0.50 zł: 194 szt.\n",
      "Nominał 0.20 zł: 188 szt.\n",
      "Nominał 0.10 zł: 200 szt.\n",
      "Nominał 0.05 zł: 94 szt.\n",
      "Nominał 0.02 zł: 88 szt.\n",
      "Nominał 0.01 zł: 100 szt.\n"
     ]
    }
   ],
   "source": [
    "def wydaj_reszte(reszta, kasa):\n",
    "    nominaly = sorted(kasa.keys())\n",
    "    max_val = reszta + 1\n",
    "    dp = [max_val] * (reszta + 1)\n",
    "    dp[0] = 0\n",
    "    wybor = [{} for _ in range(reszta + 1)]\n",
    "\n",
    "    for nom in nominaly:\n",
    "        max_ilosc = kasa[nom]\n",
    "        ilo = 1\n",
    "        ilosci = []\n",
    "\n",
    "        while max_ilosc > 0:\n",
    "            curr = min(ilo, max_ilosc)\n",
    "            ilosci.append(curr)\n",
    "            max_ilosc -= curr\n",
    "            ilo *= 2\n",
    "\n",
    "        for count in ilosci:\n",
    "            wartosc = nom * count\n",
    "            for i in range(reszta, wartosc - 1, -1):\n",
    "                if dp[i - wartosc] + count < dp[i]:\n",
    "                    dp[i] = dp[i - wartosc] + count\n",
    "                    wybor[i] = wybor[i - wartosc].copy()\n",
    "                    wybor[i][nom] = wybor[i].get(nom, 0) + count\n",
    "\n",
    "    if dp[reszta] == max_val:\n",
    "        return None\n",
    "\n",
    "    return wybor[reszta]\n",
    "\n",
    "def aktualizuj_kase(kasa, nominaly, dodaj=True):\n",
    "    for nom, ilosc in nominaly.items():\n",
    "        kasa.setdefault(nom, 0)\n",
    "        if not dodaj and kasa[nom] < ilosc:\n",
    "            raise ValueError(f\"Brak wystarczającej liczby monet: {nom}\")\n",
    "        kasa[nom] += ilosc if dodaj else -ilosc\n",
    "\n",
    "\n",
    "def zlicz_nominaly(lista_nominalow):\n",
    "    zliczone = {}\n",
    "    for nom in lista_nominalow:\n",
    "        zliczone[nom] = zliczone.get(nom, 0) + 1\n",
    "    return zliczone\n",
    "\n",
    "\n",
    "def wyswietl_stan_kasy(kasa):\n",
    "    print(\"\\nAktualny stan kasy:\")\n",
    "    for nom, ilosc in sorted(kasa.items(), reverse=True):\n",
    "        print(f\"Nominał {nom / 100:.2f} zł: {ilosc} szt.\")\n",
    "\n",
    "\n",
    "def symuluj():\n",
    "    kasa = {\n",
    "        50000: 2, 20000: 3, 10000: 5, 5000: 10,\n",
    "        2000: 20, 1000: 50, 500: 50, 200: 100,\n",
    "        100: 100, 50: 200, 20: 200, 10: 200,\n",
    "        5: 100, 2: 100, 1: 100\n",
    "    }\n",
    "\n",
    "    wyswietl_stan_kasy(kasa)\n",
    "\n",
    "    while True:\n",
    "        print(\"\\nNowy klient\")\n",
    "        try:\n",
    "            kwota_do_zaplaty = int(float(input(\"Podaj kwotę do zapłaty (np. 15.50): \")) * 100)\n",
    "        except ValueError:\n",
    "            print(\"Niepoprawna kwota, spróbuj ponownie.\")\n",
    "            continue\n",
    "\n",
    "        while True:\n",
    "            klient_nominaly_input = input(\"Jakie nominały daje klient? (np. 500zl,200zl): \").replace(' ', '').lower()\n",
    "            klient_nominaly = []\n",
    "            try:\n",
    "                for nom in klient_nominaly_input.split(','):\n",
    "                    if 'zl' in nom:\n",
    "                        wartosc = int(float(nom.replace('zl', '')) * 100)\n",
    "                        klient_nominaly.append(wartosc)\n",
    "                    else:\n",
    "                        raise ValueError\n",
    "                break\n",
    "            except ValueError:\n",
    "                print(\"Wprowadzono niepoprawny nominał, spróbuj ponownie.\")\n",
    "\n",
    "        suma_klienta = sum(klient_nominaly)\n",
    "        reszta = suma_klienta - kwota_do_zaplaty\n",
    "\n",
    "        if reszta < 0:\n",
    "            print(\"Klient dał za mało pieniędzy!\")\n",
    "            continue\n",
    "\n",
    "        klient_dict = zlicz_nominaly(klient_nominaly)\n",
    "        aktualizuj_kase(kasa, klient_dict, dodaj=True)\n",
    "\n",
    "        if reszta == 0:\n",
    "            print(\"Klient zapłacił odliczoną kwotę.\")\n",
    "        else:\n",
    "            wydane = wydaj_reszte(reszta, kasa)\n",
    "            if wydane:\n",
    "                print(\"Wydaj resztę:\")\n",
    "                for nom, ilosc in sorted(wydane.items(), reverse=True):\n",
    "                    print(f\"{nom / 100:.2f} zł: {ilosc} szt.\")\n",
    "                try:\n",
    "                    aktualizuj_kase(kasa, wydane, dodaj=False)\n",
    "                except ValueError:\n",
    "                    print(\"Wystąpił błąd przy odejmowaniu monet.\")\n",
    "            else:\n",
    "                print(\"Nie można wydać reszty!\")\n",
    "                aktualizuj_kase(kasa, klient_dict, dodaj=False)\n",
    "\n",
    "        wyswietl_stan_kasy(kasa)\n",
    "\n",
    "        if input(\"Czy kolejny klient? (tak/nie): \").lower() != 'tak':\n",
    "            break\n",
    "\n",
    "    print(\"\\n=== Raport końcowy ===\")\n",
    "    wyswietl_stan_kasy(kasa)\n",
    "\n",
    "\n",
    "if __name__ == \"__main__\":\n",
    "    symuluj()"
   ]
  }
 ],
 "metadata": {
  "kernelspec": {
   "display_name": "Python 3 (ipykernel)",
   "language": "python",
   "name": "python3"
  },
  "language_info": {
   "codemirror_mode": {
    "name": "ipython",
    "version": 3
   },
   "file_extension": ".py",
   "mimetype": "text/x-python",
   "name": "python",
   "nbconvert_exporter": "python",
   "pygments_lexer": "ipython3",
   "version": "3.9.12"
  }
 },
 "nbformat": 4,
 "nbformat_minor": 5
}
