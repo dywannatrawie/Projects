{
 "cells": [
  {
   "cell_type": "markdown",
   "id": "5b6b984b-de65-4119-a98c-f7f6ef60ba7c",
   "metadata": {
    "slideshow": {
     "slide_type": "slide"
    },
    "tags": []
   },
   "source": [
    "# Python Programming Language\n",
    "\n",
    "## Table of Contents\n",
    "1. [Overview](#overview)\n",
    "2. [Python Code Examples](#python-code-examples)\n",
    "3. [Python Libraries](#python-libraries)\n",
    "4. [Why Use Python?](#why-use-python)\n",
    "5. [Images](#images)\n",
    "6. [Links](#links)\n",
    "7. [Mathematical Formula](#mathematical-formula)\n",
    "8. [Table](#table)\n",
    "9. [Ordered List](#ordered-list)\n",
    "10. [Unordered List](#unordered-list)\n",
    "11. [Bibliography](#bibliography)\n",
    "\n",
    "---"
   ]
  },
  {
   "cell_type": "markdown",
   "id": "0a87127e-b31a-43bb-bf31-f21209e04b2d",
   "metadata": {
    "slideshow": {
     "slide_type": "slide"
    },
    "tags": []
   },
   "source": [
    "## Overview"
   ]
  },
  {
   "cell_type": "markdown",
   "id": "5a75cb38-dc4f-48cf-ba32-9b1d7bc277a4",
   "metadata": {
    "slideshow": {
     "slide_type": "slide"
    },
    "tags": []
   },
   "source": [
    "### Key Features of Python:\n",
    "- **High-level language:** Focuses on code readability and developer productivity.\n",
    "- **Dynamic Typing:** Variable types are determined at runtime.\n",
    "- **Garbage Collection:** Automatic memory management.\n",
    "- **Multiple Paradigms:** Supports:\n",
    "  - Procedural Programming\n",
    "  - Object-Oriented Programming\n",
    "  - Functional Programming\n",
    "- **\"Batteries Included\" Philosophy:** A rich standard library for various applications."
   ]
  },
  {
   "cell_type": "markdown",
   "id": "f83a45d6-c91b-4df9-936c-b56809ef44cd",
   "metadata": {
    "slideshow": {
     "slide_type": "slide"
    },
    "tags": []
   },
   "source": [
    "### Brief History:\n",
    "1. **Late 1980s:** Guido van Rossum started Python as a successor to the ABC language.\n",
    "2. **1991:** Python 0.9.0 was released.\n",
    "3. **2000:** Python 2.0 introduced new features but had legacy constraints.\n",
    "4. **2008:** Python 3.0, a backward-incompatible revision, was released.\n",
    "5. **2020:** Python 2.7.18 marked the end of Python 2."
   ]
  },
  {
   "cell_type": "markdown",
   "id": "95daf07c-eb9e-48e4-98f0-0f47fc14b18a",
   "metadata": {
    "slideshow": {
     "slide_type": "slide"
    },
    "tags": []
   },
   "source": [
    "---\n",
    "\n",
    "## Python Code Examples\n",
    "\n",
    "### Example 1: Hello World\n",
    "```python\n",
    "# A simple \"Hello World\" program in Python\n",
    "print(\"Hello, World!\")\n",
    "```"
   ]
  },
  {
   "cell_type": "markdown",
   "id": "f860e2c9-85df-405a-8780-042de6c6e439",
   "metadata": {
    "slideshow": {
     "slide_type": "slide"
    },
    "tags": []
   },
   "source": [
    "---\n",
    "## Python Libraries\n",
    "Some popular libraries in Python:\n",
    "1. **NumPy:** For numerical computations.\n",
    "2. **Pandas:** For data analysis and manipulation.\n",
    "3. **Matplotlib/Seaborn:** For data visualization.\n",
    "4. **Scikit-learn:** For machine learning.\n",
    "5. **TensorFlow/PyTorch:** For deep learning."
   ]
  },
  {
   "cell_type": "markdown",
   "id": "411f827e-2d6e-4532-a626-a46d2b74bea1",
   "metadata": {
    "slideshow": {
     "slide_type": "slide"
    },
    "tags": []
   },
   "source": [
    "## Why Python?\n",
    "- Jest fajny\n",
    "- Jest prosty\n",
    "- Każdy go lubi"
   ]
  },
  {
   "cell_type": "markdown",
   "id": "08f575d7-9463-4fa7-a8d4-7e5e8a664bd0",
   "metadata": {
    "slideshow": {
     "slide_type": "slide"
    },
    "tags": []
   },
   "source": [
    "## ---\n",
    "\n",
    "## Images\n",
    "\n",
    "![Python Logo](https://upload.wikimedia.org/wikipedia/commons/c/c3/Python-logo-notext.svg)"
   ]
  },
  {
   "cell_type": "markdown",
   "id": "3c40bb19-1822-42ff-a113-5fb40f7cd0ba",
   "metadata": {
    "slideshow": {
     "slide_type": "slide"
    },
    "tags": []
   },
   "source": [
    "---\n",
    "\n",
    "## Links\n",
    "\n",
    "- [Official Python Website](https://www.python.org)\n",
    "- [Python on GitHub](https://github.com/python)"
   ]
  },
  {
   "cell_type": "markdown",
   "id": "d4a6db7a-1119-4c8f-a5df-c31332508162",
   "metadata": {
    "slideshow": {
     "slide_type": "slide"
    },
    "tags": []
   },
   "source": [
    "---\n",
    "\n",
    "## Mathematical Formula\n",
    "The Fourier Transform formula:\n",
    "\n",
    "$$\n",
    "F(\\omega) = \\int_{-\\infty}^{\\infty} f(t)e^{-i\\omega t} \\,dt\n",
    "$$\n"
   ]
  },
  {
   "cell_type": "markdown",
   "id": "acbf46b4-11c6-4867-9f4d-e951849c9297",
   "metadata": {
    "slideshow": {
     "slide_type": "slide"
    },
    "tags": []
   },
   "source": [
    "---\n",
    "\n",
    "## Table\n",
    "\n",
    "| Feature            | Description                                  |\n",
    "|--------------------|----------------------------------------------|\n",
    "| High-level         | Easy to read and write.                     |\n",
    "| Dynamic Typing     | Types are checked during runtime.           |\n",
    "| Garbage Collection | Automated memory management.                |\n",
    "| Multiparadigm      | Supports procedural, OOP, and functional.   |\n"
   ]
  },
  {
   "cell_type": "markdown",
   "id": "80324d20-8477-4f80-a57e-4df99884a6c2",
   "metadata": {
    "slideshow": {
     "slide_type": "slide"
    },
    "tags": []
   },
   "source": [
    "---\n",
    "\n",
    "## Ordered List\n",
    "\n",
    "1. Install Python.\n",
    "2. Write your first script.\n",
    "3. Learn basic syntax.\n",
    "4. Explore libraries and frameworks.\n",
    "5. Build your projects."
   ]
  },
  {
   "cell_type": "markdown",
   "id": "55aff394-a513-4fa5-846d-85d2d03f83f4",
   "metadata": {
    "slideshow": {
     "slide_type": "slide"
    },
    "tags": []
   },
   "source": [
    "---\n",
    "\n",
    "## Unordered List\n",
    "\n",
    "- Easy to learn.\n",
    "- Widely used in various industries.\n",
    "- Has a large community.\n",
    "- Extensive library support.\n",
    "\n"
   ]
  },
  {
   "cell_type": "markdown",
   "id": "2302f54c-c0df-47ad-904b-76eddbc440c5",
   "metadata": {
    "slideshow": {
     "slide_type": "slide"
    },
    "tags": []
   },
   "source": [
    "---\n",
    "\n",
    "## GIF\n",
    "\n",
    "![Python GIF](https://media.giphy.com/media/KAq5w47R9rmTuvWOWa/giphy.gif)"
   ]
  },
  {
   "cell_type": "markdown",
   "id": "992a7870-4f3c-4138-ba4a-9628671f6d85",
   "metadata": {
    "slideshow": {
     "slide_type": "slide"
    },
    "tags": []
   },
   "source": [
    "---\n",
    "\n",
    "## Bibliography\n",
    "\n",
    "1. Python Software Foundation. \"Python Documentation.\" Available at [https://docs.python.org](https://docs.python.org).\n",
    "2. Van Rossum, Guido. \"The Origins of Python.\" Available at [https://python-history.blogspot.com](https://python-history.blogspot.com).\n",
    "3. Wikipedia contributors. \"Python (programming language).\" Wikipedia, The Free Encyclopedia. Available at [https://en.wikipedia.org/wiki/Python_(programming_language)](https://en.wikipedia.org/wiki/Python_(programming_language)).\n"
   ]
  }
 ],
 "metadata": {
  "kernelspec": {
   "display_name": "Python 3 (ipykernel)",
   "language": "python",
   "name": "python3"
  },
  "language_info": {
   "codemirror_mode": {
    "name": "ipython",
    "version": 3
   },
   "file_extension": ".py",
   "mimetype": "text/x-python",
   "name": "python",
   "nbconvert_exporter": "python",
   "pygments_lexer": "ipython3",
   "version": "3.9.12"
  }
 },
 "nbformat": 4,
 "nbformat_minor": 5
}
