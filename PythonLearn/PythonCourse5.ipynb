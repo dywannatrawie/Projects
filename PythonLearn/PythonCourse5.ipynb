{
 "cells": [
  {
   "cell_type": "markdown",
   "id": "eef871ac-b903-4a74-8b1f-e02270d9f079",
   "metadata": {},
   "source": [
    "Zadania 5.\n",
    "\n",
    "1. Stwórz listę wypełnioną 10 elementami (np. losowymi)\n",
    "1.1 znajdź element najmniejszy,\n",
    "1.2 znajdź element największy,\n",
    "1.3 znajdź średnią wartość wszystkich elementów w tablicy.\n",
    "2. ”Dziennik szkolny”\n",
    "2.1 Stwórz listę ”przedmioty” i zapisz w niej nazwy szkolnych przedmiotów.\n",
    "2.2 Stwórz listę ”oceny”. Poproś użytkownika od podanie oceny końcowej z danego przedmiotu. Pobraną wartość dodaj do listy. Wykonaj to dla wszystkich przedmiotów.\n",
    "2.3 Wyświetl przedmioty i oceny w następującej formie: \n",
    "Ocena z języka polskiego to 5\n",
    "Ocena z matematyki to 4\n",
    "Ocena z angielskiego to 3\n",
    "...\n",
    "2.4 Na koniec oblicz średnią ocen (pobierając je z listy!) i ją wyświetl (wykonaj to zadanie w dwóch wersjach, wykorzystując obie pętle for).\n",
    "3. Napisz program, który do pustej listy dodaje cyfry od 9 do 0.\n",
    "4. Do pustej listy dodaj 100 wylosowanych elementów. Tymi elementami powinny być cyfry. Sprawdź ile razy w stworzonej liście pojawiła się cyfra 7 (wykorzystaj obie pętle for).\n",
    "5. Do pustej listy dodaj 100 wylosowanych elementów. Stwórz nową listę, która jest odwrócona, tj. pierwszy element nowej listy to ostatni starej itd.\n",
    "6. Zapytaj użytkownika ile cyfr pobrać a następnie pobierz je z klawiatury. Następnie sprawdź, które są parzyste a które nie. Wyświetl podsumowanie (wykorzystaj obie pętle).\n",
    "7. Stwórz listę z 50 elementami. Każdy element powinien być równy 0. Parzyste elementy (numery indeksów) zamień na cyfrę 2. Podzielne przez 3 zamień na 3 a podzielne przez 5 zamień na 5. Usuń elementy które są zerami. Posortuj listę. Ile ma ona teraz elementów?\n",
    "8. Stwórz pustą listę. Dodaj do niej 20 wylosowanych liczb z zakresu od 0 do 99. Usuń elementy większe niż 50 (wykorzystaj obie pętle for).\n",
    "9. Stwórz pustą listę. Dodaj do niej 20 wylosowanych liczb z zakresu od 0 do 99. W podsumowaniu wyświetl informację o wartości najmniejszego i największego elementu i średniej wszystkich elementów w tablicy (wykorzystaj obie pętle).\n",
    "10. Napisz program wyświetlający następującą tabelę: Wartości w prawej kolumnie powinny zostać wygenerowane losowo.\n",
    "11.  Stwórz dwie listy: jedną zawierającą imiona, drugą zawód. Program powinien pytać jaki zawód wyświetlić, a następnie wyświetlić imiona przedstawicieli tego zawodu.\n",
    "12. Stwórz dwie listy: jedną zawierającą imiona, drugą zarobki. Napisz program wyświetlający listę osób i ich zarobki. Powinien także umożliwiać dodawanie nowych osób do listy.\n",
    "13. Stwórz dwie listy: jedną zawierającą imiona, drugą zarobki. Napisz program wyświetlający listę osób posortowaną wg. ich zarobków.\n",
    "14. Napisz program, który przechowuje i wyświetla 30 kurs dolara (czyli 30 liczb wylosowanych z zakresu od 3 do 4).\n",
    "15. Napisz program, który tworzy listy tylko i wyłącznie z wprowadzonych z klawiatury danych. Jeśli ma być to lista wyników gry, program powinien pytać o imię, a następnie o wynik danej osoby i zapisywać to do odpowiednich list. Program powinien mieć także możliwość edytowania pól (czyli np. poprawienia literówki w imieniu lub wyniku)."
   ]
  },
  {
   "cell_type": "code",
   "execution_count": 3,
   "id": "8743aaae-8207-4899-9057-c258fd435551",
   "metadata": {},
   "outputs": [
    {
     "name": "stdout",
     "output_type": "stream",
     "text": [
      "Wylosowana lista: [50, 24, 30, 29, 51, 76, 45, 36, 4, 8]\n",
      "Wylosowana lista posortowana rosnąco: [4, 8, 24, 29, 30, 36, 45, 50, 51, 76]\n",
      "Największy element listy: 76\n",
      "Wylosowana lista posortowana malejąco: [76, 51, 50, 45, 36, 30, 29, 24, 8, 4]\n",
      "Najmniejszy element listy: 4\n"
     ]
    }
   ],
   "source": [
    "# Zad 1 \n",
    "\n",
    "import random\n",
    "\n",
    "lista1 = []\n",
    "\n",
    "for element in range(10):\n",
    "    newel = random.randint(0,100)\n",
    "    lista1.append(newel)\n",
    "\n",
    "print(f\"Wylosowana lista: {lista1}\")\n",
    "\n",
    "lista1.sort()\n",
    "print(f\"Wylosowana lista posortowana rosnąco: {lista1}\")\n",
    "print(f\"Największy element listy: {lista1[-1]}\")\n",
    "\n",
    "lista1.sort(reverse=True)\n",
    "print(f\"Wylosowana lista posortowana malejąco: {lista1}\")\n",
    "print(f\"Najmniejszy element listy: {lista1[-1]}\")"
   ]
  },
  {
   "cell_type": "code",
   "execution_count": 4,
   "id": "1650c5ba-63c0-4cda-a2ec-8b131391c89c",
   "metadata": {},
   "outputs": [
    {
     "name": "stdout",
     "output_type": "stream",
     "text": [
      "Podaj ocenę z przedmiotu: Matematyka\n"
     ]
    },
    {
     "name": "stdin",
     "output_type": "stream",
     "text": [
      " 4\n"
     ]
    },
    {
     "name": "stdout",
     "output_type": "stream",
     "text": [
      "Podaj ocenę z przedmiotu: Polski\n"
     ]
    },
    {
     "name": "stdin",
     "output_type": "stream",
     "text": [
      " 4\n"
     ]
    },
    {
     "name": "stdout",
     "output_type": "stream",
     "text": [
      "Podaj ocenę z przedmiotu: Fizyka\n"
     ]
    },
    {
     "name": "stdin",
     "output_type": "stream",
     "text": [
      " 5\n"
     ]
    },
    {
     "name": "stdout",
     "output_type": "stream",
     "text": [
      "Podaj ocenę z przedmiotu: Historia\n"
     ]
    },
    {
     "name": "stdin",
     "output_type": "stream",
     "text": [
      " 4\n"
     ]
    },
    {
     "name": "stdout",
     "output_type": "stream",
     "text": [
      "Podaj ocenę z przedmiotu: Angielski\n"
     ]
    },
    {
     "name": "stdin",
     "output_type": "stream",
     "text": [
      " 6\n"
     ]
    },
    {
     "name": "stdout",
     "output_type": "stream",
     "text": [
      "Podaj ocenę z przedmiotu: Biologia\n"
     ]
    },
    {
     "name": "stdin",
     "output_type": "stream",
     "text": [
      " 4\n"
     ]
    },
    {
     "name": "stdout",
     "output_type": "stream",
     "text": [
      "Podaj ocenę z przedmiotu: Łacina\n"
     ]
    },
    {
     "name": "stdin",
     "output_type": "stream",
     "text": [
      " 4\n"
     ]
    },
    {
     "name": "stdout",
     "output_type": "stream",
     "text": [
      "Ocena z przedmiotu Matematyka to 4\n",
      "Ocena z przedmiotu Polski to 4\n",
      "Ocena z przedmiotu Fizyka to 5\n",
      "Ocena z przedmiotu Historia to 4\n",
      "Ocena z przedmiotu Angielski to 6\n",
      "Ocena z przedmiotu Biologia to 4\n",
      "Ocena z przedmiotu Łacina to 4\n",
      "Twoja średnia ocen wynosi: 4.43\n"
     ]
    }
   ],
   "source": [
    "# Zad 2\n",
    "\n",
    "przedmioty = [\"Matematyka\", \"Polski\", \"Fizyka\", \"Historia\", \"Angielski\", \"Biologia\", \"Łacina\"]\n",
    "oceny = []\n",
    "\n",
    "for przedmiot in przedmioty:\n",
    "    print(f\"Podaj ocenę z przedmiotu: {przedmiot}\")\n",
    "    ocena = int(input())\n",
    "    oceny.append(ocena)\n",
    "\n",
    "for i in range(len(przedmioty)):\n",
    "    print(f\"Ocena z przedmiotu {przedmioty[i]} to {oceny[i]}\")\n",
    "\n",
    "\n",
    "suma_ocen = sum(oceny)\n",
    "liczba_ocen = len(oceny)\n",
    "srednia = suma_ocen / liczba_ocen\n",
    "print(f\"Twoja średnia ocen wynosi: {srednia:.2f}\")"
   ]
  },
  {
   "cell_type": "code",
   "execution_count": 7,
   "id": "092171a3-8d74-4fe4-9d3b-70a1163d9474",
   "metadata": {},
   "outputs": [
    {
     "name": "stdout",
     "output_type": "stream",
     "text": [
      "[9, 8, 7, 6, 5, 4, 3, 2, 1, 0]\n"
     ]
    }
   ],
   "source": [
    "# Zad 3 \n",
    "\n",
    "lista2 = []\n",
    "for element in range(9, -1, -1):\n",
    "    lista2.append(element)\n",
    "\n",
    "print(lista2)"
   ]
  },
  {
   "cell_type": "code",
   "execution_count": 8,
   "id": "67d922af-30ab-4a94-b99c-6239da4652d8",
   "metadata": {},
   "outputs": [
    {
     "name": "stdout",
     "output_type": "stream",
     "text": [
      "[6, 4, 1, 10, 1, 1, 5, 8, 10, 10, 3, 1, 6, 1, 7, 3, 10, 0, 7, 0, 7, 9, 8, 7, 10, 10, 0, 4, 3, 10, 1, 4, 5, 8, 8, 6, 10, 10, 9, 4, 8, 4, 0, 2, 7, 6, 9, 0, 1, 4, 6, 6, 2, 5, 2, 6, 5, 0, 1, 5, 8, 3, 8, 7, 9, 7, 4, 3, 2, 5, 6, 2, 0, 10, 4, 10, 6, 3, 8, 8, 5, 8, 0, 0, 4, 5, 1, 4, 7, 6, 0, 4, 9, 6, 3, 6, 6, 10, 7, 4]\n",
      "W liście cyfra 7 występuje 9 razy\n",
      "Lista po odwróceniu: [4, 7, 10, 6, 6, 3, 6, 9, 4, 0, 6, 7, 4, 1, 5, 4, 0, 0, 8, 5, 8, 8, 3, 6, 10, 4, 10, 0, 2, 6, 5, 2, 3, 4, 7, 9, 7, 8, 3, 8, 5, 1, 0, 5, 6, 2, 5, 2, 6, 6, 4, 1, 0, 9, 6, 7, 2, 0, 4, 8, 4, 9, 10, 10, 6, 8, 8, 5, 4, 1, 10, 3, 4, 0, 10, 10, 7, 8, 9, 7, 0, 7, 0, 10, 3, 7, 1, 6, 1, 3, 10, 10, 8, 5, 1, 1, 10, 1, 4, 6]\n"
     ]
    }
   ],
   "source": [
    "# Zad 4, 5\n",
    "\n",
    "lista3 = []\n",
    "count = 0\n",
    "\n",
    "for i in range(100):\n",
    "    newel = random.randint(0,10)\n",
    "    lista3.append(newel)\n",
    "    if newel == 7:\n",
    "        count += 1\n",
    "\n",
    "print(lista3)\n",
    "print(f\"W liście cyfra 7 występuje {count} razy\")\n",
    "\n",
    "lista3.reverse()\n",
    "print(f\"Lista po odwróceniu: {lista3}\")"
   ]
  },
  {
   "cell_type": "code",
   "execution_count": 9,
   "id": "97ca3424-92da-4560-bee1-70a5a81068fb",
   "metadata": {},
   "outputs": [
    {
     "name": "stdin",
     "output_type": "stream",
     "text": [
      "Ile cyfr chcesz wprowadzić?  7\n",
      "Podaj cyfrę 1:  5\n",
      "Podaj cyfrę 2:  3\n",
      "Podaj cyfrę 3:  2\n",
      "Podaj cyfrę 4:  4\n",
      "Podaj cyfrę 5:  2\n",
      "Podaj cyfrę 6:  8\n",
      "Podaj cyfrę 7:  2\n"
     ]
    },
    {
     "name": "stdout",
     "output_type": "stream",
     "text": [
      "\n",
      "Podsumowanie:\n",
      "Cyfry parzyste: [2, 4, 2, 8, 2]\n",
      "Cyfry nieparzyste: [5, 3]\n"
     ]
    }
   ],
   "source": [
    "# Zad 6\n",
    "\n",
    "n = int(input(\"Ile cyfr chcesz wprowadzić? \"))\n",
    "\n",
    "cyfry = []\n",
    "\n",
    "for i in range(n):\n",
    "    liczba = int(input(f\"Podaj cyfrę {i + 1}: \"))\n",
    "    cyfry.append(liczba)\n",
    "\n",
    "\n",
    "parzyste = []\n",
    "nieparzyste = []\n",
    "\n",
    "for liczba in cyfry:\n",
    "    if liczba % 2 == 0:\n",
    "        parzyste.append(liczba)\n",
    "    else:\n",
    "        nieparzyste.append(liczba)\n",
    "\n",
    "print(\"\\nPodsumowanie:\")\n",
    "print(f\"Cyfry parzyste: {parzyste}\")\n",
    "print(f\"Cyfry nieparzyste: {nieparzyste}\")"
   ]
  },
  {
   "cell_type": "code",
   "execution_count": 15,
   "id": "2139f22e-2564-4255-bf9e-bc0eb283eecf",
   "metadata": {},
   "outputs": [
    {
     "name": "stdout",
     "output_type": "stream",
     "text": [
      "Lista po sortowaniu: [2, 2, 2, 2, 2, 2, 2, 2, 2, 2, 2, 2, 2, 3, 3, 3, 3, 3, 3, 3, 3, 3, 3, 3, 3, 3, 5, 5, 5, 5, 5, 5, 5, 5, 5, 5]\n",
      "Liczba elementów w liście: 36\n"
     ]
    }
   ],
   "source": [
    "# Zad 7\n",
    "\n",
    "lista4 = [0] * 50\n",
    "\n",
    "for i in range(len(lista4)):\n",
    "    if i % 2 == 0:\n",
    "        lista4[i] = 2  \n",
    "    if i % 3 == 0:\n",
    "        lista4[i] = 3 \n",
    "    if i % 5 == 0:\n",
    "        lista4[i] = 5  \n",
    "\n",
    "lista4 = [x for x in lista4 if x != 0]\n",
    "\n",
    "lista4.sort()\n",
    "\n",
    "print(f\"Lista po sortowaniu: {lista4}\")\n",
    "print(f\"Liczba elementów w liście: {len(lista4)}\")"
   ]
  },
  {
   "cell_type": "code",
   "execution_count": 21,
   "id": "bec7e6ec-2910-4d9b-92d2-19551bc6c124",
   "metadata": {},
   "outputs": [
    {
     "name": "stdout",
     "output_type": "stream",
     "text": [
      "Lista po usunięciu elementów większych niż 50: [49, 43, 18, 32, 19, 22, 40, 26, 18, 13, 8, 32]\n",
      "Liczba elementów w liście: 12\n"
     ]
    }
   ],
   "source": [
    "# Zad 8\n",
    "\n",
    "lista5 = []\n",
    "\n",
    "for i in range(20):\n",
    "    lista5.append(random.randint(0, 99))\n",
    "\n",
    "for liczba in lista5[:]:\n",
    "    if liczba > 50:\n",
    "        lista5.remove(liczba)\n",
    "\n",
    "print(f\"Lista po usunięciu elementów większych niż 50: {lista5}\")\n",
    "print(f\"Liczba elementów w liście: {len(lista5)}\")"
   ]
  },
  {
   "cell_type": "code",
   "execution_count": 23,
   "id": "e41e3472-ef8a-4901-8c3e-829df96adc0f",
   "metadata": {},
   "outputs": [
    {
     "name": "stdout",
     "output_type": "stream",
     "text": [
      "Lista: [6, 58, 25, 6, 30, 5, 77, 92, 58, 3, 24, 73, 52, 72, 86, 14, 96, 63, 84, 61]\n",
      "Najmniejszy element: 3\n",
      "Największy element: 96\n",
      "Średnia wszystkich elementów: 49.25\n"
     ]
    }
   ],
   "source": [
    "# Zad 9 \n",
    "\n",
    "lista6 = []\n",
    "\n",
    "for _ in range(20):\n",
    "    lista6.append(random.randint(0, 99))\n",
    "\n",
    "# Inicjalizacja zmiennych do obliczeń\n",
    "min_element = lista6[0]\n",
    "max_element = lista6[0]\n",
    "suma = 0\n",
    "\n",
    "# Obliczamy najmniejszy, największy element oraz sumę elementów\n",
    "for liczba in lista6:\n",
    "    if liczba < min_element:\n",
    "        min_element = liczba\n",
    "    if liczba > max_element:\n",
    "        max_element = liczba\n",
    "    suma += liczba\n",
    "\n",
    "# Obliczanie średniej\n",
    "srednia = suma / len(lista6)\n",
    "\n",
    "# Wyświetlamy podsumowanie\n",
    "print(f\"Lista: {lista6}\")\n",
    "print(f\"Najmniejszy element: {min_element}\")\n",
    "print(f\"Największy element: {max_element}\")\n",
    "print(f\"Średnia wszystkich elementów: {srednia:.2f}\")"
   ]
  },
  {
   "cell_type": "code",
   "execution_count": 25,
   "id": "5be7f2cc-7cbb-4d1a-9fff-3cc901324454",
   "metadata": {},
   "outputs": [
    {
     "name": "stdout",
     "output_type": "stream",
     "text": [
      "Nr    Wartość\n",
      "---------------\n",
      "1     90\n",
      "2     78\n",
      "3     91\n",
      "4     30\n",
      "5     61\n",
      "6     6\n",
      "7     49\n",
      "8     89\n",
      "9     81\n",
      "10    87\n"
     ]
    }
   ],
   "source": [
    "# Zad 10\n",
    "\n",
    "print(f\"{'Nr':<5} {'Wartość'}\")\n",
    "print(\"-\" * 15)\n",
    "\n",
    "# Generujemy tabelę z 10 wierszami\n",
    "for i in range(1, 11):\n",
    "    wartosc = random.randint(0, 99)  # Losowa liczba z zakresu 0-99\n",
    "    print(f\"{i:<5} {wartosc}\")"
   ]
  },
  {
   "cell_type": "code",
   "execution_count": 27,
   "id": "e00c3314-1aa7-40ee-a50d-86c83a595ec2",
   "metadata": {},
   "outputs": [
    {
     "name": "stdin",
     "output_type": "stream",
     "text": [
      "Podaj zawód, którego przedstawicieli chcesz wyświetlić:  Lekarz\n"
     ]
    },
    {
     "name": "stdout",
     "output_type": "stream",
     "text": [
      "Przedstawiciele zawodu Lekarz:\n",
      "Anna\n",
      "Piotr\n",
      "Tomasz\n"
     ]
    }
   ],
   "source": [
    "# Zad 11\n",
    "\n",
    "imiona = [\"Anna\", \"Jan\", \"Kasia\", \"Piotr\", \"Marek\", \"Monika\", \"Karolina\", \"Tomasz\"]\n",
    "zawody = [\"Lekarz\", \"Prawnik\", \"Nauczyciel\", \"Lekarz\", \"Inżynier\", \"Nauczyciel\", \"Prawnik\", \"Lekarz\"]\n",
    "\n",
    "zawod = input(\"Podaj zawód, którego przedstawicieli chcesz wyświetlić: \")\n",
    "\n",
    "print(f\"Przedstawiciele zawodu {zawod}:\")\n",
    "for i in range(len(imiona)):\n",
    "    if zawody[i].lower() == zawod.lower(): \n",
    "        print(imiona[i])"
   ]
  },
  {
   "cell_type": "code",
   "execution_count": 29,
   "id": "1e378ab8-ccb4-4a54-b11c-375aa54d9286",
   "metadata": {},
   "outputs": [
    {
     "name": "stdout",
     "output_type": "stream",
     "text": [
      "Lista osób i ich zarobków:\n",
      "Anna - 5000 PLN\n",
      "Jan - 6000 PLN\n",
      "Kasia - 4500 PLN\n",
      "Piotr - 7000 PLN\n",
      "------------------------------\n"
     ]
    },
    {
     "name": "stdin",
     "output_type": "stream",
     "text": [
      "Czy chcesz dodać nową osobę? (tak/nie):  tak\n",
      "Podaj imię nowej osoby:  Tomasz\n",
      "Podaj zarobki Tomasz:  6000\n"
     ]
    },
    {
     "name": "stdout",
     "output_type": "stream",
     "text": [
      "Lista osób i ich zarobków:\n",
      "Anna - 5000 PLN\n",
      "Jan - 6000 PLN\n",
      "Kasia - 4500 PLN\n",
      "Piotr - 7000 PLN\n",
      "Tomasz - 6000 PLN\n",
      "------------------------------\n"
     ]
    },
    {
     "name": "stdin",
     "output_type": "stream",
     "text": [
      "Czy chcesz dodać nową osobę? (tak/nie):  nie\n"
     ]
    },
    {
     "name": "stdout",
     "output_type": "stream",
     "text": [
      "Zakończono dodawanie osób.\n"
     ]
    }
   ],
   "source": [
    "# Zad 12\n",
    "\n",
    "imiona = [\"Anna\", \"Jan\", \"Kasia\", \"Piotr\"]\n",
    "zarobki = [5000, 6000, 4500, 7000]\n",
    "\n",
    "def wyswietl_liste(imiona, zarobki):\n",
    "    print(\"Lista osób i ich zarobków:\")\n",
    "    for i in range(len(imiona)):\n",
    "        print(f\"{imiona[i]} - {zarobki[i]} PLN\")\n",
    "    print(\"-\" * 30)\n",
    "\n",
    "wyswietl_liste(imiona, zarobki)\n",
    "\n",
    "while True:\n",
    "    dodaj = input(\"Czy chcesz dodać nową osobę? (tak/nie): \").lower()\n",
    "    if dodaj == \"tak\":\n",
    "        imie = input(\"Podaj imię nowej osoby: \")\n",
    "        zarobki_input = input(f\"Podaj zarobki {imie}: \")\n",
    "        \n",
    "        imiona.append(imie)\n",
    "        zarobki.append(int(zarobki_input)) \n",
    "        wyswietl_liste(imiona, zarobki)\n",
    "    elif dodaj == \"nie\":\n",
    "        print(\"Zakończono dodawanie osób.\")\n",
    "        break\n",
    "    else:\n",
    "        print(\"Proszę wpisać 'tak' lub 'nie'.\")"
   ]
  },
  {
   "cell_type": "code",
   "execution_count": 31,
   "id": "0ccb850f-763e-418d-8133-aa5f0387fd45",
   "metadata": {},
   "outputs": [
    {
     "name": "stdout",
     "output_type": "stream",
     "text": [
      "Lista osób posortowana wg zarobków:\n",
      "Kasia - 4500 PLN\n",
      "Anna - 5000 PLN\n",
      "Monika - 5500 PLN\n",
      "Jan - 6000 PLN\n",
      "Piotr - 7000 PLN\n"
     ]
    }
   ],
   "source": [
    "# Zad 13\n",
    "\n",
    "imiona = [\"Anna\", \"Jan\", \"Kasia\", \"Piotr\", \"Monika\"]\n",
    "zarobki = [5000, 6000, 4500, 7000, 5500]\n",
    "\n",
    "posortowani = sorted(zip(zarobki, imiona))\n",
    "\n",
    "print(\"Lista osób posortowana wg zarobków:\")\n",
    "for zarobek, imie in posortowani:\n",
    "    print(f\"{imie} - {zarobek} PLN\")"
   ]
  },
  {
   "cell_type": "code",
   "execution_count": 33,
   "id": "97952ca0-45fd-4727-a3ec-3f05bc1775ac",
   "metadata": {},
   "outputs": [
    {
     "name": "stdout",
     "output_type": "stream",
     "text": [
      "30 kursów dolara:\n",
      "Kurs 1: 3.42 PLN/USD\n",
      "Kurs 2: 3.88 PLN/USD\n",
      "Kurs 3: 3.23 PLN/USD\n",
      "Kurs 4: 3.99 PLN/USD\n",
      "Kurs 5: 3.09 PLN/USD\n",
      "Kurs 6: 3.66 PLN/USD\n",
      "Kurs 7: 3.58 PLN/USD\n",
      "Kurs 8: 3.12 PLN/USD\n",
      "Kurs 9: 3.15 PLN/USD\n",
      "Kurs 10: 3.09 PLN/USD\n",
      "Kurs 11: 3.3 PLN/USD\n",
      "Kurs 12: 3.37 PLN/USD\n",
      "Kurs 13: 3.95 PLN/USD\n",
      "Kurs 14: 3.2 PLN/USD\n",
      "Kurs 15: 3.64 PLN/USD\n",
      "Kurs 16: 3.91 PLN/USD\n",
      "Kurs 17: 3.55 PLN/USD\n",
      "Kurs 18: 3.67 PLN/USD\n",
      "Kurs 19: 3.24 PLN/USD\n",
      "Kurs 20: 3.22 PLN/USD\n",
      "Kurs 21: 3.98 PLN/USD\n",
      "Kurs 22: 3.6 PLN/USD\n",
      "Kurs 23: 3.05 PLN/USD\n",
      "Kurs 24: 3.52 PLN/USD\n",
      "Kurs 25: 3.72 PLN/USD\n",
      "Kurs 26: 3.39 PLN/USD\n",
      "Kurs 27: 3.64 PLN/USD\n",
      "Kurs 28: 3.6 PLN/USD\n",
      "Kurs 29: 3.42 PLN/USD\n",
      "Kurs 30: 3.11 PLN/USD\n"
     ]
    }
   ],
   "source": [
    "# Zad 14\n",
    "\n",
    "kursy_dolara = []\n",
    "\n",
    "for _ in range(30):\n",
    "    kurs = round(random.uniform(3, 4), 2)  \n",
    "    kursy_dolara.append(kurs)\n",
    "\n",
    "print(\"30 kursów dolara:\")\n",
    "for i, kurs in enumerate(kursy_dolara, start=1):\n",
    "    print(f\"Kurs {i}: {kurs} PLN/USD\")"
   ]
  },
  {
   "cell_type": "code",
   "execution_count": 35,
   "id": "038d7b9a-926c-4f21-ae7d-513a77c429f5",
   "metadata": {},
   "outputs": [
    {
     "name": "stdout",
     "output_type": "stream",
     "text": [
      "\n",
      "Wybierz opcję:\n",
      "1. Dodaj gracza i wynik\n",
      "2. Edytuj dane\n",
      "3. Wyświetl dane\n",
      "4. Zakończ program\n"
     ]
    },
    {
     "name": "stdin",
     "output_type": "stream",
     "text": [
      "Wybór:  1\n",
      "Podaj imię gracza:  Tomasz\n",
      "Podaj wynik gracza:  35\n"
     ]
    },
    {
     "name": "stdout",
     "output_type": "stream",
     "text": [
      "Tomasz został dodany z wynikiem 35.\n",
      "\n",
      "Wybierz opcję:\n",
      "1. Dodaj gracza i wynik\n",
      "2. Edytuj dane\n",
      "3. Wyświetl dane\n",
      "4. Zakończ program\n"
     ]
    },
    {
     "name": "stdin",
     "output_type": "stream",
     "text": [
      "Wybór:  2\n"
     ]
    },
    {
     "name": "stdout",
     "output_type": "stream",
     "text": [
      "Aktualne dane:\n",
      "Tomasz - 35\n",
      "------------------------------\n"
     ]
    },
    {
     "name": "stdin",
     "output_type": "stream",
     "text": [
      "Podaj numer gracza, którego dane chcesz edytować (0 dla pierwszego, 1 dla drugiego, itd.):  0\n",
      "Podaj poprawione imię:  Tomek\n",
      "Podaj poprawiony wynik:  36\n"
     ]
    },
    {
     "name": "stdout",
     "output_type": "stream",
     "text": [
      "Dane zostały zaktualizowane.\n",
      "\n",
      "Wybierz opcję:\n",
      "1. Dodaj gracza i wynik\n",
      "2. Edytuj dane\n",
      "3. Wyświetl dane\n",
      "4. Zakończ program\n"
     ]
    },
    {
     "name": "stdin",
     "output_type": "stream",
     "text": [
      "Wybór:  3\n"
     ]
    },
    {
     "name": "stdout",
     "output_type": "stream",
     "text": [
      "Aktualne dane:\n",
      "Tomek - 36\n",
      "------------------------------\n",
      "\n",
      "Wybierz opcję:\n",
      "1. Dodaj gracza i wynik\n",
      "2. Edytuj dane\n",
      "3. Wyświetl dane\n",
      "4. Zakończ program\n"
     ]
    },
    {
     "name": "stdin",
     "output_type": "stream",
     "text": [
      "Wybór:  4\n"
     ]
    },
    {
     "name": "stdout",
     "output_type": "stream",
     "text": [
      "Koniec programu.\n"
     ]
    }
   ],
   "source": [
    "# Zad 15\n",
    "\n",
    "imiona = []\n",
    "wyniki = []\n",
    "\n",
    "def wyswietl_dane(imiona, wyniki):\n",
    "    print(\"Aktualne dane:\")\n",
    "    if imiona:\n",
    "        for i in range(len(imiona)):\n",
    "            print(f\"{imiona[i]} - {wyniki[i]}\")\n",
    "    else:\n",
    "        print(\"Brak danych.\")\n",
    "    print(\"-\" * 30)\n",
    "\n",
    "def edytuj_dane(imiona, wyniki):\n",
    "    wyswietl_dane(imiona, wyniki)\n",
    "    index = int(input(\"Podaj numer gracza, którego dane chcesz edytować (0 dla pierwszego, 1 dla drugiego, itd.): \"))\n",
    "    \n",
    "    if 0 <= index < len(imiona):\n",
    "        imie = input(\"Podaj poprawione imię: \")\n",
    "        wynik = input(\"Podaj poprawiony wynik: \")\n",
    "        imiona[index] = imie\n",
    "        wyniki[index] = wynik\n",
    "        print(\"Dane zostały zaktualizowane.\")\n",
    "        \n",
    "    else:\n",
    "        print(\"Nie ma takiego gracza.\")\n",
    "\n",
    "while True:\n",
    "    print(\"\\nWybierz opcję:\")\n",
    "    print(\"1. Dodaj gracza i wynik\")\n",
    "    print(\"2. Edytuj dane\")\n",
    "    print(\"3. Wyświetl dane\")\n",
    "    print(\"4. Zakończ program\")\n",
    "    \n",
    "    opcja = input(\"Wybór: \").strip()\n",
    "\n",
    "    if opcja == \"1\":\n",
    "        imie = input(\"Podaj imię gracza: \")\n",
    "        wynik = input(\"Podaj wynik gracza: \")\n",
    "        imiona.append(imie)\n",
    "        wyniki.append(wynik)\n",
    "        print(f\"{imie} został dodany z wynikiem {wynik}.\")\n",
    "        \n",
    "    elif opcja == \"2\":\n",
    "        edytuj_dane(imiona, wyniki)\n",
    "        \n",
    "    elif opcja == \"3\":\n",
    "        wyswietl_dane(imiona, wyniki)\n",
    "        \n",
    "    elif opcja == \"4\":\n",
    "        print(\"Koniec programu.\")\n",
    "        break\n",
    "        \n",
    "    else:\n",
    "        print(\"Nieprawidłowy wybór. Spróbuj ponownie.\")"
   ]
  },
  {
   "cell_type": "code",
   "execution_count": null,
   "id": "239c06bc-862a-4c91-a08e-d59e5f14b31f",
   "metadata": {},
   "outputs": [],
   "source": []
  }
 ],
 "metadata": {
  "kernelspec": {
   "display_name": "Python 3 (ipykernel)",
   "language": "python",
   "name": "python3"
  },
  "language_info": {
   "codemirror_mode": {
    "name": "ipython",
    "version": 3
   },
   "file_extension": ".py",
   "mimetype": "text/x-python",
   "name": "python",
   "nbconvert_exporter": "python",
   "pygments_lexer": "ipython3",
   "version": "3.12.7"
  }
 },
 "nbformat": 4,
 "nbformat_minor": 5
}
