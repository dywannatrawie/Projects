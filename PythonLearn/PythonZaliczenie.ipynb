{
 "cells": [
  {
   "cell_type": "markdown",
   "id": "52220c12-7ade-4827-bda4-5245cb008b15",
   "metadata": {},
   "source": [
    "Zad 1. \n",
    "Dwa prostokąty. Są zdefiniowane przez współrzędne dwóch przeciwległych wierzchołków; np. pierwszy prostokąt (1,3) i (5,7) (na wejściu mamy 4 współrzędne podane), nie wiadomo które to z przeciwległych wierzchołków (czy to dolny lewy i górny prawy, czy górny lewy i dolny prawy) i my mamy znaleźć prostokąt który jest częścią wspólną tych prostokątów (najlepiej ifami) i zapisać ten znaleziony jako dwa przeciwległe wierzchołki i jego pole i obwód znaleźć. (wsp. tych prostokątów na wejściu są całkowite)"
   ]
  },
  {
   "cell_type": "code",
   "execution_count": 1,
   "id": "dd5489e9-2dc3-4b7c-83f1-9ec52821187c",
   "metadata": {},
   "outputs": [
    {
     "name": "stdout",
     "output_type": "stream",
     "text": [
      "Przecięcie prostokątów: (4, 4) i (5, 5)\n",
      "Pole: 1\n",
      "Obwód: 4\n"
     ]
    },
    {
     "data": {
      "image/png": "[encoded data removed]",
      "text/plain": [
       "<Figure size 432x288 with 1 Axes>"
      ]
     },
     "metadata": {
      "needs_background": "light"
     },
     "output_type": "display_data"
    }
   ],
   "source": [
    "import matplotlib.pyplot as plt\n",
    "import matplotlib.patches as patches\n",
    "\n",
    "\n",
    "def find_rectangle_intersection(rect1, rect2):\n",
    "    x1_min, x1_max = sorted(rect1[::2])\n",
    "    y1_min, y1_max = sorted(rect1[1::2])\n",
    "    x2_min, x2_max = sorted(rect2[::2])\n",
    "    y2_min, y2_max = sorted(rect2[1::2])\n",
    "\n",
    "    left, right = max(x1_min, x2_min), min(x1_max, x2_max)\n",
    "    bottom, top = max(y1_min, y2_min), min(y1_max, y2_max)\n",
    "\n",
    "    if left < right and bottom < top:\n",
    "        area = (right - left) * (top - bottom)\n",
    "        perimeter = 2 * ((right - left) + (top - bottom))\n",
    "        return [left, bottom, right, top, area, perimeter]\n",
    "    \n",
    "    # Jeśli prostokąty się nie przecinają, zwracamy None\n",
    "    return None\n",
    "\n",
    "\n",
    "\n",
    "def draw_rectangles(rect1, rect2, intersection):\n",
    "    fig, ax = plt.subplots()\n",
    "\n",
    "    def draw_rect(rect, color):\n",
    "        ax.add_patch(patches.Rectangle((min(rect[0], rect[2]), min(rect[1], rect[3])), \n",
    "                                       abs(rect[2] - rect[0]), abs(rect[3] - rect[1]), \n",
    "                                       linewidth=1, edgecolor=color, facecolor='none'))\n",
    "\n",
    "    draw_rect(rect1, 'r')\n",
    "    draw_rect(rect2, 'b')\n",
    "\n",
    "    if intersection:\n",
    "        draw_rect(intersection[:4], 'g')\n",
    "\n",
    "    plt.xlim(0, 10)\n",
    "    plt.ylim(0, 10)\n",
    "    plt.gca().set_aspect('equal', adjustable='box')\n",
    "    plt.show()\n",
    "\n",
    "    \n",
    "    \n",
    "# Przykładowe użycie\n",
    "rect1 = [1, 3, 5, 5]\n",
    "rect2 = [4, 4, 9, 7]\n",
    "result = find_rectangle_intersection(rect1, rect2)\n",
    "\n",
    "\n",
    "if result:\n",
    "    left, bottom, right, top, area, perimeter = result\n",
    "    print(f\"Przecięcie prostokątów: ({left}, {bottom}) i ({right}, {top})\")\n",
    "    print(f\"Pole: {area}\")\n",
    "    print(f\"Obwód: {perimeter}\")\n",
    "else:\n",
    "    print(\"Prostokąty się nie przecinają.\")\n",
    "\n",
    " \n",
    "draw_rectangles(rect1, rect2, result)"
   ]
  },
  {
   "cell_type": "markdown",
   "id": "47cef159-8373-4b87-9c3d-a8e008f2788a",
   "metadata": {},
   "source": [
    "Zad 2.\n",
    "Dany jest wielomian a = [ 1, 2, 3, 5 ,7 ] i to interpretujemy jako wielomian a0 +a1x+ a2x^2 + ... wszystkie wsp sa całkowite;\n",
    "znalezienie wszystkich pierwiastków wymiernych tego wielomianu, one sa postaci p/q, gdzie p jest dzielnikiem a0, a q to dzielnik elementu przy najwyższej potędze. (wersja minimum to wystarczy znaleźć dzielniki całkowite q); pełna wersja to wszystkie pierwiastki wymierne;"
   ]
  },
  {
   "cell_type": "code",
   "execution_count": 2,
   "id": "d25ffa59-a232-4f75-be64-d3866b31a671",
   "metadata": {},
   "outputs": [
    {
     "name": "stdout",
     "output_type": "stream",
     "text": [
      "Dzielniki współczynnika wolnego (a0): {1, -1}\n",
      "Dzielniki współczynnika przy najwyższej potędze (an): {1, -7, -1, 7}\n",
      "Możliwe pierwiastki wymierne: {-0.14285714285714285, 1.0, 0.14285714285714285, -1.0}\n",
      "Pierwiastki wymierne wielomianu: []\n"
     ]
    }
   ],
   "source": [
    "from math import gcd\n",
    "from itertools import product\n",
    "from math import gcd\n",
    "from itertools import product\n",
    "\n",
    "def find_divisors(n):\n",
    "    # Znajduje wszystkie dzielniki liczby n\n",
    "    if n == 0:\n",
    "        return []\n",
    "    n = abs(n)\n",
    "    divisors = set()\n",
    "    for i in range(1, n + 1):\n",
    "        if n % i == 0:\n",
    "            divisors.add(i)\n",
    "            divisors.add(-i)\n",
    "    return divisors\n",
    "\n",
    "def evaluate_polynomial(coefficients, x):\n",
    "    # Oblicza wartość wielomianu o podanych współczynnikach w punkcie x\n",
    "    return sum(coef * (x ** i) for i, coef in enumerate(coefficients))\n",
    "\n",
    "def find_rational_roots(coefficients):\n",
    "    if not coefficients:\n",
    "        return []\n",
    "\n",
    "    # Dzielniki współczynnika wolnego (a0)\n",
    "    p_divisors = find_divisors(coefficients[0])\n",
    "    print(f\"Dzielniki współczynnika wolnego (a0): {p_divisors}\")\n",
    "\n",
    "    # Dzielniki współczynnika przy najwyższej potędze (an)\n",
    "    q_divisors = find_divisors(coefficients[-1])\n",
    "    print(f\"Dzielniki współczynnika przy najwyższej potędze (an): {q_divisors}\")\n",
    "\n",
    "    # Znajdujemy wszystkie możliwe pierwiastki wymierne p/q\n",
    "    possible_roots = {p / q for p, q in product(p_divisors, q_divisors) if q != 0}\n",
    "    print(f\"Możliwe pierwiastki wymierne: {possible_roots}\")\n",
    "\n",
    "    # Sprawdzamy, które z tych wartości są rzeczywiście pierwiastkami wielomianu\n",
    "    rational_roots = [root for root in possible_roots if evaluate_polynomial(coefficients, root) == 0]\n",
    "\n",
    "    return rational_roots\n",
    "\n",
    "# Przykładowe użycie\n",
    "a = [1, 2, 3, 5, 7]\n",
    "roots = find_rational_roots(a)\n",
    "print(f\"Pierwiastki wymierne wielomianu: {roots}\")"
   ]
  },
  {
   "cell_type": "code",
   "execution_count": null,
   "id": "d1b0e11f-16bd-4342-a447-e278a122f8b5",
   "metadata": {},
   "outputs": [],
   "source": []
  }
 ],
 "metadata": {
  "kernelspec": {
   "display_name": "Python 3 (ipykernel)",
   "language": "python",
   "name": "python3"
  },
  "language_info": {
   "codemirror_mode": {
    "name": "ipython",
    "version": 3
   },
   "file_extension": ".py",
   "mimetype": "text/x-python",
   "name": "python",
   "nbconvert_exporter": "python",
   "pygments_lexer": "ipython3",
   "version": "3.9.12"
  }
 },
 "nbformat": 4,
 "nbformat_minor": 5
}
