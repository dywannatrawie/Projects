{
 "cells": [
  {
   "cell_type": "markdown",
   "id": "ffbe2e71-1b82-46d9-a081-3226f84af0f6",
   "metadata": {},
   "source": [
    "Zadania 1.\n",
    "1. Przygotuj program, który pyta Cię o imię. Następnie wita się z Tobą z\n",
    "użyciem wykorzystanego imienia.\n",
    "2. Przygotuj program, który pyta Cię o imię. Wita się z Tobą z użyciem wykorzystanego imienia. Następnie pyta o wiek i także wykorzystuje tę\n",
    "informację.\n",
    "3. Przygotuj program, który pyta Cię o imię. Wita się z Tobą z użyciem wykorzystanego imienia. Następnie pyta o wiek i wyświetla informację ile lat\n",
    "będziesz mieć za rok\n",
    "4. Przygotuj prosty kalkulator, który:\n",
    "4.1 pobiera dwie liczby,\n",
    "4.2 dodaje, odejmuje, mnoży i dzieli pobrane liczby,\n",
    "5. Przygotuj program, który oblicza długość twojego życia w sekundach, minutach, godzinach i dniach.\n",
    "6. Rozbuduj go tak, aby wspomniane długości były obliczane jak najdokładniej (program powinien prosić o podanie dokładnej daty).\n",
    "7. Przygotuj program, który pobiera jakąś liczbę z klawiatury, ale wyświetla zawsze zero.\n",
    "8. Przygotuj program, który pobiera jakąś liczbę z klawiatury, ale wyświetla\n",
    "zawsze liczbę o 10 większą od podanej.\n",
    "9. Przygotuj program, który pobiera jakąś liczbę z klawiatury, ale wyświetla zawsze tę liczbę podzieloną przez 10.\n",
    "10. Przygotuj program rysujący jakiś kształt (np. kot, dom, słońce) ze znaków.\n",
    "11. Przygotuj program rysujący jakiś kształt (np. kot, dom, słońce) ze znaku podanego z klawiatury"
   ]
  },
  {
   "cell_type": "code",
   "execution_count": 2,
   "id": "745f91b5-cfb7-4889-97fb-3bf11d674644",
   "metadata": {},
   "outputs": [
    {
     "name": "stdout",
     "output_type": "stream",
     "text": [
      "Jak masz na imię nieznajomy?\n"
     ]
    },
    {
     "name": "stdin",
     "output_type": "stream",
     "text": [
      " Tomek\n"
     ]
    },
    {
     "name": "stdout",
     "output_type": "stream",
     "text": [
      "Witaj Tomek !\n",
      "Ile masz lat Tomek?\n"
     ]
    },
    {
     "name": "stdin",
     "output_type": "stream",
     "text": [
      " 21\n"
     ]
    },
    {
     "name": "stdout",
     "output_type": "stream",
     "text": [
      "Tomek masz 21 lat, prawda?\n",
      "Tomek za rok będziesz miał 22 lat!\n"
     ]
    }
   ],
   "source": [
    "# Zad 1, 2, 3\n",
    "\n",
    "print(\"Jak masz na imię nieznajomy?\")\n",
    "name = input()\n",
    "print(f\"Witaj {name} !\")\n",
    "print(f\"Ile masz lat {name}?\")\n",
    "age = int(input())\n",
    "print(f\"{name} masz {age} lat, prawda?\")\n",
    "age1 = age + 1\n",
    "print(f\"{name} za rok będziesz miał {age1} lat!\")"
   ]
  },
  {
   "cell_type": "code",
   "execution_count": 3,
   "id": "25b8868b-941d-4178-942d-82acbe58ca3a",
   "metadata": {},
   "outputs": [
    {
     "name": "stdout",
     "output_type": "stream",
     "text": [
      "Wprowadź pierwszą liczbę: \n"
     ]
    },
    {
     "name": "stdin",
     "output_type": "stream",
     "text": [
      " 4\n"
     ]
    },
    {
     "name": "stdout",
     "output_type": "stream",
     "text": [
      "Wprowadź drugą liczbę: \n"
     ]
    },
    {
     "name": "stdin",
     "output_type": "stream",
     "text": [
      " 2\n"
     ]
    },
    {
     "name": "stdout",
     "output_type": "stream",
     "text": [
      "Wynik dodawania liczb: 6\n",
      "Wynik odejmowania liczb: 2\n",
      "Wynik mnożenia liczb: 8\n",
      "Wynik dzielenia liczb: 2.0\n"
     ]
    }
   ],
   "source": [
    "# Zad 4\n",
    "\n",
    "print(\"Wprowadź pierwszą liczbę: \")\n",
    "number1 = int(input())\n",
    "print(\"Wprowadź drugą liczbę: \")\n",
    "number2 = int(input())\n",
    "\n",
    "print(f\"Wynik dodawania liczb: {number1+number2}\")\n",
    "print(f\"Wynik odejmowania liczb: {number1-number2}\")\n",
    "print(f\"Wynik mnożenia liczb: {number1*number2}\")\n",
    "print(f\"Wynik dzielenia liczb: {number1/number2}\")"
   ]
  },
  {
   "cell_type": "code",
   "execution_count": 6,
   "id": "5db68627-8c30-424b-b1d9-fe1f25301a83",
   "metadata": {},
   "outputs": [
    {
     "name": "stdout",
     "output_type": "stream",
     "text": [
      "Cześć Tomek, teraz obliczymy długość twojego życia w sekundach, minutach, godzinach i dniach!\n",
      "Żyjesz już 7665 dni!\n",
      "Żyjesz już 183960 godzin!\n",
      "Żyjesz już 11037600 minut!\n",
      "Żyjesz już 662256000 sekund!\n"
     ]
    }
   ],
   "source": [
    "# Zad 5 \n",
    "\n",
    "print(f\"Cześć {name}, teraz obliczymy długość twojego życia w sekundach, minutach, godzinach i dniach!\")\n",
    "age_in_days = age*365\n",
    "age_in_hours = age_in_days*24\n",
    "age_in_min = age_in_hours*60\n",
    "age_in_sec = age_in_min*60\n",
    "print(f\"Żyjesz już {age_in_days} dni!\")\n",
    "print(f\"Żyjesz już {age_in_hours} godzin!\")\n",
    "print(f\"Żyjesz już {age_in_min} minut!\")\n",
    "print(f\"Żyjesz już {age_in_sec} sekund!\")\n"
   ]
  },
  {
   "cell_type": "code",
   "execution_count": 8,
   "id": "a87f0153-5dce-413c-9dbd-a09784d09fbf",
   "metadata": {},
   "outputs": [
    {
     "name": "stdout",
     "output_type": "stream",
     "text": [
      "Tomek, teraz obliczymy dokładniejszy czas, a nie przybliżony ;)\n",
      "Podaj pełną datę urodzenia: \n",
      "Dzień urodzenia: \n"
     ]
    },
    {
     "name": "stdin",
     "output_type": "stream",
     "text": [
      " 1\n"
     ]
    },
    {
     "name": "stdout",
     "output_type": "stream",
     "text": [
      "Miesiąc urodzenia: \n"
     ]
    },
    {
     "name": "stdin",
     "output_type": "stream",
     "text": [
      " 1\n"
     ]
    },
    {
     "name": "stdout",
     "output_type": "stream",
     "text": [
      "Rok urodzenia: \n"
     ]
    },
    {
     "name": "stdin",
     "output_type": "stream",
     "text": [
      " 2001\n"
     ]
    },
    {
     "name": "stdout",
     "output_type": "stream",
     "text": [
      "Żyjesz już 8724.166666666666 dni!\n",
      "Żyjesz już 209380.0 godzin!\n",
      "Żyjesz już 12562800.0 minut!\n",
      "Żyjesz już 753768000.0 sekund!\n"
     ]
    }
   ],
   "source": [
    "# Zad 6\n",
    "\n",
    "print(f\"{name}, teraz obliczymy dokładniejszy czas, a nie przybliżony ;)\")\n",
    "print(f\"Podaj pełną datę urodzenia: \")\n",
    "print(\"Dzień urodzenia: \")\n",
    "day = int(input())\n",
    "print(\"Miesiąc urodzenia: \")\n",
    "month = int(input())\n",
    "print(\"Rok urodzenia: \")\n",
    "year = int(input())\n",
    "\n",
    "year_diff = 2024 - year\n",
    "month_diff = 11 - month\n",
    "day_diff = 26 - day\n",
    "\n",
    "age2 = year_diff + month_diff/12 + day_diff/365\n",
    "\n",
    "age_in_days2 = age2*365\n",
    "age_in_hours2 = age_in_days2*24\n",
    "age_in_min2 = age_in_hours2*60\n",
    "age_in_sec2 = age_in_min2*60\n",
    "\n",
    "print(f\"Żyjesz już {age_in_days2} dni!\")\n",
    "print(f\"Żyjesz już {age_in_hours2} godzin!\")\n",
    "print(f\"Żyjesz już {age_in_min2} minut!\")\n",
    "print(f\"Żyjesz już {age_in_sec2} sekund!\")\n"
   ]
  },
  {
   "cell_type": "code",
   "execution_count": 10,
   "id": "fe8ef101-bb95-4c6d-9593-3f6b955b3f44",
   "metadata": {},
   "outputs": [
    {
     "name": "stdin",
     "output_type": "stream",
     "text": [
      " 3\n"
     ]
    },
    {
     "name": "stdout",
     "output_type": "stream",
     "text": [
      "Zawsze zero: 0\n"
     ]
    }
   ],
   "source": [
    "# Zad 7\n",
    "\n",
    "jakas_liczba = int(input())\n",
    "jakas_liczba = 0\n",
    "print(f\"Zawsze zero: {jakas_liczba}\")"
   ]
  },
  {
   "cell_type": "code",
   "execution_count": 12,
   "id": "1c42992e-ffcf-493d-bdd1-ffc0273ec563",
   "metadata": {},
   "outputs": [
    {
     "name": "stdin",
     "output_type": "stream",
     "text": [
      " 7\n"
     ]
    },
    {
     "name": "stdout",
     "output_type": "stream",
     "text": [
      "Liczba o 10 większa od podanej: 17\n"
     ]
    }
   ],
   "source": [
    "# Zad 8\n",
    "\n",
    "jakas_liczba = int(input())\n",
    "plus_10 = jakas_liczba+10\n",
    "print(f\"Liczba o 10 większa od podanej: {plus_10}\")"
   ]
  },
  {
   "cell_type": "code",
   "execution_count": 14,
   "id": "6cbcd4ab-8a7b-43cb-9ea0-683fae87ad57",
   "metadata": {},
   "outputs": [
    {
     "name": "stdin",
     "output_type": "stream",
     "text": [
      " 30\n"
     ]
    },
    {
     "name": "stdout",
     "output_type": "stream",
     "text": [
      "Liczba podzielona na 10: 3.0\n"
     ]
    }
   ],
   "source": [
    "# Zad 9\n",
    "\n",
    "jakas_liczba = int(input())\n",
    "divided_10 = jakas_liczba/10\n",
    "print(f\"Liczba podzielona na 10: {divided_10}\")"
   ]
  },
  {
   "cell_type": "code",
   "execution_count": null,
   "id": "7170d5fb-4bad-4937-9514-457aec5b1349",
   "metadata": {},
   "outputs": [],
   "source": [
    "# Zad 10\n",
    "\n"
   ]
  },
  {
   "cell_type": "code",
   "execution_count": 18,
   "id": "d12b7751-8d12-4ff1-bb16-94056ca11edb",
   "metadata": {},
   "outputs": [
    {
     "name": "stdin",
     "output_type": "stream",
     "text": [
      " T\n"
     ]
    },
    {
     "name": "stdout",
     "output_type": "stream",
     "text": [
      "   T\n",
      " T   T\n",
      "TTTTTTT\n",
      "T     T\n",
      "T     T\n",
      "TTTTTTT\n"
     ]
    }
   ],
   "source": [
    "# Zad 11\n",
    "\n",
    "znak = input()\n",
    "print(f\"   {znak}\")\n",
    "print(f\" {znak}   {znak}\")\n",
    "print(f\"{znak}{znak}{znak}{znak}{znak}{znak}{znak}\")\n",
    "print(f\"{znak}     {znak}\")\n",
    "print(f\"{znak}     {znak}\")\n",
    "print(f\"{znak}{znak}{znak}{znak}{znak}{znak}{znak}\")\n"
   ]
  },
  {
   "cell_type": "code",
   "execution_count": null,
   "id": "5ed04a61-56b7-463c-9191-f2ae0a32ee0a",
   "metadata": {},
   "outputs": [],
   "source": []
  }
 ],
 "metadata": {
  "kernelspec": {
   "display_name": "Python 3 (ipykernel)",
   "language": "python",
   "name": "python3"
  },
  "language_info": {
   "codemirror_mode": {
    "name": "ipython",
    "version": 3
   },
   "file_extension": ".py",
   "mimetype": "text/x-python",
   "name": "python",
   "nbconvert_exporter": "python",
   "pygments_lexer": "ipython3",
   "version": "3.12.4"
  }
 },
 "nbformat": 4,
 "nbformat_minor": 5
}
