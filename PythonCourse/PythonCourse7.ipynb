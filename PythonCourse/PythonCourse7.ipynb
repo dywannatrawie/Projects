{
 "cells": [
  {
   "cell_type": "markdown",
   "id": "6f820457-9b25-42f2-8e7d-2a25c8ba96c0",
   "metadata": {},
   "source": [
    "Zadania 7.\n",
    "\n",
    "Proste przetwarzanie tekstu\n",
    "1. Pobierz plik: https://www.dropbox.com/s/94ai0ameab9m155/wiki.txt?dl=0\n",
    "2. Wpisz zawartość pliku do zmiennej\n",
    "3. Zamień wszystkie litery na małe\n",
    "4. Zamień string na listę słów\n",
    "5. Usuń wszelkie znaki specjalne i przystankowe\n",
    "6. Usuń wszelkie liczby\n",
    "7. Usuń wszystkie pojedyncze litery, spójniki itp.\n",
    "8. Usuń z listy wszystkie puste elementy (wyglądają tak: ̈ ̈)\n",
    "9. Korzystając ze zbiorów i słowników zlicz wystąpienia każdego słowa, które zostało po powyższych operacjach w liście.\n",
    "10. Wyświetl informację o 10 najczęściej występujących słowach wraz z liczbą wstąpień\n",
    "______________________________________________________\n",
    "11. Napisz program sprawdzający czy podany ciąg składa się tylko z liter (odpowiednią funkcję znajdź w dokumentacji)\n",
    "12. Napisz program, który w podanym ciągu pierwszą literę zamieni na dużą, resztę na małe (odpowiednią funkcję znajdź w dokumentacji)\n",
    "13. Napisz program, który w podanym usuwa wszystkie spacje (przerwy) (odpowiednią funkcję znajdź w dokumentacji)\n",
    "14. Napisz program liczący liczbę samogłosek w podanym ciągu\n",
    "15. Napisz program, który z podanego ciągu przepisuje jedynie samogłoski:\n",
    "16. Napisz program, który pobierze od użytkownika imię, np. mArCIn i wyświetli to jako Marcin.\n",
    "17. Napisz program, który losuje 5 liter, łączy je w słowo. My wpisując losowe litery mam odgadnąć z czego składa się przygotowany ciąg\n",
    "18. Napisz program, który odwróci podane z klawiatury słowo (Marcin zamienia na nicraM) bez użycia [::]\n",
    "19. Napisz program, który wymiesza podane z klawiatury słowo (Marcin zamienia na icaMrn)\n",
    "20. Napisz program, który pobiera dwa słowa i wymienia je pierwszymi literami.\n",
    "21. Napisz program, który wymienia wszystkie parzyste litery w słowie na dowolne cyfry.\n",
    "22. Napisz program, który znajdzie pierwsze wystąpienie litery ”m” w podanym stringu. Znajdź i wykorzystaj odpowiednią funkcję.\n",
    "23. Napisz program, który znajdzie ostatnie wystąpienie litery ”m” w podanym stringu. Znajdź i wykorzystaj odpowiednią funkcję."
   ]
  },
  {
   "cell_type": "code",
   "execution_count": 1,
   "id": "385f2c75-fe63-4611-a81d-cea3a5099ce8",
   "metadata": {
    "tags": []
   },
   "outputs": [
    {
     "name": "stdout",
     "output_type": "stream",
     "text": [
      "Kognitywistyka  dziedzina nauki zajmująca się obserwacją i analizą działania zmysłów mózgu i umysłu w szczególności ich modelowaniem Na jej określenie używane są też pojęcia nauki kognitywne ang Cognitive Sciences1 bądź nauki o poznaniu Kognitywistyka jest nauką interdyscyplinarną znajduje się na pograniczu wielu dziedzin psychologii poznawczej neurobiologii filozofii umysłu sztucznej inteligencji lingwistyki oraz logiki i fizyki Główne obszary badawcze w obrębie tej dziedziny to reprezentacja wiedzy język uczenie się myślenie percepcja świadomość podejmowanie decyzji oraz inteligencja tzw inteligencja kognitywna Konferencja MIT  11 września 1956 roku min Claude E Shannon Allen Newell Herbert A Simon Noam Chomsky George Miller dzień w którym kognitywistyka wyskoczyła z łona cybernetyki i stała się szanowanym interdyscyplinarnym przedsięwzięciem realizowanym na swój własny rachunek George Miller 1979 Kognitywistyka jako samodzielna dziedzina nauki wyodrębniła się w 1975 roku w Stanach Zjednoczonych W 1976 roku zaczęto wydawać kwartalnik Cognitive Science Program badaczy kognitywistyki został przedstawiony w tym samym roku przez Allena Newella oraz Herberta Simona w artykule Informatyka jako badania empiryczne2 Kognitywistyka symboliczna nie jest dobrze zdefiniowana w naukowej literaturze światowej i koncentruje się na symbolicznym modelowaniu uświadamianych abstrakcyjnych funkcji myślowych uznawanych za takie same u wszystkich ludzi i dotyczy samoświadomości metakognitywistyka ang metacognition kognitywnego podejmowania decyzji cognitive decisionmaking i inteligencji socjokognitywistycznejkognitywnej jako uniwersalnych własności jednostki grupy organizacji ludzkich i robotów Tego typu działalność naukowa prowadzi do rozwoju nowego podejścia integrującego paradygmaty teorii systemów inżynierii nauk społecznych i kognitywistyki tzw inżynierii socjokognitywistycznej lub sociokognitywistycznej rozwijanej przez Adama Marię Gadomskiego w ramach metateorii TOGA3 Od strony zastosowanych technologii kognitywistyka symboliczna koncentruje się na rozbudowie tzw baz wiedzy KB  knowledge base i budowie skomplikowanych Systemów Bazujących na Wiedzy Knowledge Base System które to realizują różne funkcje uważane za charakterystyczne dla systemów inteligentnych Jednym z ważnych a nierozwiązanych jeszcze wystarczająco problemów kognitywistyki jest definicja świadomości czyli zdolności syntezy i myślenia o własnym myśleniu Kognitywistyka subsymboliczna bazuje głównie na wyjaśnianiu procesów myślowych w mózgu ludzkim opartych na własnościach sieci neuronowych Coraz popularniejszym paradygmatem kognitywistyki subsymbolicznej staje się nauka w której łączy się wzorce i modele pochodzące z tradycyjnych nauk o poznawaniu psychologii neurobiologii i wielu innych subdyscyplin nauk przyrodniczych Jednym z najbardziej znanych specjalistów w tej dziedzinie w Polsce jest Włodzisław Duch\n",
      "Kognitywistyka  dziedzina nauki zajmująca się obserwacją i analizą działania zmysłów mózgu i umysłu w szczególności ich modelowaniem Na jej określenie używane są też pojęcia nauki kognitywne ang Cognitive Sciences bądź nauki o poznaniu Kognitywistyka jest nauką interdyscyplinarną znajduje się na pograniczu wielu dziedzin psychologii poznawczej neurobiologii filozofii umysłu sztucznej inteligencji lingwistyki oraz logiki i fizyki Główne obszary badawcze w obrębie tej dziedziny to reprezentacja wiedzy język uczenie się myślenie percepcja świadomość podejmowanie decyzji oraz inteligencja tzw inteligencja kognitywna Konferencja MIT   września  roku min Claude E Shannon Allen Newell Herbert A Simon Noam Chomsky George Miller dzień w którym kognitywistyka wyskoczyła z łona cybernetyki i stała się szanowanym interdyscyplinarnym przedsięwzięciem realizowanym na swój własny rachunek George Miller  Kognitywistyka jako samodzielna dziedzina nauki wyodrębniła się w  roku w Stanach Zjednoczonych W  roku zaczęto wydawać kwartalnik Cognitive Science Program badaczy kognitywistyki został przedstawiony w tym samym roku przez Allena Newella oraz Herberta Simona w artykule Informatyka jako badania empiryczne Kognitywistyka symboliczna nie jest dobrze zdefiniowana w naukowej literaturze światowej i koncentruje się na symbolicznym modelowaniu uświadamianych abstrakcyjnych funkcji myślowych uznawanych za takie same u wszystkich ludzi i dotyczy samoświadomości metakognitywistyka ang metacognition kognitywnego podejmowania decyzji cognitive decisionmaking i inteligencji socjokognitywistycznejkognitywnej jako uniwersalnych własności jednostki grupy organizacji ludzkich i robotów Tego typu działalność naukowa prowadzi do rozwoju nowego podejścia integrującego paradygmaty teorii systemów inżynierii nauk społecznych i kognitywistyki tzw inżynierii socjokognitywistycznej lub sociokognitywistycznej rozwijanej przez Adama Marię Gadomskiego w ramach metateorii TOGA Od strony zastosowanych technologii kognitywistyka symboliczna koncentruje się na rozbudowie tzw baz wiedzy KB  knowledge base i budowie skomplikowanych Systemów Bazujących na Wiedzy Knowledge Base System które to realizują różne funkcje uważane za charakterystyczne dla systemów inteligentnych Jednym z ważnych a nierozwiązanych jeszcze wystarczająco problemów kognitywistyki jest definicja świadomości czyli zdolności syntezy i myślenia o własnym myśleniu Kognitywistyka subsymboliczna bazuje głównie na wyjaśnianiu procesów myślowych w mózgu ludzkim opartych na własnościach sieci neuronowych Coraz popularniejszym paradygmatem kognitywistyki subsymbolicznej staje się nauka w której łączy się wzorce i modele pochodzące z tradycyjnych nauk o poznawaniu psychologii neurobiologii i wielu innych subdyscyplin nauk przyrodniczych Jednym z najbardziej znanych specjalistów w tej dziedzinie w Polsce jest Włodzisław Duch\n",
      "Kognitywistyka dziedzina nauki zajmująca się obserwacją analizą działania zmysłów mózgu umysłu szczególności ich modelowaniem Na jej określenie używane są też pojęcia nauki kognitywne ang Cognitive Sciences bądź nauki poznaniu Kognitywistyka jest nauką interdyscyplinarną znajduje się na pograniczu wielu dziedzin psychologii poznawczej neurobiologii filozofii umysłu sztucznej inteligencji lingwistyki oraz logiki fizyki Główne obszary badawcze obrębie tej dziedziny to reprezentacja wiedzy język uczenie się myślenie percepcja świadomość podejmowanie decyzji oraz inteligencja tzw inteligencja kognitywna Konferencja MIT września roku min Claude Shannon Allen Newell Herbert Simon Noam Chomsky George Miller dzień którym kognitywistyka wyskoczyła łona cybernetyki stała się szanowanym interdyscyplinarnym przedsięwzięciem realizowanym na swój własny rachunek George Miller Kognitywistyka jako samodzielna dziedzina nauki wyodrębniła się roku Stanach Zjednoczonych roku zaczęto wydawać kwartalnik Cognitive Science Program badaczy kognitywistyki został przedstawiony tym samym roku przez Allena Newella oraz Herberta Simona artykule Informatyka jako badania empiryczne Kognitywistyka symboliczna nie jest dobrze zdefiniowana naukowej literaturze światowej koncentruje się na symbolicznym modelowaniu uświadamianych abstrakcyjnych funkcji myślowych uznawanych za takie same wszystkich ludzi dotyczy samoświadomości metakognitywistyka ang metacognition kognitywnego podejmowania decyzji cognitive decisionmaking inteligencji socjokognitywistycznejkognitywnej jako uniwersalnych własności jednostki grupy organizacji ludzkich robotów Tego typu działalność naukowa prowadzi do rozwoju nowego podejścia integrującego paradygmaty teorii systemów inżynierii nauk społecznych kognitywistyki tzw inżynierii socjokognitywistycznej lub sociokognitywistycznej rozwijanej przez Adama Marię Gadomskiego ramach metateorii TOGA Od strony zastosowanych technologii kognitywistyka symboliczna koncentruje się na rozbudowie tzw baz wiedzy KB knowledge base budowie skomplikowanych Systemów Bazujących na Wiedzy Knowledge Base System które to realizują różne funkcje uważane za charakterystyczne dla systemów inteligentnych Jednym ważnych nierozwiązanych jeszcze wystarczająco problemów kognitywistyki jest definicja świadomości czyli zdolności syntezy myślenia własnym myśleniu Kognitywistyka subsymboliczna bazuje głównie na wyjaśnianiu procesów myślowych mózgu ludzkim opartych na własnościach sieci neuronowych Coraz popularniejszym paradygmatem kognitywistyki subsymbolicznej staje się nauka której łączy się wzorce modele pochodzące tradycyjnych nauk poznawaniu psychologii neurobiologii wielu innych subdyscyplin nauk przyrodniczych Jednym najbardziej znanych specjalistów tej dziedzinie Polsce jest Włodzisław Duch\n",
      "['Kognitywistyka', 'dziedzina', 'nauki', 'zajmująca', 'się', 'obserwacją', 'analizą', 'działania', 'zmysłów', 'mózgu', 'umysłu', 'szczególności', 'ich', 'modelowaniem', 'Na', 'jej', 'określenie', 'używane', 'są', 'też', 'pojęcia', 'nauki', 'kognitywne', 'ang', 'Cognitive', 'Sciences', 'bądź', 'nauki', 'poznaniu', 'Kognitywistyka', 'jest', 'nauką', 'interdyscyplinarną', 'znajduje', 'się', 'na', 'pograniczu', 'wielu', 'dziedzin', 'psychologii', 'poznawczej', 'neurobiologii', 'filozofii', 'umysłu', 'sztucznej', 'inteligencji', 'lingwistyki', 'oraz', 'logiki', 'fizyki', 'Główne', 'obszary', 'badawcze', 'obrębie', 'tej', 'dziedziny', 'to', 'reprezentacja', 'wiedzy', 'język', 'uczenie', 'się', 'myślenie', 'percepcja', 'świadomość', 'podejmowanie', 'decyzji', 'oraz', 'inteligencja', 'tzw', 'inteligencja', 'kognitywna', 'Konferencja', 'MIT', 'września', 'roku', 'min', 'Claude', 'Shannon', 'Allen', 'Newell', 'Herbert', 'Simon', 'Noam', 'Chomsky', 'George', 'Miller', 'dzień', 'którym', 'kognitywistyka', 'wyskoczyła', 'łona', 'cybernetyki', 'stała', 'się', 'szanowanym', 'interdyscyplinarnym', 'przedsięwzięciem', 'realizowanym', 'na', 'swój', 'własny', 'rachunek', 'George', 'Miller', 'Kognitywistyka', 'jako', 'samodzielna', 'dziedzina', 'nauki', 'wyodrębniła', 'się', 'roku', 'Stanach', 'Zjednoczonych', 'roku', 'zaczęto', 'wydawać', 'kwartalnik', 'Cognitive', 'Science', 'Program', 'badaczy', 'kognitywistyki', 'został', 'przedstawiony', 'tym', 'samym', 'roku', 'przez', 'Allena', 'Newella', 'oraz', 'Herberta', 'Simona', 'artykule', 'Informatyka', 'jako', 'badania', 'empiryczne', 'Kognitywistyka', 'symboliczna', 'nie', 'jest', 'dobrze', 'zdefiniowana', 'naukowej', 'literaturze', 'światowej', 'koncentruje', 'się', 'na', 'symbolicznym', 'modelowaniu', 'uświadamianych', 'abstrakcyjnych', 'funkcji', 'myślowych', 'uznawanych', 'za', 'takie', 'same', 'wszystkich', 'ludzi', 'dotyczy', 'samoświadomości', 'metakognitywistyka', 'ang', 'metacognition', 'kognitywnego', 'podejmowania', 'decyzji', 'cognitive', 'decisionmaking', 'inteligencji', 'socjokognitywistycznejkognitywnej', 'jako', 'uniwersalnych', 'własności', 'jednostki', 'grupy', 'organizacji', 'ludzkich', 'robotów', 'Tego', 'typu', 'działalność', 'naukowa', 'prowadzi', 'do', 'rozwoju', 'nowego', 'podejścia', 'integrującego', 'paradygmaty', 'teorii', 'systemów', 'inżynierii', 'nauk', 'społecznych', 'kognitywistyki', 'tzw', 'inżynierii', 'socjokognitywistycznej', 'lub', 'sociokognitywistycznej', 'rozwijanej', 'przez', 'Adama', 'Marię', 'Gadomskiego', 'ramach', 'metateorii', 'TOGA', 'Od', 'strony', 'zastosowanych', 'technologii', 'kognitywistyka', 'symboliczna', 'koncentruje', 'się', 'na', 'rozbudowie', 'tzw', 'baz', 'wiedzy', 'KB', 'knowledge', 'base', 'budowie', 'skomplikowanych', 'Systemów', 'Bazujących', 'na', 'Wiedzy', 'Knowledge', 'Base', 'System', 'które', 'to', 'realizują', 'różne', 'funkcje', 'uważane', 'za', 'charakterystyczne', 'dla', 'systemów', 'inteligentnych', 'Jednym', 'ważnych', 'nierozwiązanych', 'jeszcze', 'wystarczająco', 'problemów', 'kognitywistyki', 'jest', 'definicja', 'świadomości', 'czyli', 'zdolności', 'syntezy', 'myślenia', 'własnym', 'myśleniu', 'Kognitywistyka', 'subsymboliczna', 'bazuje', 'głównie', 'na', 'wyjaśnianiu', 'procesów', 'myślowych', 'mózgu', 'ludzkim', 'opartych', 'na', 'własnościach', 'sieci', 'neuronowych', 'Coraz', 'popularniejszym', 'paradygmatem', 'kognitywistyki', 'subsymbolicznej', 'staje', 'się', 'nauka', 'której', 'łączy', 'się', 'wzorce', 'modele', 'pochodzące', 'tradycyjnych', 'nauk', 'poznawaniu', 'psychologii', 'neurobiologii', 'wielu', 'innych', 'subdyscyplin', 'nauk', 'przyrodniczych', 'Jednym', 'najbardziej', 'znanych', 'specjalistów', 'tej', 'dziedzinie', 'Polsce', 'jest', 'Włodzisław', 'Duch']\n",
      "{'prowadzi': 1, 'poznawaniu': 1, 'podejmowania': 1, 'definicja': 1, 'głównie': 1, 'uświadamianych': 1, 'Włodzisław': 1, 'stała': 1, 'same': 1, 'Kognitywistyka': 5, 'działalność': 1, 'paradygmatem': 1, 'pograniczu': 1, 'używane': 1, 'dziedzin': 1, 'Informatyka': 1, 'najbardziej': 1, 'ang': 2, 'decisionmaking': 1, 'przyrodniczych': 1, 'Cognitive': 2, 'empiryczne': 1, 'TOGA': 1, 'Duch': 1, 'procesów': 1, 'nie': 1, 'metacognition': 1, 'budowie': 1, 'charakterystyczne': 1, 'rozbudowie': 1, 'zajmująca': 1, 'jest': 4, 'poznaniu': 1, 'badawcze': 1, 'wszystkich': 1, 'sieci': 1, 'Newella': 1, 'Główne': 1, 'Simon': 1, 'do': 1, 'własnościach': 1, 'Shannon': 1, 'tzw': 3, 'jako': 3, 'kognitywistyki': 4, 'się': 9, 'KB': 1, 'takie': 1, 'symboliczna': 2, 'której': 1, 'zmysłów': 1, 'są': 1, 'Science': 1, 'też': 1, 'wielu': 2, 'reprezentacja': 1, 'poznawczej': 1, 'Na': 1, 'literaturze': 1, 'własny': 1, 'socjokognitywistycznej': 1, 'subsymbolicznej': 1, 'wzorce': 1, 'organizacji': 1, 'pochodzące': 1, 'dziedziny': 1, 'przez': 2, 'umysłu': 2, 'bądź': 1, 'ich': 1, 'kwartalnik': 1, 'robotów': 1, 'analizą': 1, 'percepcja': 1, 'różne': 1, 'dla': 1, 'badania': 1, 'teorii': 1, 'samym': 1, 'kognitywne': 1, 'opartych': 1, 'psychologii': 2, 'metateorii': 1, 'ludzkim': 1, 'System': 1, 'myślowych': 2, 'Od': 1, 'socjokognitywistycznejkognitywnej': 1, 'pojęcia': 1, 'łona': 1, 'zdefiniowana': 1, 'kognitywistyka': 2, 'badaczy': 1, 'Knowledge': 1, 'fizyki': 1, 'staje': 1, 'przedsięwzięciem': 1, 'systemów': 2, 'wystarczająco': 1, 'dziedzinie': 1, 'podejmowanie': 1, 'technologii': 1, 'subsymboliczna': 1, 'obszary': 1, 'bazuje': 1, 'artykule': 1, 'znanych': 1, 'uniwersalnych': 1, 'abstrakcyjnych': 1, 'grupy': 1, 'lingwistyki': 1, 'naukowej': 1, 'Polsce': 1, 'świadomości': 1, 'baz': 1, 'nauką': 1, 'tej': 2, 'funkcji': 1, 'Wiedzy': 1, 'koncentruje': 2, 'oraz': 3, 'swój': 1, 'samoświadomości': 1, 'przedstawiony': 1, 'kognitywnego': 1, 'sztucznej': 1, 'problemów': 1, 'sociokognitywistycznej': 1, 'ludzi': 1, 'własności': 1, 'jednostki': 1, 'Allen': 1, 'dzień': 1, 'Newell': 1, 'interdyscyplinarnym': 1, 'realizują': 1, 'Simona': 1, 'rozwijanej': 1, 'specjalistów': 1, 'uznawanych': 1, 'cognitive': 1, 'Base': 1, 'Coraz': 1, 'Claude': 1, 'cybernetyki': 1, 'łączy': 1, 'modelowaniem': 1, 'min': 1, 'rachunek': 1, 'Bazujących': 1, 'lub': 1, 'Herberta': 1, 'symbolicznym': 1, 'naukowa': 1, 'podejścia': 1, 'Gadomskiego': 1, 'Adama': 1, 'zdolności': 1, 'Tego': 1, 'na': 7, 'MIT': 1, 'własnym': 1, 'nauki': 4, 'Herbert': 1, 'Program': 1, 'knowledge': 1, 'samodzielna': 1, 'interdyscyplinarną': 1, 'modele': 1, 'neuronowych': 1, 'Noam': 1, 'inteligencji': 2, 'filozofii': 1, 'za': 2, 'dziedzina': 2, 'Chomsky': 1, 'nauk': 3, 'syntezy': 1, 'popularniejszym': 1, 'Zjednoczonych': 1, 'typu': 1, 'uczenie': 1, 'wyodrębniła': 1, 'Allena': 1, 'logiki': 1, 'dotyczy': 1, 'dobrze': 1, 'modelowaniu': 1, 'Systemów': 1, 'działania': 1, 'czyli': 1, 'obrębie': 1, 'nierozwiązanych': 1, 'skomplikowanych': 1, 'wiedzy': 2, 'które': 1, 'jeszcze': 1, 'Konferencja': 1, 'ramach': 1, 'nauka': 1, 'rozwoju': 1, 'kognitywna': 1, 'roku': 4, 'znajduje': 1, 'szanowanym': 1, 'września': 1, 'Sciences': 1, 'paradygmaty': 1, 'społecznych': 1, 'base': 1, 'tradycyjnych': 1, 'wyjaśnianiu': 1, 'neurobiologii': 2, 'mózgu': 2, 'wyskoczyła': 1, 'inżynierii': 2, 'został': 1, 'innych': 1, 'którym': 1, 'tym': 1, 'realizowanym': 1, 'szczególności': 1, 'decyzji': 2, 'język': 1, 'świadomość': 1, 'myślenia': 1, 'uważane': 1, 'George': 2, 'myślenie': 1, 'światowej': 1, 'myśleniu': 1, 'obserwacją': 1, 'to': 2, 'inteligentnych': 1, 'Miller': 2, 'Jednym': 2, 'ważnych': 1, 'jej': 1, 'zastosowanych': 1, 'subdyscyplin': 1, 'nowego': 1, 'inteligencja': 2, 'zaczęto': 1, 'metakognitywistyka': 1, 'wydawać': 1, 'Marię': 1, 'strony': 1, 'określenie': 1, 'funkcje': 1, 'ludzkich': 1, 'Stanach': 1, 'integrującego': 1}\n",
      "10 najczęściej występujących słów: \n",
      "się: 9\n",
      "na: 7\n",
      "Kognitywistyka: 5\n",
      "jest: 4\n",
      "kognitywistyki: 4\n",
      "nauki: 4\n",
      "roku: 4\n",
      "tzw: 3\n",
      "jako: 3\n",
      "oraz: 3\n"
     ]
    }
   ],
   "source": [
    "# Zad 1-10\n",
    "\n",
    "kog_opis = \"Kognitywistyka - dziedzina nauki zajmująca się obserwacją i analizą działania zmysłów, mózgu i umysłu, w szczególności ich modelowaniem. Na jej określenie używane są też pojęcia: nauki kognitywne (ang. Cognitive Sciences)[1] bądź nauki o poznaniu. Kognitywistyka jest nauką interdyscyplinarną, znajduje się na pograniczu wielu dziedzin: psychologii poznawczej, neurobiologii, filozofii umysłu, sztucznej inteligencji, lingwistyki oraz logiki i fizyki. Główne obszary badawcze w obrębie tej dziedziny to reprezentacja wiedzy, język, uczenie się, myślenie, percepcja, świadomość, podejmowanie decyzji oraz inteligencja (tzw. inteligencja kognitywna). Konferencja MIT - 11 września 1956 roku (m.in. Claude E. Shannon, Allen Newell, Herbert A. Simon, Noam Chomsky, George Miller): \\\"dzień, w którym kognitywistyka wyskoczyła z łona cybernetyki i stała się szanowanym, interdyscyplinarnym przedsięwzięciem realizowanym na swój własny rachunek\\\" (George Miller, 1979). Kognitywistyka jako samodzielna dziedzina nauki wyodrębniła się w 1975 roku w Stanach Zjednoczonych. W 1976 roku zaczęto wydawać kwartalnik \\\"Cognitive Science\\\". Program badaczy kognitywistyki został przedstawiony w tym samym roku przez Allena Newella oraz Herberta Simona w artykule Informatyka jako badania empiryczne[2]. Kognitywistyka symboliczna nie jest dobrze zdefiniowana w naukowej literaturze światowej i koncentruje się na symbolicznym modelowaniu uświadamianych abstrakcyjnych funkcji myślowych uznawanych za takie same u wszystkich ludzi i dotyczy: samoświadomości (metakognitywistyka, ang. metacognition), kognitywnego podejmowania decyzji (cognitive decision-making) i inteligencji socjo-kognitywistycznej/kognitywnej jako uniwersalnych własności jednostki, grupy, organizacji ludzkich i robotów. Tego typu działalność naukowa prowadzi do rozwoju nowego podejścia integrującego paradygmaty teorii systemów, inżynierii, nauk społecznych i kognitywistyki, tzw. inżynierii socjokognitywistycznej (lub socio-kognitywistycznej) rozwijanej przez Adama Marię Gadomskiego w ramach meta-teorii TOGA[3]. Od strony zastosowanych technologii kognitywistyka symboliczna koncentruje się na rozbudowie tzw. baz wiedzy (KB - knowledge base) i budowie skomplikowanych Systemów Bazujących na Wiedzy (Knowledge Base System), które to realizują różne funkcje uważane za charakterystyczne dla systemów inteligentnych. Jednym z ważnych, a nierozwiązanych jeszcze wystarczająco problemów kognitywistyki jest definicja świadomości, czyli zdolności syntezy i myślenia o własnym myśleniu. Kognitywistyka subsymboliczna bazuje głównie na wyjaśnianiu procesów myślowych w mózgu ludzkim opartych na własnościach sieci neuronowych. Coraz popularniejszym paradygmatem kognitywistyki subsymbolicznej staje się nauka, w której łączy się wzorce i modele pochodzące z tradycyjnych nauk o poznawaniu, psychologii, neurobiologii i wielu innych subdyscyplin nauk przyrodniczych. Jednym z najbardziej znanych specjalistów w tej dziedzinie w Polsce jest Włodzisław Duch.\"\n",
    "kog_opis.lower()\n",
    "\n",
    "import re\n",
    "clean_kog_opis = re.sub(r\"[^\\w\\s]\", \"\", kog_opis)\n",
    "print(clean_kog_opis)\n",
    "\n",
    "clean2_kog_opis = re.sub(r\"\\d+\", \"\", clean_kog_opis)\n",
    "print(clean2_kog_opis)\n",
    "\n",
    "clean3_kog_opis = re.sub(r\"\\b\\w\\b\", \"\", clean2_kog_opis)  \n",
    "clean3_kog_opis = re.sub(r\"\\s{2,}\", \" \", clean3_kog_opis).strip()  \n",
    "print(clean3_kog_opis)\n",
    "\n",
    "list_of_kog_opis = clean3_kog_opis.split()\n",
    "print(list_of_kog_opis)\n",
    "\n",
    "word_counts = {word: list_of_kog_opis.count(word) for word in set(list_of_kog_opis)}\n",
    "print(word_counts)\n",
    "\n",
    "sorted_by_count = sorted(word_counts.items(), key=lambda item: item[1], reverse=True)\n",
    "top_10 = sorted_by_count[:10]\n",
    "\n",
    "print(\"10 najczęściej występujących słów: \")\n",
    "for word, count in top_10:\n",
    "    print(f\"{word}: {count}\")"
   ]
  },
  {
   "cell_type": "code",
   "execution_count": 2,
   "id": "232363d6-2ba7-43d9-ac81-d270fced1b3f",
   "metadata": {},
   "outputs": [
    {
     "name": "stdout",
     "output_type": "stream",
     "text": [
      "Ciąg składa się tylko z liter.\n"
     ]
    }
   ],
   "source": [
    "# Zad 11. Napisz program sprawdzający czy podany ciąg składa się tylko z liter (odpowiednią funkcję znajdź w dokumentacji)\n",
    "\n",
    "text = \"Słowo\"\n",
    "\n",
    "if text.isalpha():\n",
    "    print(\"Ciąg składa się tylko z liter.\")\n",
    "else:\n",
    "    print(\"Ciąg zawiera inne znaki.\")"
   ]
  },
  {
   "cell_type": "code",
   "execution_count": 3,
   "id": "01879f5a-532f-4864-834e-81652585408a",
   "metadata": {},
   "outputs": [
    {
     "data": {
      "text/plain": [
       "'Kognitywistyka to dziedzina nauki o poznaniu'"
      ]
     },
     "execution_count": 3,
     "metadata": {},
     "output_type": "execute_result"
    }
   ],
   "source": [
    "# 12. Napisz program, który w podanym ciągu pierwszą literę zamieni na dużą, resztę na małe (odpowiednią funkcję znajdź w dokumentacji)\n",
    "\n",
    "text2 = \"kognitywistyka to dziedzina nauki o poznaniu\"\n",
    "text2.capitalize()"
   ]
  },
  {
   "cell_type": "code",
   "execution_count": 4,
   "id": "c0da225a-6995-47e5-bde6-db15e2d0f073",
   "metadata": {},
   "outputs": [
    {
     "data": {
      "text/plain": [
       "'kognitywistykatodziedzinanaukiopoznaniu'"
      ]
     },
     "execution_count": 4,
     "metadata": {},
     "output_type": "execute_result"
    }
   ],
   "source": [
    "# Zad 13. Napisz program, który w podanym usuwa wszystkie spacje (przerwy) (odpowiednią funkcję znajdź w dokumentacji)\n",
    "\n",
    "text2.replace(\" \", \"\")"
   ]
  },
  {
   "cell_type": "code",
   "execution_count": 5,
   "id": "5acb1808-40e1-4f16-8843-ac356679797b",
   "metadata": {},
   "outputs": [
    {
     "name": "stdout",
     "output_type": "stream",
     "text": [
      "Liczba samogłoskek: 17\n"
     ]
    }
   ],
   "source": [
    "# Zad 14. Napisz program liczący liczbę samogłosek w podanym ciągu\n",
    "\n",
    "vowels = \"aeiouAEIOU\"\n",
    "\n",
    "count = sum(1 for char in text2 if char in vowels)\n",
    "\n",
    "print(\"Liczba samogłoskek:\", count)"
   ]
  },
  {
   "cell_type": "code",
   "execution_count": 6,
   "id": "473aa61e-974d-4943-8fd7-6c31cc57d0ad",
   "metadata": {},
   "outputs": [
    {
     "name": "stdout",
     "output_type": "stream",
     "text": [
      "Samogłoski: oiiaoieiaauiooaiu\n"
     ]
    }
   ],
   "source": [
    "# Zad 15. Napisz program, który z podanego ciągu przepisuje jedynie samogłoski:\n",
    "\n",
    "vowel_only = \"\".join(char for char in text2 if char in vowels)\n",
    "\n",
    "print(\"Samogłoski:\", vowel_only)"
   ]
  },
  {
   "cell_type": "code",
   "execution_count": 7,
   "id": "dfa342f2-a68a-49a0-ae7f-701ee85190ec",
   "metadata": {},
   "outputs": [
    {
     "name": "stdin",
     "output_type": "stream",
     "text": [
      "Podaj swoje imię:  t         OmEk\n"
     ]
    },
    {
     "name": "stdout",
     "output_type": "stream",
     "text": [
      "Twoje imię to: Tomek\n"
     ]
    }
   ],
   "source": [
    "# Zad 16. Napisz program, który pobierze od użytkownika imię, np. mArCIn i wyświetli to jako Marcin.\n",
    "\n",
    "name = input(\"Podaj swoje imię: \")\n",
    "\n",
    "name = name.replace(\" \", \"\")\n",
    "formatted_name = name.capitalize()\n",
    "\n",
    "print(\"Twoje imię to:\", formatted_name)"
   ]
  },
  {
   "cell_type": "code",
   "execution_count": 8,
   "id": "808c87e5-0624-4b05-adf2-5f5d1e38695e",
   "metadata": {},
   "outputs": [],
   "source": [
    "# Zad 17. Napisz program, który losuje 5 liter, łączy je w słowo. My wpisując losowe litery mam odgadnąć z czego składa się przygotowany ciąg\n",
    "\n"
   ]
  },
  {
   "cell_type": "code",
   "execution_count": 9,
   "id": "d7f6f259-1b95-4172-8eee-d42c6f17b0b0",
   "metadata": {},
   "outputs": [
    {
     "name": "stdin",
     "output_type": "stream",
     "text": [
      "Podaj słowo:  Tomek\n"
     ]
    },
    {
     "name": "stdout",
     "output_type": "stream",
     "text": [
      "Odwrócone słowo: kemoT\n"
     ]
    }
   ],
   "source": [
    "# Zad 18. Napisz program, który odwróci podane z klawiatury słowo (Marcin zamienia na nicraM) bez użycia [::]\n",
    "\n",
    "word = input(\"Podaj słowo: \")\n",
    "\n",
    "reversed_word = \"\"\n",
    "for char in word:\n",
    "    reversed_word = char + reversed_word\n",
    "\n",
    "print(\"Odwrócone słowo:\", reversed_word)\n"
   ]
  },
  {
   "cell_type": "code",
   "execution_count": 10,
   "id": "7d079bcc-e3f2-4ee6-bfe1-d98f3febc404",
   "metadata": {},
   "outputs": [
    {
     "name": "stdin",
     "output_type": "stream",
     "text": [
      "Podaj słowo:  Tomek\n"
     ]
    },
    {
     "name": "stdout",
     "output_type": "stream",
     "text": [
      "Wymieszane słowo: kemTo\n"
     ]
    }
   ],
   "source": [
    "# Zad 19. Napisz program, który wymiesza podane z klawiatury słowo (Marcin zamienia na icaMrn)\n",
    "\n",
    "import random\n",
    "\n",
    "word = input(\"Podaj słowo: \")\n",
    "\n",
    "word_list = list(word)\n",
    "\n",
    "random.shuffle(word_list)\n",
    "\n",
    "shuffled_word = ''.join(word_list)\n",
    "\n",
    "print(\"Wymieszane słowo:\", shuffled_word)"
   ]
  },
  {
   "cell_type": "code",
   "execution_count": 11,
   "id": "93f7936d-86b6-458b-af39-6c40429c037c",
   "metadata": {},
   "outputs": [
    {
     "name": "stdin",
     "output_type": "stream",
     "text": [
      "Podaj pierwsze słowo:  Pizza\n",
      "Podaj drugie słowo:  Burger\n"
     ]
    },
    {
     "name": "stdout",
     "output_type": "stream",
     "text": [
      "Wymienione słowa: Bizza Purger\n"
     ]
    }
   ],
   "source": [
    "# Zad 20. Napisz program, który pobiera dwa słowa i wymienia je pierwszymi literami.\n",
    "\n",
    "word1 = input(\"Podaj pierwsze słowo: \")\n",
    "word2 = input(\"Podaj drugie słowo: \")\n",
    "\n",
    "swapped_words = word2[0] + word1[1:] + \" \" + word1[0] + word2[1:]\n",
    "\n",
    "print(\"Wymienione słowa:\", swapped_words)"
   ]
  },
  {
   "cell_type": "code",
   "execution_count": 12,
   "id": "ffdd9947-e1c0-402e-87b0-a7d72916efdc",
   "metadata": {},
   "outputs": [
    {
     "name": "stdin",
     "output_type": "stream",
     "text": [
      "Podaj słowo:  Parzyste litery w słowie\n"
     ]
    },
    {
     "name": "stdout",
     "output_type": "stream",
     "text": [
      "Zmodyfikowane słowo: 1P3r6y7t5 7i2e1y0w9s2o0i\n"
     ]
    }
   ],
   "source": [
    "# Zad 21. Napisz program, który wymienia wszystkie parzyste litery w słowie na dowolne cyfry.\n",
    "\n",
    "word = input(\"Podaj słowo: \")\n",
    "\n",
    "digits = \"0123456789\"\n",
    "\n",
    "modified_word = \"\"\n",
    "\n",
    "for index, char in enumerate(word):\n",
    "    if index % 2 == 0:  \n",
    "        modified_word += random.choice(digits) \n",
    "        modified_word += char  \n",
    "\n",
    "print(\"Zmodyfikowane słowo:\", modified_word)"
   ]
  },
  {
   "cell_type": "code",
   "execution_count": 13,
   "id": "96079678-0acf-4692-ba02-3b9a50ad9660",
   "metadata": {},
   "outputs": [
    {
     "name": "stdin",
     "output_type": "stream",
     "text": [
      "Podaj słowo:  Burgery w McDonald są...\n"
     ]
    },
    {
     "name": "stdout",
     "output_type": "stream",
     "text": [
      "Pierwsze wystąpienie litery 'm' znajduje się na indeksie: 10\n"
     ]
    }
   ],
   "source": [
    "# Zad 22. Napisz program, który znajdzie pierwsze wystąpienie litery ”m” w podanym stringu. Znajdź i wykorzystaj odpowiednią funkcję.\n",
    "\n",
    "word = input(\"Podaj słowo: \")\n",
    "\n",
    "index = word.lower().find('m')\n",
    "\n",
    "if index != -1:\n",
    "    print(f\"Pierwsze wystąpienie litery 'm' znajduje się na indeksie: {index}\")\n",
    "else:\n",
    "    print(\"Litera 'm' nie występuje w słowie.\")"
   ]
  },
  {
   "cell_type": "code",
   "execution_count": 14,
   "id": "ab6cd393-574e-4a6b-aeff-cffc639412e5",
   "metadata": {},
   "outputs": [
    {
     "name": "stdin",
     "output_type": "stream",
     "text": [
      "Podaj słowo:  McDonald\n"
     ]
    },
    {
     "name": "stdout",
     "output_type": "stream",
     "text": [
      "Ostatnie wystąpienie litery 'm' znajduje się na indeksie: 0\n"
     ]
    }
   ],
   "source": [
    "# Zad 23. Napisz program, który znajdzie ostatnie wystąpienie litery ”m” w podanym stringu. Znajdź i wykorzystaj odpowiednią funkcję.\n",
    "\n",
    "word = input(\"Podaj słowo: \")\n",
    "\n",
    "index = word.lower().rfind('m')\n",
    "\n",
    "if index != -1:\n",
    "    print(f\"Ostatnie wystąpienie litery 'm' znajduje się na indeksie: {index}\")\n",
    "else:\n",
    "    print(\"Litera 'm' nie występuje w słowie.\")\n"
   ]
  },
  {
   "cell_type": "code",
   "execution_count": null,
   "id": "32af1aec-cefe-4f60-8642-f2145997123d",
   "metadata": {},
   "outputs": [],
   "source": []
  }
 ],
 "metadata": {
  "kernelspec": {
   "display_name": "Python 3 (ipykernel)",
   "language": "python",
   "name": "python3"
  },
  "language_info": {
   "codemirror_mode": {
    "name": "ipython",
    "version": 3
   },
   "file_extension": ".py",
   "mimetype": "text/x-python",
   "name": "python",
   "nbconvert_exporter": "python",
   "pygments_lexer": "ipython3",
   "version": "3.9.12"
  }
 },
 "nbformat": 4,
 "nbformat_minor": 5
}
