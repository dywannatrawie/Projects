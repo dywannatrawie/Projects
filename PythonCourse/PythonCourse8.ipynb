{
 "cells": [
  {
   "cell_type": "markdown",
   "id": "80d2630b-e801-4162-b98a-faeda61028c5",
   "metadata": {},
   "source": [
    "Zad 8\n",
    "\n",
    "Funkcje cz. 1\n",
    "\n",
    "\n",
    "1. Napisz funkcję odejmowanie(x,y), która odejmuje od siebie podane argumenty,\n",
    "2. Napisz funkcję ostatni(lista), która zwraca ostatni element listy,\n",
    "3. Napisz funkcję ogon(lista), która zwraca wszystko poza pierwszym elementem listy,\n",
    "4. Napisz funkcję dlugosc(x), która zwraca wielkość listy (bez wykorzystaniafunkcji len),\n",
    "5. Napisz funkcję maksimum(lista), i minimum(lista), które zwracają maksymalny i minimalny element listy (bez wykorzystania funkcji min i max). Jeśli chcesz skorzystać z len() skorzystaj z funkcji dlugosc() z poprzedniego zadania,\n",
    "6. Napisz funkcję nta(lista,n), która zwraca n-ty element listy,\n",
    "7. Napisz funkcję alternatywa(x,y), która przyjmuje tylko 1 lub 0,\n",
    "8. Napisz funkcję koniunkcja(x,y), która przyjmuje tylko 1 lub 0,\n",
    "9. Napisz funkcję implikacja(x,y), która przyjmuje tylko 1 lub 0,\n",
    "10. Napisz dowolną funkcję operującą na stringach (lower, replace, find, count, itp.) z wykorzystaniem jedynie instrukcji warunkowych, pętli i list,\n",
    "11. Napisz funkcję, która oblicza kwadrat lub sześcian podanej liczby (powinniśmy wybrać móc wybrać opcję)\n",
    "12. Napisz funkcję, pobiera numer dnia tygodnia (cyfra od 1 do 7) i zwraca nazwę danego dnia tygodnia\n",
    "13. Napisz funkcję gwiazdki(liczba), która wyświetla ciąg symboli ”*”, a liczba to liczba gwiazdek, które powinny pojawić się na ekranie\n",
    "14. Napisz funkcję, która sprawdza parzystość podanej z klawiatury liczby\n",
    "15. Przygotuj funkcję, która sumuje liczby od 1 do X, gdzie X to liczba podana przez użytkownika.\n",
    "16. Napisz program losujący liczbę od 0 do 4. W zależności od wylosowanej liczby powinna zostać uruchomiona odpowiednia funkcja\n",
    "17. Napisz program, który pobiera liczbę, a następnie: a) za pomocą funkcji sprawdz dol() sprawdza, czy podana liczba jest większa od 10 b) za pomocą funkcji sprawdz gore() sprawdza, czy podana liczba jest mniejsza od 100 c) za pomocą funkcji pierwiastkuj(), wyznacza pierwiastek z podanej liczby d) za pomocą funkcji dodaj dwa(), do spierwiastkowanej liczby dodaje 2 e) za pomocą funkcji do potegi(), podnosi otrzymaną liczbę do potęgi 2 f) za pomocą funkcji wyswietl() wyświetla otrzymaną liczbę i liczbę, która została na początku wpisana z klawiatury"
   ]
  },
  {
   "cell_type": "code",
   "execution_count": 2,
   "id": "d20cd067-61ec-4b00-bf34-e499c2fa89d4",
   "metadata": {},
   "outputs": [
    {
     "name": "stdout",
     "output_type": "stream",
     "text": [
      "Podaj 1 liczbę: \n"
     ]
    },
    {
     "name": "stdin",
     "output_type": "stream",
     "text": [
      " 9\n"
     ]
    },
    {
     "name": "stdout",
     "output_type": "stream",
     "text": [
      "Podaj 2 liczbę \n"
     ]
    },
    {
     "name": "stdin",
     "output_type": "stream",
     "text": [
      " 3\n"
     ]
    },
    {
     "name": "stdout",
     "output_type": "stream",
     "text": [
      "Wynikiem odejmowania jest: 6\n"
     ]
    }
   ],
   "source": [
    "# Zad 1. Napisz funkcję odejmowanie(x,y), która odejmuje od siebie podane argumenty,\n",
    "\n",
    "print(\"Podaj 1 liczbę: \")\n",
    "liczba1 = int(input())\n",
    "print(\"Podaj 2 liczbę \")\n",
    "liczba2 = int(input())\n",
    "\n",
    "def odejmowanie(x,y):\n",
    "    wynik = x - y\n",
    "    return wynik\n",
    "\n",
    "wynik = odejmowanie(liczba1, liczba2)\n",
    "print(f\"Wynikiem odejmowania jest: {wynik}\")"
   ]
  },
  {
   "cell_type": "code",
   "execution_count": 3,
   "id": "493ad784-7d70-4191-a78c-aa8544a75fa3",
   "metadata": {},
   "outputs": [
    {
     "name": "stdout",
     "output_type": "stream",
     "text": [
      "Kognitywistyka\n"
     ]
    }
   ],
   "source": [
    "# Zad 2. Napisz funkcję ostatni(lista), która zwraca ostatni element listy,\n",
    "\n",
    "jakas_lista = (\"3\", True, 5, \"Pizza\", False, 3, 9, \"Kognitywistyka\")\n",
    "\n",
    "def ostatni_el(list):\n",
    "    return list[-1]\n",
    "\n",
    "print(ostatni_el(jakas_lista))"
   ]
  },
  {
   "cell_type": "code",
   "execution_count": 4,
   "id": "6830b00e-9bda-4b62-9ed5-df9d01d52312",
   "metadata": {},
   "outputs": [
    {
     "name": "stdout",
     "output_type": "stream",
     "text": [
      "(True, 5, 'Pizza', False, 3, 9, 'Kognitywistyka')\n"
     ]
    }
   ],
   "source": [
    "# Zad 3. Napisz funkcję ogon(lista), która zwraca wszystko poza pierwszym elementem listy,\n",
    "\n",
    "def ogon(list):\n",
    "    return list[1:]\n",
    "\n",
    "print(ogon(jakas_lista))"
   ]
  },
  {
   "cell_type": "code",
   "execution_count": 5,
   "id": "7bf60071-0790-414d-81e0-3be753752651",
   "metadata": {},
   "outputs": [
    {
     "name": "stdout",
     "output_type": "stream",
     "text": [
      "8\n"
     ]
    }
   ],
   "source": [
    "# Zad 4. Napisz funkcję dlugosc(x), która zwraca wielkość listy (bez wykorzystaniafunkcji len),\n",
    "\n",
    "def dlugosc(x):\n",
    "    count = 0\n",
    "    for el in (x):\n",
    "        count += 1\n",
    "    return count\n",
    "    \n",
    "print(dlugosc(jakas_lista))"
   ]
  },
  {
   "cell_type": "code",
   "execution_count": 6,
   "id": "ce0fdfdc-558a-42b9-9781-2b4c05ba0351",
   "metadata": {},
   "outputs": [
    {
     "name": "stdout",
     "output_type": "stream",
     "text": [
      "Maksymalny element listy: Pizza\n",
      "Minimalny element listy: 3\n"
     ]
    }
   ],
   "source": [
    "# Zad 5. Napisz funkcję maksimum(lista), i minimum(lista), które zwracają maksymalny i minimalny element \n",
    "#  listy (bez wykorzystania funkcji min i max). Jeśli chcesz skorzystać z len() skorzystaj z funkcji dlugosc() z poprzedniego zadania,\n",
    "\n",
    "\n",
    "def maksimum(lista):\n",
    "    if dlugosc(lista) == 0:\n",
    "        return None  \n",
    "    typ_pierwszego = type(lista[0])\n",
    "    filtrowana_lista = [el for el in lista if type(el) == typ_pierwszego]\n",
    "    \n",
    "    if dlugosc(filtrowana_lista) == 0:\n",
    "        return None  \n",
    "    \n",
    "    max_element = filtrowana_lista[0]\n",
    "    for el in filtrowana_lista:\n",
    "        if el > max_element:\n",
    "            max_element = el\n",
    "    return max_element\n",
    "\n",
    "\n",
    "def minimum(lista):\n",
    "    if dlugosc(lista) == 0:\n",
    "        return None  \n",
    "    \n",
    "    typ_pierwszego = type(lista[0])\n",
    "    filtrowana_lista = [el for el in lista if type(el) == typ_pierwszego]\n",
    "    \n",
    "    if dlugosc(filtrowana_lista) == 0:\n",
    "        return None  \n",
    "    \n",
    "    min_element = filtrowana_lista[0]\n",
    "    for el in filtrowana_lista:\n",
    "        if el < min_element:\n",
    "            min_element = el\n",
    "    return min_element\n",
    "\n",
    "print(f\"Maksymalny element listy: {maksimum(jakas_lista)}\")\n",
    "print(f\"Minimalny element listy: {minimum(jakas_lista)}\")"
   ]
  },
  {
   "cell_type": "code",
   "execution_count": 7,
   "id": "7b2c5f89-e69a-4a61-a50d-a22b6c64246c",
   "metadata": {},
   "outputs": [
    {
     "name": "stdout",
     "output_type": "stream",
     "text": [
      "Kognitywistyka\n"
     ]
    }
   ],
   "source": [
    "# Zad 6. Napisz funkcję nta(lista,n), która zwraca n-ty element listy,\n",
    "\n",
    "def nta(lista,n):\n",
    "    return lista[n]\n",
    "\n",
    "print(nta(jakas_lista, -1))"
   ]
  },
  {
   "cell_type": "code",
   "execution_count": 8,
   "id": "3ddd799d-db88-4dc1-992e-f3184485401d",
   "metadata": {},
   "outputs": [
    {
     "name": "stdout",
     "output_type": "stream",
     "text": [
      "False\n",
      "True\n"
     ]
    }
   ],
   "source": [
    "# Zad 7. Napisz funkcję alternatywa(x,y), która przyjmuje tylko 1 lub 0,\n",
    "\n",
    "def alternatywa(x,y):\n",
    "    return True if x or y else False\n",
    "\n",
    "print(alternatywa(0,0))\n",
    "print(alternatywa(1,0))"
   ]
  },
  {
   "cell_type": "code",
   "execution_count": 9,
   "id": "6a719d54-ecb3-46ba-b605-44a85ecc9034",
   "metadata": {},
   "outputs": [
    {
     "name": "stdout",
     "output_type": "stream",
     "text": [
      "Niepoprawna wartość\n",
      "True\n"
     ]
    }
   ],
   "source": [
    "# Zad 8. Napisz funkcję koniunkcja(x,y), która przyjmuje tylko 1 lub 0,\n",
    "\n",
    "\n",
    "def koniunkcja(x,y):\n",
    "    if x not in [0, 1] or y not in [0, 1]:\n",
    "        return \"Niepoprawna wartość\"  \n",
    "    return True if x and y else False\n",
    "        \n",
    "print(koniunkcja(1,3))\n",
    "print(koniunkcja(1,1))"
   ]
  },
  {
   "cell_type": "code",
   "execution_count": 10,
   "id": "4f9c0c72-3965-4b2f-8071-482531efe67c",
   "metadata": {},
   "outputs": [
    {
     "name": "stdout",
     "output_type": "stream",
     "text": [
      "False\n",
      "True\n",
      "True\n",
      "True\n"
     ]
    }
   ],
   "source": [
    "# Zad 9. Napisz funkcję implikacja(x,y), która przyjmuje tylko 1 lub 0,\n",
    "\n",
    "def implikacja(x,y):\n",
    "    if x not in [0, 1] or y not in [0, 1]:\n",
    "        return \"Niepoprawna wartość\"  \n",
    "    return False if x and not y else True\n",
    "\n",
    "print(implikacja(1,0))\n",
    "print(implikacja(0,1))\n",
    "print(implikacja(1,1))\n",
    "print(implikacja(0,0))"
   ]
  },
  {
   "cell_type": "code",
   "execution_count": 11,
   "id": "9f5a3f8e-30dd-473e-8c5f-418a7564ae5f",
   "metadata": {},
   "outputs": [],
   "source": [
    "# Zad 10. Napisz dowolną funkcję operującą na stringach (lower, replace, find, count, itp.) z \n",
    "#  wykorzystaniem jedynie instrukcji warunkowych, pętli i list,\n",
    "\n",
    "def wlasne_replace(string, old, new):\n",
    "    wynik = []  \n",
    "    i = 0 \n",
    "    \n",
    "    while i < len(string):\n",
    "        if string[i:i + len(old)] == old:\n",
    "            wynik.extend(new)  \n",
    "            i += len(old) \n",
    "        else:\n",
    "            wynik.append(string[i])  \n",
    "            i += 1  \n",
    "    \n",
    "    return ''.join(wynik)  \n"
   ]
  },
  {
   "cell_type": "code",
   "execution_count": 12,
   "id": "4af86808-1734-46e7-8f2f-118d43dd6a92",
   "metadata": {},
   "outputs": [
    {
     "name": "stdout",
     "output_type": "stream",
     "text": [
      "Kwadrat z 9: 81\n",
      "Sześcian z 9: 729\n"
     ]
    }
   ],
   "source": [
    "# Zad 11. Napisz funkcję, która oblicza kwadrat lub sześcian podanej liczby (powinniśmy wybrać móc wybrać opcję)\n",
    "\n",
    "def kw_sze(x,y):\n",
    "    if y == 0:\n",
    "        return x**2\n",
    "    else:\n",
    "        return x**3\n",
    "\n",
    "print(f\"Kwadrat z 9: {kw_sze(9,0)}\")\n",
    "print(f\"Sześcian z 9: {kw_sze(9,1)}\")"
   ]
  },
  {
   "cell_type": "code",
   "execution_count": 13,
   "id": "6093204f-2ed9-47f5-b5de-45b2b72df689",
   "metadata": {},
   "outputs": [
    {
     "name": "stdout",
     "output_type": "stream",
     "text": [
      "Wprowadź numer dnia tygodnia\n"
     ]
    },
    {
     "name": "stdin",
     "output_type": "stream",
     "text": [
      " 4\n"
     ]
    },
    {
     "name": "stdout",
     "output_type": "stream",
     "text": [
      "4 dzień tygodnia to: czwartek\n"
     ]
    }
   ],
   "source": [
    "# Zad 12. Napisz funkcję, pobiera numer dnia tygodnia (cyfra od 1 do 7) i zwraca nazwę danego dnia tygodnia\n",
    "\n",
    "def day_of_week(x):\n",
    "    week = (\"poniedziałek\", \"wtorek\", \"środa\", \"czwartek\", \"piątek\", \"sobota\", \"niedziela\")    \n",
    "    if x >= 1 and x <= 7:\n",
    "        return week[x-1]\n",
    "    else:\n",
    "        print(\"Niepoprawny numer dnia tygodnia\")\n",
    "\n",
    "print(\"Wprowadź numer dnia tygodnia\")\n",
    "dzien = int(input())\n",
    "        \n",
    "print(f\"{dzien} dzień tygodnia to: {day_of_week(dzien)}\")"
   ]
  },
  {
   "cell_type": "code",
   "execution_count": 14,
   "id": "c89b6659-78c8-4b66-9a3d-62a5bf644cf9",
   "metadata": {},
   "outputs": [
    {
     "name": "stdout",
     "output_type": "stream",
     "text": [
      "***\n",
      "None\n"
     ]
    }
   ],
   "source": [
    "# Zad 13. Napisz funkcję gwiazdki(liczba), która wyświetla ciąg symboli ”*”, a liczba to liczba gwiazdek, które powinny pojawić się na ekranie\n",
    "\n",
    "def gwiazdki(liczba):\n",
    "    return print(liczba * \"*\")\n",
    "\n",
    "print(gwiazdki(3))"
   ]
  },
  {
   "cell_type": "code",
   "execution_count": 15,
   "id": "f8116a28-908c-4232-9c06-589fb2302abf",
   "metadata": {},
   "outputs": [
    {
     "name": "stdout",
     "output_type": "stream",
     "text": [
      "Nieparzysta\n",
      "None\n",
      "Parzysta\n",
      "None\n"
     ]
    }
   ],
   "source": [
    "# Zad 14. Napisz funkcję, która sprawdza parzystość podanej z klawiatury liczby\n",
    "\n",
    "def parzysta(liczba):\n",
    "    if liczba % 2 == 0:\n",
    "        return print(\"Parzysta\")\n",
    "    else:\n",
    "        return print(\"Nieparzysta\")\n",
    "\n",
    "print(parzysta(3))\n",
    "print(parzysta(8))"
   ]
  },
  {
   "cell_type": "code",
   "execution_count": 16,
   "id": "688a86d4-f3a5-4734-ad48-5e9ed7fd61d6",
   "metadata": {},
   "outputs": [
    {
     "name": "stdin",
     "output_type": "stream",
     "text": [
      "Podaj liczbę X:  5\n"
     ]
    },
    {
     "name": "stdout",
     "output_type": "stream",
     "text": [
      "Suma liczb od 1 do 5 wynosi: 15\n"
     ]
    }
   ],
   "source": [
    "# Zad 15. Przygotuj funkcję, która sumuje liczby od 1 do X, gdzie X to liczba podana przez użytkownika.\n",
    "\n",
    "def suma(x):\n",
    "    if x < 1:\n",
    "        return \"Podaj liczbę większą lub równą 1.\"\n",
    "    wynik = 0\n",
    "    for i in range(1, x + 1): \n",
    "        wynik += i\n",
    "    return wynik\n",
    "\n",
    "x = int(input(\"Podaj liczbę X: \"))\n",
    "print(f\"Suma liczb od 1 do {x} wynosi: {suma(x)}\")"
   ]
  },
  {
   "cell_type": "code",
   "execution_count": null,
   "id": "15986db2-b536-4e3e-81d6-b4edcadb169e",
   "metadata": {},
   "outputs": [],
   "source": [
    "# Zad 16. Napisz program losujący liczbę od 0 do 4. W zależności od wylosowanej liczby powinna zostać uruchomiona odpowiednia funkcja\n",
    "\n",
    "import random\n",
    "\n",
    "funkcje = {\n",
    "    0: koniunkcja,\n",
    "    1: implikacja,\n",
    "    2: alternatywa,\n",
    "    3: nta,\n",
    "    4: suma,\n",
    "}\n",
    "\n",
    "# Losowanie liczby\n",
    "wylosowana = random.randint(0, 4)\n",
    "print(f\"Wylosowano liczbę: {wylosowana}\")\n",
    "\n",
    "funkcje[wylosowana]()  "
   ]
  },
  {
   "cell_type": "code",
   "execution_count": 19,
   "id": "347cac30-b3b3-4dc0-831f-e23decc5ddea",
   "metadata": {},
   "outputs": [],
   "source": [
    "# Zad 17. Napisz program, który pobiera liczbę, a następnie: \n",
    "#  a) za pomocą funkcji sprawdz dol() sprawdza, czy podana liczba jest większa od 10 \n",
    "#  b) za pomocą funkcji sprawdz gore() sprawdza, czy podana liczba jest mniejsza od 100 \n",
    "#  c) za pomocą funkcji pierwiastkuj(), wyznacza pierwiastek z podanej liczby \n",
    "#  d) za pomocą funkcji dodaj dwa(), do spierwiastkowanej liczby dodaje 2 \n",
    "#  e) za pomocą funkcji do potegi(), podnosi otrzymaną liczbę do potęgi 2 \n",
    "#  f) za pomocą funkcji wyswietl() wyświetla otrzymaną liczbę i liczbę, która została na początku wpisana z klawiatury"
   ]
  },
  {
   "cell_type": "code",
   "execution_count": 20,
   "id": "afbbf945-6121-40f1-9b33-b76bbca81a03",
   "metadata": {},
   "outputs": [
    {
     "name": "stdin",
     "output_type": "stream",
     "text": [
      "Podaj liczbę:  13\n"
     ]
    },
    {
     "name": "stdout",
     "output_type": "stream",
     "text": [
      "Liczba jest większa niż 10.\n",
      "Liczba jest mniejsza niż 100.\n",
      "Pierwiastek z liczby: 3.605551275463989\n",
      "Po dodaniu 2 do pierwiastka: 5.60555127546399\n",
      "Po podniesieniu do potęgi 2: 31.422205101855962\n",
      "Pierwiastek z 13.0 wynosi: 31.422205101855962\n"
     ]
    }
   ],
   "source": [
    "import math\n",
    "\n",
    "# a) Funkcja sprawdz dol() - sprawdza, czy liczba jest większa od 10\n",
    "def sprawdz_dol(x):\n",
    "    return x > 10\n",
    "\n",
    "# b) Funkcja sprawdz gore() - sprawdza, czy liczba jest mniejsza od 100\n",
    "def sprawdz_gore(x):\n",
    "    return x < 100\n",
    "\n",
    "# c) Funkcja pierwiastkuj() - wyznacza pierwiastek z liczby\n",
    "def pierwiastkuj(x):\n",
    "    if x < 0:\n",
    "        return \"Pierwiastek z liczby ujemnej jest liczbą zespoloną.\"\n",
    "    return math.sqrt(x)\n",
    "\n",
    "# d) Funkcja dodaj_dwa() - do pierwiastka z liczby dodaje 2\n",
    "def dodaj_dwa(x):\n",
    "    return x + 2\n",
    "\n",
    "# e) Funkcja do_potegi() - podnosi liczbę do potęgi 2\n",
    "def do_potegi(x):\n",
    "    return x ** 2\n",
    "\n",
    "# f) Funkcja wyswietl() - wyświetla otrzymaną liczbę oraz liczbę początkową\n",
    "def wyswietl(x, original):\n",
    "    print(f\"Pierwiastek z {original} wynosi: {x}\")\n",
    "\n",
    "# Główna część programu\n",
    "try:\n",
    "    liczba = float(input(\"Podaj liczbę: \"))  # Pobieramy liczbę od użytkownika\n",
    "    \n",
    "    # a) Sprawdzamy, czy liczba jest większa od 10\n",
    "    if sprawdz_dol(liczba):\n",
    "        print(\"Liczba jest większa niż 10.\")\n",
    "    else:\n",
    "        print(\"Liczba nie jest większa niż 10.\")\n",
    "    \n",
    "    # b) Sprawdzamy, czy liczba jest mniejsza niż 100\n",
    "    if sprawdz_gore(liczba):\n",
    "        print(\"Liczba jest mniejsza niż 100.\")\n",
    "    else:\n",
    "        print(\"Liczba nie jest mniejsza niż 100.\")\n",
    "    \n",
    "    # c) Obliczamy pierwiastek z liczby\n",
    "    wynik_pierwiastek = pierwiastkuj(liczba)\n",
    "    print(f\"Pierwiastek z liczby: {wynik_pierwiastek}\")\n",
    "    \n",
    "    # d) Dodajemy 2 do pierwiastka\n",
    "    wynik_dodaj_dwa = dodaj_dwa(wynik_pierwiastek)\n",
    "    print(f\"Po dodaniu 2 do pierwiastka: {wynik_dodaj_dwa}\")\n",
    "    \n",
    "    # e) Podnosimy do potęgi 2\n",
    "    wynik_potega = do_potegi(wynik_dodaj_dwa)\n",
    "    print(f\"Po podniesieniu do potęgi 2: {wynik_potega}\")\n",
    "    \n",
    "    # f) Wyświetlamy wyniki\n",
    "    wyswietl(wynik_potega, liczba)\n",
    "    \n",
    "except ValueError:\n",
    "    print(\"Proszę podać poprawną liczbę.\")\n"
   ]
  },
  {
   "cell_type": "code",
   "execution_count": null,
   "id": "38eb75e7-9ad0-4708-8c69-106058aa25fb",
   "metadata": {},
   "outputs": [],
   "source": []
  }
 ],
 "metadata": {
  "kernelspec": {
   "display_name": "Python 3 (ipykernel)",
   "language": "python",
   "name": "python3"
  },
  "language_info": {
   "codemirror_mode": {
    "name": "ipython",
    "version": 3
   },
   "file_extension": ".py",
   "mimetype": "text/x-python",
   "name": "python",
   "nbconvert_exporter": "python",
   "pygments_lexer": "ipython3",
   "version": "3.9.12"
  }
 },
 "nbformat": 4,
 "nbformat_minor": 5
}
