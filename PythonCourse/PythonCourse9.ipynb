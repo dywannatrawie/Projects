{
 "cells": [
  {
   "cell_type": "markdown",
   "id": "3b215c6e-87af-4779-b7b0-66029d25dfd3",
   "metadata": {},
   "source": [
    "Zad 9\n",
    "\n",
    "Funkcje cz. 2\n",
    "\n",
    "1. Napisz funkcje dlugosc(lista), która zwraca wielkość listy (rekurencyjnie)\n",
    "2. Napisz funkcje ostatni(lista), która zwraca ostatni element listy (rekurencyjnie)\n",
    "3. Napisz funkcję czy na liscie(lista, element), która sprawdza, czy dany element znajduje się na liście (rekurencyjnie) i zwaraca informację ”TAK” lub ”NIE”\n",
    "4. Napisz funkcje nta(lista, numer elementu), która zwraca n-ty element listy (rekurencyjnie)\n",
    "5. Napisz funkcję, która wyznacza n-tą (n jest liczba naturalną) potęgę zadanej liczby (rekurencyjnie)\n",
    "6. Napisz funkcje maksimum(lista), i minimum(lista), które zwracają maksymalny i minimalny element listy (rekurencyjnie)\n",
    "7. Napisz funkcje ogon(lista), która zwraca wszystko poza pierwszym elementem listy (rekurencyjnie)\n",
    "8. Napisz funkcję, która wypisuje sumę dwóch liczb\n",
    "9. Napisz funkcję, która zwraca sumę dwóch liczb\n",
    "10. Przygotuj program ”kalkulator”, tym razem każde działanie powinno być wykonywane przez inną funkcję, tzn. program powinien zawierać funkcję ”dodawanie”, ”odejmowanie”, itp...\n",
    "11. Napisz funkcję, która pyta o dwie liczby i mówi czy są one równe a jeśli nie to mówi jaka jest różnica między nimi\n",
    "12.  Napisz funkcję, która pobiera dwie listy a następnie zwraca je połączone\n",
    "13. Napisz funkcję, która pobiera dwie listy, następnie zwraca je połączone, jednak tak, aby ich elementy się nie powtarzały\n",
    "14. Napisz funkcję, która pobiera liczbę i zwraca jej pierwiastek zaokrąglony do dwóch miejsc po przecinku oraz informację o tym czy jest parzysta\n",
    "15. Napisz funkcję, która pobiera listę wypełnioną liczbami i zwraca długość listy oraz jej największy element\n",
    "16. Dla chętnych: kółko i krzyżyk"
   ]
  },
  {
   "cell_type": "code",
   "execution_count": 3,
   "id": "276e3714-99fc-48f4-b90f-8ee8750b232e",
   "metadata": {},
   "outputs": [
    {
     "name": "stdout",
     "output_type": "stream",
     "text": [
      "Długość listy: 6\n"
     ]
    }
   ],
   "source": [
    "# Zad 1. Napisz funkcje dlugosc(lista), która zwraca wielkość listy (rekurencyjnie)\n",
    "\n",
    "def dlugosc(lista):\n",
    "    if not lista:  \n",
    "        return 0\n",
    "    else:\n",
    "        return 1 + dlugosc(lista[1:])  \n",
    "    \n",
    "    \n",
    "przykladowa_lista = [\"kognitywistyka\", 3, True, \"Pizza\", \"2\", \"Python\"]\n",
    "print(f\"Długość listy: {dlugosc(przykladowa_lista)}\")\n"
   ]
  },
  {
   "cell_type": "code",
   "execution_count": 4,
   "id": "3c0d6173-8b7b-4e69-9879-c92aeaff1301",
   "metadata": {},
   "outputs": [
    {
     "name": "stdout",
     "output_type": "stream",
     "text": [
      "Ostatni element listy: Python\n"
     ]
    }
   ],
   "source": [
    "# Zad 2. Napisz funkcje ostatni(lista), która zwraca ostatni element listy (rekurencyjnie)\n",
    "\n",
    "def ostatni(lista):\n",
    "    if len(lista) == 1: \n",
    "        return lista[0]\n",
    "    else:\n",
    "        return ostatni(lista[1:])  \n",
    "\n",
    "print(f\"Ostatni element listy: {ostatni(przykladowa_lista)}\")"
   ]
  },
  {
   "cell_type": "code",
   "execution_count": 5,
   "id": "7fc5a6af-d308-4162-96e7-fa682272fb48",
   "metadata": {},
   "outputs": [
    {
     "name": "stdout",
     "output_type": "stream",
     "text": [
      "Czy element Pizza jest na liście? TAK\n",
      "Czy element 3 jest na liście? NIE\n"
     ]
    }
   ],
   "source": [
    "# Zad 3. Napisz funkcję czy na liscie(lista, element), która sprawdza, \n",
    "#  czy dany element znajduje się na liście (rekurencyjnie) i zwaraca informację ”TAK” lub ”NIE”\n",
    "\n",
    "def czy_na_liscie(lista, element):\n",
    "    if not lista: \n",
    "        return \"NIE\"\n",
    "    elif lista[0] == element: \n",
    "        return \"TAK\"\n",
    "    else:\n",
    "        return czy_na_liscie(lista[1:], element) \n",
    "\n",
    "\n",
    "element = \"Pizza\"\n",
    "print(f\"Czy element {element} jest na liście? {czy_na_liscie(przykladowa_lista, element)}\")\n",
    "\n",
    "element = \"3\"\n",
    "print(f\"Czy element {element} jest na liście? {czy_na_liscie(przykladowa_lista, element)}\")\n",
    "\n"
   ]
  },
  {
   "cell_type": "code",
   "execution_count": 7,
   "id": "e16fd44f-86aa-466c-bb32-8d6d8c8e6a4e",
   "metadata": {},
   "outputs": [
    {
     "name": "stdout",
     "output_type": "stream",
     "text": [
      "Element o numerze 5: Python\n"
     ]
    }
   ],
   "source": [
    "# Zad 4. Napisz funkcje nta(lista, numer elementu), która zwraca n-ty element listy (rekurencyjnie)\n",
    "\n",
    "def nta(lista, numer):\n",
    "    if numer == 0:  \n",
    "        return lista[0]\n",
    "    else:\n",
    "        return nta(lista[1:], numer - 1) \n",
    "\n",
    "numer = 5\n",
    "print(f\"Element o numerze {numer}: {nta(przykladowa_lista, numer)}\")"
   ]
  },
  {
   "cell_type": "code",
   "execution_count": 8,
   "id": "03857d9f-baaa-48bc-8ac1-6b1bb6d6d8b9",
   "metadata": {},
   "outputs": [
    {
     "name": "stdout",
     "output_type": "stream",
     "text": [
      "2 do potęgi 3 wynosi: 8\n"
     ]
    }
   ],
   "source": [
    "# Zad 5. Napisz funkcję, która wyznacza n-tą (n jest liczba naturalną) potęgę zadanej liczby (rekurencyjnie)\n",
    "\n",
    "def potega(x, n):\n",
    "    if n == 0: \n",
    "        return 1\n",
    "    else:\n",
    "        return x * potega(x, n - 1)  \n",
    "\n",
    "liczba = 2\n",
    "potega_n = 3  \n",
    "print(f\"{liczba} do potęgi {potega_n} wynosi: {potega(liczba, potega_n)}\")"
   ]
  },
  {
   "cell_type": "code",
   "execution_count": 10,
   "id": "6253b26b-0ae6-4b52-b54b-2d0baf2befce",
   "metadata": {},
   "outputs": [
    {
     "name": "stdout",
     "output_type": "stream",
     "text": [
      "Maksymalny element listy: 9\n",
      "Minimalny element listy: 1\n"
     ]
    }
   ],
   "source": [
    "# Zad 6. Napisz funkcje maksimum(lista), i minimum(lista), które zwracają maksymalny i minimalny element listy (rekurencyjnie)\n",
    "\n",
    "def maksimum(lista):\n",
    "    if len(lista) == 1:\n",
    "        return lista[0]\n",
    "    \n",
    "    max_reszta = maksimum(lista[1:])\n",
    "    return lista[0] if lista[0] > max_reszta else max_reszta\n",
    "\n",
    "def minimum(lista):\n",
    "    if len(lista) == 1:\n",
    "        return lista[0]\n",
    "    \n",
    "    min_reszta = minimum(lista[1:])\n",
    "    return lista[0] if lista[0] < min_reszta else min_reszta\n",
    "\n",
    "przykladowa_lista1 = [3, 5, 1, 9, 2, 8]\n",
    "\n",
    "print(f\"Maksymalny element listy: {maksimum(przykladowa_lista1)}\")\n",
    "print(f\"Minimalny element listy: {minimum(przykladowa_lista1)}\")"
   ]
  },
  {
   "cell_type": "code",
   "execution_count": 11,
   "id": "bbf08a1b-ec50-4b13-b090-d51401f84de8",
   "metadata": {},
   "outputs": [
    {
     "name": "stdout",
     "output_type": "stream",
     "text": [
      "Ogon listy: ['kognitywistyka', 3, True, 'Pizza', '2']\n"
     ]
    }
   ],
   "source": [
    "# Zad 7. Napisz funkcje ogon(lista), która zwraca wszystko poza pierwszym elementem listy (rekurencyjnie)\n",
    "\n",
    "def ogon(lista):\n",
    "    if len(lista) == 1:  \n",
    "        return []\n",
    "    else:\n",
    "        return [lista[0]] + ogon(lista[1:])\n",
    "\n",
    "print(f\"Ogon listy: {ogon(przykladowa_lista)}\")"
   ]
  },
  {
   "cell_type": "code",
   "execution_count": 12,
   "id": "bd6964cd-e14e-4ea6-96a5-dd2cdd59d96a",
   "metadata": {},
   "outputs": [
    {
     "name": "stdout",
     "output_type": "stream",
     "text": [
      "Suma 3 i 5 wynosi: 8\n"
     ]
    }
   ],
   "source": [
    "# Zad 8. Napisz funkcję, która wypisuje sumę dwóch liczb\n",
    "\n",
    "def suma_dwoch_liczb(a, b):\n",
    "    wynik = a + b\n",
    "    print(f\"Suma {a} i {b} wynosi: {wynik}\")\n",
    "\n",
    "suma_dwoch_liczb(3, 5)"
   ]
  },
  {
   "cell_type": "code",
   "execution_count": 14,
   "id": "6e41e82a-62b8-4e77-a6f5-99b6a550bc18",
   "metadata": {},
   "outputs": [
    {
     "name": "stdout",
     "output_type": "stream",
     "text": [
      "8\n"
     ]
    }
   ],
   "source": [
    "# Zad 9. Napisz funkcję, która zwraca sumę dwóch liczb\n",
    "\n",
    "def suma_dwoch_liczb(a, b):\n",
    "    wynik = a + b\n",
    "    print(wynik)\n",
    "\n",
    "suma_dwoch_liczb(3, 5)"
   ]
  },
  {
   "cell_type": "code",
   "execution_count": 15,
   "id": "1e2afc49-b288-4495-8cf3-4a35214bf24c",
   "metadata": {},
   "outputs": [
    {
     "name": "stdout",
     "output_type": "stream",
     "text": [
      "Dodawanie: 18\n",
      "Odejmowanie: 8\n",
      "Mnożenie: 65\n",
      "Dzielenie: 2.6\n"
     ]
    }
   ],
   "source": [
    "# Zad 10. Przygotuj program ”kalkulator”, tym razem każde działanie powinno być wykonywane przez inną funkcję, \n",
    "#  tzn. program powinien zawierać funkcję ”dodawanie”, ”odejmowanie”, itp...\n",
    "\n",
    "def dodawanie(a, b):\n",
    "    return a + b\n",
    "\n",
    "def odejmowanie(a, b):\n",
    "    return a - b\n",
    "\n",
    "def mnozenie(a, b):\n",
    "    return a * b\n",
    "\n",
    "def dzielenie(a, b):\n",
    "    if b != 0:\n",
    "        return a / b\n",
    "    else:\n",
    "        return \"Nie można dzielić przez 0!\"\n",
    "\n",
    "def kalkulator(a, b, operacja):\n",
    "    if operacja == \"dodawanie\":\n",
    "        return dodawanie(a, b)\n",
    "    elif operacja == \"odejmowanie\":\n",
    "        return odejmowanie(a, b)\n",
    "    elif operacja == \"mnożenie\":\n",
    "        return mnozenie(a, b)\n",
    "    elif operacja == \"dzielenie\":\n",
    "        return dzielenie(a, b)\n",
    "    else:\n",
    "        return \"Nieznana operacja\"\n",
    "\n",
    "a = 13\n",
    "b = 5\n",
    "\n",
    "print(f\"Dodawanie: {kalkulator(a, b, 'dodawanie')}\")\n",
    "print(f\"Odejmowanie: {kalkulator(a, b, 'odejmowanie')}\")\n",
    "print(f\"Mnożenie: {kalkulator(a, b, 'mnożenie')}\")\n",
    "print(f\"Dzielenie: {kalkulator(a, b, 'dzielenie')}\")"
   ]
  },
  {
   "cell_type": "code",
   "execution_count": 16,
   "id": "873fe61b-6d7b-48c5-b7ff-06b390917f49",
   "metadata": {},
   "outputs": [
    {
     "name": "stdin",
     "output_type": "stream",
     "text": [
      "Podaj pierwszą liczbę:  7\n",
      "Podaj drugą liczbę:  7.1\n"
     ]
    },
    {
     "name": "stdout",
     "output_type": "stream",
     "text": [
      "Liczby są różne. Różnica między nimi wynosi: 0.09999999999999964\n"
     ]
    }
   ],
   "source": [
    "# Zad 11. Napisz funkcję, która pyta o dwie liczby i mówi czy są one równe a jeśli nie to mówi jaka jest różnica między nimi\n",
    "\n",
    "def porownaj_liczby():\n",
    "    a = float(input(\"Podaj pierwszą liczbę: \"))\n",
    "    b = float(input(\"Podaj drugą liczbę: \"))\n",
    "    \n",
    "    if a == b:\n",
    "        print(\"Liczby są równe.\")\n",
    "    else:\n",
    "        roznica = abs(a - b)\n",
    "        print(f\"Liczby są różne. Różnica między nimi wynosi: {roznica}\")\n",
    "\n",
    "porownaj_liczby()"
   ]
  },
  {
   "cell_type": "code",
   "execution_count": 18,
   "id": "49bad84a-8681-4088-a465-f75dff930532",
   "metadata": {},
   "outputs": [
    {
     "name": "stdout",
     "output_type": "stream",
     "text": [
      "Połączone listy: [1, 2, 3, 4, 4, 5, 6]\n"
     ]
    }
   ],
   "source": [
    "# Zad 12. Napisz funkcję, która pobiera dwie listy a następnie zwraca je połączone\n",
    "\n",
    "def polacz_listy(lista1, lista2):\n",
    "    return lista1 + lista2 \n",
    "\n",
    "lista1 = [1, 2, 3, 4]\n",
    "lista2 = [4, 5, 6]\n",
    "wynik = polacz_listy(lista1, lista2)\n",
    "\n",
    "print(f\"Połączone listy: {wynik}\")"
   ]
  },
  {
   "cell_type": "code",
   "execution_count": 19,
   "id": "d5395415-dea1-4d8c-835f-f58d6e25cdca",
   "metadata": {},
   "outputs": [
    {
     "name": "stdout",
     "output_type": "stream",
     "text": [
      "Połączone listy bez powtórzeń: [1, 2, 3, 4, 5, 6]\n"
     ]
    }
   ],
   "source": [
    "# Zad 13. Napisz funkcję, która pobiera dwie listy, następnie zwraca je połączone, jednak tak, aby ich elementy się nie powtarzały\n",
    "\n",
    "def polacz_bez_powtorzen(lista1, lista2):\n",
    "    return list(set(lista1 + lista2))\n",
    "\n",
    "\n",
    "lista1 = [1, 2, 3, 4, 3, 3, 4, 5]\n",
    "lista2 = [3, 4, 5, 6]\n",
    "wynik = polacz_bez_powtorzen(lista1, lista2)\n",
    "\n",
    "print(f\"Połączone listy bez powtórzeń: {wynik}\")"
   ]
  },
  {
   "cell_type": "code",
   "execution_count": 21,
   "id": "7e2cdbd5-0e55-4ac2-832d-f314077060a6",
   "metadata": {},
   "outputs": [
    {
     "name": "stdout",
     "output_type": "stream",
     "text": [
      "Pierwiastek z 16 to 4.0, liczba jest parzysta.\n"
     ]
    }
   ],
   "source": [
    "# Zad 14. Napisz funkcję, która pobiera liczbę i zwraca jej pierwiastek zaokrąglony do dwóch miejsc po \n",
    "#  przecinku oraz informację o tym czy jest parzysta\n",
    "\n",
    "import math\n",
    "\n",
    "def pierwiastek_i_parzystosc(liczba):\n",
    "    pierwiastek = math.sqrt(liczba)\n",
    "    pierwiastek_zaokraglony = round(pierwiastek, 2)\n",
    "    \n",
    "    if liczba % 2 == 0:\n",
    "        parzysta = \"jest parzysta\"\n",
    "    else:\n",
    "        parzysta = \"nie jest parzysta\"\n",
    "    \n",
    "    return pierwiastek_zaokraglony, parzysta\n",
    "\n",
    "liczba = 16\n",
    "pierwiastek, parzystosc = pierwiastek_i_parzystosc(liczba)\n",
    "\n",
    "print(f\"Pierwiastek z {liczba} to {pierwiastek}, liczba {parzystosc}.\")"
   ]
  },
  {
   "cell_type": "code",
   "execution_count": 22,
   "id": "3f998001-a53a-43f9-a101-330aae73ca80",
   "metadata": {},
   "outputs": [
    {
     "name": "stdout",
     "output_type": "stream",
     "text": [
      "Długość listy: 6, największy element: 9\n"
     ]
    }
   ],
   "source": [
    "# Zad 15. Napisz funkcję, która pobiera listę wypełnioną liczbami i zwraca długość listy oraz jej największy element\n",
    "\n",
    "def dlugosc_i_max(lista):\n",
    "    dlugosc = len(lista)\n",
    "    najwiekszy = max(lista)\n",
    "    \n",
    "    return dlugosc, najwiekszy\n",
    "\n",
    "lista = [1, 3, 5, 7, 9, 2]\n",
    "dlugosc, najwiekszy_element = dlugosc_i_max(lista)\n",
    "\n",
    "print(f\"Długość listy: {dlugosc}, największy element: {najwiekszy_element}\")\n"
   ]
  },
  {
   "cell_type": "code",
   "execution_count": 24,
   "id": "ced2089e-d294-4043-91c0-973eb90c28b9",
   "metadata": {},
   "outputs": [
    {
     "name": "stdout",
     "output_type": "stream",
     "text": [
      "  |   |  \n",
      "---------\n",
      "  |   |  \n",
      "---------\n",
      "  |   |  \n",
      "Gracz X, podaj wiersz i kolumnę (0-2) rozdzielone spacją:\n"
     ]
    },
    {
     "name": "stdin",
     "output_type": "stream",
     "text": [
      " 0 2\n"
     ]
    },
    {
     "name": "stdout",
     "output_type": "stream",
     "text": [
      "  |   | X\n",
      "---------\n",
      "  |   |  \n",
      "---------\n",
      "  |   |  \n",
      "Gracz O, podaj wiersz i kolumnę (0-2) rozdzielone spacją:\n"
     ]
    },
    {
     "name": "stdin",
     "output_type": "stream",
     "text": [
      " 0 1\n"
     ]
    },
    {
     "name": "stdout",
     "output_type": "stream",
     "text": [
      "  | O | X\n",
      "---------\n",
      "  |   |  \n",
      "---------\n",
      "  |   |  \n",
      "Gracz X, podaj wiersz i kolumnę (0-2) rozdzielone spacją:\n"
     ]
    },
    {
     "name": "stdin",
     "output_type": "stream",
     "text": [
      " 1 1\n"
     ]
    },
    {
     "name": "stdout",
     "output_type": "stream",
     "text": [
      "  | O | X\n",
      "---------\n",
      "  | X |  \n",
      "---------\n",
      "  |   |  \n",
      "Gracz O, podaj wiersz i kolumnę (0-2) rozdzielone spacją:\n"
     ]
    },
    {
     "name": "stdin",
     "output_type": "stream",
     "text": [
      " 0 0\n"
     ]
    },
    {
     "name": "stdout",
     "output_type": "stream",
     "text": [
      "O | O | X\n",
      "---------\n",
      "  | X |  \n",
      "---------\n",
      "  |   |  \n",
      "Gracz X, podaj wiersz i kolumnę (0-2) rozdzielone spacją:\n"
     ]
    },
    {
     "name": "stdin",
     "output_type": "stream",
     "text": [
      " 2 0\n"
     ]
    },
    {
     "name": "stdout",
     "output_type": "stream",
     "text": [
      "O | O | X\n",
      "---------\n",
      "  | X |  \n",
      "---------\n",
      "X |   |  \n",
      "Gratulacje! Gracz X wygrał!\n"
     ]
    }
   ],
   "source": [
    "# Zad 16. Dla chętnych: kółko i krzyżyk\n",
    "\n",
    "def wyswietl_plansze(plansza):\n",
    "    for i in range(3):\n",
    "        print(\" | \".join(plansza[i]))\n",
    "        if i < 2:\n",
    "            print(\"---------\")\n",
    "            \n",
    "def sprawdz_wygrana(plansza, znak):\n",
    "    for i in range(3):\n",
    "        if plansza[i][0] == plansza[i][1] == plansza[i][2] == znak:\n",
    "            return True\n",
    "    for i in range(3):\n",
    "        if plansza[0][i] == plansza[1][i] == plansza[2][i] == znak:\n",
    "            return True\n",
    "    if plansza[0][0] == plansza[1][1] == plansza[2][2] == znak:\n",
    "        return True\n",
    "    if plansza[0][2] == plansza[1][1] == plansza[2][0] == znak:\n",
    "        return True\n",
    "    return False\n",
    "\n",
    "def sprawdz_remis(plansza):\n",
    "    for i in range(3):\n",
    "        for j in range(3):\n",
    "            if plansza[i][j] == \" \":\n",
    "                return False\n",
    "    return True\n",
    "\n",
    "def kółko_i_krzyżyk():\n",
    "    plansza = [[\" \" for _ in range(3)] for _ in range(3)]\n",
    "    gracz = \"X\"  \n",
    "    while True:\n",
    "        wyswietl_plansze(plansza)\n",
    "        print(f\"Gracz {gracz}, podaj wiersz i kolumnę (0-2) rozdzielone spacją:\")\n",
    "        wiersz, kolumna = map(int, input().split())\n",
    "        \n",
    "        if plansza[wiersz][kolumna] != \" \":\n",
    "            print(\"To pole jest już zajęte, spróbuj ponownie.\")\n",
    "            continue\n",
    "        \n",
    "        plansza[wiersz][kolumna] = gracz\n",
    "        \n",
    "        if sprawdz_wygrana(plansza, gracz):\n",
    "            wyswietl_plansze(plansza)\n",
    "            print(f\"Gratulacje! Gracz {gracz} wygrał!\")\n",
    "            break\n",
    "        \n",
    "        if sprawdz_remis(plansza):\n",
    "            wyswietl_plansze(plansza)\n",
    "            print(\"Remis! Gra zakończona.\")\n",
    "            break\n",
    "        \n",
    "        gracz = \"O\" if gracz == \"X\" else \"X\"\n",
    "\n",
    "kółko_i_krzyżyk()\n"
   ]
  }
 ],
 "metadata": {
  "kernelspec": {
   "display_name": "Python 3 (ipykernel)",
   "language": "python",
   "name": "python3"
  },
  "language_info": {
   "codemirror_mode": {
    "name": "ipython",
    "version": 3
   },
   "file_extension": ".py",
   "mimetype": "text/x-python",
   "name": "python",
   "nbconvert_exporter": "python",
   "pygments_lexer": "ipython3",
   "version": "3.9.12"
  }
 },
 "nbformat": 4,
 "nbformat_minor": 5
}
