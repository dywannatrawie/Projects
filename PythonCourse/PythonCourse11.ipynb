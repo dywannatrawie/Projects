{
 "cells": [
  {
   "cell_type": "markdown",
   "id": "68e3c250-e0fd-4fb0-9116-88e7202e1d37",
   "metadata": {},
   "source": [
    "Zad 11\n",
    "\n",
    "Klasy cz. 2\n",
    "\n",
    "1. Dodaj do programu ”wojownik” o możliwość podania informacji, że gracz przegrał, np. ”Gracz przegrał!”.\n",
    "2. Dodaj do programu ”wojownik” o możliwość podania informacji, że dany gracz wygrał, np. ”Gracz 1 wygrał!” albo ”Dfgh wygrał!”.\n",
    "3. Rozszerz klasę ”wojownik” o możliwość rzucania zaklęć. Teraz naprzemiennie powinien zadawać ciosy i rzucać zaklęcia.\n",
    "4. Wzorując się na klasie wojownik stwórz kolejną klasę o dowolnej nazwie. Tym razem, powinna ona umożliwiać wybór, czy gramy czarodziejem czy wojownikiem. Zaklęcia czarodzieja muszą być silniejsze niż jego ciosy wręcz. Wojownik może zadawać tylko ciosy wręcz. Czarodziej atakuje naprzemiennie ciosem wręcz lub czarem.\n",
    "5. Napisz klasę ”Sim”, która tworzy Sima. Stwórz 2 simy, umożliw im rozmowę, bójkę, wręczenie prezentu i kłótnię. W zależności od zachowania ich relacja powinna się pogłębiać lub osłabiać.\n",
    "6. Mamy dwóch Simów: Sim1 i Sim2. Przeprowadź symulację, w której Sim1 próbuje zdobyć przyjaźń Sim2 poprzez rozmowę i wręczenie prezentu. Następnie Sim1 decyduje się na romans z Sim2, co prowadzi do konfliktu. Ostatecznie, po rozwiązaniu konfliktu, Sim1 i Sim2 decydują się na pojednanie. Wyświetl stan relacji między nimi po każdej interakcji\n",
    "7. Symulator mikrofalówki: Napisz klasę ”Mikrofalówka”, która będzie miała atrybuty takie jak: marka, model, moc, włączona/ wyłączona. Dodaj metody do włączania, wyłączania mikrofalówki oraz ustawiania czasu i rozpoczęcia podgrzewania. Utwórz obiekt klasy ”Mikrofalówka” i przetestuj różne działania, takie jak włączanie, wyłączanie, ustawianie czasu i rozpoczęcie podgrzewania.\n",
    "8. Symulator automatu z napojami: Napisz klasę ”AutomatNapojowy”, która będzie miała atrybuty takie jak: lista dostępnych napojów, stan zapasu, dostępne środki płatności. Dodaj metody do wyświetlania dostępnych napojów, sprawdzania stanu zapasu, wybierania napoju i dokonywania płatności. Utwórz obiekt klasy ”AutomatNapojowy” i przetestuj różne działania, takie jak wyświetlanie dostępnych napojów, wybieranie napoju, sprawdzanie stanu zapasu i dokonywanie płatności.\n",
    "9. Zaimplementuj klasę o nazwie KontoBankowe z następującymi metodami:\n",
    "- a) wplata (bank_konto, kwota): Ta metoda pozwala na dokonanie wpłaty z jednego konta bankowego na drugie. Można wpłacać jedynie na konto bieżące. Parametr bank konto określa konto bankowe, na które chcemy dokonać wpłaty, a kwota to kwota pieniędzy, którą chcemy wpłacić.\n",
    "- b) wyplata konta biezacego(kwota): Ta metoda umożliwia wypłatę pieniędzy z konta bieżącego. Parametr kwota określa żądaną kwotę do wypłacenia.\n",
    "- c) wyplata konta oszczednosciowego(kwota): Ta metoda umożliwia wypłatę pieniędzy z konta oszczędnościowego. Parametr kwota określa żądaną kwotę do wypłacenia.\n",
    "- d) przelew biezace na oszczednosciowe(kwota): Ta metoda pozwala na dokonanie przelewu z konta bieżącego na konto oszczędnościowe. Parametr kwota określa żądaną kwotę do przelania.\n",
    "- e) przelew oszczednosciowe na biezace(kwota): Ta metoda pozwala na dokonanie przelewu z konta oszczędnościowego na konto bieżące. Parametr kwota określa żądaną kwotę do przelania.\n",
    "- f)  przelew zewnetrzny biezacego(numer konta, kwota): Ta metoda umożliwia dokonanie przelewu z konta bieżącego do innego konta bankowego (niekoniecznie należącego do tej samej klasy KontoBankowe). Parametr numer konta określa numer konta docelowego, a kwota to żądana kwota do przelania. \n",
    "Przedstaw interakcję pomiędzy trzema obiektami klasy KontoBankowe, demonstrując wymianę środków między nimi. Wykonaj następujące operacje:\n",
    "- Wpłać 1000 zł na konto bieżące konta A.\n",
    "- Przelej 500 zł z konta bieżącego konta A na konto oszczędnościowe konta B.\n",
    "- Wykonaj wypłatę 200 zł z konta oszczędnościowego konta B.\n",
    "- Przelej 300 zł z konta oszczędnościowego konta B na konto bieżące konta C.\n",
    "- Wykonaj przelew z konta bieżącego konta C na inne konto bankowe"
   ]
  },
  {
   "cell_type": "code",
   "execution_count": 6,
   "id": "ff3dcc1f-7714-4a2e-b2c2-18be5dcfbd48",
   "metadata": {},
   "outputs": [
    {
     "name": "stdout",
     "output_type": "stream",
     "text": [
      "Szalony Karczmarz (czarodziej) ma 64 pkt życia.\n",
      "Mietek Łotrzyk (wojownik) ma 93 pkt życia.\n",
      "Rozpoczynamy walkę!\n",
      "\n",
      "Szalony Karczmarz (czarodziej) zadał 15 obrażeń! Mietek Łotrzyk ma teraz 78 pkt życia.\n",
      "Mietek Łotrzyk (wojownik) zadał 24 obrażeń! Szalony Karczmarz ma teraz 40 pkt życia.\n",
      "Szalony Karczmarz (czarodziej) zadał 6 obrażeń! Mietek Łotrzyk ma teraz 72 pkt życia.\n",
      "Mietek Łotrzyk (wojownik) zadał 24 obrażeń! Szalony Karczmarz ma teraz 16 pkt życia.\n",
      "Szalony Karczmarz (czarodziej) zadał 15 obrażeń! Mietek Łotrzyk ma teraz 57 pkt życia.\n",
      "Mietek Łotrzyk (wojownik) zadał 24 obrażeń! Szalony Karczmarz ma teraz 0 pkt życia.\n",
      "Szalony Karczmarz przegrał!\n",
      "Mietek Łotrzyk wygrał!\n"
     ]
    }
   ],
   "source": [
    "# Zad 1. Dodaj do programu ”wojownik” o możliwość podania informacji, że gracz przegrał, np. ”Gracz przegrał!”.\n",
    "# Zad 2. Dodaj do programu ”wojownik” o możliwość podania informacji, że dany gracz wygrał, np. ”Gracz 1 wygrał!” albo ”Dfgh wygrał!”.\n",
    "# Zad 3. Rozszerz klasę ”wojownik” o możliwość rzucania zaklęć. Teraz naprzemiennie powinien zadawać ciosy i rzucać zaklęcia.\n",
    "# Zad 4. Wzorując się na klasie wojownik stwórz kolejną klasę o dowolnej nazwie. Tym razem, powinna ona umożliwiać wybór, czy gramy \n",
    "#   czarodziejem czy wojownikiem. Zaklęcia czarodzieja muszą być silniejsze niż jego ciosy wręcz. \n",
    "#   Wojownik może zadawać tylko ciosy wręcz. Czarodziej atakuje naprzemiennie ciosem wręcz lub czarem.\n",
    "\n",
    "import random\n",
    "\n",
    "class Postac:\n",
    "    def __init__(self, imie, typ):\n",
    "        self.__imie = imie\n",
    "        self.__typ = typ  \n",
    "        if typ == \"czarodziej\":\n",
    "            self.__pkt_zycia = random.randint(50, 90)\n",
    "        elif typ == \"wojownik\":\n",
    "            self.__pkt_zycia = random.randint(70, 140)\n",
    "        else:\n",
    "            raise ValueError(\"Nieprawidłowy typ postaci. Dozwolone: 'wojownik', 'czarodziej'.\")\n",
    "        self.__pkt_ataku = random.randint(0, 30)\n",
    "        self.__moc_zaklecia = random.randint(0, 50) if typ == \"czarodziej\" else 0\n",
    "        self.__czy_rzuca_zaklecie = False  \n",
    "\n",
    "    def obrona(self, obrazenia):\n",
    "        self.__pkt_zycia -= obrazenia\n",
    "        if self.__pkt_zycia < 0:\n",
    "            self.__pkt_zycia = 0\n",
    "\n",
    "    def atak(self):\n",
    "        if self.__typ == \"czarodziej\":\n",
    "            if self.__czy_rzuca_zaklecie:\n",
    "                self.__czy_rzuca_zaklecie = False\n",
    "                return self.__moc_zaklecia\n",
    "            else:\n",
    "                self.__czy_rzuca_zaklecie = True\n",
    "                return self.__pkt_ataku\n",
    "        else:  \n",
    "            return self.__pkt_ataku\n",
    "\n",
    "    def pobierz_pkt_zycia(self):\n",
    "        return self.__pkt_zycia\n",
    "\n",
    "    def pobierz_imie(self):\n",
    "        return self.__imie\n",
    "\n",
    "    def pobierz_typ(self):\n",
    "        return self.__typ\n",
    "\n",
    "gracz1 = Postac(\"Szalony Karczmarz\", \"czarodziej\")\n",
    "gracz2 = Postac(\"Mietek Łotrzyk\", \"wojownik\")\n",
    "\n",
    "print(f\"{gracz1.pobierz_imie()} ({gracz1.pobierz_typ()}) ma {gracz1.pobierz_pkt_zycia()} pkt życia.\")\n",
    "print(f\"{gracz2.pobierz_imie()} ({gracz2.pobierz_typ()}) ma {gracz2.pobierz_pkt_zycia()} pkt życia.\")\n",
    "print(\"Rozpoczynamy walkę!\\n\")\n",
    "\n",
    "while gracz1.pobierz_pkt_zycia() > 0 and gracz2.pobierz_pkt_zycia() > 0:\n",
    "    obrazenia1 = gracz1.atak()\n",
    "    gracz2.obrona(obrazenia1)\n",
    "    print(f\"{gracz1.pobierz_imie()} ({gracz1.pobierz_typ()}) zadał {obrazenia1} obrażeń! {gracz2.pobierz_imie()} ma teraz {gracz2.pobierz_pkt_zycia()} pkt życia.\")\n",
    "\n",
    "    if gracz2.pobierz_pkt_zycia() <= 0:\n",
    "        break\n",
    "\n",
    "    obrazenia2 = gracz2.atak()\n",
    "    gracz1.obrona(obrazenia2)\n",
    "    print(f\"{gracz2.pobierz_imie()} ({gracz2.pobierz_typ()}) zadał {obrazenia2} obrażeń! {gracz1.pobierz_imie()} ma teraz {gracz1.pobierz_pkt_zycia()} pkt życia.\")\n",
    "\n",
    "if gracz1.pobierz_pkt_zycia() == 0:\n",
    "    print(f\"{gracz1.pobierz_imie()} przegrał!\")\n",
    "else:\n",
    "    print(f\"{gracz1.pobierz_imie()} wygrał!\")\n",
    "\n",
    "if gracz2.pobierz_pkt_zycia() == 0:\n",
    "    print(f\"{gracz2.pobierz_imie()} przegrał!\")\n",
    "else:\n",
    "    print(f\"{gracz2.pobierz_imie()} wygrał!\")\n"
   ]
  },
  {
   "cell_type": "code",
   "execution_count": 7,
   "id": "1dd923bb-63ba-420e-9d4c-bf623453359f",
   "metadata": {
    "collapsed": true,
    "jupyter": {
     "outputs_hidden": true
    },
    "tags": []
   },
   "outputs": [
    {
     "name": "stdout",
     "output_type": "stream",
     "text": [
      "\n",
      "--- MENU ---\n",
      "1. Rozmowa\n",
      "2. Wręczenie prezentu\n",
      "3. Romans\n",
      "4. Kłótnia\n",
      "5. Pojednanie\n",
      "6. Pokaż relacje\n",
      "7. Zakończ\n"
     ]
    },
    {
     "name": "stdin",
     "output_type": "stream",
     "text": [
      "Wybierz akcję:  1\n"
     ]
    },
    {
     "name": "stdout",
     "output_type": "stream",
     "text": [
      "Sim1 rozmawia z Sim2.\n",
      "Relacja między Sim1 a Sim2 poprawia się o 5 punktów.\n",
      "\n",
      "--- MENU ---\n",
      "1. Rozmowa\n",
      "2. Wręczenie prezentu\n",
      "3. Romans\n",
      "4. Kłótnia\n",
      "5. Pojednanie\n",
      "6. Pokaż relacje\n",
      "7. Zakończ\n"
     ]
    },
    {
     "name": "stdin",
     "output_type": "stream",
     "text": [
      "Wybierz akcję:  1\n"
     ]
    },
    {
     "name": "stdout",
     "output_type": "stream",
     "text": [
      "Sim1 rozmawia z Sim2.\n",
      "Relacja między Sim1 a Sim2 poprawia się o 5 punktów.\n",
      "\n",
      "--- MENU ---\n",
      "1. Rozmowa\n",
      "2. Wręczenie prezentu\n",
      "3. Romans\n",
      "4. Kłótnia\n",
      "5. Pojednanie\n",
      "6. Pokaż relacje\n",
      "7. Zakończ\n"
     ]
    },
    {
     "name": "stdin",
     "output_type": "stream",
     "text": [
      "Wybierz akcję:  1\n"
     ]
    },
    {
     "name": "stdout",
     "output_type": "stream",
     "text": [
      "Sim1 rozmawia z Sim2.\n",
      "Relacja między Sim1 a Sim2 poprawia się o 5 punktów.\n",
      "\n",
      "--- MENU ---\n",
      "1. Rozmowa\n",
      "2. Wręczenie prezentu\n",
      "3. Romans\n",
      "4. Kłótnia\n",
      "5. Pojednanie\n",
      "6. Pokaż relacje\n",
      "7. Zakończ\n"
     ]
    },
    {
     "name": "stdin",
     "output_type": "stream",
     "text": [
      "Wybierz akcję:  2\n"
     ]
    },
    {
     "name": "stdout",
     "output_type": "stream",
     "text": [
      "Sim1 wręcza prezent Sim2.\n",
      "Relacja między Sim1 a Sim2 poprawia się o 15 punktów.\n",
      "\n",
      "--- MENU ---\n",
      "1. Rozmowa\n",
      "2. Wręczenie prezentu\n",
      "3. Romans\n",
      "4. Kłótnia\n",
      "5. Pojednanie\n",
      "6. Pokaż relacje\n",
      "7. Zakończ\n"
     ]
    },
    {
     "name": "stdin",
     "output_type": "stream",
     "text": [
      "Wybierz akcję:  2\n"
     ]
    },
    {
     "name": "stdout",
     "output_type": "stream",
     "text": [
      "Sim1 wręcza prezent Sim2.\n",
      "Relacja między Sim1 a Sim2 poprawia się o 15 punktów.\n",
      "\n",
      "--- MENU ---\n",
      "1. Rozmowa\n",
      "2. Wręczenie prezentu\n",
      "3. Romans\n",
      "4. Kłótnia\n",
      "5. Pojednanie\n",
      "6. Pokaż relacje\n",
      "7. Zakończ\n"
     ]
    },
    {
     "name": "stdin",
     "output_type": "stream",
     "text": [
      "Wybierz akcję:  3\n"
     ]
    },
    {
     "name": "stdout",
     "output_type": "stream",
     "text": [
      "Sim1 decyduje się na romans z Sim2.\n",
      "Relacja między Sim1 a Sim2 poprawia się o 10 punktów.\n",
      "\n",
      "--- MENU ---\n",
      "1. Rozmowa\n",
      "2. Wręczenie prezentu\n",
      "3. Romans\n",
      "4. Kłótnia\n",
      "5. Pojednanie\n",
      "6. Pokaż relacje\n",
      "7. Zakończ\n"
     ]
    },
    {
     "name": "stdin",
     "output_type": "stream",
     "text": [
      "Wybierz akcję:  4\n"
     ]
    },
    {
     "name": "stdout",
     "output_type": "stream",
     "text": [
      "Sim1 kłóci się z Sim2!\n",
      "Relacja między Sim1 a Sim2 pogarsza się o 20 punktów.\n",
      "\n",
      "--- MENU ---\n",
      "1. Rozmowa\n",
      "2. Wręczenie prezentu\n",
      "3. Romans\n",
      "4. Kłótnia\n",
      "5. Pojednanie\n",
      "6. Pokaż relacje\n",
      "7. Zakończ\n"
     ]
    },
    {
     "name": "stdin",
     "output_type": "stream",
     "text": [
      "Wybierz akcję:  5\n"
     ]
    },
    {
     "name": "stdout",
     "output_type": "stream",
     "text": [
      "Sim1 i Sim2 decydują się na pojednanie.\n",
      "Relacja między Sim1 a Sim2 poprawia się o 20 punktów.\n",
      "\n",
      "--- MENU ---\n",
      "1. Rozmowa\n",
      "2. Wręczenie prezentu\n",
      "3. Romans\n",
      "4. Kłótnia\n",
      "5. Pojednanie\n",
      "6. Pokaż relacje\n",
      "7. Zakończ\n"
     ]
    },
    {
     "name": "stdin",
     "output_type": "stream",
     "text": [
      "Wybierz akcję:  6\n"
     ]
    },
    {
     "name": "stdout",
     "output_type": "stream",
     "text": [
      "Relacja między Sim1 a Sim2 wynosi 105 punktów.\n",
      "\n",
      "--- MENU ---\n",
      "1. Rozmowa\n",
      "2. Wręczenie prezentu\n",
      "3. Romans\n",
      "4. Kłótnia\n",
      "5. Pojednanie\n",
      "6. Pokaż relacje\n",
      "7. Zakończ\n"
     ]
    },
    {
     "name": "stdin",
     "output_type": "stream",
     "text": [
      "Wybierz akcję:  4\n"
     ]
    },
    {
     "name": "stdout",
     "output_type": "stream",
     "text": [
      "Sim1 kłóci się z Sim2!\n",
      "Relacja między Sim1 a Sim2 pogarsza się o 20 punktów.\n",
      "\n",
      "--- MENU ---\n",
      "1. Rozmowa\n",
      "2. Wręczenie prezentu\n",
      "3. Romans\n",
      "4. Kłótnia\n",
      "5. Pojednanie\n",
      "6. Pokaż relacje\n",
      "7. Zakończ\n"
     ]
    },
    {
     "name": "stdin",
     "output_type": "stream",
     "text": [
      "Wybierz akcję:  4\n"
     ]
    },
    {
     "name": "stdout",
     "output_type": "stream",
     "text": [
      "Sim1 kłóci się z Sim2!\n",
      "Relacja między Sim1 a Sim2 pogarsza się o 20 punktów.\n",
      "\n",
      "--- MENU ---\n",
      "1. Rozmowa\n",
      "2. Wręczenie prezentu\n",
      "3. Romans\n",
      "4. Kłótnia\n",
      "5. Pojednanie\n",
      "6. Pokaż relacje\n",
      "7. Zakończ\n"
     ]
    },
    {
     "name": "stdin",
     "output_type": "stream",
     "text": [
      "Wybierz akcję:  4\n"
     ]
    },
    {
     "name": "stdout",
     "output_type": "stream",
     "text": [
      "Sim1 kłóci się z Sim2!\n",
      "Relacja między Sim1 a Sim2 pogarsza się o 20 punktów.\n",
      "\n",
      "--- MENU ---\n",
      "1. Rozmowa\n",
      "2. Wręczenie prezentu\n",
      "3. Romans\n",
      "4. Kłótnia\n",
      "5. Pojednanie\n",
      "6. Pokaż relacje\n",
      "7. Zakończ\n"
     ]
    },
    {
     "name": "stdin",
     "output_type": "stream",
     "text": [
      "Wybierz akcję:  4\n"
     ]
    },
    {
     "name": "stdout",
     "output_type": "stream",
     "text": [
      "Sim1 kłóci się z Sim2!\n",
      "Relacja między Sim1 a Sim2 pogarsza się o 20 punktów.\n",
      "\n",
      "--- MENU ---\n",
      "1. Rozmowa\n",
      "2. Wręczenie prezentu\n",
      "3. Romans\n",
      "4. Kłótnia\n",
      "5. Pojednanie\n",
      "6. Pokaż relacje\n",
      "7. Zakończ\n"
     ]
    },
    {
     "name": "stdin",
     "output_type": "stream",
     "text": [
      "Wybierz akcję:  4\n"
     ]
    },
    {
     "name": "stdout",
     "output_type": "stream",
     "text": [
      "Sim1 kłóci się z Sim2!\n",
      "Relacja między Sim1 a Sim2 pogarsza się o 20 punktów.\n",
      "\n",
      "--- MENU ---\n",
      "1. Rozmowa\n",
      "2. Wręczenie prezentu\n",
      "3. Romans\n",
      "4. Kłótnia\n",
      "5. Pojednanie\n",
      "6. Pokaż relacje\n",
      "7. Zakończ\n"
     ]
    },
    {
     "name": "stdin",
     "output_type": "stream",
     "text": [
      "Wybierz akcję:  4\n"
     ]
    },
    {
     "name": "stdout",
     "output_type": "stream",
     "text": [
      "Sim1 kłóci się z Sim2!\n",
      "Relacja między Sim1 a Sim2 pogarsza się o 20 punktów.\n",
      "\n",
      "--- MENU ---\n",
      "1. Rozmowa\n",
      "2. Wręczenie prezentu\n",
      "3. Romans\n",
      "4. Kłótnia\n",
      "5. Pojednanie\n",
      "6. Pokaż relacje\n",
      "7. Zakończ\n"
     ]
    },
    {
     "name": "stdin",
     "output_type": "stream",
     "text": [
      "Wybierz akcję:  4\n"
     ]
    },
    {
     "name": "stdout",
     "output_type": "stream",
     "text": [
      "Sim1 kłóci się z Sim2!\n",
      "Relacja między Sim1 a Sim2 pogarsza się o 20 punktów.\n",
      "\n",
      "--- MENU ---\n",
      "1. Rozmowa\n",
      "2. Wręczenie prezentu\n",
      "3. Romans\n",
      "4. Kłótnia\n",
      "5. Pojednanie\n",
      "6. Pokaż relacje\n",
      "7. Zakończ\n"
     ]
    },
    {
     "name": "stdin",
     "output_type": "stream",
     "text": [
      "Wybierz akcję:  4\n"
     ]
    },
    {
     "name": "stdout",
     "output_type": "stream",
     "text": [
      "Sim1 kłóci się z Sim2!\n",
      "Relacja między Sim1 a Sim2 pogarsza się o 20 punktów.\n",
      "\n",
      "--- MENU ---\n",
      "1. Rozmowa\n",
      "2. Wręczenie prezentu\n",
      "3. Romans\n",
      "4. Kłótnia\n",
      "5. Pojednanie\n",
      "6. Pokaż relacje\n",
      "7. Zakończ\n"
     ]
    },
    {
     "name": "stdin",
     "output_type": "stream",
     "text": [
      "Wybierz akcję:  6\n"
     ]
    },
    {
     "name": "stdout",
     "output_type": "stream",
     "text": [
      "Relacja między Sim1 a Sim2 wynosi -55 punktów.\n",
      "\n",
      "--- MENU ---\n",
      "1. Rozmowa\n",
      "2. Wręczenie prezentu\n",
      "3. Romans\n",
      "4. Kłótnia\n",
      "5. Pojednanie\n",
      "6. Pokaż relacje\n",
      "7. Zakończ\n"
     ]
    },
    {
     "name": "stdin",
     "output_type": "stream",
     "text": [
      "Wybierz akcję:  7\n"
     ]
    },
    {
     "name": "stdout",
     "output_type": "stream",
     "text": [
      "Kończę symulację. Do zobaczenia!\n"
     ]
    }
   ],
   "source": [
    "# Zad 5. Napisz klasę ”Sim”, która tworzy Sima. Stwórz 2 simy, umożliw im rozmowę, bójkę, wręczenie prezentu i kłótnię. \n",
    "#   W zależności od zachowania ich relacja powinna się pogłębiać lub osłabiać.\n",
    "# Zad 6. Mamy dwóch Simów: Sim1 i Sim2. Przeprowadź symulację, w której Sim1 próbuje zdobyć przyjaźń Sim2 poprzez \n",
    "#   rozmowę i wręczenie prezentu. Następnie Sim1 decyduje się na romans z Sim2, co prowadzi do konfliktu. Ostatecznie, \n",
    "#   po rozwiązaniu konfliktu, Sim1 i Sim2 decydują się na pojednanie. Wyświetl stan relacji między nimi po każdej interakcji\n",
    "\n",
    "class Sim:\n",
    "    def __init__(self, imie):\n",
    "        self.imie = imie\n",
    "        self.relacja = 50  \n",
    "        \n",
    "    def rozmowa(self, inny_sim):\n",
    "        print(f\"{self.imie} rozmawia z {inny_sim.imie}.\")\n",
    "        self.relacja += 5\n",
    "        inny_sim.relacja += 5\n",
    "        print(f\"Relacja między {self.imie} a {inny_sim.imie} poprawia się o 5 punktów.\")\n",
    "\n",
    "    def wreczenie_prezentu(self, inny_sim):\n",
    "        print(f\"{self.imie} wręcza prezent {inny_sim.imie}.\")\n",
    "        self.relacja += 15\n",
    "        inny_sim.relacja += 15\n",
    "        print(f\"Relacja między {self.imie} a {inny_sim.imie} poprawia się o 15 punktów.\")\n",
    "\n",
    "    def romans(self, inny_sim):\n",
    "        print(f\"{self.imie} decyduje się na romans z {inny_sim.imie}.\")\n",
    "        self.relacja += 10\n",
    "        inny_sim.relacja += 10\n",
    "        print(f\"Relacja między {self.imie} a {inny_sim.imie} poprawia się o 10 punktów.\")\n",
    "\n",
    "    def klotnia(self, inny_sim):\n",
    "        print(f\"{self.imie} kłóci się z {inny_sim.imie}!\")\n",
    "        self.relacja -= 20\n",
    "        inny_sim.relacja -= 20\n",
    "        print(f\"Relacja między {self.imie} a {inny_sim.imie} pogarsza się o 20 punktów.\")\n",
    "\n",
    "    def pojednanie(self, inny_sim):\n",
    "        print(f\"{self.imie} i {inny_sim.imie} decydują się na pojednanie.\")\n",
    "        self.relacja += 20\n",
    "        inny_sim.relacja += 20\n",
    "        print(f\"Relacja między {self.imie} a {inny_sim.imie} poprawia się o 20 punktów.\")\n",
    "\n",
    "    def pokaz_relacje(self, inny_sim):\n",
    "        print(f\"Relacja między {self.imie} a {inny_sim.imie} wynosi {self.relacja} punktów.\")\n",
    "\n",
    "\n",
    "sim1 = Sim(\"Sim1\")\n",
    "sim2 = Sim(\"Sim2\")\n",
    "\n",
    "while True:\n",
    "    print(\"\\n--- MENU ---\")\n",
    "    print(\"1. Rozmowa\")\n",
    "    print(\"2. Wręczenie prezentu\")\n",
    "    print(\"3. Romans\")\n",
    "    print(\"4. Kłótnia\")\n",
    "    print(\"5. Pojednanie\")\n",
    "    print(\"6. Pokaż relacje\")\n",
    "    print(\"7. Zakończ\")\n",
    "    wybor = input(\"Wybierz akcję: \")\n",
    "\n",
    "    if wybor == \"1\":\n",
    "        sim1.rozmowa(sim2)\n",
    "    elif wybor == \"2\":\n",
    "        sim1.wreczenie_prezentu(sim2)\n",
    "    elif wybor == \"3\":\n",
    "        sim1.romans(sim2)\n",
    "    elif wybor == \"4\":\n",
    "        sim1.klotnia(sim2)\n",
    "    elif wybor == \"5\":\n",
    "        sim1.pojednanie(sim2)\n",
    "    elif wybor == \"6\":\n",
    "        sim1.pokaz_relacje(sim2)\n",
    "    elif wybor == \"7\":\n",
    "        print(\"Kończę symulację. Do zobaczenia!\")\n",
    "        break\n",
    "    else:\n",
    "        print(\"Nieprawidłowy wybór. Spróbuj ponownie.\")"
   ]
  },
  {
   "cell_type": "code",
   "execution_count": 9,
   "id": "d46a8a83-c497-47c7-8bbd-91e397f04627",
   "metadata": {},
   "outputs": [
    {
     "name": "stdout",
     "output_type": "stream",
     "text": [
      "\n",
      "--- MENU ---\n",
      "1. Włącz mikrofalówkę\n",
      "2. Wyłącz mikrofalówkę\n",
      "3. Ustaw czas podgrzewania\n",
      "4. Rozpocznij podgrzewanie\n",
      "5. Wyjdź z programu\n"
     ]
    },
    {
     "name": "stdin",
     "output_type": "stream",
     "text": [
      "Wybierz akcję:  1\n"
     ]
    },
    {
     "name": "stdout",
     "output_type": "stream",
     "text": [
      "Mikrofalówka Samsung MW7000K została włączona.\n",
      "\n",
      "--- MENU ---\n",
      "1. Włącz mikrofalówkę\n",
      "2. Wyłącz mikrofalówkę\n",
      "3. Ustaw czas podgrzewania\n",
      "4. Rozpocznij podgrzewanie\n",
      "5. Wyjdź z programu\n"
     ]
    },
    {
     "name": "stdin",
     "output_type": "stream",
     "text": [
      "Wybierz akcję:  1\n"
     ]
    },
    {
     "name": "stdout",
     "output_type": "stream",
     "text": [
      "Mikrofalówka Samsung MW7000K już jest włączona.\n",
      "\n",
      "--- MENU ---\n",
      "1. Włącz mikrofalówkę\n",
      "2. Wyłącz mikrofalówkę\n",
      "3. Ustaw czas podgrzewania\n",
      "4. Rozpocznij podgrzewanie\n",
      "5. Wyjdź z programu\n"
     ]
    },
    {
     "name": "stdin",
     "output_type": "stream",
     "text": [
      "Wybierz akcję:  3\n",
      "Podaj czas podgrzewania w sekundach:  5\n"
     ]
    },
    {
     "name": "stdout",
     "output_type": "stream",
     "text": [
      "Ustawiono czas podgrzewania na 5 sekund.\n",
      "\n",
      "--- MENU ---\n",
      "1. Włącz mikrofalówkę\n",
      "2. Wyłącz mikrofalówkę\n",
      "3. Ustaw czas podgrzewania\n",
      "4. Rozpocznij podgrzewanie\n",
      "5. Wyjdź z programu\n"
     ]
    },
    {
     "name": "stdin",
     "output_type": "stream",
     "text": [
      "Wybierz akcję:  4\n"
     ]
    },
    {
     "name": "stdout",
     "output_type": "stream",
     "text": [
      "Rozpoczynam podgrzewanie przez 5 sekund na mocy 1000W...\n",
      "Podgrzewanie zakończone.\n",
      "\n",
      "--- MENU ---\n",
      "1. Włącz mikrofalówkę\n",
      "2. Wyłącz mikrofalówkę\n",
      "3. Ustaw czas podgrzewania\n",
      "4. Rozpocznij podgrzewanie\n",
      "5. Wyjdź z programu\n"
     ]
    },
    {
     "name": "stdin",
     "output_type": "stream",
     "text": [
      "Wybierz akcję:  4\n"
     ]
    },
    {
     "name": "stdout",
     "output_type": "stream",
     "text": [
      "Nie ustawiono czasu podgrzewania! Ustaw czas przed rozpoczęciem.\n",
      "\n",
      "--- MENU ---\n",
      "1. Włącz mikrofalówkę\n",
      "2. Wyłącz mikrofalówkę\n",
      "3. Ustaw czas podgrzewania\n",
      "4. Rozpocznij podgrzewanie\n",
      "5. Wyjdź z programu\n"
     ]
    },
    {
     "name": "stdin",
     "output_type": "stream",
     "text": [
      "Wybierz akcję:  2\n"
     ]
    },
    {
     "name": "stdout",
     "output_type": "stream",
     "text": [
      "Mikrofalówka Samsung MW7000K została wyłączona.\n",
      "\n",
      "--- MENU ---\n",
      "1. Włącz mikrofalówkę\n",
      "2. Wyłącz mikrofalówkę\n",
      "3. Ustaw czas podgrzewania\n",
      "4. Rozpocznij podgrzewanie\n",
      "5. Wyjdź z programu\n"
     ]
    },
    {
     "name": "stdin",
     "output_type": "stream",
     "text": [
      "Wybierz akcję:  3\n",
      "Podaj czas podgrzewania w sekundach:  5\n"
     ]
    },
    {
     "name": "stdout",
     "output_type": "stream",
     "text": [
      "Ustawiono czas podgrzewania na 5 sekund.\n",
      "\n",
      "--- MENU ---\n",
      "1. Włącz mikrofalówkę\n",
      "2. Wyłącz mikrofalówkę\n",
      "3. Ustaw czas podgrzewania\n",
      "4. Rozpocznij podgrzewanie\n",
      "5. Wyjdź z programu\n"
     ]
    },
    {
     "name": "stdin",
     "output_type": "stream",
     "text": [
      "Wybierz akcję:  4\n"
     ]
    },
    {
     "name": "stdout",
     "output_type": "stream",
     "text": [
      "Mikrofalówka jest wyłączona! Najpierw ją włącz.\n",
      "\n",
      "--- MENU ---\n",
      "1. Włącz mikrofalówkę\n",
      "2. Wyłącz mikrofalówkę\n",
      "3. Ustaw czas podgrzewania\n",
      "4. Rozpocznij podgrzewanie\n",
      "5. Wyjdź z programu\n"
     ]
    },
    {
     "name": "stdin",
     "output_type": "stream",
     "text": [
      "Wybierz akcję:  5\n"
     ]
    },
    {
     "name": "stdout",
     "output_type": "stream",
     "text": [
      "Kończę program. Do zobaczenia!\n"
     ]
    }
   ],
   "source": [
    "# Zad 7. Symulator mikrofalówki: Napisz klasę ”Mikrofalówka”, która będzie miała atrybuty takie jak: \n",
    "#   marka, model, moc, włączona/ wyłączona. Dodaj metody do włączania, wyłączania mikrofalówki oraz\n",
    "#   ustawiania czasu i rozpoczęcia podgrzewania. Utwórz obiekt klasy ”Mikrofalówka” i przetestuj \n",
    "#   różne działania, takie jak włączanie, wyłączanie, ustawianie czasu i rozpoczęcie podgrzewania.\n",
    "\n",
    "class Mikrofalowka:\n",
    "    def __init__(self, marka, model, moc):\n",
    "        self.marka = marka\n",
    "        self.model = model\n",
    "        self.moc = moc  \n",
    "        self.wlaczona = False\n",
    "        self.czas = 0\n",
    "\n",
    "    def wlacz(self):\n",
    "        if not self.wlaczona:\n",
    "            self.wlaczona = True\n",
    "            print(f\"Mikrofalówka {self.marka} {self.model} została włączona.\")\n",
    "        else:\n",
    "            print(f\"Mikrofalówka {self.marka} {self.model} już jest włączona.\")\n",
    "\n",
    "    def wylacz(self):\n",
    "        if self.wlaczona:\n",
    "            self.wlaczona = False\n",
    "            print(f\"Mikrofalówka {self.marka} {self.model} została wyłączona.\")\n",
    "        else:\n",
    "            print(f\"Mikrofalówka {self.marka} {self.model} już jest wyłączona.\")\n",
    "\n",
    "    def ustaw_czas(self, czas):\n",
    "        if czas > 0:\n",
    "            self.czas = czas\n",
    "            print(f\"Ustawiono czas podgrzewania na {czas} sekund.\")\n",
    "        else:\n",
    "            print(\"Czas musi być większy niż 0.\")\n",
    "\n",
    "    def podgrzewaj(self):\n",
    "        if not self.wlaczona:\n",
    "            print(\"Mikrofalówka jest wyłączona! Najpierw ją włącz.\")\n",
    "        elif self.czas <= 0:\n",
    "            print(\"Nie ustawiono czasu podgrzewania! Ustaw czas przed rozpoczęciem.\")\n",
    "        else:\n",
    "            print(f\"Rozpoczynam podgrzewanie przez {self.czas} sekund na mocy {self.moc}W...\")\n",
    "            print(\"Podgrzewanie zakończone.\")\n",
    "            self.czas = 0 \n",
    "\n",
    "\n",
    "mikrofalowka = Mikrofalowka(\"Samsung\", \"MW7000K\", 1000)\n",
    "\n",
    "while True:\n",
    "    print(\"\\n--- MENU ---\")\n",
    "    print(\"1. Włącz mikrofalówkę\")\n",
    "    print(\"2. Wyłącz mikrofalówkę\")\n",
    "    print(\"3. Ustaw czas podgrzewania\")\n",
    "    print(\"4. Rozpocznij podgrzewanie\")\n",
    "    print(\"5. Wyjdź z programu\")\n",
    "    wybor = input(\"Wybierz akcję: \")\n",
    "\n",
    "    if wybor == \"1\":\n",
    "        mikrofalowka.wlacz()\n",
    "    elif wybor == \"2\":\n",
    "        mikrofalowka.wylacz()\n",
    "    elif wybor == \"3\":\n",
    "        try:\n",
    "            czas = int(input(\"Podaj czas podgrzewania w sekundach: \"))\n",
    "            mikrofalowka.ustaw_czas(czas)\n",
    "        except ValueError:\n",
    "            print(\"Błąd: Podaj liczbę całkowitą.\")\n",
    "    elif wybor == \"4\":\n",
    "        mikrofalowka.podgrzewaj()\n",
    "    elif wybor == \"5\":\n",
    "        print(\"Kończę program. Do zobaczenia!\")\n",
    "        break\n",
    "    else:\n",
    "        print(\"Nieprawidłowy wybór. Spróbuj ponownie.\")"
   ]
  },
  {
   "cell_type": "code",
   "execution_count": 10,
   "id": "7f23d996-145a-4060-ab6b-81aad134d15e",
   "metadata": {},
   "outputs": [
    {
     "name": "stdout",
     "output_type": "stream",
     "text": [
      "\n",
      "--- Automat z Napojami ---\n",
      "1. Wyświetl dostępne napoje\n",
      "2. Sprawdź zapas napoju\n",
      "3. Wybierz i kup napój\n",
      "4. Wyjdź z programu\n"
     ]
    },
    {
     "name": "stdin",
     "output_type": "stream",
     "text": [
      "Wybierz opcję:  1\n"
     ]
    },
    {
     "name": "stdout",
     "output_type": "stream",
     "text": [
      "\n",
      "--- Dostępne napoje ---\n",
      "Coca-Cola: 5.0 zł, zapas: 10 szt.\n",
      "Pepsi: 4.5 zł, zapas: 8 szt.\n",
      "Sprite: 4.0 zł, zapas: 12 szt.\n",
      "Fanta: 4.5 zł, zapas: 5 szt.\n",
      "\n",
      "--- Automat z Napojami ---\n",
      "1. Wyświetl dostępne napoje\n",
      "2. Sprawdź zapas napoju\n",
      "3. Wybierz i kup napój\n",
      "4. Wyjdź z programu\n"
     ]
    },
    {
     "name": "stdin",
     "output_type": "stream",
     "text": [
      "Wybierz opcję:  2\n",
      "Podaj nazwę napoju:  Fanta\n"
     ]
    },
    {
     "name": "stdout",
     "output_type": "stream",
     "text": [
      "Fanta - zapas: 5 szt.\n",
      "\n",
      "--- Automat z Napojami ---\n",
      "1. Wyświetl dostępne napoje\n",
      "2. Sprawdź zapas napoju\n",
      "3. Wybierz i kup napój\n",
      "4. Wyjdź z programu\n"
     ]
    },
    {
     "name": "stdin",
     "output_type": "stream",
     "text": [
      "Wybierz opcję:  3\n",
      "Podaj nazwę napoju, który chcesz kupić:  Pepsi\n"
     ]
    },
    {
     "name": "stdout",
     "output_type": "stream",
     "text": [
      "Cena napoju Pepsi wynosi 4.5 zł.\n"
     ]
    },
    {
     "name": "stdin",
     "output_type": "stream",
     "text": [
      "Wybierz metodę płatności ['gotówka', 'karta płatnicza']:  karta płatnicza\n"
     ]
    },
    {
     "name": "stdout",
     "output_type": "stream",
     "text": [
      "Płatność zakończona sukcesem metodą: karta płatnicza.\n",
      "Zakupiono napój Pepsi. Smacznego!\n",
      "\n",
      "--- Automat z Napojami ---\n",
      "1. Wyświetl dostępne napoje\n",
      "2. Sprawdź zapas napoju\n",
      "3. Wybierz i kup napój\n",
      "4. Wyjdź z programu\n"
     ]
    },
    {
     "name": "stdin",
     "output_type": "stream",
     "text": [
      "Wybierz opcję:  4\n"
     ]
    },
    {
     "name": "stdout",
     "output_type": "stream",
     "text": [
      "Dziękujemy za skorzystanie z automatu. Do widzenia!\n"
     ]
    }
   ],
   "source": [
    "# Zad 8. Symulator automatu z napojami: Napisz klasę ”AutomatNapojowy”, która będzie miała atrybuty \n",
    "#   takie jak: lista dostępnych napojów, stan zapasu, dostępne środki płatności. Dodaj metody do \n",
    "#   wyświetlania dostępnych napojów, sprawdzania stanu zapasu, wybierania napoju i dokonywania płatności. \n",
    "#   Utwórz obiekt klasy ”AutomatNapojowy” i przetestuj różne działania, takie jak wyświetlanie dostępnych \n",
    "#   napojów, wybieranie napoju, sprawdzanie stanu zapasu i dokonywanie płatności.\n",
    "\n",
    "class AutomatNapojowy:\n",
    "    def __init__(self):\n",
    "        self.napoje = {\n",
    "            \"Coca-Cola\": {\"cena\": 5.00, \"zapas\": 10},\n",
    "            \"Pepsi\": {\"cena\": 4.50, \"zapas\": 8},\n",
    "            \"Sprite\": {\"cena\": 4.00, \"zapas\": 12},\n",
    "            \"Fanta\": {\"cena\": 4.50, \"zapas\": 5}\n",
    "        }\n",
    "        self.srodki_platnosci = [\"gotówka\", \"karta płatnicza\"]\n",
    "        self.saldo = 0.0\n",
    "\n",
    "    def wyswietl_napoje(self):\n",
    "        print(\"\\n--- Dostępne napoje ---\")\n",
    "        for napoj, info in self.napoje.items():\n",
    "            print(f\"{napoj}: {info['cena']} zł, zapas: {info['zapas']} szt.\")\n",
    "\n",
    "    def sprawdz_zapas(self, napoj):\n",
    "        if napoj in self.napoje:\n",
    "            print(f\"{napoj} - zapas: {self.napoje[napoj]['zapas']} szt.\")\n",
    "        else:\n",
    "            print(\"Nie ma takiego napoju w automacie.\")\n",
    "\n",
    "    def wybierz_napoj(self, napoj):\n",
    "        if napoj in self.napoje:\n",
    "            if self.napoje[napoj]['zapas'] > 0:\n",
    "                return napoj\n",
    "            else:\n",
    "                print(f\"Przepraszamy, {napoj} jest niedostępny.\")\n",
    "        else:\n",
    "            print(\"Nie ma takiego napoju w automacie.\")\n",
    "        return None\n",
    "\n",
    "    def dokonaj_platnosci(self, napoj):\n",
    "        if napoj not in self.napoje:\n",
    "            print(\"Wybrano nieistniejący napój. Operacja anulowana.\")\n",
    "            return False\n",
    "        \n",
    "        cena = self.napoje[napoj]['cena']\n",
    "        print(f\"Cena napoju {napoj} wynosi {cena} zł.\")\n",
    "        metoda = input(f\"Wybierz metodę płatności {self.srodki_platnosci}: \").strip().lower()\n",
    "        if metoda not in [\"gotówka\", \"karta płatnicza\"]:\n",
    "            print(\"Nieobsługiwana metoda płatności. Operacja anulowana.\")\n",
    "            return False\n",
    "        \n",
    "        self.saldo += cena\n",
    "        print(f\"Płatność zakończona sukcesem metodą: {metoda}.\")\n",
    "        return True\n",
    "\n",
    "    def kup_napoj(self, napoj):\n",
    "        if napoj in self.napoje and self.napoje[napoj]['zapas'] > 0:\n",
    "            if self.dokonaj_platnosci(napoj):\n",
    "                self.napoje[napoj]['zapas'] -= 1\n",
    "                print(f\"Zakupiono napój {napoj}. Smacznego!\")\n",
    "        else:\n",
    "            print(\"Nie można zakupić napoju. Sprawdź dostępność lub zapas.\")\n",
    "\n",
    "automat = AutomatNapojowy()\n",
    "\n",
    "while True:\n",
    "    print(\"\\n--- Automat z Napojami ---\")\n",
    "    print(\"1. Wyświetl dostępne napoje\")\n",
    "    print(\"2. Sprawdź zapas napoju\")\n",
    "    print(\"3. Wybierz i kup napój\")\n",
    "    print(\"4. Wyjdź z programu\")\n",
    "    wybor = input(\"Wybierz opcję: \").strip()\n",
    "\n",
    "    if wybor == \"1\":\n",
    "        automat.wyswietl_napoje()\n",
    "    elif wybor == \"2\":\n",
    "        nazwa = input(\"Podaj nazwę napoju: \").strip()\n",
    "        automat.sprawdz_zapas(nazwa)\n",
    "    elif wybor == \"3\":\n",
    "        nazwa = input(\"Podaj nazwę napoju, który chcesz kupić: \").strip()\n",
    "        automat.kup_napoj(nazwa)\n",
    "    elif wybor == \"4\":\n",
    "        print(\"Dziękujemy za skorzystanie z automatu. Do widzenia!\")\n",
    "        break\n",
    "    else:\n",
    "        print(\"Nieprawidłowy wybór. Spróbuj ponownie.\")"
   ]
  },
  {
   "cell_type": "markdown",
   "id": "7016938e-1bec-4427-9054-b69aae5bf73d",
   "metadata": {},
   "source": [
    "9. Zaimplementuj klasę o nazwie KontoBankowe z następującymi metodami:\n",
    "- a) wplata (bank_konto, kwota): Ta metoda pozwala na dokonanie wpłaty z jednego konta bankowego na drugie. Można wpłacać jedynie na konto bieżące. Parametr bank konto określa konto bankowe, na które chcemy dokonać wpłaty, a kwota to kwota pieniędzy, którą chcemy wpłacić.\n",
    "- b) wyplata konta biezacego(kwota): Ta metoda umożliwia wypłatę pieniędzy z konta bieżącego. Parametr kwota określa żądaną kwotę do wypłacenia.\n",
    "- c) wyplata konta oszczednosciowego(kwota): Ta metoda umożliwia wypłatę pieniędzy z konta oszczędnościowego. Parametr kwota określa żądaną kwotę do wypłacenia.\n",
    "- d) przelew biezace na oszczednosciowe(kwota): Ta metoda pozwala na dokonanie przelewu z konta bieżącego na konto oszczędnościowe. Parametr kwota określa żądaną kwotę do przelania.\n",
    "- e) przelew oszczednosciowe na biezace(kwota): Ta metoda pozwala na dokonanie przelewu z konta oszczędnościowego na konto bieżące. Parametr kwota określa żądaną kwotę do przelania.\n",
    "- f)  przelew zewnetrzny biezacego(numer konta, kwota): Ta metoda umożliwia dokonanie przelewu z konta bieżącego do innego konta bankowego (niekoniecznie należącego do tej samej klasy KontoBankowe). Parametr numer konta określa numer konta docelowego, a kwota to żądana kwota do przelania. \n",
    "Przedstaw interakcję pomiędzy trzema obiektami klasy KontoBankowe, demonstrując wymianę środków między nimi. Wykonaj następujące operacje:\n",
    "- Wpłać 1000 zł na konto bieżące konta A.\n",
    "- Przelej 500 zł z konta bieżącego konta A na konto oszczędnościowe konta B.\n",
    "- Wykonaj wypłatę 200 zł z konta oszczędnościowego konta B.\n",
    "- Przelej 300 zł z konta oszczędnościowego konta B na konto bieżące konta C.\n",
    "- Wykonaj przelew z konta bieżącego konta C na inne konto bankowe"
   ]
  },
  {
   "cell_type": "code",
   "execution_count": null,
   "id": "88245c42-dee5-4766-8335-2b9a2862a4fe",
   "metadata": {},
   "outputs": [],
   "source": []
  }
 ],
 "metadata": {
  "kernelspec": {
   "display_name": "Python 3 (ipykernel)",
   "language": "python",
   "name": "python3"
  },
  "language_info": {
   "codemirror_mode": {
    "name": "ipython",
    "version": 3
   },
   "file_extension": ".py",
   "mimetype": "text/x-python",
   "name": "python",
   "nbconvert_exporter": "python",
   "pygments_lexer": "ipython3",
   "version": "3.9.12"
  }
 },
 "nbformat": 4,
 "nbformat_minor": 5
}
