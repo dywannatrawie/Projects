{
 "cells": [
  {
   "cell_type": "markdown",
   "id": "02bddbca-274c-49af-a3c9-0a26d7408f8a",
   "metadata": {},
   "source": [
    "Zadania 6. \n",
    "\n",
    "1. Napisz program poszukujący największą wartość w zadanej liście dwuwymiarowej (bez wykorzystania funkcji typu sort, max itp!).\n",
    "2. Stwórz dziesięcioelementową listę wypełnioną liczbami. Do każdego elementu listy dodaj liczbę podaną przez użytkownika. Wyniki wyświetl.\n",
    "3. Stwórz listę dwuwymiarową wypełnioną liczbami. Jaka jest suma elementów?\n",
    "4. Korzystając z list zagnieżdżonych lub słowników przygotuj swój szkolny dziennik. Powinny znaleźć się w nim nazwy przedmiotów i spis twoich ocen z każdego z nich. Niech na tej podstawie program wystawi ocenę z przedmiotów i policzy semestralną średnią.\n",
    "5. Stwórz listę zagnieżdżoną, o wymiarach n x m. n i m powinny być pobrane z klawiatury. Zawartość listy powinna być losowa. Wyświetl otrzymaną listę.\n",
    "6. Napisz program, który przyjmuje listę elementów i tworzy słownik, w którym hasłami są elementy, a definicjami liczba ich wystąpień.\n",
    "7. Napisz program, który utworzy słownik, w którym kluczami będą liczby całkowite od 1 do 10, a wartościami będą kwadraty tych liczb. Wyświetl utworzony słownik.\n",
    "8. Napisz program, który utworzy słownik, w którym kluczami będą nazwy krajów, a wartościami ich stolice. Następnie zapytaj użytkownika, jaka jest stolica danego kraju i wyświetl mu odpowiedź.\n",
    "9. Stwórz dziesięcioelementową listę wypełnioną liczbami. W podsumowaniu wyświetl informację o wartości najmniejszego i największego elementu i średniej wszystkich elementów w liście.\n",
    "10. Napisz ”Generator przysłów”. Program powinien losować jedno z 5 dostępnych w liście przysłów i wyświetlać je na ekranie.\n",
    "11. Stwórz słownik gdzie hasłami są produkty spożywcze a definicjami ich ceny.\n",
    "12. Napisz program, który korzysta z poprzedniego słownika do tworzenia listy zakupów. Po podaniu listy wszystkich produktów policzy ich łączną wartość (wykorzystaj pętle while).\n",
    "13. Stwórz program z prostym menu umożliwiającym wyświetlanie, dodawanie, usuwanie haseł i definicji oraz ich modyfikację np. książka telefoniczna (wykorzystaj pętle while).\n",
    "14. Przygotuj program zamieniający liczby arabskie na rzymskie (z wykorzystaniem słowników).   15.1 zamieniająca tylko cyfry oraz 10, 50, 100, 500, 1000   15.2 (trudniejsze) zamieniające dowolne liczby.\n",
    "15. Napisz program do nauki słówek z dowolnego języka obcego. Kiedy pojawi się obce słowo powinniśmy wpisać odpowiadające mu słowo w języku polskim.\n",
    "16. Napisz program, który przyjmuje dwa zbiory i zwraca True, jeśli mają one takie same elementy, a False w przeciwnym przypadku.\n",
    "17. Napisz program, która przyjmuje listę elementów i tworzy nową listę bez duplikatów. Wykorzystaj w tym celu sety lub listy.\n",
    "18. Napisz program, która przyjmuje dwa lub więcej zbiorów i tworzy nowy zbiór zawierający wszystkie elementy z tych zbiorów. Wykonaj zadanie także z użyciem list."
   ]
  },
  {
   "cell_type": "code",
   "execution_count": 2,
   "id": "fb4939e9-fd6b-47f6-b8a9-f227a4d65fbc",
   "metadata": {},
   "outputs": [
    {
     "name": "stdout",
     "output_type": "stream",
     "text": [
      "Największa wartość: 31\n"
     ]
    }
   ],
   "source": [
    "# Zad 1\n",
    "\n",
    "matrix = [\n",
    "    [3, 5, 1],\n",
    "    [8, 2, 9],\n",
    "    [4, 31, 6]\n",
    "]\n",
    "\n",
    "max_value = matrix[0][0]\n",
    "\n",
    "i = 0\n",
    "while i < len(matrix):\n",
    "    row = matrix[i]\n",
    "    j = 0\n",
    "    while j < len(row):\n",
    "        if row[j] > max_value:\n",
    "            max_value = row[j]\n",
    "        j += 1\n",
    "    i += 1\n",
    "\n",
    "print(\"Największa wartość:\", max_value)\n"
   ]
  },
  {
   "cell_type": "code",
   "execution_count": 3,
   "id": "9a4ee6d5-fcf6-4138-9001-a45c3a54b5a2",
   "metadata": {},
   "outputs": [
    {
     "name": "stdin",
     "output_type": "stream",
     "text": [
      "Podaj liczbę, którą chcesz dodać do każdego elementu listy:  31\n"
     ]
    },
    {
     "name": "stdout",
     "output_type": "stream",
     "text": [
      "Nowa lista: [32, 33, 34, 35, 36, 37, 38, 39, 40, 41]\n"
     ]
    }
   ],
   "source": [
    "# Zad 2\n",
    "\n",
    "numbers = [1, 2, 3, 4, 5, 6, 7, 8, 9, 10]\n",
    "\n",
    "user_number = int(input(\"Podaj liczbę, którą chcesz dodać do każdego elementu listy: \"))\n",
    "\n",
    "for i in range(len(numbers)):\n",
    "    numbers[i] += user_number\n",
    "\n",
    "print(\"Nowa lista:\", numbers)"
   ]
  },
  {
   "cell_type": "code",
   "execution_count": 5,
   "id": "60eb8487-4d04-425a-b1fe-baf532a2fed4",
   "metadata": {},
   "outputs": [
    {
     "name": "stdout",
     "output_type": "stream",
     "text": [
      "Suma elementów listy dwuwymiarowej: 22\n"
     ]
    }
   ],
   "source": [
    "# Zad 3\n",
    "\n",
    "matrix = [\n",
    "    [3, 1, 1],\n",
    "    [1, 1, 1],\n",
    "    [3, 1, 10]\n",
    "]\n",
    "\n",
    "total_sum = 0\n",
    "for row in matrix:\n",
    "    for value in row:\n",
    "        total_sum += value\n",
    "\n",
    "print(\"Suma elementów listy dwuwymiarowej:\", total_sum)"
   ]
  },
  {
   "cell_type": "code",
   "execution_count": 6,
   "id": "b0bd1512-b5f3-43c9-bf7b-f2dcce831641",
   "metadata": {},
   "outputs": [
    {
     "name": "stdout",
     "output_type": "stream",
     "text": [
      "Oceny końcowe z przedmiotów:\n",
      "- Matematyka: średnia ocena = 4.00\n",
      "- Polski: średnia ocena = 4.25\n",
      "- Historia: średnia ocena = 4.25\n",
      "- Biologia: średnia ocena = 4.00\n",
      "- Informatyka: średnia ocena = 5.00\n",
      "\n",
      "Średnia semestralna: 4.32\n"
     ]
    }
   ],
   "source": [
    "# Zad 4 \n",
    "\n",
    "dziennik = {\n",
    "    \"Matematyka\": [5, 4, 3, 4],\n",
    "    \"Polski\": [3, 4, 5, 5],\n",
    "    \"Historia\": [4, 4, 4, 5],\n",
    "    \"Biologia\": [3, 5, 4],\n",
    "    \"Informatyka\": [5, 5, 5, 5]\n",
    "}\n",
    "\n",
    "print(\"Oceny końcowe z przedmiotów:\")\n",
    "suma_wszystkich_ocen = 0\n",
    "liczba_ocen = 0\n",
    "\n",
    "for przedmiot, oceny in dziennik.items():\n",
    "    suma_ocen = sum(oceny)\n",
    "    liczba_przedmiotowych_ocen = len(oceny)\n",
    "    srednia_przedmiotowa = suma_ocen / liczba_przedmiotowych_ocen\n",
    "    \n",
    "    print(f\"- {przedmiot}: średnia ocena = {srednia_przedmiotowa:.2f}\")\n",
    "    \n",
    "    suma_wszystkich_ocen += suma_ocen\n",
    "    liczba_ocen += liczba_przedmiotowych_ocen\n",
    "\n",
    "srednia_semestralna = suma_wszystkich_ocen / liczba_ocen\n",
    "print(f\"\\nŚrednia semestralna: {srednia_semestralna:.2f}\")"
   ]
  },
  {
   "cell_type": "code",
   "execution_count": 7,
   "id": "75741a86-ca38-49ed-bc92-c86f0a21859e",
   "metadata": {},
   "outputs": [
    {
     "name": "stdin",
     "output_type": "stream",
     "text": [
      "Podaj liczbę wierszy (n):  10\n",
      "Podaj liczbę kolumn (m):  4\n"
     ]
    },
    {
     "name": "stdout",
     "output_type": "stream",
     "text": [
      "\n",
      "Wygenerowana lista (macierz):\n",
      "[70, 43, 58, 11]\n",
      "[43, 48, 56, 58]\n",
      "[87, 9, 19, 52]\n",
      "[24, 3, 86, 99]\n",
      "[77, 28, 83, 45]\n",
      "[76, 61, 17, 86]\n",
      "[90, 37, 78, 75]\n",
      "[8, 100, 55, 85]\n",
      "[25, 18, 29, 17]\n",
      "[96, 83, 50, 70]\n"
     ]
    }
   ],
   "source": [
    "# Zad 5\n",
    "\n",
    "import random\n",
    "\n",
    "n = int(input(\"Podaj liczbę wierszy (n): \"))\n",
    "m = int(input(\"Podaj liczbę kolumn (m): \"))\n",
    "\n",
    "matrix = []\n",
    "for i in range(n):\n",
    "    row = []\n",
    "    for j in range(m):\n",
    "        row.append(random.randint(0, 100)) \n",
    "    matrix.append(row)\n",
    "\n",
    "print(\"\\nWygenerowana lista (macierz):\")\n",
    "for row in matrix:\n",
    "    print(row)"
   ]
  },
  {
   "cell_type": "code",
   "execution_count": 9,
   "id": "f58662c6-dc5a-4958-b7fa-f8071a044e43",
   "metadata": {},
   "outputs": [
    {
     "name": "stdin",
     "output_type": "stream",
     "text": [
      "Podaj elementy listy, oddzielone spacjami:  pizza 3 burger 23 III pizza pizza 3 23 1\n"
     ]
    },
    {
     "name": "stdout",
     "output_type": "stream",
     "text": [
      "\n",
      "Słownik z liczbą wystąpień:\n",
      "{'pizza': 3, '3': 2, 'burger': 1, '23': 2, 'III': 1, '1': 1}\n"
     ]
    }
   ],
   "source": [
    "# Zad 6\n",
    "\n",
    "elements = input(\"Podaj elementy listy, oddzielone spacjami: \").split()\n",
    "\n",
    "occurrences = {}\n",
    "\n",
    "for element in elements:\n",
    "    if element in occurrences:\n",
    "        occurrences[element] += 1  \n",
    "    else:\n",
    "        occurrences[element] = 1  \n",
    "        \n",
    "print(\"\\nSłownik z liczbą wystąpień:\")\n",
    "print(occurrences)"
   ]
  },
  {
   "cell_type": "code",
   "execution_count": 10,
   "id": "d9e8e109-6d62-47f7-a810-5a214d49c9ca",
   "metadata": {},
   "outputs": [
    {
     "name": "stdout",
     "output_type": "stream",
     "text": [
      "{1: 1, 2: 4, 3: 9, 4: 16, 5: 25, 6: 36, 7: 49, 8: 64, 9: 81, 10: 100}\n"
     ]
    }
   ],
   "source": [
    "# Zad 7\n",
    "\n",
    "squares_dict = {i: i**2 for i in range(1, 11)}\n",
    "\n",
    "print(squares_dict)"
   ]
  },
  {
   "cell_type": "code",
   "execution_count": 11,
   "id": "3b3c0aed-ff32-487b-a67b-e9e5a8ecaf34",
   "metadata": {},
   "outputs": [
    {
     "name": "stdin",
     "output_type": "stream",
     "text": [
      "Podaj nazwę kraju, aby poznać jego stolicę:  Chiny\n"
     ]
    },
    {
     "name": "stdout",
     "output_type": "stream",
     "text": [
      "Stolica Chiny to Pekin.\n"
     ]
    }
   ],
   "source": [
    "# Zad 8\n",
    "\n",
    "countries_capitals = {\n",
    "    \"Polska\": \"Warszawa\",\n",
    "    \"Niemcy\": \"Berlin\",\n",
    "    \"Francja\": \"Paryż\",\n",
    "    \"Włochy\": \"Rzym\",\n",
    "    \"Hiszpania\": \"Madryt\",\n",
    "    \"USA\": \"Waszyngton\",\n",
    "    \"Kanada\": \"Ottawa\",\n",
    "    \"Japonia\": \"Tokio\",\n",
    "    \"Chiny\": \"Pekin\",\n",
    "    \"Rosja\": \"Moskwa\"\n",
    "}\n",
    "\n",
    "country = input(\"Podaj nazwę kraju, aby poznać jego stolicę: \")\n",
    "\n",
    "if country in countries_capitals:\n",
    "    print(f\"Stolica {country} to {countries_capitals[country]}.\")\n",
    "else:\n",
    "    print(\"Niestety, nie znamy tego kraju.\")"
   ]
  },
  {
   "cell_type": "code",
   "execution_count": 12,
   "id": "438a1e22-3531-43d7-803f-b607c479db81",
   "metadata": {},
   "outputs": [
    {
     "name": "stdout",
     "output_type": "stream",
     "text": [
      "Najmniejszy element: 1\n",
      "Największy element: 99\n",
      "Średnia wszystkich elementów: 50.40\n"
     ]
    }
   ],
   "source": [
    "# Zad 9\n",
    "\n",
    "numbers = [12, 34, 56, 78, 23, 45, 67, 89, 1, 99]\n",
    "\n",
    "min_value = min(numbers)\n",
    "max_value = max(numbers)\n",
    "average = sum(numbers) / len(numbers)\n",
    "\n",
    "print(f\"Najmniejszy element: {min_value}\")\n",
    "print(f\"Największy element: {max_value}\")\n",
    "print(f\"Średnia wszystkich elementów: {average:.2f}\")"
   ]
  },
  {
   "cell_type": "code",
   "execution_count": 14,
   "id": "a8b124e6-67e7-4d02-a08e-24e66e362fd9",
   "metadata": {},
   "outputs": [
    {
     "name": "stdout",
     "output_type": "stream",
     "text": [
      "Twoje przysłowie to: Nie ma nic za darmo.\n"
     ]
    }
   ],
   "source": [
    "# Zad 10\n",
    "\n",
    "przyslowia = [\n",
    "    \"Nie ma nic za darmo.\",\n",
    "    \"Kto mieczem wojuje, od miecza ginie.\",\n",
    "    \"Zło rodzi zło.\",\n",
    "    \"Kiedy wróg staje się silniejszy, trzeba sięgnąć po inne metody.\",\n",
    "    \"Jestem magiem ognia, ale nie oczekuj, że się ciebie boję.\"\n",
    "]\n",
    "\n",
    "random_przyslowie = random.choice(przyslowia)\n",
    "\n",
    "print(f\"Twoje przysłowie to: {random_przyslowie}\")"
   ]
  },
  {
   "cell_type": "code",
   "execution_count": 15,
   "id": "dad6b644-3c10-47bb-8bf3-14eaa80284d6",
   "metadata": {},
   "outputs": [
    {
     "name": "stdout",
     "output_type": "stream",
     "text": [
      "Ceny produktów spożywczych:\n",
      "Chleb: 3.5 zł\n",
      "Mleko: 2.2 zł\n",
      "Jajka: 5.0 zł\n",
      "Ser: 12.0 zł\n",
      "Masło: 7.3 zł\n",
      "Warzywa: 4.5 zł\n",
      "Owoce: 6.0 zł\n",
      "Ziemniaki: 2.8 zł\n",
      "Mięso: 20.0 zł\n",
      "Ryż: 4.0 zł\n"
     ]
    }
   ],
   "source": [
    "# Zad 11\n",
    "\n",
    "food_prices = {\n",
    "    \"Chleb\": 3.50,\n",
    "    \"Mleko\": 2.20,\n",
    "    \"Jajka\": 5.00,\n",
    "    \"Ser\": 12.00,\n",
    "    \"Masło\": 7.30,\n",
    "    \"Warzywa\": 4.50,\n",
    "    \"Owoce\": 6.00,\n",
    "    \"Ziemniaki\": 2.80,\n",
    "    \"Mięso\": 20.00,\n",
    "    \"Ryż\": 4.00\n",
    "}\n",
    "\n",
    "print(\"Ceny produktów spożywczych:\")\n",
    "for product, price in food_prices.items():\n",
    "    print(f\"{product}: {price} zł\")"
   ]
  },
  {
   "cell_type": "code",
   "execution_count": 16,
   "id": "21d74a02-43d9-4f4f-a116-af046fc86845",
   "metadata": {},
   "outputs": [
    {
     "name": "stdout",
     "output_type": "stream",
     "text": [
      "Podaj produkty, które chcesz dodać do listy zakupów. Wpisz 'koniec' aby zakończyć.\n"
     ]
    },
    {
     "name": "stdin",
     "output_type": "stream",
     "text": [
      "Podaj produkt:  Pizza\n"
     ]
    },
    {
     "name": "stdout",
     "output_type": "stream",
     "text": [
      "Produkt Pizza nie jest dostępny w słowniku.\n"
     ]
    },
    {
     "name": "stdin",
     "output_type": "stream",
     "text": [
      "Podaj produkt:  Chleb\n",
      "Podaj produkt:  Jajka\n",
      "Podaj produkt:  Ziemniaki\n",
      "Podaj produkt:  Ser\n",
      "Podaj produkt:  Chleb\n",
      "Podaj produkt:  Chleb\n",
      "Podaj produkt:  koniec\n"
     ]
    },
    {
     "name": "stdout",
     "output_type": "stream",
     "text": [
      "\n",
      "Twoja lista zakupów:\n",
      "Chleb\n",
      "Jajka\n",
      "Ziemniaki\n",
      "Ser\n",
      "Chleb\n",
      "Chleb\n",
      "\n",
      "Łączna wartość zakupów: 30.30 zł\n"
     ]
    }
   ],
   "source": [
    "# Zad 12\n",
    "\n",
    "food_prices = {\n",
    "    \"Chleb\": 3.50,\n",
    "    \"Mleko\": 2.20,\n",
    "    \"Jajka\": 5.00,\n",
    "    \"Ser\": 12.00,\n",
    "    \"Masło\": 7.30,\n",
    "    \"Warzywa\": 4.50,\n",
    "    \"Owoce\": 6.00,\n",
    "    \"Ziemniaki\": 2.80,\n",
    "    \"Mięso\": 20.00,\n",
    "    \"Ryż\": 4.00\n",
    "}\n",
    "\n",
    "shopping_list = []\n",
    "\n",
    "print(\"Podaj produkty, które chcesz dodać do listy zakupów. Wpisz 'koniec' aby zakończyć.\")\n",
    "\n",
    "while True:\n",
    "    product = input(\"Podaj produkt: \")\n",
    "    if product.lower() == \"koniec\":\n",
    "        break\n",
    "    elif product in food_prices:\n",
    "        shopping_list.append(product)\n",
    "    else:\n",
    "        print(f\"Produkt {product} nie jest dostępny w słowniku.\")\n",
    "\n",
    "total_cost = 0\n",
    "index = 0\n",
    "while index < len(shopping_list):\n",
    "    product = shopping_list[index]\n",
    "    total_cost += food_prices[product]\n",
    "    index += 1\n",
    "\n",
    "print(\"\\nTwoja lista zakupów:\")\n",
    "for item in shopping_list:\n",
    "    print(item)\n",
    "\n",
    "print(f\"\\nŁączna wartość zakupów: {total_cost:.2f} zł\")"
   ]
  },
  {
   "cell_type": "code",
   "execution_count": 17,
   "id": "c3c4bbe5-c0cd-4cbb-a6e2-23fce26ab610",
   "metadata": {},
   "outputs": [
    {
     "name": "stdout",
     "output_type": "stream",
     "text": [
      "\n",
      "Książka telefoniczna - Menu:\n",
      "1. Wyświetl książkę telefoniczną\n",
      "2. Dodaj nowe hasło\n",
      "3. Usuń hasło\n",
      "4. Zmień numer telefonu\n",
      "5. Wyjdź\n"
     ]
    },
    {
     "name": "stdin",
     "output_type": "stream",
     "text": [
      "Wybierz opcję (1-5):  1\n"
     ]
    },
    {
     "name": "stdout",
     "output_type": "stream",
     "text": [
      "Książka telefoniczna jest pusta.\n",
      "\n",
      "Książka telefoniczna - Menu:\n",
      "1. Wyświetl książkę telefoniczną\n",
      "2. Dodaj nowe hasło\n",
      "3. Usuń hasło\n",
      "4. Zmień numer telefonu\n",
      "5. Wyjdź\n"
     ]
    },
    {
     "name": "stdin",
     "output_type": "stream",
     "text": [
      "Wybierz opcję (1-5):  2\n",
      "Podaj imię:  Tomek\n",
      "Podaj numer telefonu:  123456789\n"
     ]
    },
    {
     "name": "stdout",
     "output_type": "stream",
     "text": [
      "Hasło 'Tomek' zostało dodane.\n",
      "\n",
      "Książka telefoniczna - Menu:\n",
      "1. Wyświetl książkę telefoniczną\n",
      "2. Dodaj nowe hasło\n",
      "3. Usuń hasło\n",
      "4. Zmień numer telefonu\n",
      "5. Wyjdź\n"
     ]
    },
    {
     "name": "stdin",
     "output_type": "stream",
     "text": [
      "Wybierz opcję (1-5):  1\n"
     ]
    },
    {
     "name": "stdout",
     "output_type": "stream",
     "text": [
      "\n",
      "Książka telefoniczna:\n",
      "Tomek: 123456789\n",
      "\n",
      "Książka telefoniczna - Menu:\n",
      "1. Wyświetl książkę telefoniczną\n",
      "2. Dodaj nowe hasło\n",
      "3. Usuń hasło\n",
      "4. Zmień numer telefonu\n",
      "5. Wyjdź\n"
     ]
    },
    {
     "name": "stdin",
     "output_type": "stream",
     "text": [
      "Wybierz opcję (1-5):  4\n",
      "Podaj imię, którego numer chcesz zmienić:  Tomek\n",
      "Podaj nowy numer telefonu:  123123123\n"
     ]
    },
    {
     "name": "stdout",
     "output_type": "stream",
     "text": [
      "Numer telefonu dla 'Tomek' został zmieniony.\n",
      "\n",
      "Książka telefoniczna - Menu:\n",
      "1. Wyświetl książkę telefoniczną\n",
      "2. Dodaj nowe hasło\n",
      "3. Usuń hasło\n",
      "4. Zmień numer telefonu\n",
      "5. Wyjdź\n"
     ]
    },
    {
     "name": "stdin",
     "output_type": "stream",
     "text": [
      "Wybierz opcję (1-5):  1\n"
     ]
    },
    {
     "name": "stdout",
     "output_type": "stream",
     "text": [
      "\n",
      "Książka telefoniczna:\n",
      "Tomek: 123123123\n",
      "\n",
      "Książka telefoniczna - Menu:\n",
      "1. Wyświetl książkę telefoniczną\n",
      "2. Dodaj nowe hasło\n",
      "3. Usuń hasło\n",
      "4. Zmień numer telefonu\n",
      "5. Wyjdź\n"
     ]
    },
    {
     "name": "stdin",
     "output_type": "stream",
     "text": [
      "Wybierz opcję (1-5):  3\n",
      "Podaj imię do usunięcia:  Tomek\n"
     ]
    },
    {
     "name": "stdout",
     "output_type": "stream",
     "text": [
      "Hasło 'Tomek' zostało usunięte.\n",
      "\n",
      "Książka telefoniczna - Menu:\n",
      "1. Wyświetl książkę telefoniczną\n",
      "2. Dodaj nowe hasło\n",
      "3. Usuń hasło\n",
      "4. Zmień numer telefonu\n",
      "5. Wyjdź\n"
     ]
    },
    {
     "name": "stdin",
     "output_type": "stream",
     "text": [
      "Wybierz opcję (1-5):  1\n"
     ]
    },
    {
     "name": "stdout",
     "output_type": "stream",
     "text": [
      "Książka telefoniczna jest pusta.\n",
      "\n",
      "Książka telefoniczna - Menu:\n",
      "1. Wyświetl książkę telefoniczną\n",
      "2. Dodaj nowe hasło\n",
      "3. Usuń hasło\n",
      "4. Zmień numer telefonu\n",
      "5. Wyjdź\n"
     ]
    },
    {
     "name": "stdin",
     "output_type": "stream",
     "text": [
      "Wybierz opcję (1-5):  5\n"
     ]
    },
    {
     "name": "stdout",
     "output_type": "stream",
     "text": [
      "Koniec programu. Do widzenia!\n"
     ]
    }
   ],
   "source": [
    "# Zad 13\n",
    "\n",
    "phonebook = {}\n",
    "\n",
    "def display_menu():\n",
    "    print(\"\\nKsiążka telefoniczna - Menu:\")\n",
    "    print(\"1. Wyświetl książkę telefoniczną\")\n",
    "    print(\"2. Dodaj nowe hasło\")\n",
    "    print(\"3. Usuń hasło\")\n",
    "    print(\"4. Zmień numer telefonu\")\n",
    "    print(\"5. Wyjdź\")\n",
    "\n",
    "while True:\n",
    "    display_menu()  \n",
    "    choice = input(\"Wybierz opcję (1-5): \")\n",
    "\n",
    "    if choice == '1':\n",
    "        if phonebook:\n",
    "            print(\"\\nKsiążka telefoniczna:\")\n",
    "            for name, number in phonebook.items():\n",
    "                print(f\"{name}: {number}\")\n",
    "        else:\n",
    "            print(\"Książka telefoniczna jest pusta.\")\n",
    "\n",
    "    elif choice == '2':\n",
    "        name = input(\"Podaj imię: \")\n",
    "        number = input(\"Podaj numer telefonu: \")\n",
    "        phonebook[name] = number\n",
    "        print(f\"Hasło '{name}' zostało dodane.\")\n",
    "\n",
    "    elif choice == '3':\n",
    "        name = input(\"Podaj imię do usunięcia: \")\n",
    "        if name in phonebook:\n",
    "            del phonebook[name]\n",
    "            print(f\"Hasło '{name}' zostało usunięte.\")\n",
    "        else:\n",
    "            print(f\"Hasło '{name}' nie istnieje w książce telefonicznej.\")\n",
    "\n",
    "    elif choice == '4':\n",
    "        name = input(\"Podaj imię, którego numer chcesz zmienić: \")\n",
    "        if name in phonebook:\n",
    "            new_number = input(\"Podaj nowy numer telefonu: \")\n",
    "            phonebook[name] = new_number\n",
    "            print(f\"Numer telefonu dla '{name}' został zmieniony.\")\n",
    "        else:\n",
    "            print(f\"Hasło '{name}' nie istnieje w książce telefonicznej.\")\n",
    "\n",
    "    elif choice == '5':\n",
    "        print(\"Koniec programu. Do widzenia!\")\n",
    "        break\n",
    "        \n",
    "    else:\n",
    "        print(\"Nieprawidłowy wybór. Spróbuj ponownie.\")"
   ]
  },
  {
   "cell_type": "code",
   "execution_count": 19,
   "id": "41500f0a-08a0-49ee-b47b-fb909a9daf1c",
   "metadata": {},
   "outputs": [
    {
     "name": "stdin",
     "output_type": "stream",
     "text": [
      "Podaj liczbę arabską do zamiany na rzymską:  99\n"
     ]
    },
    {
     "name": "stdout",
     "output_type": "stream",
     "text": [
      "Zamieniona liczba rzymska: XCIX\n"
     ]
    }
   ],
   "source": [
    "# Zad 14\n",
    "\n",
    "roman_numerals = {\n",
    "    1: \"I\", 4: \"IV\", 5: \"V\", 9: \"IX\",\n",
    "    10: \"X\", 40: \"XL\", 50: \"L\", 90: \"XC\",\n",
    "    100: \"C\", 400: \"CD\", 500: \"D\", 900: \"CM\", 1000: \"M\"\n",
    "}\n",
    "\n",
    "def arabic_to_roman(arabic):\n",
    "    result = \"\"\n",
    "    for value in sorted(roman_numerals.keys(), reverse=True):\n",
    "        while arabic >= value:\n",
    "            result += roman_numerals[value]\n",
    "            arabic -= value\n",
    "    return result\n",
    "\n",
    "number = int(input(\"Podaj liczbę arabską do zamiany na rzymską: \"))\n",
    "print(f\"Zamieniona liczba rzymska: {arabic_to_roman(number)}\")\n"
   ]
  },
  {
   "cell_type": "code",
   "execution_count": 20,
   "id": "aa92f647-46f9-4f90-899b-b1c6fcd9116c",
   "metadata": {},
   "outputs": [
    {
     "name": "stdout",
     "output_type": "stream",
     "text": [
      "Co oznacza słowo 'house' w języku polskim?\n"
     ]
    },
    {
     "name": "stdin",
     "output_type": "stream",
     "text": [
      "Twoja odpowiedź:  dom\n"
     ]
    },
    {
     "name": "stdout",
     "output_type": "stream",
     "text": [
      "Brawo! Odpowiedź jest poprawna.\n",
      "\n",
      "Co oznacza słowo 'friend' w języku polskim?\n"
     ]
    },
    {
     "name": "stdin",
     "output_type": "stream",
     "text": [
      "Twoja odpowiedź:  nie wiem\n"
     ]
    },
    {
     "name": "stdout",
     "output_type": "stream",
     "text": [
      "Niestety, poprawna odpowiedź to: 'przyjaciel'. Spróbuj ponownie.\n",
      "\n",
      "Co oznacza słowo 'school' w języku polskim?\n"
     ]
    },
    {
     "name": "stdin",
     "output_type": "stream",
     "text": [
      "Twoja odpowiedź:  szkoła\n"
     ]
    },
    {
     "name": "stdout",
     "output_type": "stream",
     "text": [
      "Brawo! Odpowiedź jest poprawna.\n",
      "\n",
      "Co oznacza słowo 'cat' w języku polskim?\n"
     ]
    },
    {
     "ename": "KeyboardInterrupt",
     "evalue": "Interrupted by user",
     "output_type": "error",
     "traceback": [
      "\u001b[1;31m---------------------------------------------------------------------------\u001b[0m",
      "\u001b[1;31mKeyboardInterrupt\u001b[0m                         Traceback (most recent call last)",
      "\u001b[1;32m~\\AppData\\Local\\Temp\\ipykernel_8452\\3659919347.py\u001b[0m in \u001b[0;36m<module>\u001b[1;34m\u001b[0m\n\u001b[0;32m     27\u001b[0m             \u001b[0mprint\u001b[0m\u001b[1;33m(\u001b[0m\u001b[1;34mf\"Niestety, poprawna odpowiedź to: '{polish_word}'. Spróbuj ponownie.\\n\"\u001b[0m\u001b[1;33m)\u001b[0m\u001b[1;33m\u001b[0m\u001b[1;33m\u001b[0m\u001b[0m\n\u001b[0;32m     28\u001b[0m \u001b[1;33m\u001b[0m\u001b[0m\n\u001b[1;32m---> 29\u001b[1;33m \u001b[0mlearn_words\u001b[0m\u001b[1;33m(\u001b[0m\u001b[1;33m)\u001b[0m\u001b[1;33m\u001b[0m\u001b[1;33m\u001b[0m\u001b[0m\n\u001b[0m",
      "\u001b[1;32m~\\AppData\\Local\\Temp\\ipykernel_8452\\3659919347.py\u001b[0m in \u001b[0;36mlearn_words\u001b[1;34m()\u001b[0m\n\u001b[0;32m     20\u001b[0m     \u001b[1;32mfor\u001b[0m \u001b[0mforeign_word\u001b[0m\u001b[1;33m,\u001b[0m \u001b[0mpolish_word\u001b[0m \u001b[1;32min\u001b[0m \u001b[0mwords\u001b[0m\u001b[1;33m:\u001b[0m\u001b[1;33m\u001b[0m\u001b[1;33m\u001b[0m\u001b[0m\n\u001b[0;32m     21\u001b[0m         \u001b[0mprint\u001b[0m\u001b[1;33m(\u001b[0m\u001b[1;34mf\"Co oznacza słowo '{foreign_word}' w języku polskim?\"\u001b[0m\u001b[1;33m)\u001b[0m\u001b[1;33m\u001b[0m\u001b[1;33m\u001b[0m\u001b[0m\n\u001b[1;32m---> 22\u001b[1;33m         \u001b[0muser_answer\u001b[0m \u001b[1;33m=\u001b[0m \u001b[0minput\u001b[0m\u001b[1;33m(\u001b[0m\u001b[1;34m\"Twoja odpowiedź: \"\u001b[0m\u001b[1;33m)\u001b[0m\u001b[1;33m.\u001b[0m\u001b[0mstrip\u001b[0m\u001b[1;33m(\u001b[0m\u001b[1;33m)\u001b[0m\u001b[1;33m.\u001b[0m\u001b[0mlower\u001b[0m\u001b[1;33m(\u001b[0m\u001b[1;33m)\u001b[0m\u001b[1;33m\u001b[0m\u001b[1;33m\u001b[0m\u001b[0m\n\u001b[0m\u001b[0;32m     23\u001b[0m \u001b[1;33m\u001b[0m\u001b[0m\n\u001b[0;32m     24\u001b[0m         \u001b[1;32mif\u001b[0m \u001b[0muser_answer\u001b[0m \u001b[1;33m==\u001b[0m \u001b[0mpolish_word\u001b[0m\u001b[1;33m.\u001b[0m\u001b[0mlower\u001b[0m\u001b[1;33m(\u001b[0m\u001b[1;33m)\u001b[0m\u001b[1;33m:\u001b[0m\u001b[1;33m\u001b[0m\u001b[1;33m\u001b[0m\u001b[0m\n",
      "\u001b[1;32m~\\anaconda3\\lib\\site-packages\\ipykernel\\kernelbase.py\u001b[0m in \u001b[0;36mraw_input\u001b[1;34m(self, prompt)\u001b[0m\n\u001b[0;32m   1073\u001b[0m                 \u001b[1;34m\"raw_input was called, but this frontend does not support input requests.\"\u001b[0m\u001b[1;33m\u001b[0m\u001b[1;33m\u001b[0m\u001b[0m\n\u001b[0;32m   1074\u001b[0m             )\n\u001b[1;32m-> 1075\u001b[1;33m         return self._input_request(\n\u001b[0m\u001b[0;32m   1076\u001b[0m             \u001b[0mstr\u001b[0m\u001b[1;33m(\u001b[0m\u001b[0mprompt\u001b[0m\u001b[1;33m)\u001b[0m\u001b[1;33m,\u001b[0m\u001b[1;33m\u001b[0m\u001b[1;33m\u001b[0m\u001b[0m\n\u001b[0;32m   1077\u001b[0m             \u001b[0mself\u001b[0m\u001b[1;33m.\u001b[0m\u001b[0m_parent_ident\u001b[0m\u001b[1;33m[\u001b[0m\u001b[1;34m\"shell\"\u001b[0m\u001b[1;33m]\u001b[0m\u001b[1;33m,\u001b[0m\u001b[1;33m\u001b[0m\u001b[1;33m\u001b[0m\u001b[0m\n",
      "\u001b[1;32m~\\anaconda3\\lib\\site-packages\\ipykernel\\kernelbase.py\u001b[0m in \u001b[0;36m_input_request\u001b[1;34m(self, prompt, ident, parent, password)\u001b[0m\n\u001b[0;32m   1118\u001b[0m             \u001b[1;32mexcept\u001b[0m \u001b[0mKeyboardInterrupt\u001b[0m\u001b[1;33m:\u001b[0m\u001b[1;33m\u001b[0m\u001b[1;33m\u001b[0m\u001b[0m\n\u001b[0;32m   1119\u001b[0m                 \u001b[1;31m# re-raise KeyboardInterrupt, to truncate traceback\u001b[0m\u001b[1;33m\u001b[0m\u001b[1;33m\u001b[0m\u001b[0m\n\u001b[1;32m-> 1120\u001b[1;33m                 \u001b[1;32mraise\u001b[0m \u001b[0mKeyboardInterrupt\u001b[0m\u001b[1;33m(\u001b[0m\u001b[1;34m\"Interrupted by user\"\u001b[0m\u001b[1;33m)\u001b[0m \u001b[1;32mfrom\u001b[0m \u001b[1;32mNone\u001b[0m\u001b[1;33m\u001b[0m\u001b[1;33m\u001b[0m\u001b[0m\n\u001b[0m\u001b[0;32m   1121\u001b[0m             \u001b[1;32mexcept\u001b[0m \u001b[0mException\u001b[0m\u001b[1;33m:\u001b[0m\u001b[1;33m\u001b[0m\u001b[1;33m\u001b[0m\u001b[0m\n\u001b[0;32m   1122\u001b[0m                 \u001b[0mself\u001b[0m\u001b[1;33m.\u001b[0m\u001b[0mlog\u001b[0m\u001b[1;33m.\u001b[0m\u001b[0mwarning\u001b[0m\u001b[1;33m(\u001b[0m\u001b[1;34m\"Invalid Message:\"\u001b[0m\u001b[1;33m,\u001b[0m \u001b[0mexc_info\u001b[0m\u001b[1;33m=\u001b[0m\u001b[1;32mTrue\u001b[0m\u001b[1;33m)\u001b[0m\u001b[1;33m\u001b[0m\u001b[1;33m\u001b[0m\u001b[0m\n",
      "\u001b[1;31mKeyboardInterrupt\u001b[0m: Interrupted by user"
     ]
    }
   ],
   "source": [
    "# Zad 15\n",
    "\n",
    "vocabulary = {\n",
    "    \"apple\": \"jabłko\",\n",
    "    \"dog\": \"pies\",\n",
    "    \"house\": \"dom\",\n",
    "    \"book\": \"książka\",\n",
    "    \"cat\": \"kot\",\n",
    "    \"computer\": \"komputer\",\n",
    "    \"school\": \"szkoła\",\n",
    "    \"car\": \"samochód\",\n",
    "    \"friend\": \"przyjaciel\",\n",
    "    \"tree\": \"drzewo\"\n",
    "}\n",
    "\n",
    "def learn_words():\n",
    "    words = list(vocabulary.items()) \n",
    "    random.shuffle(words)  \n",
    "\n",
    "    for foreign_word, polish_word in words:\n",
    "        print(f\"Co oznacza słowo '{foreign_word}' w języku polskim?\")\n",
    "        user_answer = input(\"Twoja odpowiedź: \").strip().lower()\n",
    "\n",
    "        if user_answer == polish_word.lower():\n",
    "            print(\"Brawo! Odpowiedź jest poprawna.\\n\")\n",
    "        else:\n",
    "            print(f\"Niestety, poprawna odpowiedź to: '{polish_word}'. Spróbuj ponownie.\\n\")\n",
    "\n",
    "learn_words()\n"
   ]
  },
  {
   "cell_type": "code",
   "execution_count": 21,
   "id": "d9bcd9cf-e6f6-4a46-b500-aefd82de2d32",
   "metadata": {},
   "outputs": [
    {
     "name": "stdout",
     "output_type": "stream",
     "text": [
      "True\n"
     ]
    }
   ],
   "source": [
    "# Zad 16\n",
    "\n",
    "def compare_sets(set1, set2):\n",
    "    return set1 == set2\n",
    "\n",
    "set1 = {1, 2, 3, 4, 5}\n",
    "set2 = {5, 4, 3, 2, 1}\n",
    "\n",
    "result = compare_sets(set1, set2)\n",
    "print(result)"
   ]
  },
  {
   "cell_type": "code",
   "execution_count": 22,
   "id": "92522f98-bf7c-461c-beb7-793686cc1b16",
   "metadata": {},
   "outputs": [
    {
     "name": "stdout",
     "output_type": "stream",
     "text": [
      "Lista bez duplikatów: [1, 2, 3, 4, 5, 6, 7, 8]\n"
     ]
    }
   ],
   "source": [
    "# Zad 17\n",
    "\n",
    "def remove_duplicates(input_list):\n",
    "    unique_set = set(input_list)\n",
    "    \n",
    "    unique_list = list(unique_set)\n",
    "    return unique_list\n",
    "\n",
    "input_list = [1, 2, 3, 4, 5, 1, 2, 3, 6, 7, 8, 4]\n",
    "\n",
    "result = remove_duplicates(input_list)\n",
    "print(f\"Lista bez duplikatów: {result}\")\n"
   ]
  },
  {
   "cell_type": "code",
   "execution_count": 23,
   "id": "11da9bb3-bf11-460e-b5f0-9be19825cf4a",
   "metadata": {},
   "outputs": [
    {
     "name": "stdout",
     "output_type": "stream",
     "text": [
      "Połączony zbiór: {1, 2, 3, 4, 5, 6, 7, 8}\n",
      "Połączona lista: [1, 2, 3, 4, 3, 4, 5, 6, 6, 7, 8]\n"
     ]
    }
   ],
   "source": [
    "# Zad 18\n",
    "\n",
    "set1 = {1, 2, 3, 4}\n",
    "set2 = {3, 4, 5, 6}\n",
    "set3 = {6, 7, 8}\n",
    "\n",
    "combined_set = set1 | set2 | set3\n",
    "\n",
    "print(f\"Połączony zbiór: {combined_set}\")\n",
    "\n",
    "\n",
    "list1 = [1, 2, 3, 4]\n",
    "list2 = [3, 4, 5, 6]\n",
    "list3 = [6, 7, 8]\n",
    "\n",
    "combined_list = list1 + list2 + list3\n",
    "\n",
    "print(f\"Połączona lista: {combined_list}\")\n",
    "\n"
   ]
  },
  {
   "cell_type": "code",
   "execution_count": null,
   "id": "c21dec8a-626a-4ddf-b000-0f1233439a43",
   "metadata": {},
   "outputs": [],
   "source": []
  }
 ],
 "metadata": {
  "kernelspec": {
   "display_name": "Python 3 (ipykernel)",
   "language": "python",
   "name": "python3"
  },
  "language_info": {
   "codemirror_mode": {
    "name": "ipython",
    "version": 3
   },
   "file_extension": ".py",
   "mimetype": "text/x-python",
   "name": "python",
   "nbconvert_exporter": "python",
   "pygments_lexer": "ipython3",
   "version": "3.9.12"
  }
 },
 "nbformat": 4,
 "nbformat_minor": 5
}
