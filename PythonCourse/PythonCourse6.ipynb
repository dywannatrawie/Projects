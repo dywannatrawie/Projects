{
 "cells": [
  {
   "cell_type": "markdown",
   "id": "02bddbca-274c-49af-a3c9-0a26d7408f8a",
   "metadata": {},
   "source": [
    "Zadania 6. \n",
    "\n",
    "1. Napisz program poszukujący największą wartość w zadanej liście dwuwymiarowej (bez wykorzystania funkcji typu sort, max itp!).\n",
    "2. Stwórz dziesięcioelementową listę wypełnioną liczbami. Do każdego elementu listy dodaj liczbę podaną przez użytkownika. Wyniki wyświetl.\n",
    "3. Stwórz listę dwuwymiarową wypełnioną liczbami. Jaka jest suma elementów?\n",
    "4. Korzystając z list zagnieżdżonych lub słowników przygotuj swój szkolny dziennik. Powinny znaleźć się w nim nazwy przedmiotów i spis twoich ocen z każdego z nich. Niech na tej podstawie program wystawi ocenę z przedmiotów i policzy semestralną średnią.\n",
    "5. Stwórz listę zagnieżdżoną, o wymiarach n x m. n i m powinny być pobrane z klawiatury. Zawartość listy powinna być losowa. Wyświetl otrzymaną listę.\n",
    "6. Napisz program, który przyjmuje listę elementów i tworzy słownik, w którym hasłami są elementy, a definicjami liczba ich wystąpień.\n",
    "7. Napisz program, który utworzy słownik, w którym kluczami będą liczby całkowite od 1 do 10, a wartościami będą kwadraty tych liczb. Wyświetl utworzony słownik.\n",
    "8. Napisz program, który utworzy słownik, w którym kluczami będą nazwy krajów, a wartościami ich stolice. Następnie zapytaj użytkownika, jaka jest stolica danego kraju i wyświetl mu odpowiedź.\n",
    "9. Stwórz dziesięcioelementową listę wypełnioną liczbami. W podsumowaniu wyświetl informację o wartości najmniejszego i największego elementu i średniej wszystkich elementów w liście.\n",
    "10. Napisz ”Generator przysłów”. Program powinien losować jedno z 5 dostępnych w liście przysłów i wyświetlać je na ekranie.\n",
    "11. Stwórz słownik gdzie hasłami są produkty spożywcze a definicjami ich ceny.\n",
    "12. Napisz program, który korzysta z poprzedniego słownika do tworzenia listy zakupów. Po podaniu listy wszystkich produktów policzy ich łączną wartość (wykorzystaj pętle while).\n",
    "13. Stwórz program z prostym menu umożliwiającym wyświetlanie, dodawanie, usuwanie haseł i definicji oraz ich modyfikację np. książka telefoniczna (wykorzystaj pętle while).\n",
    "14. Przygotuj program zamieniający liczby arabskie na rzymskie (z wykorzystaniem słowników).   15.1 zamieniająca tylko cyfry oraz 10, 50, 100, 500, 1000   15.2 (trudniejsze) zamieniające dowolne liczby.\n",
    "15. Napisz program do nauki słówek z dowolnego języka obcego. Kiedy pojawi się obce słowo powinniśmy wpisać odpowiadające mu słowo w języku polskim.\n",
    "16. Napisz program, który przyjmuje dwa zbiory i zwraca True, jeśli mają one takie same elementy, a False w przeciwnym przypadku.\n",
    "17. Napisz program, która przyjmuje listę elementów i tworzy nową listę bez duplikatów. Wykorzystaj w tym celu sety lub listy.\n",
    "18. Napisz program, która przyjmuje dwa lub więcej zbiorów i tworzy nowy zbiór zawierający wszystkie elementy z tych zbiorów. Wykonaj zadanie także z użyciem list."
   ]
  },
  {
   "cell_type": "code",
   "execution_count": null,
   "id": "fb4939e9-fd6b-47f6-b8a9-f227a4d65fbc",
   "metadata": {},
   "outputs": [],
   "source": []
  }
 ],
 "metadata": {
  "kernelspec": {
   "display_name": "Python 3 (ipykernel)",
   "language": "python",
   "name": "python3"
  },
  "language_info": {
   "codemirror_mode": {
    "name": "ipython",
    "version": 3
   },
   "file_extension": ".py",
   "mimetype": "text/x-python",
   "name": "python",
   "nbconvert_exporter": "python",
   "pygments_lexer": "ipython3",
   "version": "3.12.7"
  }
 },
 "nbformat": 4,
 "nbformat_minor": 5
}
