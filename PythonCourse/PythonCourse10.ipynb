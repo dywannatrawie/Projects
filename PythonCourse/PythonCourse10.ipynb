{
 "cells": [
  {
   "cell_type": "markdown",
   "id": "f2143407-a1ba-4af3-9a1e-392978b8c353",
   "metadata": {},
   "source": [
    "Zad 10\n",
    "\n",
    "Klasy cz. 1\n",
    "\n",
    "\n",
    "1. Rozbuduj program ”Sim” tak, aby dało się ustalić jego płeć, zawód i poziom najedzenia. Powinny zostać stworzone pola i metody, które pozwalają na modyfikację ich zawartości.\n",
    "2. Rozbuduj program ”Sim” w taki sposób, aby co sekundę poziom najedzenia spadal o 1.\n",
    "3. Przygotuj program ”Telewizor”. Powinien mieć listę dostępnych kanałów i ustawiony kanał początkowy. Powinien umieć wyświetlić ustawiony aktualnie kanał.\n",
    "4. Rozbuduj program ”Telewizor” tak, aby można było sterować głośnością.\n",
    "5. Rozbuduj program ”Telewizor” tak, nie było możliwości zmiany głośności powyżej 20 i poniżej 0.\n",
    "6. Wyposaż program ”Telewizor” w funkcję ”wyswietl kanaly”. Wprowadź możliwość zmiany kanału o jeden w górę lub o jeden w dół (z ostatniego powinien przeskakiwać na pierwszy).\n",
    "7. Wykorzystując klasy i obiekty przygotuj program ”Kalkulator” (z zajęć 3).\n",
    "8. Wykorzystując klasy i obiekty przygotuj program symulujący rzut kostką (zajęcia 4). Niech program pyta ilu ścienna jest kostka.\n",
    "9. Wykorzystując klasy i obiekty przygotuj program symulujący losowanie (bez powtórzeń!) LOTTO (zajęcia 4).\n",
    "10. Wykorzystując klasy i obiekty przygotuj program ”Dziennik” (zajęcia 5). W podsumowaniu wyświetl oceny 3 osób.\n",
    "11. Przygotuj program wyznaczający pole prostokąta. Wymiary mają być parametrami konstruktora\n",
    "12. Przygotuj program wyznaczający pole prostokąta. Wymiary mają być polami klasy\n",
    "13. Przygotuj program wyznaczający pole 3 prostokątów (z wykorzystaniem jednej klasy i 3 obiektów).\n",
    "14. Wykorzystując klasy i obiekty przygotuj program odliczający (zajęcia 4, zadanie 1).\n",
    "15. Program ”Student” rozbuduj tak, aby jednym z parametrów konstruktora było imię studenta.\n",
    "16. Przygotuj grę karcianą ”Wojna” (bez udziału żywego gracza, niech komputer gra sam ze sobą)*."
   ]
  },
  {
   "cell_type": "code",
   "execution_count": 11,
   "id": "3c2d54e9-745a-4ef7-9a43-c2c93ce98f32",
   "metadata": {},
   "outputs": [
    {
     "name": "stdout",
     "output_type": "stream",
     "text": [
      "Witaj w grze SIM!\n",
      "\n",
      "Wprowadź nazwę sima:\n"
     ]
    },
    {
     "name": "stdin",
     "output_type": "stream",
     "text": [
      " Mietek\n"
     ]
    },
    {
     "name": "stdout",
     "output_type": "stream",
     "text": [
      "Wybierz płeć: \n",
      "0 - Mężczyzna \n",
      "1 - Kobieta\n"
     ]
    },
    {
     "name": "stdin",
     "output_type": "stream",
     "text": [
      " 0\n"
     ]
    },
    {
     "name": "stdout",
     "output_type": "stream",
     "text": [
      "Wybierz zawód: \n",
      "0 - Mechanik \n",
      "1 - Kupiec \n",
      "2 - Król \n",
      "3 - Kapłan \n",
      "4 - Łotrzyk \n",
      "5 - Karczmarz\n"
     ]
    },
    {
     "name": "stdin",
     "output_type": "stream",
     "text": [
      " 4\n"
     ]
    },
    {
     "name": "stdout",
     "output_type": "stream",
     "text": [
      "\n",
      "Utworzono sima o nazwie: Mietek\n",
      "Płeć: Mężczyzna\n",
      "Zawód: Łotrzyk\n",
      "Nastrój: neutralny\n",
      "Poziom najedzenia: 100 punktów (przejedzony).\n",
      "\n",
      "Poziom najedzenia będzie teraz spadał co sekundę.\n",
      "Poziom najedzenia: 99 punktów (przejedzony).\n",
      "Poziom najedzenia: 98 punktów (przejedzony).\n",
      "Poziom najedzenia: 97 punktów (przejedzony).\n",
      "Poziom najedzenia: 96 punktów (przejedzony).\n",
      "Poziom najedzenia: 95 punktów (przejedzony).\n",
      "Poziom najedzenia: 94 punktów (przejedzony).\n",
      "Poziom najedzenia: 93 punktów (przejedzony).\n",
      "Poziom najedzenia: 92 punktów (przejedzony).\n",
      "Poziom najedzenia: 91 punktów (przejedzony).\n",
      "Poziom najedzenia: 90 punktów (przejedzony).\n",
      "Poziom najedzenia: 89 punktów (przejedzony).\n",
      "Poziom najedzenia: 88 punktów (przejedzony).\n",
      "Poziom najedzenia: 87 punktów (przejedzony).\n",
      "Poziom najedzenia: 86 punktów (przejedzony).\n",
      "Poziom najedzenia: 85 punktów (przejedzony).\n",
      "Poziom najedzenia: 84 punktów (przejedzony).\n",
      "Poziom najedzenia: 83 punktów (przejedzony).\n",
      "Poziom najedzenia: 82 punktów (przejedzony).\n",
      "Poziom najedzenia: 81 punktów (przejedzony).\n",
      "Poziom najedzenia: 80 punktów (przejedzony).\n",
      "Poziom najedzenia: 79 punktów (przejedzony).\n",
      "Poziom najedzenia: 78 punktów (przejedzony).\n",
      "Poziom najedzenia: 77 punktów (przejedzony).\n",
      "Poziom najedzenia: 76 punktów (przejedzony).\n",
      "Poziom najedzenia: 75 punktów (najedzony).\n",
      "Poziom najedzenia: 74 punktów (najedzony).\n",
      "Poziom najedzenia: 73 punktów (najedzony).\n",
      "Poziom najedzenia: 72 punktów (najedzony).\n",
      "\n",
      "Program został zakończony przez użytkownika.\n"
     ]
    }
   ],
   "source": [
    "# Zad 1. Rozbuduj program ”Sim” tak, aby dało się ustalić jego płeć, zawód i poziom najedzenia. \n",
    "#  Powinny zostać stworzone pola i metody, które pozwalają na modyfikację ich zawartości.\n",
    "\n",
    "# Zad 2. Rozbuduj program ”Sim” w taki sposób, aby co sekundę poziom najedzenia spadal o 1.\n",
    "\n",
    "import time\n",
    "\n",
    "class Sim:\n",
    "    def __init__(self, nr_nastroju, plec, zawod, poziom_najedzenia):\n",
    "        self.lista_nastrojow = [\"zadowolony\", \"smutny\", \"zły\", \"neutralny\", \"szczęśliwy\"]\n",
    "        self.nr_nastroju = nr_nastroju\n",
    "        self.lista_plci = [\"Mężczyzna\", \"Kobieta\"]\n",
    "        self.plec = plec\n",
    "        self.lista_zawodow = [\"Mechanik\", \"Kupiec\", \"Król\", \"Kapłan\", \"Łotrzyk\", \"Karczmarz\"]\n",
    "        self.zawod = zawod\n",
    "        self.poziom_najedzenia = poziom_najedzenia  # Punkty najedzenia (0-100)\n",
    "\n",
    "    def ustaw_nastroj(self, wprowadzony_nastroj):\n",
    "        if 0 <= wprowadzony_nastroj < len(self.lista_nastrojow):\n",
    "            self.nr_nastroju = wprowadzony_nastroj\n",
    "        else:\n",
    "            print(\"Niepoprawny numer nastroju.\")\n",
    "\n",
    "    def ustaw_plec(self, wprowadzona_plec):\n",
    "        if wprowadzona_plec in [0, 1]:\n",
    "            self.plec = wprowadzona_plec\n",
    "        else:\n",
    "            print(\"Niepoprawna płeć.\")\n",
    "\n",
    "    def ustaw_zawod(self, wprowadzony_zawod):\n",
    "        if wprowadzony_zawod in range(len(self.lista_zawodow)):\n",
    "            self.zawod = wprowadzony_zawod\n",
    "        else:\n",
    "            print(\"Niepoprawny numer zawodu.\")\n",
    "\n",
    "    def zmniejsz_najedzenie(self):\n",
    "        if self.poziom_najedzenia > 0:\n",
    "            self.poziom_najedzenia -= 1\n",
    "            self.sprawdz_poziom_najedzenia()\n",
    "        else:\n",
    "            print(\"\\nSim umarł z głodu!\")\n",
    "            return False\n",
    "        return True\n",
    "\n",
    "    def sprawdz_poziom_najedzenia(self):\n",
    "        if self.poziom_najedzenia > 75:\n",
    "            stan = \"przejedzony\"\n",
    "        elif self.poziom_najedzenia > 50:\n",
    "            stan = \"najedzony\"\n",
    "        elif self.poziom_najedzenia > 25:\n",
    "            stan = \"głodny\"\n",
    "        else:\n",
    "            stan = \"umiera z głodu\"\n",
    "        print(f\"Poziom najedzenia: {self.poziom_najedzenia} punktów ({stan}).\")\n",
    "\n",
    "    def wyswietl_informacje(self):\n",
    "        print(f\"Płeć: {self.lista_plci[self.plec]}\")\n",
    "        print(f\"Zawód: {self.lista_zawodow[self.zawod]}\")\n",
    "        print(f\"Nastrój: {self.lista_nastrojow[self.nr_nastroju]}\")\n",
    "        self.sprawdz_poziom_najedzenia()\n",
    "\n",
    "\n",
    "print(\"Witaj w grze SIM!\")\n",
    "print(\"\\nWprowadź nazwę sima:\")\n",
    "nazwa = input().strip()\n",
    "\n",
    "print(\"Wybierz płeć: \\n0 - Mężczyzna \\n1 - Kobieta\")\n",
    "plec = int(input())\n",
    "\n",
    "print(\"Wybierz zawód: \\n0 - Mechanik \\n1 - Kupiec \\n2 - Król \\n3 - Kapłan \\n4 - Łotrzyk \\n5 - Karczmarz\")\n",
    "zawod = int(input())\n",
    "\n",
    "poziom_najedzenia = 100  # Zaczynamy od 100 punktów najedzenia\n",
    "sim = Sim(3, plec, zawod, poziom_najedzenia)\n",
    "\n",
    "print(f\"\\nUtworzono sima o nazwie: {nazwa}\")\n",
    "sim.wyswietl_informacje()\n",
    "\n",
    "print(\"\\nPoziom najedzenia będzie teraz spadał co sekundę.\")\n",
    "\n",
    "try:\n",
    "    while True:\n",
    "        time.sleep(1) \n",
    "        if not sim.zmniejsz_najedzenie():\n",
    "            break\n",
    "except KeyboardInterrupt:\n",
    "    print(\"\\nProgram został zakończony przez użytkownika.\")"
   ]
  },
  {
   "cell_type": "code",
   "execution_count": 16,
   "id": "75d81e06-ed73-47e4-8eaf-9189f37311f7",
   "metadata": {},
   "outputs": [
    {
     "name": "stdout",
     "output_type": "stream",
     "text": [
      "\n",
      "Wybierz opcję:\n",
      "1. Wyświetl aktualny kanał\n",
      "2. Wyświetl dostępne kanały\n",
      "3. Zmień kanał w górę\n",
      "4. Zmień kanał w dół\n",
      "5. Ustaw głośność\n",
      "6. Wyjdź\n"
     ]
    },
    {
     "name": "stdin",
     "output_type": "stream",
     "text": [
      "Wybór:  1\n"
     ]
    },
    {
     "name": "stdout",
     "output_type": "stream",
     "text": [
      "Aktualny kanał: TVP1\n",
      "\n",
      "Wybierz opcję:\n",
      "1. Wyświetl aktualny kanał\n",
      "2. Wyświetl dostępne kanały\n",
      "3. Zmień kanał w górę\n",
      "4. Zmień kanał w dół\n",
      "5. Ustaw głośność\n",
      "6. Wyjdź\n"
     ]
    },
    {
     "name": "stdin",
     "output_type": "stream",
     "text": [
      "Wybór:  2\n"
     ]
    },
    {
     "name": "stdout",
     "output_type": "stream",
     "text": [
      "Dostępne kanały:\n",
      "1. TVP1\n",
      "2. TVP2\n",
      "3. Polsat\n",
      "4. TVN\n",
      "5. TV4\n",
      "\n",
      "Wybierz opcję:\n",
      "1. Wyświetl aktualny kanał\n",
      "2. Wyświetl dostępne kanały\n",
      "3. Zmień kanał w górę\n",
      "4. Zmień kanał w dół\n",
      "5. Ustaw głośność\n",
      "6. Wyjdź\n"
     ]
    },
    {
     "name": "stdin",
     "output_type": "stream",
     "text": [
      "Wybór:  3\n"
     ]
    },
    {
     "name": "stdout",
     "output_type": "stream",
     "text": [
      "Aktualny kanał: TVP2\n",
      "\n",
      "Wybierz opcję:\n",
      "1. Wyświetl aktualny kanał\n",
      "2. Wyświetl dostępne kanały\n",
      "3. Zmień kanał w górę\n",
      "4. Zmień kanał w dół\n",
      "5. Ustaw głośność\n",
      "6. Wyjdź\n"
     ]
    },
    {
     "name": "stdin",
     "output_type": "stream",
     "text": [
      "Wybór:  3\n"
     ]
    },
    {
     "name": "stdout",
     "output_type": "stream",
     "text": [
      "Aktualny kanał: Polsat\n",
      "\n",
      "Wybierz opcję:\n",
      "1. Wyświetl aktualny kanał\n",
      "2. Wyświetl dostępne kanały\n",
      "3. Zmień kanał w górę\n",
      "4. Zmień kanał w dół\n",
      "5. Ustaw głośność\n",
      "6. Wyjdź\n"
     ]
    },
    {
     "name": "stdin",
     "output_type": "stream",
     "text": [
      "Wybór:  3\n"
     ]
    },
    {
     "name": "stdout",
     "output_type": "stream",
     "text": [
      "Aktualny kanał: TVN\n",
      "\n",
      "Wybierz opcję:\n",
      "1. Wyświetl aktualny kanał\n",
      "2. Wyświetl dostępne kanały\n",
      "3. Zmień kanał w górę\n",
      "4. Zmień kanał w dół\n",
      "5. Ustaw głośność\n",
      "6. Wyjdź\n"
     ]
    },
    {
     "name": "stdin",
     "output_type": "stream",
     "text": [
      "Wybór:  3\n"
     ]
    },
    {
     "name": "stdout",
     "output_type": "stream",
     "text": [
      "Aktualny kanał: TV4\n",
      "\n",
      "Wybierz opcję:\n",
      "1. Wyświetl aktualny kanał\n",
      "2. Wyświetl dostępne kanały\n",
      "3. Zmień kanał w górę\n",
      "4. Zmień kanał w dół\n",
      "5. Ustaw głośność\n",
      "6. Wyjdź\n"
     ]
    },
    {
     "name": "stdin",
     "output_type": "stream",
     "text": [
      "Wybór:  4\n"
     ]
    },
    {
     "name": "stdout",
     "output_type": "stream",
     "text": [
      "Aktualny kanał: TVN\n",
      "\n",
      "Wybierz opcję:\n",
      "1. Wyświetl aktualny kanał\n",
      "2. Wyświetl dostępne kanały\n",
      "3. Zmień kanał w górę\n",
      "4. Zmień kanał w dół\n",
      "5. Ustaw głośność\n",
      "6. Wyjdź\n"
     ]
    },
    {
     "name": "stdin",
     "output_type": "stream",
     "text": [
      "Wybór:  5\n",
      "Podaj nową głośność (0-20):  13\n"
     ]
    },
    {
     "name": "stdout",
     "output_type": "stream",
     "text": [
      "Głośność ustawiona na 13\n",
      "\n",
      "Wybierz opcję:\n",
      "1. Wyświetl aktualny kanał\n",
      "2. Wyświetl dostępne kanały\n",
      "3. Zmień kanał w górę\n",
      "4. Zmień kanał w dół\n",
      "5. Ustaw głośność\n",
      "6. Wyjdź\n"
     ]
    },
    {
     "name": "stdin",
     "output_type": "stream",
     "text": [
      "Wybór:  5\n",
      "Podaj nową głośność (0-20):  21\n"
     ]
    },
    {
     "name": "stdout",
     "output_type": "stream",
     "text": [
      "Głośność musi być w zakresie od 0 do 20.\n",
      "\n",
      "Wybierz opcję:\n",
      "1. Wyświetl aktualny kanał\n",
      "2. Wyświetl dostępne kanały\n",
      "3. Zmień kanał w górę\n",
      "4. Zmień kanał w dół\n",
      "5. Ustaw głośność\n",
      "6. Wyjdź\n"
     ]
    },
    {
     "name": "stdin",
     "output_type": "stream",
     "text": [
      "Wybór:  6\n"
     ]
    }
   ],
   "source": [
    "# Zad 3. Przygotuj program ”Telewizor”. Powinien mieć listę dostępnych kanałów i ustawiony kanał początkowy. \n",
    "#  Powinien umieć wyświetlić ustawiony aktualnie kanał.\n",
    "\n",
    "# Zad 4. Rozbuduj program ”Telewizor” tak, aby można było sterować głośnością.\n",
    "\n",
    "# Zad 5. Rozbuduj program ”Telewizor” tak, nie było możliwości zmiany głośności powyżej 20 i poniżej 0.\n",
    "\n",
    "# Zad 6. Wyposaż program ”Telewizor” w funkcję ”wyswietl kanaly”. Wprowadź możliwość zmiany kanału o jeden w górę lub o jeden w dół\n",
    "#  (z ostatniego powinien przeskakiwać na pierwszy).\n",
    "\n",
    "\n",
    "class Telewizor:\n",
    "    def __init__(self):\n",
    "        self.kanaly = [\"TVP1\", \"TVP2\", \"Polsat\", \"TVN\", \"TV4\"]\n",
    "        self.aktualny_kanal = 0\n",
    "        self.glosnosc = 10\n",
    "\n",
    "    def wyswietl_kanal(self):\n",
    "        print(f\"Aktualny kanał: {self.kanaly[self.aktualny_kanal]}\")\n",
    "        \n",
    "    def wyswietl_kanaly(self):\n",
    "        print(\"Dostępne kanały:\")\n",
    "        for i, kanal in enumerate(self.kanaly):\n",
    "            print(f\"{i + 1}. {kanal}\")\n",
    "\n",
    "    def zmien_kanal_w_gore(self):\n",
    "        self.aktualny_kanal = (self.aktualny_kanal + 1) % len(self.kanaly)\n",
    "        self.wyswietl_kanal()\n",
    "\n",
    "    def zmien_kanal_w_dol(self):\n",
    "        self.aktualny_kanal = (self.aktualny_kanal - 1) % len(self.kanaly)\n",
    "        self.wyswietl_kanal()\n",
    "\n",
    "    def ustaw_glosnosc(self, nowa_glosnosc):\n",
    "        if 0 <= nowa_glosnosc <= 20:\n",
    "            self.glosnosc = nowa_glosnosc\n",
    "            print(f\"Głośność ustawiona na {self.glosnosc}\")\n",
    "        else:\n",
    "            print(\"Głośność musi być w zakresie od 0 do 20.\")\n",
    "\n",
    "telewizor = Telewizor()\n",
    "while True:\n",
    "    print(\"\\nWybierz opcję:\")\n",
    "    print(\"1. Wyświetl aktualny kanał\")\n",
    "    print(\"2. Wyświetl dostępne kanały\")\n",
    "    print(\"3. Zmień kanał w górę\")\n",
    "    print(\"4. Zmień kanał w dół\")\n",
    "    print(\"5. Ustaw głośność\")\n",
    "    print(\"6. Wyjdź\")\n",
    "\n",
    "    wybor = input(\"Wybór: \")\n",
    "\n",
    "    if wybor == \"1\":\n",
    "        telewizor.wyswietl_kanal()\n",
    "    elif wybor == \"2\":\n",
    "        telewizor.wyswietl_kanaly()\n",
    "    elif wybor == \"3\":\n",
    "        telewizor.zmien_kanal_w_gore()\n",
    "    elif wybor == \"4\":\n",
    "        telewizor.zmien_kanal_w_dol()\n",
    "    elif wybor == \"5\":\n",
    "        try:\n",
    "            nowa_glosnosc = int(input(\"Podaj nową głośność (0-20): \"))\n",
    "            telewizor.ustaw_glosnosc(nowa_glosnosc)\n",
    "        except ValueError:\n",
    "            print(\"Wprowadź liczbę całkowitą.\")\n",
    "    elif wybor == \"6\":\n",
    "        break\n",
    "    else:\n",
    "        print(\"Nieprawidłowy wybór. Spróbuj ponownie.\")\n"
   ]
  },
  {
   "cell_type": "code",
   "execution_count": 18,
   "id": "37c74b79-a45a-44a4-86cc-b33ce0a21777",
   "metadata": {},
   "outputs": [
    {
     "name": "stdout",
     "output_type": "stream",
     "text": [
      "\n",
      "Wybierz operację:\n",
      "1. Dodawanie\n",
      "2. Odejmowanie\n",
      "3. Mnożenie\n",
      "4. Dzielenie\n",
      "5. Resetuj wynik\n",
      "6. Wyjście\n",
      "Aktualny wynik: 0\n"
     ]
    },
    {
     "name": "stdin",
     "output_type": "stream",
     "text": [
      "Wybór:  1\n",
      "Podaj pierwszą liczbę:  23\n",
      "Podaj drugą liczbę:  3\n"
     ]
    },
    {
     "name": "stdout",
     "output_type": "stream",
     "text": [
      "Wynik: 26.0\n",
      "\n",
      "Wybierz operację:\n",
      "1. Dodawanie\n",
      "2. Odejmowanie\n",
      "3. Mnożenie\n",
      "4. Dzielenie\n",
      "5. Resetuj wynik\n",
      "6. Wyjście\n",
      "Aktualny wynik: 26.0\n"
     ]
    },
    {
     "name": "stdin",
     "output_type": "stream",
     "text": [
      "Wybór:  m\n",
      "Podaj drugą liczbę:  2\n"
     ]
    },
    {
     "name": "stdout",
     "output_type": "stream",
     "text": [
      "Nieprawidłowy wybór. Spróbuj ponownie.\n",
      "Wynik: 26.0\n",
      "\n",
      "Wybierz operację:\n",
      "1. Dodawanie\n",
      "2. Odejmowanie\n",
      "3. Mnożenie\n",
      "4. Dzielenie\n",
      "5. Resetuj wynik\n",
      "6. Wyjście\n",
      "Aktualny wynik: 26.0\n"
     ]
    },
    {
     "name": "stdin",
     "output_type": "stream",
     "text": [
      "Wybór:  3\n",
      "Podaj drugą liczbę:  2\n"
     ]
    },
    {
     "name": "stdout",
     "output_type": "stream",
     "text": [
      "Wynik: 52.0\n",
      "\n",
      "Wybierz operację:\n",
      "1. Dodawanie\n",
      "2. Odejmowanie\n",
      "3. Mnożenie\n",
      "4. Dzielenie\n",
      "5. Resetuj wynik\n",
      "6. Wyjście\n",
      "Aktualny wynik: 52.0\n"
     ]
    },
    {
     "name": "stdin",
     "output_type": "stream",
     "text": [
      "Wybór:  4\n",
      "Podaj drugą liczbę:  3\n"
     ]
    },
    {
     "name": "stdout",
     "output_type": "stream",
     "text": [
      "Wynik: 17.333333333333332\n",
      "\n",
      "Wybierz operację:\n",
      "1. Dodawanie\n",
      "2. Odejmowanie\n",
      "3. Mnożenie\n",
      "4. Dzielenie\n",
      "5. Resetuj wynik\n",
      "6. Wyjście\n",
      "Aktualny wynik: 17.333333333333332\n"
     ]
    },
    {
     "name": "stdin",
     "output_type": "stream",
     "text": [
      "Wybór:  5\n"
     ]
    },
    {
     "name": "stdout",
     "output_type": "stream",
     "text": [
      "Wynik został zresetowany.\n",
      "\n",
      "Wybierz operację:\n",
      "1. Dodawanie\n",
      "2. Odejmowanie\n",
      "3. Mnożenie\n",
      "4. Dzielenie\n",
      "5. Resetuj wynik\n",
      "6. Wyjście\n",
      "Aktualny wynik: 0\n"
     ]
    },
    {
     "name": "stdin",
     "output_type": "stream",
     "text": [
      "Wybór:  6\n"
     ]
    }
   ],
   "source": [
    "# Zad 7. Wykorzystując klasy i obiekty przygotuj program ”Kalkulator” (z zajęć 3).\n",
    "\n",
    "class Calculator:\n",
    "    def dodawanie(self, a, b):\n",
    "        return a + b\n",
    "\n",
    "    def odejmowanie(self, a, b):\n",
    "        return a - b\n",
    "\n",
    "    def mnozenie(self, a, b):\n",
    "        return a * b\n",
    "\n",
    "    def dzielenie(self, a, b):\n",
    "        if b != 0:\n",
    "            return a / b\n",
    "        else:\n",
    "            return \"Nie można dzielić przez 0\"\n",
    "\n",
    "kalkulator = Calculator()\n",
    "\n",
    "wynik = 0 \n",
    "\n",
    "while True:\n",
    "    print(\"\\nWybierz operację:\")\n",
    "    print(\"1. Dodawanie\")\n",
    "    print(\"2. Odejmowanie\")\n",
    "    print(\"3. Mnożenie\")\n",
    "    print(\"4. Dzielenie\")\n",
    "    print(\"5. Resetuj wynik\")\n",
    "    print(\"6. Wyjście\")\n",
    "    print(f\"Aktualny wynik: {wynik}\")\n",
    "\n",
    "    wybor = input(\"Wybór: \")\n",
    "\n",
    "    if wybor == \"6\":\n",
    "        break\n",
    "    elif wybor == \"5\":\n",
    "        wynik = 0\n",
    "        print(\"Wynik został zresetowany.\")\n",
    "        continue\n",
    "\n",
    "    try:\n",
    "        if wynik == 0:\n",
    "            a = float(input(\"Podaj pierwszą liczbę: \"))\n",
    "        else:\n",
    "            a = wynik \n",
    "\n",
    "        b = float(input(\"Podaj drugą liczbę: \"))\n",
    "\n",
    "        if wybor == \"1\":\n",
    "            wynik = kalkulator.dodawanie(a, b)\n",
    "        elif wybor == \"2\":\n",
    "            wynik = kalkulator.odejmowanie(a, b)\n",
    "        elif wybor == \"3\":\n",
    "            wynik = kalkulator.mnozenie(a, b)\n",
    "        elif wybor == \"4\":\n",
    "            wynik = kalkulator.dzielenie(a, b)\n",
    "        else:\n",
    "            print(\"Nieprawidłowy wybór. Spróbuj ponownie.\")\n",
    "        \n",
    "        print(f\"Wynik: {wynik}\")\n",
    "        \n",
    "    except ValueError:\n",
    "        print(\"Proszę wprowadzić poprawne liczby.\")"
   ]
  },
  {
   "cell_type": "code",
   "execution_count": 20,
   "id": "36920dde-9d2f-4724-a3ff-9220d8395c4e",
   "metadata": {},
   "outputs": [
    {
     "name": "stdin",
     "output_type": "stream",
     "text": [
      "Podaj liczbę ścianek kostki (np. 6, 20):  20\n",
      "\n",
      "Naciśnij Enter, aby rzucić kostką... \n"
     ]
    },
    {
     "name": "stdout",
     "output_type": "stream",
     "text": [
      "Rzut kostką (z 20 ściankami): 13\n"
     ]
    },
    {
     "name": "stdin",
     "output_type": "stream",
     "text": [
      "Chcesz rzucić ponownie? (t/n):  t\n",
      "\n",
      "Naciśnij Enter, aby rzucić kostką... \n"
     ]
    },
    {
     "name": "stdout",
     "output_type": "stream",
     "text": [
      "Rzut kostką (z 20 ściankami): 4\n"
     ]
    },
    {
     "name": "stdin",
     "output_type": "stream",
     "text": [
      "Chcesz rzucić ponownie? (t/n):  n\n"
     ]
    }
   ],
   "source": [
    "# Zad 8. Wykorzystując klasy i obiekty przygotuj program symulujący rzut kostką (zajęcia 4). Niech program pyta ilu ścienna jest kostka.\n",
    "\n",
    "import random\n",
    "\n",
    "class Kostka:\n",
    "    def __init__(self, sciany):\n",
    "        self.sciany = sciany\n",
    "\n",
    "    def rzut(self):\n",
    "        return random.randint(1, self.sciany)\n",
    "\n",
    "while True:\n",
    "    try:\n",
    "        sciany = int(input(\"Podaj liczbę ścianek kostki (np. 6, 20): \"))\n",
    "        if sciany < 1:\n",
    "            print(\"Kostka musi mieć przynajmniej 1 ścianę. Spróbuj ponownie.\")\n",
    "        else:\n",
    "            break\n",
    "    except ValueError:\n",
    "        print(\"Proszę wprowadzić liczbę całkowitą.\")\n",
    "\n",
    "kostka = Kostka(sciany)\n",
    "\n",
    "while True:\n",
    "    input(\"\\nNaciśnij Enter, aby rzucić kostką...\")\n",
    "    wynik = kostka.rzut()\n",
    "    print(f\"Rzut kostką (z {sciany} ściankami): {wynik}\")\n",
    "    ponownie = input(\"Chcesz rzucić ponownie? (t/n): \")\n",
    "    if ponownie.lower() != 't':\n",
    "        break"
   ]
  },
  {
   "cell_type": "code",
   "execution_count": 32,
   "id": "1e28ecf7-bea0-4d7d-bf82-90da0578aafc",
   "metadata": {},
   "outputs": [
    {
     "name": "stdin",
     "output_type": "stream",
     "text": [
      "\n",
      "Naciśnij Enter, aby przeprowadzić losowanie Lotto... \n"
     ]
    },
    {
     "name": "stdout",
     "output_type": "stream",
     "text": [
      "Wylosowane liczby Lotto: [5, 13, 16, 19, 34, 43]\n"
     ]
    },
    {
     "name": "stdin",
     "output_type": "stream",
     "text": [
      "Chcesz przeprowadzić losowanie ponownie? (t/n):  t\n",
      "\n",
      "Naciśnij Enter, aby przeprowadzić losowanie Lotto... n\n"
     ]
    },
    {
     "name": "stdout",
     "output_type": "stream",
     "text": [
      "Wylosowane liczby Lotto: [14, 17, 21, 38, 42, 46]\n"
     ]
    },
    {
     "name": "stdin",
     "output_type": "stream",
     "text": [
      "Chcesz przeprowadzić losowanie ponownie? (t/n):  n\n"
     ]
    }
   ],
   "source": [
    "# Zad 9. Wykorzystując klasy i obiekty przygotuj program symulujący losowanie (bez powtórzeń!) LOTTO (zajęcia 4).\n",
    "\n",
    "import random\n",
    "\n",
    "class Lotto:\n",
    "    def __init__(self):\n",
    "        self.liczby = list(range(1, 50))  \n",
    "\n",
    "    def losowanie(self):\n",
    "        return random.sample(self.liczby, 6)  \n",
    "\n",
    "lotto = Lotto()\n",
    "\n",
    "while True:\n",
    "    input(\"\\nNaciśnij Enter, aby przeprowadzić losowanie Lotto...\")\n",
    "    wynik = lotto.losowanie()\n",
    "    print(f\"Wylosowane liczby Lotto: {sorted(wynik)}\") \n",
    "    ponownie = input(\"Chcesz przeprowadzić losowanie ponownie? (t/n): \")\n",
    "    if ponownie.lower() != 't':\n",
    "        break\n"
   ]
  },
  {
   "cell_type": "code",
   "execution_count": 22,
   "id": "8991c046-2e1b-4735-a005-7ee6b82633c1",
   "metadata": {},
   "outputs": [
    {
     "name": "stdout",
     "output_type": "stream",
     "text": [
      "\n",
      "Wybierz opcję:\n",
      "1. Dodaj nowego ucznia i wprowadź oceny\n",
      "2. Wyświetl podsumowanie ocen wszystkich uczniów\n",
      "3. Zakończ program\n"
     ]
    },
    {
     "name": "stdin",
     "output_type": "stream",
     "text": [
      "Wybór:  1\n",
      "Podaj imię ucznia:  Mietek\n",
      "Podaj nazwisko ucznia:  Karczmarz\n",
      "Podaj ocenę dla Mietek Karczmarz:  5\n",
      "Czy chcesz dodać kolejną ocenę? (t/n):  t\n",
      "Podaj ocenę dla Mietek Karczmarz:  4\n",
      "Czy chcesz dodać kolejną ocenę? (t/n):  n\n"
     ]
    },
    {
     "name": "stdout",
     "output_type": "stream",
     "text": [
      "\n",
      "Wybierz opcję:\n",
      "1. Dodaj nowego ucznia i wprowadź oceny\n",
      "2. Wyświetl podsumowanie ocen wszystkich uczniów\n",
      "3. Zakończ program\n"
     ]
    },
    {
     "name": "stdin",
     "output_type": "stream",
     "text": [
      "Wybór:  1\n",
      "Podaj imię ucznia:  Kapłan\n",
      "Podaj nazwisko ucznia:  Ognai\n",
      "Podaj ocenę dla Kapłan Ognai:  2\n",
      "Czy chcesz dodać kolejną ocenę? (t/n):  t\n",
      "Podaj ocenę dla Kapłan Ognai:  1\n"
     ]
    },
    {
     "name": "stdout",
     "output_type": "stream",
     "text": [
      "Ocena musi być w zakresie od 2 do 5.5. Spróbuj ponownie.\n"
     ]
    },
    {
     "name": "stdin",
     "output_type": "stream",
     "text": [
      "Podaj ocenę dla Kapłan Ognai:  3\n",
      "Czy chcesz dodać kolejną ocenę? (t/n):  n\n"
     ]
    },
    {
     "name": "stdout",
     "output_type": "stream",
     "text": [
      "\n",
      "Wybierz opcję:\n",
      "1. Dodaj nowego ucznia i wprowadź oceny\n",
      "2. Wyświetl podsumowanie ocen wszystkich uczniów\n",
      "3. Zakończ program\n"
     ]
    },
    {
     "name": "stdin",
     "output_type": "stream",
     "text": [
      "Wybór:  2\n"
     ]
    },
    {
     "name": "stdout",
     "output_type": "stream",
     "text": [
      "\n",
      "Podsumowanie ocen:\n",
      "Oceny Mietek Karczmarz: 5.0, 4.0\n",
      "Średnia ocen: 4.50\n",
      "Oceny Kapłan Ognai: 2.0, 3.0\n",
      "Średnia ocen: 2.50\n",
      "\n",
      "Wybierz opcję:\n",
      "1. Dodaj nowego ucznia i wprowadź oceny\n",
      "2. Wyświetl podsumowanie ocen wszystkich uczniów\n",
      "3. Zakończ program\n"
     ]
    },
    {
     "name": "stdin",
     "output_type": "stream",
     "text": [
      "Wybór:  3\n"
     ]
    },
    {
     "name": "stdout",
     "output_type": "stream",
     "text": [
      "Zakończono program.\n"
     ]
    }
   ],
   "source": [
    "# Zad 10. Wykorzystując klasy i obiekty przygotuj program ”Dziennik” (zajęcia 5). W podsumowaniu wyświetl oceny 3 osób.\n",
    "\n",
    "class Uczen:\n",
    "    def __init__(self, imie, nazwisko):\n",
    "        self.imie = imie\n",
    "        self.nazwisko = nazwisko\n",
    "        self.oceny = []\n",
    "\n",
    "    def dodaj_ocene(self):\n",
    "        while True:\n",
    "            try:\n",
    "                ocena = float(input(f\"Podaj ocenę dla {self.imie} {self.nazwisko}: \"))\n",
    "                if 2 <= ocena <= 5.5:\n",
    "                    self.oceny.append(ocena)\n",
    "                    break\n",
    "                else:\n",
    "                    print(\"Ocena musi być w zakresie od 2 do 5.5. Spróbuj ponownie.\")\n",
    "            except ValueError:\n",
    "                print(\"Proszę wprowadzić poprawną liczbę.\")\n",
    "\n",
    "    def srednia_ocen(self):\n",
    "        if self.oceny:\n",
    "            return sum(self.oceny) / len(self.oceny)\n",
    "        return 0\n",
    "\n",
    "    def wyswietl_oceny(self):\n",
    "        print(f\"Oceny {self.imie} {self.nazwisko}: {', '.join(map(str, self.oceny))}\")\n",
    "        print(f\"Średnia ocen: {self.srednia_ocen():.2f}\")\n",
    "\n",
    "uczniowie = []\n",
    "\n",
    "while True:\n",
    "    print(\"\\nWybierz opcję:\")\n",
    "    print(\"1. Dodaj nowego ucznia i wprowadź oceny\")\n",
    "    print(\"2. Wyświetl podsumowanie ocen wszystkich uczniów\")\n",
    "    print(\"3. Zakończ program\")\n",
    "\n",
    "    wybor = input(\"Wybór: \")\n",
    "\n",
    "    if wybor == \"1\":\n",
    "        imie = input(\"Podaj imię ucznia: \")\n",
    "        nazwisko = input(\"Podaj nazwisko ucznia: \")\n",
    "        uczen = Uczen(imie, nazwisko)\n",
    "        \n",
    "        while True:\n",
    "            uczen.dodaj_ocene()\n",
    "            ponownie = input(\"Czy chcesz dodać kolejną ocenę? (t/n): \")\n",
    "            if ponownie.lower() != 't':\n",
    "                break\n",
    "        \n",
    "        uczniowie.append(uczen)\n",
    "\n",
    "    elif wybor == \"2\":\n",
    "        if not uczniowie:\n",
    "            print(\"Brak uczniów w bazie.\")\n",
    "        else:\n",
    "            print(\"\\nPodsumowanie ocen:\")\n",
    "            for uczen in uczniowie:\n",
    "                uczen.wyswietl_oceny()\n",
    "\n",
    "    elif wybor == \"3\":\n",
    "        print(\"Zakończono program.\")\n",
    "        break\n",
    "\n",
    "    else:\n",
    "        print(\"Nieprawidłowy wybór. Spróbuj ponownie.\")\n"
   ]
  },
  {
   "cell_type": "code",
   "execution_count": 24,
   "id": "5b982962-8f3d-4ded-a11a-ace8555c5399",
   "metadata": {},
   "outputs": [
    {
     "name": "stdin",
     "output_type": "stream",
     "text": [
      "Podaj długość prostokąta:  8\n",
      "Podaj szerokość prostokąta:  12\n"
     ]
    },
    {
     "name": "stdout",
     "output_type": "stream",
     "text": [
      "Pole prostokąta o wymiarach 8.0 x 12.0 wynosi: 96.0\n"
     ]
    }
   ],
   "source": [
    "# Zad 11. Przygotuj program wyznaczający pole prostokąta. Wymiary mają być parametrami konstruktora\n",
    "\n",
    "class Prostokat:\n",
    "    def __init__(self, dlugosc, szerokosc):\n",
    "        self.dlugosc = dlugosc\n",
    "        self.szerokosc = szerokosc\n",
    "\n",
    "    def oblicz_pole(self):\n",
    "        return self.dlugosc * self.szerokosc\n",
    "\n",
    "dlugosc = float(input(\"Podaj długość prostokąta: \"))\n",
    "szerokosc = float(input(\"Podaj szerokość prostokąta: \"))\n",
    "\n",
    "prostokat = Prostokat(dlugosc, szerokosc)\n",
    "\n",
    "print(f\"Pole prostokąta o wymiarach {dlugosc} x {szerokosc} wynosi: {prostokat.oblicz_pole()}\")"
   ]
  },
  {
   "cell_type": "code",
   "execution_count": 31,
   "id": "b08eb035-526c-4a67-b42e-8bc46d25c6a9",
   "metadata": {},
   "outputs": [
    {
     "name": "stdin",
     "output_type": "stream",
     "text": [
      "Podaj długość prostokąta:  33\n",
      "Podaj szerokość prostokąta:  2\n"
     ]
    },
    {
     "name": "stdout",
     "output_type": "stream",
     "text": [
      "Pole prostokąta o wymiarach 33.0 x 2.0 wynosi: 66.0\n"
     ]
    }
   ],
   "source": [
    "# Zad 12. Przygotuj program wyznaczający pole prostokąta. Wymiary mają być polami klasy??\n",
    "\n",
    "class Prostokat:\n",
    "    def __init__(self, dlugosc, szerokosc):\n",
    "        self.dlugosc = dlugosc\n",
    "        self.szerokosc = szerokosc\n",
    "\n",
    "    def oblicz_pole(self):\n",
    "        return self.dlugosc * self.szerokosc\n",
    "\n",
    "dlugosc = float(input(\"Podaj długość prostokąta: \"))\n",
    "szerokosc = float(input(\"Podaj szerokość prostokąta: \"))\n",
    "\n",
    "prostokat = Prostokat(dlugosc, szerokosc)\n",
    "\n",
    "print(f\"Pole prostokąta o wymiarach {prostokat.dlugosc} x {prostokat.szerokosc} wynosi: {prostokat.oblicz_pole()}\")"
   ]
  },
  {
   "cell_type": "code",
   "execution_count": 26,
   "id": "0bf2c8d3-0a81-4faa-b1c0-95b6846ee41b",
   "metadata": {},
   "outputs": [
    {
     "name": "stdout",
     "output_type": "stream",
     "text": [
      "Pole pierwszego prostokąta: 20\n",
      "Pole drugiego prostokąta: 21\n",
      "Pole trzeciego prostokąta: 48\n"
     ]
    }
   ],
   "source": [
    "# Zad 13. Przygotuj program wyznaczający pole 3 prostokątów (z wykorzystaniem jednej klasy i 3 obiektów).\n",
    "\n",
    "class Prostokat:\n",
    "    def __init__(self, szerokosc, wysokosc):\n",
    "        self.szerokosc = szerokosc\n",
    "        self.wysokosc = wysokosc\n",
    "\n",
    "    def pole(self):\n",
    "        return self.szerokosc * self.wysokosc\n",
    "\n",
    "prostokat1 = Prostokat(4, 5)\n",
    "prostokat2 = Prostokat(7, 3)\n",
    "prostokat3 = Prostokat(6, 8)\n",
    "\n",
    "print(\"Pole pierwszego prostokąta:\", prostokat1.pole())\n",
    "print(\"Pole drugiego prostokąta:\", prostokat2.pole())\n",
    "print(\"Pole trzeciego prostokąta:\", prostokat3.pole())"
   ]
  },
  {
   "cell_type": "code",
   "execution_count": 27,
   "id": "38c4dbb8-0b68-43ab-83fe-26f91b4bc379",
   "metadata": {},
   "outputs": [
    {
     "name": "stdout",
     "output_type": "stream",
     "text": [
      "10\n",
      "9\n",
      "8\n",
      "7\n",
      "6\n",
      "5\n",
      "4\n",
      "3\n",
      "2\n",
      "1\n",
      "0\n",
      "Odliczanie zakończone!\n"
     ]
    }
   ],
   "source": [
    "# Zad 14. Wykorzystując klasy i obiekty przygotuj program odliczający (zajęcia 4, zadanie 1).\n",
    "\n",
    "import time\n",
    "\n",
    "class Odliczanie:\n",
    "    def __init__(self, start):\n",
    "        self.start = start\n",
    "\n",
    "    def rozpocznij_odliczanie(self):\n",
    "        for i in range(self.start, -1, -1):\n",
    "            print(i)\n",
    "            time.sleep(1)\n",
    "        print(\"Odliczanie zakończone!\")\n",
    "\n",
    "odliczanie = Odliczanie(10)\n",
    "\n",
    "odliczanie.rozpocznij_odliczanie()\n"
   ]
  },
  {
   "cell_type": "code",
   "execution_count": 28,
   "id": "9aec2ca9-3909-485c-9151-5275e2abcc88",
   "metadata": {},
   "outputs": [
    {
     "name": "stdout",
     "output_type": "stream",
     "text": [
      "Student to: Jan i ma 19 lat\n",
      "Student to: Anna i ma 20 lat\n"
     ]
    }
   ],
   "source": [
    "# Zad 15. Program ”Student” rozbuduj tak, aby jednym z parametrów konstruktora było imię studenta.\n",
    "\n",
    "class Student:\n",
    "    def __init__(self, wiek, imie):\n",
    "        self.wiek = wiek\n",
    "        self.imie = imie\n",
    "\n",
    "    def wyswietl_podsumowanie(self):\n",
    "        print(\"Student to:\", self.imie, \"i ma\", self.wiek, \"lat\")\n",
    "\n",
    "student1 = Student(19, \"Jan\")\n",
    "student2 = Student(20, \"Anna\")\n",
    "\n",
    "student1.wyswietl_podsumowanie()\n",
    "student2.wyswietl_podsumowanie()\n"
   ]
  },
  {
   "cell_type": "code",
   "execution_count": 30,
   "id": "0bc7fa48-b99a-41f6-8239-f17343939849",
   "metadata": {},
   "outputs": [
    {
     "name": "stdout",
     "output_type": "stream",
     "text": [
      "Round 1:\n",
      "Player 1's card: Card(10)\n",
      "Player 2's card: Card(4)\n",
      "Player 2 wins the round!\n",
      "Round 2:\n",
      "Player 1's card: Card(2)\n",
      "Player 2's card: Card(14)\n",
      "Player 2 wins the round!\n",
      "Round 3:\n",
      "Player 1's card: Card(12)\n",
      "Player 2's card: Card(13)\n",
      "Player 1 wins the round!\n",
      "Round 4:\n",
      "Player 1's card: Card(4)\n",
      "Player 2's card: Card(6)\n",
      "Player 1 wins the round!\n",
      "Round 5:\n",
      "Player 1's card: Card(3)\n",
      "Player 2's card: Card(2)\n",
      "Player 1 wins the round!\n",
      "Round 6:\n",
      "Player 1's card: Card(11)\n",
      "Player 2's card: Card(5)\n",
      "Player 1 wins the round!\n",
      "Round 7:\n",
      "Player 1's card: Card(13)\n",
      "Player 2's card: Card(3)\n",
      "Player 1 wins the round!\n",
      "Round 8:\n",
      "Player 1's card: Card(8)\n",
      "Player 2's card: Card(2)\n",
      "Player 1 wins the round!\n",
      "Round 9:\n",
      "Player 1's card: Card(13)\n",
      "Player 2's card: Card(7)\n",
      "Player 1 wins the round!\n",
      "Round 10:\n",
      "Player 1's card: Card(12)\n",
      "Player 2's card: Card(3)\n",
      "Player 1 wins the round!\n",
      "Round 11:\n",
      "Player 1's card: Card(10)\n",
      "Player 2's card: Card(12)\n",
      "Player 1 wins the round!\n",
      "Round 12:\n",
      "Player 1's card: Card(9)\n",
      "Player 2's card: Card(4)\n",
      "Player 1 wins the round!\n",
      "Round 13:\n",
      "Player 1's card: Card(2)\n",
      "Player 2's card: Card(3)\n",
      "Player 1 wins the round!\n",
      "Round 14:\n",
      "Player 1's card: Card(8)\n",
      "Player 2's card: Card(10)\n",
      "Player 1 wins the round!\n",
      "Round 15:\n",
      "Player 1's card: Card(11)\n",
      "Player 2's card: Card(8)\n",
      "War!\n",
      "A player doesn't have enough cards for a war!\n",
      "Player 1 wins the game!\n"
     ]
    }
   ],
   "source": [
    "# Zad 16. Przygotuj grę karcianą ”Wojna” (bez udziału żywego gracza, niech komputer gra sam ze sobą)*.\n",
    "\n",
    "import random\n",
    "\n",
    "class Card:\n",
    "    def __init__(self, rank):\n",
    "        self.rank = rank\n",
    "\n",
    "    def __repr__(self):\n",
    "        return f\"Card({self.rank})\"\n",
    "\n",
    "\n",
    "class Deck:\n",
    "    def __init__(self):\n",
    "        self.cards = [Card(rank) for rank in range(2, 15)] * 4\n",
    "        random.shuffle(self.cards)\n",
    "\n",
    "    def deal(self):\n",
    "        return self.cards.pop()\n",
    "\n",
    "\n",
    "class Player:\n",
    "    def __init__(self, name):\n",
    "        self.name = name\n",
    "        self.hand = []\n",
    "\n",
    "    def add_card(self, card):\n",
    "        self.hand.append(card)\n",
    "\n",
    "    def add_cards(self, cards):\n",
    "        self.hand.extend(cards)\n",
    "\n",
    "    def play_card(self):\n",
    "        return self.hand.pop() if self.hand else None\n",
    "\n",
    "    def has_cards(self):\n",
    "        return len(self.hand) > 0\n",
    "\n",
    "\n",
    "def play_war():\n",
    "    deck = Deck()\n",
    "    player1 = Player(\"Player 1\")\n",
    "    player2 = Player(\"Player 2\")\n",
    "\n",
    "    for _ in range(26):\n",
    "        player1.add_card(deck.deal())\n",
    "        player2.add_card(deck.deal())\n",
    "\n",
    "    round_count = 0\n",
    "    while player1.has_cards() and player2.has_cards():\n",
    "        round_count += 1\n",
    "        print(f\"Round {round_count}:\")\n",
    "        print(\"Player 1's card:\", player1.play_card())\n",
    "        print(\"Player 2's card:\", player2.play_card())\n",
    "\n",
    "        card1 = player1.play_card()\n",
    "        card2 = player2.play_card()\n",
    "\n",
    "        if card1.rank > card2.rank:\n",
    "            print(\"Player 1 wins the round!\")\n",
    "            player1.add_card(card1)\n",
    "            player1.add_card(card2)\n",
    "        elif card1.rank < card2.rank:\n",
    "            print(\"Player 2 wins the round!\")\n",
    "            player2.add_card(card1)\n",
    "            player2.add_card(card2)\n",
    "        else:\n",
    "            print(\"War!\")\n",
    "            war_cards = [card1, card2]\n",
    "            while True:\n",
    "                if len(player1.hand) < 4 or len(player2.hand) < 4:\n",
    "                    print(\"A player doesn't have enough cards for a war!\")\n",
    "                    break\n",
    "\n",
    "                for _ in range(3):\n",
    "                    war_cards.append(player1.play_card())\n",
    "                    war_cards.append(player2.play_card())\n",
    "\n",
    "                card1 = player1.play_card()\n",
    "                card2 = player2.play_card()\n",
    "\n",
    "                print(\"War cards:\", war_cards)\n",
    "                if card1.rank > card2.rank:\n",
    "                    print(\"Player 1 wins the war!\")\n",
    "                    player1.add_card(card1)\n",
    "                    player1.add_card(card2)\n",
    "                    player1.add_cards(war_cards)\n",
    "                    break\n",
    "                elif card1.rank < card2.rank:\n",
    "                    print(\"Player 2 wins the war!\")\n",
    "                    player2.add_card(card1)\n",
    "                    player2.add_card(card2)\n",
    "                    player2.add_cards(war_cards)\n",
    "                    break\n",
    "                else:\n",
    "                    print(\"War continues!\")\n",
    "                    war_cards.extend([card1, card2])\n",
    "\n",
    "    if player1.has_cards():\n",
    "        print(\"Player 1 wins the game!\")\n",
    "    else:\n",
    "        print(\"Player 2 wins the game!\")\n",
    "\n",
    "\n",
    "play_war()\n",
    "\n"
   ]
  },
  {
   "cell_type": "code",
   "execution_count": null,
   "id": "1f4c2a4d-4f9b-4a6a-bea1-15b2542e4151",
   "metadata": {},
   "outputs": [],
   "source": []
  }
 ],
 "metadata": {
  "kernelspec": {
   "display_name": "Python 3 (ipykernel)",
   "language": "python",
   "name": "python3"
  },
  "language_info": {
   "codemirror_mode": {
    "name": "ipython",
    "version": 3
   },
   "file_extension": ".py",
   "mimetype": "text/x-python",
   "name": "python",
   "nbconvert_exporter": "python",
   "pygments_lexer": "ipython3",
   "version": "3.9.12"
  }
 },
 "nbformat": 4,
 "nbformat_minor": 5
}
