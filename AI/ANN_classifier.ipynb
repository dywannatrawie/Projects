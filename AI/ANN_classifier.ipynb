{
 "cells": [
  {
   "cell_type": "markdown",
   "id": "855a16a4-16d7-4dd0-bcc2-31a8f0e003f9",
   "metadata": {},
   "source": [
    "## Model was made to classify if client quited or stayed in company."
   ]
  },
  {
   "cell_type": "code",
   "execution_count": 2,
   "id": "222f75ae-46e6-4345-b68b-9dbf0f6004c9",
   "metadata": {},
   "outputs": [],
   "source": [
    "import pandas as pd\n",
    "import numpy as np\n",
    "import matplotlib.pyplot as plt\n",
    "import seaborn as sns\n",
    "\n",
    "import warnings\n",
    "warnings.filterwarnings('ignore')\n",
    "\n",
    "plt.style.use('fivethirtyeight')\n",
    "%matplotlib inline"
   ]
  },
  {
   "cell_type": "code",
   "execution_count": 3,
   "id": "99f3cf77-d692-4353-a190-8b0149aca502",
   "metadata": {},
   "outputs": [],
   "source": [
    "df = pd.read_csv('CompanyData.csv')"
   ]
  },
  {
   "cell_type": "markdown",
   "id": "6ba560e6-d6b1-458f-8382-af1165bb6ca2",
   "metadata": {},
   "source": [
    "## Checking data"
   ]
  },
  {
   "cell_type": "code",
   "execution_count": 9,
   "id": "89bcec4d-efb6-4df2-8664-f77e83c75380",
   "metadata": {},
   "outputs": [
    {
     "data": {
      "text/plain": [
       "Index(['Klient', 'Netto', 'VAT', 'Brutto', 'Koszt', 'COUNTA z Klient', 'Ilość',\n",
       "       'Zysk', 'Marża', 'tenure', 'quit'],\n",
       "      dtype='object')"
      ]
     },
     "execution_count": 9,
     "metadata": {},
     "output_type": "execute_result"
    }
   ],
   "source": [
    "df.columns"
   ]
  },
  {
   "cell_type": "code",
   "execution_count": 11,
   "id": "ed04c66d-bd7b-4d62-9f92-e712404a59f9",
   "metadata": {},
   "outputs": [
    {
     "data": {
      "text/html": [
       "<div>\n",
       "<style scoped>\n",
       "    .dataframe tbody tr th:only-of-type {\n",
       "        vertical-align: middle;\n",
       "    }\n",
       "\n",
       "    .dataframe tbody tr th {\n",
       "        vertical-align: top;\n",
       "    }\n",
       "\n",
       "    .dataframe thead th {\n",
       "        text-align: right;\n",
       "    }\n",
       "</style>\n",
       "<table border=\"1\" class=\"dataframe\">\n",
       "  <thead>\n",
       "    <tr style=\"text-align: right;\">\n",
       "      <th></th>\n",
       "      <th>COUNTA z Klient</th>\n",
       "      <th>quit</th>\n",
       "    </tr>\n",
       "  </thead>\n",
       "  <tbody>\n",
       "    <tr>\n",
       "      <th>count</th>\n",
       "      <td>5492.000000</td>\n",
       "      <td>4822.000000</td>\n",
       "    </tr>\n",
       "    <tr>\n",
       "      <th>mean</th>\n",
       "      <td>4.442280</td>\n",
       "      <td>0.887391</td>\n",
       "    </tr>\n",
       "    <tr>\n",
       "      <th>std</th>\n",
       "      <td>15.297015</td>\n",
       "      <td>0.316147</td>\n",
       "    </tr>\n",
       "    <tr>\n",
       "      <th>min</th>\n",
       "      <td>0.000000</td>\n",
       "      <td>0.000000</td>\n",
       "    </tr>\n",
       "    <tr>\n",
       "      <th>25%</th>\n",
       "      <td>1.000000</td>\n",
       "      <td>1.000000</td>\n",
       "    </tr>\n",
       "    <tr>\n",
       "      <th>50%</th>\n",
       "      <td>1.000000</td>\n",
       "      <td>1.000000</td>\n",
       "    </tr>\n",
       "    <tr>\n",
       "      <th>75%</th>\n",
       "      <td>2.000000</td>\n",
       "      <td>1.000000</td>\n",
       "    </tr>\n",
       "    <tr>\n",
       "      <th>max</th>\n",
       "      <td>399.000000</td>\n",
       "      <td>1.000000</td>\n",
       "    </tr>\n",
       "  </tbody>\n",
       "</table>\n",
       "</div>"
      ],
      "text/plain": [
       "       COUNTA z Klient         quit\n",
       "count      5492.000000  4822.000000\n",
       "mean          4.442280     0.887391\n",
       "std          15.297015     0.316147\n",
       "min           0.000000     0.000000\n",
       "25%           1.000000     1.000000\n",
       "50%           1.000000     1.000000\n",
       "75%           2.000000     1.000000\n",
       "max         399.000000     1.000000"
      ]
     },
     "execution_count": 11,
     "metadata": {},
     "output_type": "execute_result"
    }
   ],
   "source": [
    "df.describe()"
   ]
  },
  {
   "cell_type": "code",
   "execution_count": 13,
   "id": "90342135-c1b3-411d-8e3e-e402441ff7b2",
   "metadata": {},
   "outputs": [
    {
     "name": "stdout",
     "output_type": "stream",
     "text": [
      "<class 'pandas.core.frame.DataFrame'>\n",
      "RangeIndex: 5492 entries, 0 to 5491\n",
      "Data columns (total 11 columns):\n",
      " #   Column           Non-Null Count  Dtype  \n",
      "---  ------           --------------  -----  \n",
      " 0   Klient           5492 non-null   object \n",
      " 1   Netto            5492 non-null   object \n",
      " 2   VAT              4822 non-null   object \n",
      " 3   Brutto           5492 non-null   object \n",
      " 4   Koszt            5492 non-null   object \n",
      " 5   COUNTA z Klient  5492 non-null   int64  \n",
      " 6   Ilość            5492 non-null   object \n",
      " 7   Zysk             5492 non-null   object \n",
      " 8   Marża            4299 non-null   object \n",
      " 9   tenure           4822 non-null   object \n",
      " 10  quit             4822 non-null   float64\n",
      "dtypes: float64(1), int64(1), object(9)\n",
      "memory usage: 472.1+ KB\n"
     ]
    }
   ],
   "source": [
    "df.info()"
   ]
  },
  {
   "cell_type": "code",
   "execution_count": 15,
   "id": "785b400d-f017-4115-9209-2ddc10c60695",
   "metadata": {},
   "outputs": [
    {
     "data": {
      "text/plain": [
       "Klient                0\n",
       "Netto                 0\n",
       "VAT                 670\n",
       "Brutto                0\n",
       "Koszt                 0\n",
       "COUNTA z Klient       0\n",
       "Ilość                 0\n",
       "Zysk                  0\n",
       "Marża              1193\n",
       "tenure              670\n",
       "quit                670\n",
       "dtype: int64"
      ]
     },
     "execution_count": 15,
     "metadata": {},
     "output_type": "execute_result"
    }
   ],
   "source": [
    "df.isna().sum()"
   ]
  },
  {
   "cell_type": "code",
   "execution_count": 17,
   "id": "55b2242c-8811-4e45-9b90-815c3ba17fbf",
   "metadata": {},
   "outputs": [],
   "source": [
    "# Replace commas with dots in columns\n",
    "df[['VAT', 'Marża', 'Netto', 'Brutto', 'Koszt', 'Ilość', 'Zysk', 'tenure']] = df[['VAT', 'Marża', 'Netto', 'Brutto', 'Koszt', 'Ilość', 'Zysk', 'tenure']].apply(lambda x: x.str.replace(',', '.')).astype(float)"
   ]
  },
  {
   "cell_type": "code",
   "execution_count": 19,
   "id": "b54823ea-60be-414f-91be-705760222a76",
   "metadata": {},
   "outputs": [],
   "source": [
    "# Convert VAT column to numeric, forcing errors to NaN\n",
    "df['VAT'] = pd.to_numeric(df['VAT'], errors='coerce')\n",
    "# Convert Marża column to numeric, forcing errors to NaN\n",
    "df['Marża'] = pd.to_numeric(df['Marża'], errors='coerce')\n",
    "# Fill NaN values with the mean of the VAT column\n",
    "df['VAT'] = df['VAT'].fillna(df['VAT'].mean())\n",
    "df['Marża'] = df['Marża'].fillna(df['Marża'].mean())"
   ]
  },
  {
   "cell_type": "code",
   "execution_count": 21,
   "id": "847614d5-80db-4f6e-9afd-7c71ab102e5f",
   "metadata": {},
   "outputs": [
    {
     "data": {
      "text/plain": [
       "Klient               0\n",
       "Netto                0\n",
       "VAT                  0\n",
       "Brutto               0\n",
       "Koszt                0\n",
       "COUNTA z Klient      0\n",
       "Ilość                0\n",
       "Zysk                 0\n",
       "Marża                0\n",
       "tenure             670\n",
       "quit               670\n",
       "dtype: int64"
      ]
     },
     "execution_count": 21,
     "metadata": {},
     "output_type": "execute_result"
    }
   ],
   "source": [
    "df.isna().sum()"
   ]
  },
  {
   "cell_type": "code",
   "execution_count": 23,
   "id": "f0cf50e2-08fc-4378-b6c1-4b61b60b34d0",
   "metadata": {},
   "outputs": [
    {
     "data": {
      "text/plain": [
       "Klient             0\n",
       "Netto              0\n",
       "VAT                0\n",
       "Brutto             0\n",
       "Koszt              0\n",
       "COUNTA z Klient    0\n",
       "Ilość              0\n",
       "Zysk               0\n",
       "Marża              0\n",
       "tenure             0\n",
       "quit               0\n",
       "dtype: int64"
      ]
     },
     "execution_count": 23,
     "metadata": {},
     "output_type": "execute_result"
    }
   ],
   "source": [
    "# Drop remaining NaN values\n",
    "df = df.dropna()\n",
    "df.isna().sum()"
   ]
  },
  {
   "cell_type": "code",
   "execution_count": 25,
   "id": "bcc9a6cb-98cc-47c2-9c92-cfa8cad9a6a6",
   "metadata": {},
   "outputs": [
    {
     "data": {
      "text/html": [
       "<div>\n",
       "<style scoped>\n",
       "    .dataframe tbody tr th:only-of-type {\n",
       "        vertical-align: middle;\n",
       "    }\n",
       "\n",
       "    .dataframe tbody tr th {\n",
       "        vertical-align: top;\n",
       "    }\n",
       "\n",
       "    .dataframe thead th {\n",
       "        text-align: right;\n",
       "    }\n",
       "</style>\n",
       "<table border=\"1\" class=\"dataframe\">\n",
       "  <thead>\n",
       "    <tr style=\"text-align: right;\">\n",
       "      <th></th>\n",
       "      <th>Netto</th>\n",
       "      <th>VAT</th>\n",
       "      <th>Brutto</th>\n",
       "      <th>Koszt</th>\n",
       "      <th>COUNTA z Klient</th>\n",
       "      <th>Ilość</th>\n",
       "      <th>Zysk</th>\n",
       "      <th>Marża</th>\n",
       "      <th>tenure</th>\n",
       "      <th>quit</th>\n",
       "    </tr>\n",
       "  </thead>\n",
       "  <tbody>\n",
       "    <tr>\n",
       "      <th>0</th>\n",
       "      <td>106.00</td>\n",
       "      <td>24.38</td>\n",
       "      <td>130.3800</td>\n",
       "      <td>41.40</td>\n",
       "      <td>1</td>\n",
       "      <td>0.0</td>\n",
       "      <td>0.00</td>\n",
       "      <td>54.58879</td>\n",
       "      <td>0.0</td>\n",
       "      <td>1.0</td>\n",
       "    </tr>\n",
       "    <tr>\n",
       "      <th>2</th>\n",
       "      <td>184.00</td>\n",
       "      <td>42.32</td>\n",
       "      <td>226.3200</td>\n",
       "      <td>73.32</td>\n",
       "      <td>1</td>\n",
       "      <td>0.0</td>\n",
       "      <td>0.00</td>\n",
       "      <td>54.58879</td>\n",
       "      <td>0.0</td>\n",
       "      <td>1.0</td>\n",
       "    </tr>\n",
       "    <tr>\n",
       "      <th>3</th>\n",
       "      <td>626.20</td>\n",
       "      <td>144.03</td>\n",
       "      <td>770.2300</td>\n",
       "      <td>284.52</td>\n",
       "      <td>1</td>\n",
       "      <td>0.0</td>\n",
       "      <td>0.00</td>\n",
       "      <td>54.58879</td>\n",
       "      <td>0.0</td>\n",
       "      <td>1.0</td>\n",
       "    </tr>\n",
       "    <tr>\n",
       "      <th>4</th>\n",
       "      <td>73.01</td>\n",
       "      <td>16.79</td>\n",
       "      <td>89.8000</td>\n",
       "      <td>45.00</td>\n",
       "      <td>1</td>\n",
       "      <td>0.0</td>\n",
       "      <td>0.00</td>\n",
       "      <td>54.58879</td>\n",
       "      <td>0.0</td>\n",
       "      <td>1.0</td>\n",
       "    </tr>\n",
       "    <tr>\n",
       "      <th>6</th>\n",
       "      <td>880.00</td>\n",
       "      <td>202.40</td>\n",
       "      <td>1082.4000</td>\n",
       "      <td>311.48</td>\n",
       "      <td>1</td>\n",
       "      <td>0.0</td>\n",
       "      <td>0.00</td>\n",
       "      <td>54.58879</td>\n",
       "      <td>0.0</td>\n",
       "      <td>0.0</td>\n",
       "    </tr>\n",
       "    <tr>\n",
       "      <th>7</th>\n",
       "      <td>96.75</td>\n",
       "      <td>22.25</td>\n",
       "      <td>119.0000</td>\n",
       "      <td>39.90</td>\n",
       "      <td>1</td>\n",
       "      <td>0.0</td>\n",
       "      <td>0.00</td>\n",
       "      <td>54.58879</td>\n",
       "      <td>0.0</td>\n",
       "      <td>1.0</td>\n",
       "    </tr>\n",
       "    <tr>\n",
       "      <th>9</th>\n",
       "      <td>292.00</td>\n",
       "      <td>33.58</td>\n",
       "      <td>359.1600</td>\n",
       "      <td>85.00</td>\n",
       "      <td>1</td>\n",
       "      <td>6.0</td>\n",
       "      <td>103.50</td>\n",
       "      <td>83.66000</td>\n",
       "      <td>0.0</td>\n",
       "      <td>1.0</td>\n",
       "    </tr>\n",
       "    <tr>\n",
       "      <th>10</th>\n",
       "      <td>166.00</td>\n",
       "      <td>38.18</td>\n",
       "      <td>204.1800</td>\n",
       "      <td>30.60</td>\n",
       "      <td>1</td>\n",
       "      <td>0.0</td>\n",
       "      <td>0.00</td>\n",
       "      <td>54.58879</td>\n",
       "      <td>0.0</td>\n",
       "      <td>1.0</td>\n",
       "    </tr>\n",
       "    <tr>\n",
       "      <th>11</th>\n",
       "      <td>248.00</td>\n",
       "      <td>28.52</td>\n",
       "      <td>305.0400</td>\n",
       "      <td>81.60</td>\n",
       "      <td>1</td>\n",
       "      <td>7.0</td>\n",
       "      <td>83.20</td>\n",
       "      <td>81.11000</td>\n",
       "      <td>0.0</td>\n",
       "      <td>1.0</td>\n",
       "    </tr>\n",
       "    <tr>\n",
       "      <th>12</th>\n",
       "      <td>648.00</td>\n",
       "      <td>74.52</td>\n",
       "      <td>797.0400</td>\n",
       "      <td>273.84</td>\n",
       "      <td>1</td>\n",
       "      <td>12.0</td>\n",
       "      <td>187.08</td>\n",
       "      <td>57.74000</td>\n",
       "      <td>0.0</td>\n",
       "      <td>1.0</td>\n",
       "    </tr>\n",
       "    <tr>\n",
       "      <th>13</th>\n",
       "      <td>481.56</td>\n",
       "      <td>27.69</td>\n",
       "      <td>592.3200</td>\n",
       "      <td>236.46</td>\n",
       "      <td>2</td>\n",
       "      <td>9.0</td>\n",
       "      <td>122.55</td>\n",
       "      <td>72.48000</td>\n",
       "      <td>5.0</td>\n",
       "      <td>1.0</td>\n",
       "    </tr>\n",
       "    <tr>\n",
       "      <th>14</th>\n",
       "      <td>107060.00</td>\n",
       "      <td>12311.90</td>\n",
       "      <td>131683.8000</td>\n",
       "      <td>36661.20</td>\n",
       "      <td>1</td>\n",
       "      <td>1371.0</td>\n",
       "      <td>35199.40</td>\n",
       "      <td>82.85000</td>\n",
       "      <td>0.0</td>\n",
       "      <td>1.0</td>\n",
       "    </tr>\n",
       "    <tr>\n",
       "      <th>15</th>\n",
       "      <td>177263.78</td>\n",
       "      <td>1853.21</td>\n",
       "      <td>218034.5299</td>\n",
       "      <td>122077.88</td>\n",
       "      <td>11</td>\n",
       "      <td>1401.0</td>\n",
       "      <td>27592.95</td>\n",
       "      <td>27.17000</td>\n",
       "      <td>81.6</td>\n",
       "      <td>0.0</td>\n",
       "    </tr>\n",
       "    <tr>\n",
       "      <th>16</th>\n",
       "      <td>1789.76</td>\n",
       "      <td>68.60</td>\n",
       "      <td>2201.3800</td>\n",
       "      <td>1263.40</td>\n",
       "      <td>3</td>\n",
       "      <td>6.0</td>\n",
       "      <td>263.18</td>\n",
       "      <td>44.79000</td>\n",
       "      <td>4.6</td>\n",
       "      <td>1.0</td>\n",
       "    </tr>\n",
       "    <tr>\n",
       "      <th>19</th>\n",
       "      <td>110.37</td>\n",
       "      <td>25.39</td>\n",
       "      <td>135.7600</td>\n",
       "      <td>73.02</td>\n",
       "      <td>1</td>\n",
       "      <td>0.0</td>\n",
       "      <td>0.00</td>\n",
       "      <td>54.58879</td>\n",
       "      <td>0.0</td>\n",
       "      <td>1.0</td>\n",
       "    </tr>\n",
       "  </tbody>\n",
       "</table>\n",
       "</div>"
      ],
      "text/plain": [
       "        Netto       VAT       Brutto      Koszt  COUNTA z Klient   Ilość  \\\n",
       "0      106.00     24.38     130.3800      41.40                1     0.0   \n",
       "2      184.00     42.32     226.3200      73.32                1     0.0   \n",
       "3      626.20    144.03     770.2300     284.52                1     0.0   \n",
       "4       73.01     16.79      89.8000      45.00                1     0.0   \n",
       "6      880.00    202.40    1082.4000     311.48                1     0.0   \n",
       "7       96.75     22.25     119.0000      39.90                1     0.0   \n",
       "9      292.00     33.58     359.1600      85.00                1     6.0   \n",
       "10     166.00     38.18     204.1800      30.60                1     0.0   \n",
       "11     248.00     28.52     305.0400      81.60                1     7.0   \n",
       "12     648.00     74.52     797.0400     273.84                1    12.0   \n",
       "13     481.56     27.69     592.3200     236.46                2     9.0   \n",
       "14  107060.00  12311.90  131683.8000   36661.20                1  1371.0   \n",
       "15  177263.78   1853.21  218034.5299  122077.88               11  1401.0   \n",
       "16    1789.76     68.60    2201.3800    1263.40                3     6.0   \n",
       "19     110.37     25.39     135.7600      73.02                1     0.0   \n",
       "\n",
       "        Zysk     Marża  tenure  quit  \n",
       "0       0.00  54.58879     0.0   1.0  \n",
       "2       0.00  54.58879     0.0   1.0  \n",
       "3       0.00  54.58879     0.0   1.0  \n",
       "4       0.00  54.58879     0.0   1.0  \n",
       "6       0.00  54.58879     0.0   0.0  \n",
       "7       0.00  54.58879     0.0   1.0  \n",
       "9     103.50  83.66000     0.0   1.0  \n",
       "10      0.00  54.58879     0.0   1.0  \n",
       "11     83.20  81.11000     0.0   1.0  \n",
       "12    187.08  57.74000     0.0   1.0  \n",
       "13    122.55  72.48000     5.0   1.0  \n",
       "14  35199.40  82.85000     0.0   1.0  \n",
       "15  27592.95  27.17000    81.6   0.0  \n",
       "16    263.18  44.79000     4.6   1.0  \n",
       "19      0.00  54.58879     0.0   1.0  "
      ]
     },
     "execution_count": 25,
     "metadata": {},
     "output_type": "execute_result"
    }
   ],
   "source": [
    "df = df.drop(['Klient'], axis=1)\n",
    "df.head(15)"
   ]
  },
  {
   "cell_type": "markdown",
   "id": "811cd4dc-7674-4107-9986-43118a959edd",
   "metadata": {},
   "source": [
    "We still have multiple potential problems here like Zysk (profit) happens to has value \"0\"."
   ]
  },
  {
   "cell_type": "markdown",
   "id": "cf8525c4-657f-458f-8f85-eb727d2482b0",
   "metadata": {},
   "source": [
    "## ANN model"
   ]
  },
  {
   "cell_type": "code",
   "execution_count": 36,
   "id": "9eecab9d-be30-49b5-93a0-a7324a416b37",
   "metadata": {
    "scrolled": true
   },
   "outputs": [],
   "source": [
    "from tensorflow.keras.utils import to_categorical\n",
    "from sklearn.metrics import classification_report, roc_auc_score, mean_absolute_error\n",
    "import matplotlib.pyplot as plt\n",
    "import seaborn as sns\n",
    "from imblearn.over_sampling import SMOTE\n",
    "\n",
    "# Dane wejściowe\n",
    "X = df.drop('quit', axis=1)\n",
    "y = df.quit\n",
    "\n",
    "# Zbalansowanie danych za pomocą SMOTE\n",
    "smote = SMOTE(random_state=42)\n",
    "X, y = smote.fit_resample(X, y)\n",
    "\n",
    "# One-hot encoding for target\n",
    "y = to_categorical(y)"
   ]
  },
  {
   "cell_type": "code",
   "execution_count": 38,
   "id": "7f629223-00cc-4699-a3bd-0a8318953431",
   "metadata": {
    "scrolled": true
   },
   "outputs": [],
   "source": [
    "from sklearn.model_selection import train_test_split\n",
    "\n",
    "X_train, X_test, y_train, y_test = train_test_split(X, y, test_size=0.2, random_state=42)\n",
    "\n",
    "from sklearn.preprocessing import StandardScaler\n",
    "\n",
    "sc = StandardScaler()\n",
    "X_train = sc.fit_transform(X_train)\n",
    "X_test = sc.transform(X_test)\n"
   ]
  },
  {
   "cell_type": "code",
   "execution_count": 40,
   "id": "3e178515-add4-43e7-8dbd-cf9052541ccf",
   "metadata": {
    "scrolled": true
   },
   "outputs": [
    {
     "name": "stdout",
     "output_type": "stream",
     "text": [
      "Epoch 1/100\n",
      "\u001b[1m172/172\u001b[0m \u001b[32m━━━━━━━━━━━━━━━━━━━━\u001b[0m\u001b[37m\u001b[0m \u001b[1m4s\u001b[0m 5ms/step - accuracy: 0.7473 - loss: 0.5347 - mae: 0.3574 - val_accuracy: 0.4964 - val_loss: 0.6638 - val_mae: 0.4710\n",
      "Epoch 2/100\n",
      "\u001b[1m172/172\u001b[0m \u001b[32m━━━━━━━━━━━━━━━━━━━━\u001b[0m\u001b[37m\u001b[0m \u001b[1m1s\u001b[0m 3ms/step - accuracy: 0.7569 - loss: 0.5199 - mae: 0.3444 - val_accuracy: 0.7474 - val_loss: 0.5613 - val_mae: 0.3976\n",
      "Epoch 3/100\n",
      "\u001b[1m172/172\u001b[0m \u001b[32m━━━━━━━━━━━━━━━━━━━━\u001b[0m\u001b[37m\u001b[0m \u001b[1m1s\u001b[0m 3ms/step - accuracy: 0.7549 - loss: 0.5127 - mae: 0.3431 - val_accuracy: 0.7715 - val_loss: 0.5262 - val_mae: 0.3683\n",
      "Epoch 4/100\n",
      "\u001b[1m172/172\u001b[0m \u001b[32m━━━━━━━━━━━━━━━━━━━━\u001b[0m\u001b[37m\u001b[0m \u001b[1m1s\u001b[0m 3ms/step - accuracy: 0.7628 - loss: 0.5000 - mae: 0.3318 - val_accuracy: 0.7854 - val_loss: 0.4682 - val_mae: 0.3141\n",
      "Epoch 5/100\n",
      "\u001b[1m172/172\u001b[0m \u001b[32m━━━━━━━━━━━━━━━━━━━━\u001b[0m\u001b[37m\u001b[0m \u001b[1m1s\u001b[0m 3ms/step - accuracy: 0.7558 - loss: 0.5074 - mae: 0.3335 - val_accuracy: 0.7912 - val_loss: 0.4633 - val_mae: 0.3225\n",
      "Epoch 6/100\n",
      "\u001b[1m172/172\u001b[0m \u001b[32m━━━━━━━━━━━━━━━━━━━━\u001b[0m\u001b[37m\u001b[0m \u001b[1m1s\u001b[0m 3ms/step - accuracy: 0.7653 - loss: 0.5068 - mae: 0.3330 - val_accuracy: 0.7964 - val_loss: 0.4514 - val_mae: 0.2991\n",
      "Epoch 7/100\n",
      "\u001b[1m172/172\u001b[0m \u001b[32m━━━━━━━━━━━━━━━━━━━━\u001b[0m\u001b[37m\u001b[0m \u001b[1m1s\u001b[0m 3ms/step - accuracy: 0.7686 - loss: 0.4940 - mae: 0.3238 - val_accuracy: 0.7876 - val_loss: 0.4689 - val_mae: 0.3220\n",
      "Epoch 8/100\n",
      "\u001b[1m172/172\u001b[0m \u001b[32m━━━━━━━━━━━━━━━━━━━━\u001b[0m\u001b[37m\u001b[0m \u001b[1m1s\u001b[0m 3ms/step - accuracy: 0.7661 - loss: 0.4941 - mae: 0.3179 - val_accuracy: 0.7883 - val_loss: 0.4758 - val_mae: 0.3407\n",
      "Epoch 9/100\n",
      "\u001b[1m172/172\u001b[0m \u001b[32m━━━━━━━━━━━━━━━━━━━━\u001b[0m\u001b[37m\u001b[0m \u001b[1m1s\u001b[0m 3ms/step - accuracy: 0.7558 - loss: 0.5039 - mae: 0.3326 - val_accuracy: 0.7934 - val_loss: 0.4620 - val_mae: 0.3261\n",
      "Epoch 10/100\n",
      "\u001b[1m172/172\u001b[0m \u001b[32m━━━━━━━━━━━━━━━━━━━━\u001b[0m\u001b[37m\u001b[0m \u001b[1m1s\u001b[0m 3ms/step - accuracy: 0.7621 - loss: 0.5010 - mae: 0.3302 - val_accuracy: 0.7818 - val_loss: 0.4623 - val_mae: 0.3187\n",
      "Epoch 11/100\n",
      "\u001b[1m172/172\u001b[0m \u001b[32m━━━━━━━━━━━━━━━━━━━━\u001b[0m\u001b[37m\u001b[0m \u001b[1m1s\u001b[0m 3ms/step - accuracy: 0.7722 - loss: 0.4970 - mae: 0.3288 - val_accuracy: 0.8000 - val_loss: 0.4472 - val_mae: 0.3070\n",
      "Epoch 12/100\n",
      "\u001b[1m172/172\u001b[0m \u001b[32m━━━━━━━━━━━━━━━━━━━━\u001b[0m\u001b[37m\u001b[0m \u001b[1m1s\u001b[0m 3ms/step - accuracy: 0.7651 - loss: 0.4936 - mae: 0.3202 - val_accuracy: 0.8073 - val_loss: 0.4629 - val_mae: 0.3293\n",
      "Epoch 13/100\n",
      "\u001b[1m172/172\u001b[0m \u001b[32m━━━━━━━━━━━━━━━━━━━━\u001b[0m\u001b[37m\u001b[0m \u001b[1m1s\u001b[0m 3ms/step - accuracy: 0.7739 - loss: 0.4859 - mae: 0.3162 - val_accuracy: 0.7803 - val_loss: 0.4646 - val_mae: 0.3258\n",
      "Epoch 14/100\n",
      "\u001b[1m172/172\u001b[0m \u001b[32m━━━━━━━━━━━━━━━━━━━━\u001b[0m\u001b[37m\u001b[0m \u001b[1m1s\u001b[0m 3ms/step - accuracy: 0.7655 - loss: 0.5102 - mae: 0.3340 - val_accuracy: 0.8022 - val_loss: 0.4494 - val_mae: 0.3009\n",
      "Epoch 15/100\n",
      "\u001b[1m172/172\u001b[0m \u001b[32m━━━━━━━━━━━━━━━━━━━━\u001b[0m\u001b[37m\u001b[0m \u001b[1m1s\u001b[0m 3ms/step - accuracy: 0.7831 - loss: 0.4822 - mae: 0.3107 - val_accuracy: 0.7839 - val_loss: 0.4766 - val_mae: 0.3317\n",
      "Epoch 16/100\n",
      "\u001b[1m172/172\u001b[0m \u001b[32m━━━━━━━━━━━━━━━━━━━━\u001b[0m\u001b[37m\u001b[0m \u001b[1m1s\u001b[0m 3ms/step - accuracy: 0.7576 - loss: 0.5111 - mae: 0.3387 - val_accuracy: 0.7832 - val_loss: 0.4687 - val_mae: 0.3205\n",
      "Epoch 17/100\n",
      "\u001b[1m172/172\u001b[0m \u001b[32m━━━━━━━━━━━━━━━━━━━━\u001b[0m\u001b[37m\u001b[0m \u001b[1m1s\u001b[0m 3ms/step - accuracy: 0.7570 - loss: 0.5012 - mae: 0.3270 - val_accuracy: 0.7993 - val_loss: 0.4570 - val_mae: 0.2996\n",
      "Epoch 18/100\n",
      "\u001b[1m172/172\u001b[0m \u001b[32m━━━━━━━━━━━━━━━━━━━━\u001b[0m\u001b[37m\u001b[0m \u001b[1m1s\u001b[0m 3ms/step - accuracy: 0.7749 - loss: 0.4831 - mae: 0.3158 - val_accuracy: 0.8000 - val_loss: 0.4520 - val_mae: 0.3068\n",
      "Epoch 19/100\n",
      "\u001b[1m172/172\u001b[0m \u001b[32m━━━━━━━━━━━━━━━━━━━━\u001b[0m\u001b[37m\u001b[0m \u001b[1m1s\u001b[0m 4ms/step - accuracy: 0.7739 - loss: 0.4882 - mae: 0.3164 - val_accuracy: 0.7993 - val_loss: 0.4457 - val_mae: 0.2976\n",
      "Epoch 20/100\n",
      "\u001b[1m172/172\u001b[0m \u001b[32m━━━━━━━━━━━━━━━━━━━━\u001b[0m\u001b[37m\u001b[0m \u001b[1m1s\u001b[0m 3ms/step - accuracy: 0.7668 - loss: 0.4923 - mae: 0.3189 - val_accuracy: 0.8051 - val_loss: 0.4420 - val_mae: 0.2875\n",
      "Epoch 21/100\n",
      "\u001b[1m172/172\u001b[0m \u001b[32m━━━━━━━━━━━━━━━━━━━━\u001b[0m\u001b[37m\u001b[0m \u001b[1m1s\u001b[0m 4ms/step - accuracy: 0.7760 - loss: 0.4860 - mae: 0.3127 - val_accuracy: 0.8073 - val_loss: 0.4672 - val_mae: 0.3287\n",
      "Epoch 22/100\n",
      "\u001b[1m172/172\u001b[0m \u001b[32m━━━━━━━━━━━━━━━━━━━━\u001b[0m\u001b[37m\u001b[0m \u001b[1m1s\u001b[0m 3ms/step - accuracy: 0.7772 - loss: 0.4883 - mae: 0.3160 - val_accuracy: 0.7934 - val_loss: 0.4491 - val_mae: 0.3072\n",
      "Epoch 23/100\n",
      "\u001b[1m172/172\u001b[0m \u001b[32m━━━━━━━━━━━━━━━━━━━━\u001b[0m\u001b[37m\u001b[0m \u001b[1m1s\u001b[0m 4ms/step - accuracy: 0.7738 - loss: 0.4800 - mae: 0.3119 - val_accuracy: 0.7949 - val_loss: 0.4750 - val_mae: 0.3342\n",
      "Epoch 24/100\n",
      "\u001b[1m172/172\u001b[0m \u001b[32m━━━━━━━━━━━━━━━━━━━━\u001b[0m\u001b[37m\u001b[0m \u001b[1m1s\u001b[0m 3ms/step - accuracy: 0.7711 - loss: 0.4986 - mae: 0.3233 - val_accuracy: 0.8080 - val_loss: 0.4481 - val_mae: 0.3046\n",
      "Epoch 25/100\n",
      "\u001b[1m172/172\u001b[0m \u001b[32m━━━━━━━━━━━━━━━━━━━━\u001b[0m\u001b[37m\u001b[0m \u001b[1m1s\u001b[0m 3ms/step - accuracy: 0.7659 - loss: 0.4960 - mae: 0.3167 - val_accuracy: 0.8058 - val_loss: 0.4399 - val_mae: 0.2967\n",
      "Epoch 26/100\n",
      "\u001b[1m172/172\u001b[0m \u001b[32m━━━━━━━━━━━━━━━━━━━━\u001b[0m\u001b[37m\u001b[0m \u001b[1m1s\u001b[0m 3ms/step - accuracy: 0.7850 - loss: 0.4800 - mae: 0.3148 - val_accuracy: 0.8109 - val_loss: 0.4611 - val_mae: 0.3273\n",
      "Epoch 27/100\n",
      "\u001b[1m172/172\u001b[0m \u001b[32m━━━━━━━━━━━━━━━━━━━━\u001b[0m\u001b[37m\u001b[0m \u001b[1m1s\u001b[0m 3ms/step - accuracy: 0.7707 - loss: 0.4911 - mae: 0.3217 - val_accuracy: 0.8175 - val_loss: 0.4444 - val_mae: 0.3055\n",
      "Epoch 28/100\n",
      "\u001b[1m172/172\u001b[0m \u001b[32m━━━━━━━━━━━━━━━━━━━━\u001b[0m\u001b[37m\u001b[0m \u001b[1m1s\u001b[0m 3ms/step - accuracy: 0.7770 - loss: 0.4852 - mae: 0.3153 - val_accuracy: 0.7912 - val_loss: 0.4482 - val_mae: 0.3039\n",
      "Epoch 29/100\n",
      "\u001b[1m172/172\u001b[0m \u001b[32m━━━━━━━━━━━━━━━━━━━━\u001b[0m\u001b[37m\u001b[0m \u001b[1m1s\u001b[0m 3ms/step - accuracy: 0.7744 - loss: 0.4886 - mae: 0.3157 - val_accuracy: 0.8153 - val_loss: 0.4338 - val_mae: 0.2857\n",
      "Epoch 30/100\n",
      "\u001b[1m172/172\u001b[0m \u001b[32m━━━━━━━━━━━━━━━━━━━━\u001b[0m\u001b[37m\u001b[0m \u001b[1m1s\u001b[0m 3ms/step - accuracy: 0.7770 - loss: 0.4901 - mae: 0.3215 - val_accuracy: 0.7985 - val_loss: 0.4419 - val_mae: 0.2768\n",
      "Epoch 31/100\n",
      "\u001b[1m172/172\u001b[0m \u001b[32m━━━━━━━━━━━━━━━━━━━━\u001b[0m\u001b[37m\u001b[0m \u001b[1m1s\u001b[0m 3ms/step - accuracy: 0.7768 - loss: 0.4887 - mae: 0.3116 - val_accuracy: 0.7562 - val_loss: 0.4995 - val_mae: 0.3283\n",
      "Epoch 32/100\n",
      "\u001b[1m172/172\u001b[0m \u001b[32m━━━━━━━━━━━━━━━━━━━━\u001b[0m\u001b[37m\u001b[0m \u001b[1m1s\u001b[0m 3ms/step - accuracy: 0.7737 - loss: 0.4835 - mae: 0.3130 - val_accuracy: 0.8095 - val_loss: 0.4291 - val_mae: 0.2822\n",
      "Epoch 33/100\n",
      "\u001b[1m172/172\u001b[0m \u001b[32m━━━━━━━━━━━━━━━━━━━━\u001b[0m\u001b[37m\u001b[0m \u001b[1m1s\u001b[0m 3ms/step - accuracy: 0.7850 - loss: 0.4612 - mae: 0.2973 - val_accuracy: 0.7978 - val_loss: 0.4478 - val_mae: 0.3089\n",
      "Epoch 34/100\n",
      "\u001b[1m172/172\u001b[0m \u001b[32m━━━━━━━━━━━━━━━━━━━━\u001b[0m\u001b[37m\u001b[0m \u001b[1m1s\u001b[0m 3ms/step - accuracy: 0.7860 - loss: 0.4775 - mae: 0.3085 - val_accuracy: 0.8117 - val_loss: 0.4431 - val_mae: 0.3125\n",
      "Epoch 35/100\n",
      "\u001b[1m172/172\u001b[0m \u001b[32m━━━━━━━━━━━━━━━━━━━━\u001b[0m\u001b[37m\u001b[0m \u001b[1m1s\u001b[0m 3ms/step - accuracy: 0.7896 - loss: 0.4678 - mae: 0.3099 - val_accuracy: 0.7905 - val_loss: 0.4749 - val_mae: 0.3360\n",
      "Epoch 36/100\n",
      "\u001b[1m172/172\u001b[0m \u001b[32m━━━━━━━━━━━━━━━━━━━━\u001b[0m\u001b[37m\u001b[0m \u001b[1m1s\u001b[0m 3ms/step - accuracy: 0.7949 - loss: 0.4684 - mae: 0.3050 - val_accuracy: 0.8109 - val_loss: 0.4263 - val_mae: 0.2782\n",
      "Epoch 37/100\n",
      "\u001b[1m172/172\u001b[0m \u001b[32m━━━━━━━━━━━━━━━━━━━━\u001b[0m\u001b[37m\u001b[0m \u001b[1m1s\u001b[0m 3ms/step - accuracy: 0.7825 - loss: 0.4785 - mae: 0.3037 - val_accuracy: 0.7985 - val_loss: 0.4520 - val_mae: 0.3079\n",
      "Epoch 38/100\n",
      "\u001b[1m172/172\u001b[0m \u001b[32m━━━━━━━━━━━━━━━━━━━━\u001b[0m\u001b[37m\u001b[0m \u001b[1m1s\u001b[0m 3ms/step - accuracy: 0.7925 - loss: 0.4613 - mae: 0.2993 - val_accuracy: 0.8066 - val_loss: 0.4490 - val_mae: 0.3146\n",
      "Epoch 39/100\n",
      "\u001b[1m172/172\u001b[0m \u001b[32m━━━━━━━━━━━━━━━━━━━━\u001b[0m\u001b[37m\u001b[0m \u001b[1m1s\u001b[0m 3ms/step - accuracy: 0.7853 - loss: 0.4727 - mae: 0.3052 - val_accuracy: 0.7956 - val_loss: 0.4569 - val_mae: 0.3131\n",
      "Epoch 40/100\n",
      "\u001b[1m172/172\u001b[0m \u001b[32m━━━━━━━━━━━━━━━━━━━━\u001b[0m\u001b[37m\u001b[0m \u001b[1m1s\u001b[0m 3ms/step - accuracy: 0.7798 - loss: 0.4752 - mae: 0.3082 - val_accuracy: 0.8161 - val_loss: 0.4159 - val_mae: 0.2794\n",
      "Epoch 41/100\n",
      "\u001b[1m172/172\u001b[0m \u001b[32m━━━━━━━━━━━━━━━━━━━━\u001b[0m\u001b[37m\u001b[0m \u001b[1m1s\u001b[0m 3ms/step - accuracy: 0.7923 - loss: 0.4607 - mae: 0.2996 - val_accuracy: 0.8095 - val_loss: 0.4648 - val_mae: 0.3271\n",
      "Epoch 42/100\n",
      "\u001b[1m172/172\u001b[0m \u001b[32m━━━━━━━━━━━━━━━━━━━━\u001b[0m\u001b[37m\u001b[0m \u001b[1m1s\u001b[0m 3ms/step - accuracy: 0.7865 - loss: 0.4673 - mae: 0.3083 - val_accuracy: 0.8285 - val_loss: 0.4068 - val_mae: 0.2634\n",
      "Epoch 43/100\n",
      "\u001b[1m172/172\u001b[0m \u001b[32m━━━━━━━━━━━━━━━━━━━━\u001b[0m\u001b[37m\u001b[0m \u001b[1m1s\u001b[0m 3ms/step - accuracy: 0.7763 - loss: 0.4870 - mae: 0.3095 - val_accuracy: 0.8255 - val_loss: 0.4340 - val_mae: 0.3050\n",
      "Epoch 44/100\n",
      "\u001b[1m172/172\u001b[0m \u001b[32m━━━━━━━━━━━━━━━━━━━━\u001b[0m\u001b[37m\u001b[0m \u001b[1m1s\u001b[0m 3ms/step - accuracy: 0.7806 - loss: 0.4809 - mae: 0.3105 - val_accuracy: 0.8007 - val_loss: 0.4552 - val_mae: 0.3102\n",
      "Epoch 45/100\n",
      "\u001b[1m172/172\u001b[0m \u001b[32m━━━━━━━━━━━━━━━━━━━━\u001b[0m\u001b[37m\u001b[0m \u001b[1m1s\u001b[0m 3ms/step - accuracy: 0.7895 - loss: 0.4748 - mae: 0.3048 - val_accuracy: 0.8197 - val_loss: 0.4237 - val_mae: 0.2805\n",
      "Epoch 46/100\n",
      "\u001b[1m172/172\u001b[0m \u001b[32m━━━━━━━━━━━━━━━━━━━━\u001b[0m\u001b[37m\u001b[0m \u001b[1m1s\u001b[0m 3ms/step - accuracy: 0.7903 - loss: 0.4658 - mae: 0.2939 - val_accuracy: 0.8117 - val_loss: 0.4230 - val_mae: 0.2832\n",
      "Epoch 47/100\n",
      "\u001b[1m172/172\u001b[0m \u001b[32m━━━━━━━━━━━━━━━━━━━━\u001b[0m\u001b[37m\u001b[0m \u001b[1m1s\u001b[0m 4ms/step - accuracy: 0.7984 - loss: 0.4578 - mae: 0.2996 - val_accuracy: 0.7949 - val_loss: 0.4449 - val_mae: 0.3038\n",
      "Epoch 48/100\n",
      "\u001b[1m172/172\u001b[0m \u001b[32m━━━━━━━━━━━━━━━━━━━━\u001b[0m\u001b[37m\u001b[0m \u001b[1m1s\u001b[0m 3ms/step - accuracy: 0.7897 - loss: 0.4765 - mae: 0.3106 - val_accuracy: 0.8168 - val_loss: 0.4578 - val_mae: 0.3165\n",
      "Epoch 49/100\n",
      "\u001b[1m172/172\u001b[0m \u001b[32m━━━━━━━━━━━━━━━━━━━━\u001b[0m\u001b[37m\u001b[0m \u001b[1m1s\u001b[0m 3ms/step - accuracy: 0.7857 - loss: 0.4782 - mae: 0.3037 - val_accuracy: 0.8212 - val_loss: 0.4081 - val_mae: 0.2744\n",
      "Epoch 50/100\n",
      "\u001b[1m172/172\u001b[0m \u001b[32m━━━━━━━━━━━━━━━━━━━━\u001b[0m\u001b[37m\u001b[0m \u001b[1m1s\u001b[0m 3ms/step - accuracy: 0.7868 - loss: 0.4807 - mae: 0.3102 - val_accuracy: 0.7876 - val_loss: 0.4449 - val_mae: 0.2902\n",
      "Epoch 51/100\n",
      "\u001b[1m172/172\u001b[0m \u001b[32m━━━━━━━━━━━━━━━━━━━━\u001b[0m\u001b[37m\u001b[0m \u001b[1m1s\u001b[0m 3ms/step - accuracy: 0.7843 - loss: 0.4823 - mae: 0.3056 - val_accuracy: 0.7664 - val_loss: 0.4794 - val_mae: 0.3216\n",
      "Epoch 52/100\n",
      "\u001b[1m172/172\u001b[0m \u001b[32m━━━━━━━━━━━━━━━━━━━━\u001b[0m\u001b[37m\u001b[0m \u001b[1m1s\u001b[0m 3ms/step - accuracy: 0.7858 - loss: 0.4645 - mae: 0.3010 - val_accuracy: 0.8168 - val_loss: 0.4207 - val_mae: 0.2864\n"
     ]
    }
   ],
   "source": [
    "import keras\n",
    "from keras.models import Sequential\n",
    "from keras.layers import Dense, Dropout, BatchNormalization\n",
    "from keras.callbacks import EarlyStopping\n",
    "\n",
    "# Budowa modelu\n",
    "model = Sequential()\n",
    "\n",
    "# Warstwy wejściowe i ukryte\n",
    "model.add(Dense(56, kernel_initializer='normal', activation='tanh', input_shape=(X_train.shape[1],)))\n",
    "model.add(Dropout(rate=0.2))\n",
    "model.add(BatchNormalization())\n",
    "\n",
    "model.add(Dense(56, kernel_initializer='normal', activation='tanh'))\n",
    "model.add(Dropout(rate=0.2))\n",
    "model.add(BatchNormalization())\n",
    "\n",
    "model.add(Dense(56, kernel_initializer='normal', activation='tanh'))\n",
    "model.add(Dropout(rate=0.2))\n",
    "model.add(BatchNormalization())\n",
    "\n",
    "model.add(Dense(56, kernel_initializer='normal', activation='tanh'))\n",
    "model.add(Dropout(rate=0.2))\n",
    "model.add(BatchNormalization())\n",
    "\n",
    "# Warstwa wyjściowa\n",
    "model.add(Dense(2, kernel_initializer='normal', activation='sigmoid'))\n",
    "\n",
    "# Kompilacja modelu z dodatkowymi metrykami\n",
    "model.compile(optimizer='adam', loss='binary_crossentropy', metrics=['accuracy', 'mae'])\n",
    "\n",
    "# Wczesne zatrzymanie\n",
    "early_stopping = EarlyStopping(monitor='val_loss', patience=10, restore_best_weights=True)\n",
    "\n",
    "# Trenowanie modelu\n",
    "model_history = model.fit(X_train, y_train, validation_split=0.2, epochs=100, callbacks=[early_stopping])"
   ]
  },
  {
   "cell_type": "code",
   "execution_count": 41,
   "id": "3f26869d-7fe0-42f3-a2be-bd42aa911651",
   "metadata": {},
   "outputs": [
    {
     "name": "stdout",
     "output_type": "stream",
     "text": [
      "\u001b[1m54/54\u001b[0m \u001b[32m━━━━━━━━━━━━━━━━━━━━\u001b[0m\u001b[37m\u001b[0m \u001b[1m0s\u001b[0m 2ms/step - accuracy: 0.7990 - loss: 0.4497 - mae: 0.2846\n",
      "Accuracy: 0.8014\n",
      "Mean Absolute Error (MAE): 0.2808\n"
     ]
    }
   ],
   "source": [
    "# Ocena modelu\n",
    "loss, accuracy, mae = model.evaluate(X_test, y_test)\n",
    "print(f'Accuracy: {accuracy:.4f}')\n",
    "print(f'Mean Absolute Error (MAE): {mae:.4f}')"
   ]
  },
  {
   "cell_type": "code",
   "execution_count": 42,
   "id": "2fdf4d7f-ff7c-4a47-8bab-f8b576ad9137",
   "metadata": {},
   "outputs": [
    {
     "name": "stdout",
     "output_type": "stream",
     "text": [
      "\u001b[1m54/54\u001b[0m \u001b[32m━━━━━━━━━━━━━━━━━━━━\u001b[0m\u001b[37m\u001b[0m \u001b[1m0s\u001b[0m 3ms/step\n"
     ]
    }
   ],
   "source": [
    "# Predykcja\n",
    "y_pred = model.predict(X_test)\n",
    "y_pred_classes = y_pred.argmax(axis=1)\n",
    "y_true = y_test.argmax(axis=1)"
   ]
  },
  {
   "cell_type": "code",
   "execution_count": 43,
   "id": "186671c8-3301-4475-b2d1-2b15da6b7c64",
   "metadata": {},
   "outputs": [
    {
     "name": "stdout",
     "output_type": "stream",
     "text": [
      "\n",
      "Classification Report:\n",
      "              precision    recall  f1-score   support\n",
      "\n",
      "           0       0.80      0.79      0.80       841\n",
      "           1       0.80      0.81      0.81       871\n",
      "\n",
      "    accuracy                           0.80      1712\n",
      "   macro avg       0.80      0.80      0.80      1712\n",
      "weighted avg       0.80      0.80      0.80      1712\n",
      "\n",
      "\n",
      "AUC: 0.8725\n"
     ]
    }
   ],
   "source": [
    "# Obliczenie metryk F1-score i AUC\n",
    "print(\"\\nClassification Report:\")\n",
    "print(classification_report(y_true, y_pred_classes))\n",
    "\n",
    "auc = roc_auc_score(y_true, y_pred[:, 1])\n",
    "print(f'\\nAUC: {auc:.4f}')"
   ]
  },
  {
   "cell_type": "code",
   "execution_count": 44,
   "id": "d1797dec-4978-46ed-874f-f2520e3e219c",
   "metadata": {},
   "outputs": [],
   "source": [
    "# Wykresy strat i dokładności\n",
    "epochs = range(1, len(model_history.history['loss']) + 1)"
   ]
  },
  {
   "cell_type": "code",
   "execution_count": 45,
   "id": "e55a1038-7ee6-4591-adb9-e18b80917f80",
   "metadata": {},
   "outputs": [
    {
     "data": {
      "image/png": "[encoded data removed]",
      "text/plain": [
       "<Figure size 1200x600 with 1 Axes>"
      ]
     },
     "metadata": {},
     "output_type": "display_data"
    }
   ],
   "source": [
    "# Extract training and validation loss from the history\n",
    "train_loss = model_history.history['loss']\n",
    "val_loss = model_history.history['val_loss']\n",
    "epochs = range(1, len(train_loss) + 1)\n",
    "\n",
    "# Plot the training and validation loss\n",
    "plt.figure(figsize=(12, 6))\n",
    "sns.lineplot(x=epochs, y=train_loss, label='Training Loss')\n",
    "sns.lineplot(x=epochs, y=val_loss, label='Validation Loss')\n",
    "plt.title('Training and Validation Loss\\n')\n",
    "plt.xlabel('Epochs')\n",
    "plt.ylabel('Loss')\n",
    "plt.legend()\n",
    "plt.show()"
   ]
  },
  {
   "cell_type": "code",
   "execution_count": 46,
   "id": "9133abe1-878c-4575-ad54-06fc74547785",
   "metadata": {},
   "outputs": [
    {
     "data": {
      "image/png": "[encoded data removed]",
      "text/plain": [
       "<Figure size 1200x600 with 1 Axes>"
      ]
     },
     "metadata": {},
     "output_type": "display_data"
    }
   ],
   "source": [
    "plt.figure(figsize=(12, 6))\n",
    "\n",
    "train_loss = model_history.history['accuracy']\n",
    "val_loss = model_history.history['val_accuracy']\n",
    "epochs = range(1, len(train_loss) + 1)\n",
    "\n",
    "# Use x and y keyword arguments for sns.lineplot\n",
    "sns.lineplot(x=epochs, y=train_loss, label='Training accuracy')\n",
    "sns.lineplot(x=epochs, y=val_loss, label='Validation accuracy')\n",
    "\n",
    "plt.title('Training and Validation Accuracy\\n')\n",
    "plt.xlabel('Epochs')\n",
    "plt.ylabel('Accuracy')\n",
    "plt.legend()\n",
    "plt.show()"
   ]
  },
  {
   "cell_type": "code",
   "execution_count": 47,
   "id": "ed2d07d5-30a7-402c-b256-1b0d90275154",
   "metadata": {},
   "outputs": [
    {
     "data": {
      "text/html": [
       "<pre style=\"white-space:pre;overflow-x:auto;line-height:normal;font-family:Menlo,'DejaVu Sans Mono',consolas,'Courier New',monospace\"><span style=\"font-weight: bold\">Model: \"sequential\"</span>\n",
       "</pre>\n"
      ],
      "text/plain": [
       "\u001b[1mModel: \"sequential\"\u001b[0m\n"
      ]
     },
     "metadata": {},
     "output_type": "display_data"
    },
    {
     "data": {
      "text/html": [
       "<pre style=\"white-space:pre;overflow-x:auto;line-height:normal;font-family:Menlo,'DejaVu Sans Mono',consolas,'Courier New',monospace\">┏━━━━━━━━━━━━━━━━━━━━━━━━━━━━━━━━━┳━━━━━━━━━━━━━━━━━━━━━━━━┳━━━━━━━━━━━━━━━┓\n",
       "┃<span style=\"font-weight: bold\"> Layer (type)                    </span>┃<span style=\"font-weight: bold\"> Output Shape           </span>┃<span style=\"font-weight: bold\">       Param # </span>┃\n",
       "┡━━━━━━━━━━━━━━━━━━━━━━━━━━━━━━━━━╇━━━━━━━━━━━━━━━━━━━━━━━━╇━━━━━━━━━━━━━━━┩\n",
       "│ dense (<span style=\"color: #0087ff; text-decoration-color: #0087ff\">Dense</span>)                   │ (<span style=\"color: #00d7ff; text-decoration-color: #00d7ff\">None</span>, <span style=\"color: #00af00; text-decoration-color: #00af00\">56</span>)             │           <span style=\"color: #00af00; text-decoration-color: #00af00\">560</span> │\n",
       "├─────────────────────────────────┼────────────────────────┼───────────────┤\n",
       "│ dropout (<span style=\"color: #0087ff; text-decoration-color: #0087ff\">Dropout</span>)               │ (<span style=\"color: #00d7ff; text-decoration-color: #00d7ff\">None</span>, <span style=\"color: #00af00; text-decoration-color: #00af00\">56</span>)             │             <span style=\"color: #00af00; text-decoration-color: #00af00\">0</span> │\n",
       "├─────────────────────────────────┼────────────────────────┼───────────────┤\n",
       "│ batch_normalization             │ (<span style=\"color: #00d7ff; text-decoration-color: #00d7ff\">None</span>, <span style=\"color: #00af00; text-decoration-color: #00af00\">56</span>)             │           <span style=\"color: #00af00; text-decoration-color: #00af00\">224</span> │\n",
       "│ (<span style=\"color: #0087ff; text-decoration-color: #0087ff\">BatchNormalization</span>)            │                        │               │\n",
       "├─────────────────────────────────┼────────────────────────┼───────────────┤\n",
       "│ dense_1 (<span style=\"color: #0087ff; text-decoration-color: #0087ff\">Dense</span>)                 │ (<span style=\"color: #00d7ff; text-decoration-color: #00d7ff\">None</span>, <span style=\"color: #00af00; text-decoration-color: #00af00\">56</span>)             │         <span style=\"color: #00af00; text-decoration-color: #00af00\">3,192</span> │\n",
       "├─────────────────────────────────┼────────────────────────┼───────────────┤\n",
       "│ dropout_1 (<span style=\"color: #0087ff; text-decoration-color: #0087ff\">Dropout</span>)             │ (<span style=\"color: #00d7ff; text-decoration-color: #00d7ff\">None</span>, <span style=\"color: #00af00; text-decoration-color: #00af00\">56</span>)             │             <span style=\"color: #00af00; text-decoration-color: #00af00\">0</span> │\n",
       "├─────────────────────────────────┼────────────────────────┼───────────────┤\n",
       "│ batch_normalization_1           │ (<span style=\"color: #00d7ff; text-decoration-color: #00d7ff\">None</span>, <span style=\"color: #00af00; text-decoration-color: #00af00\">56</span>)             │           <span style=\"color: #00af00; text-decoration-color: #00af00\">224</span> │\n",
       "│ (<span style=\"color: #0087ff; text-decoration-color: #0087ff\">BatchNormalization</span>)            │                        │               │\n",
       "├─────────────────────────────────┼────────────────────────┼───────────────┤\n",
       "│ dense_2 (<span style=\"color: #0087ff; text-decoration-color: #0087ff\">Dense</span>)                 │ (<span style=\"color: #00d7ff; text-decoration-color: #00d7ff\">None</span>, <span style=\"color: #00af00; text-decoration-color: #00af00\">56</span>)             │         <span style=\"color: #00af00; text-decoration-color: #00af00\">3,192</span> │\n",
       "├─────────────────────────────────┼────────────────────────┼───────────────┤\n",
       "│ dropout_2 (<span style=\"color: #0087ff; text-decoration-color: #0087ff\">Dropout</span>)             │ (<span style=\"color: #00d7ff; text-decoration-color: #00d7ff\">None</span>, <span style=\"color: #00af00; text-decoration-color: #00af00\">56</span>)             │             <span style=\"color: #00af00; text-decoration-color: #00af00\">0</span> │\n",
       "├─────────────────────────────────┼────────────────────────┼───────────────┤\n",
       "│ batch_normalization_2           │ (<span style=\"color: #00d7ff; text-decoration-color: #00d7ff\">None</span>, <span style=\"color: #00af00; text-decoration-color: #00af00\">56</span>)             │           <span style=\"color: #00af00; text-decoration-color: #00af00\">224</span> │\n",
       "│ (<span style=\"color: #0087ff; text-decoration-color: #0087ff\">BatchNormalization</span>)            │                        │               │\n",
       "├─────────────────────────────────┼────────────────────────┼───────────────┤\n",
       "│ dense_3 (<span style=\"color: #0087ff; text-decoration-color: #0087ff\">Dense</span>)                 │ (<span style=\"color: #00d7ff; text-decoration-color: #00d7ff\">None</span>, <span style=\"color: #00af00; text-decoration-color: #00af00\">56</span>)             │         <span style=\"color: #00af00; text-decoration-color: #00af00\">3,192</span> │\n",
       "├─────────────────────────────────┼────────────────────────┼───────────────┤\n",
       "│ dropout_3 (<span style=\"color: #0087ff; text-decoration-color: #0087ff\">Dropout</span>)             │ (<span style=\"color: #00d7ff; text-decoration-color: #00d7ff\">None</span>, <span style=\"color: #00af00; text-decoration-color: #00af00\">56</span>)             │             <span style=\"color: #00af00; text-decoration-color: #00af00\">0</span> │\n",
       "├─────────────────────────────────┼────────────────────────┼───────────────┤\n",
       "│ batch_normalization_3           │ (<span style=\"color: #00d7ff; text-decoration-color: #00d7ff\">None</span>, <span style=\"color: #00af00; text-decoration-color: #00af00\">56</span>)             │           <span style=\"color: #00af00; text-decoration-color: #00af00\">224</span> │\n",
       "│ (<span style=\"color: #0087ff; text-decoration-color: #0087ff\">BatchNormalization</span>)            │                        │               │\n",
       "├─────────────────────────────────┼────────────────────────┼───────────────┤\n",
       "│ dense_4 (<span style=\"color: #0087ff; text-decoration-color: #0087ff\">Dense</span>)                 │ (<span style=\"color: #00d7ff; text-decoration-color: #00d7ff\">None</span>, <span style=\"color: #00af00; text-decoration-color: #00af00\">2</span>)              │           <span style=\"color: #00af00; text-decoration-color: #00af00\">114</span> │\n",
       "└─────────────────────────────────┴────────────────────────┴───────────────┘\n",
       "</pre>\n"
      ],
      "text/plain": [
       "┏━━━━━━━━━━━━━━━━━━━━━━━━━━━━━━━━━┳━━━━━━━━━━━━━━━━━━━━━━━━┳━━━━━━━━━━━━━━━┓\n",
       "┃\u001b[1m \u001b[0m\u001b[1mLayer (type)                   \u001b[0m\u001b[1m \u001b[0m┃\u001b[1m \u001b[0m\u001b[1mOutput Shape          \u001b[0m\u001b[1m \u001b[0m┃\u001b[1m \u001b[0m\u001b[1m      Param #\u001b[0m\u001b[1m \u001b[0m┃\n",
       "┡━━━━━━━━━━━━━━━━━━━━━━━━━━━━━━━━━╇━━━━━━━━━━━━━━━━━━━━━━━━╇━━━━━━━━━━━━━━━┩\n",
       "│ dense (\u001b[38;5;33mDense\u001b[0m)                   │ (\u001b[38;5;45mNone\u001b[0m, \u001b[38;5;34m56\u001b[0m)             │           \u001b[38;5;34m560\u001b[0m │\n",
       "├─────────────────────────────────┼────────────────────────┼───────────────┤\n",
       "│ dropout (\u001b[38;5;33mDropout\u001b[0m)               │ (\u001b[38;5;45mNone\u001b[0m, \u001b[38;5;34m56\u001b[0m)             │             \u001b[38;5;34m0\u001b[0m │\n",
       "├─────────────────────────────────┼────────────────────────┼───────────────┤\n",
       "│ batch_normalization             │ (\u001b[38;5;45mNone\u001b[0m, \u001b[38;5;34m56\u001b[0m)             │           \u001b[38;5;34m224\u001b[0m │\n",
       "│ (\u001b[38;5;33mBatchNormalization\u001b[0m)            │                        │               │\n",
       "├─────────────────────────────────┼────────────────────────┼───────────────┤\n",
       "│ dense_1 (\u001b[38;5;33mDense\u001b[0m)                 │ (\u001b[38;5;45mNone\u001b[0m, \u001b[38;5;34m56\u001b[0m)             │         \u001b[38;5;34m3,192\u001b[0m │\n",
       "├─────────────────────────────────┼────────────────────────┼───────────────┤\n",
       "│ dropout_1 (\u001b[38;5;33mDropout\u001b[0m)             │ (\u001b[38;5;45mNone\u001b[0m, \u001b[38;5;34m56\u001b[0m)             │             \u001b[38;5;34m0\u001b[0m │\n",
       "├─────────────────────────────────┼────────────────────────┼───────────────┤\n",
       "│ batch_normalization_1           │ (\u001b[38;5;45mNone\u001b[0m, \u001b[38;5;34m56\u001b[0m)             │           \u001b[38;5;34m224\u001b[0m │\n",
       "│ (\u001b[38;5;33mBatchNormalization\u001b[0m)            │                        │               │\n",
       "├─────────────────────────────────┼────────────────────────┼───────────────┤\n",
       "│ dense_2 (\u001b[38;5;33mDense\u001b[0m)                 │ (\u001b[38;5;45mNone\u001b[0m, \u001b[38;5;34m56\u001b[0m)             │         \u001b[38;5;34m3,192\u001b[0m │\n",
       "├─────────────────────────────────┼────────────────────────┼───────────────┤\n",
       "│ dropout_2 (\u001b[38;5;33mDropout\u001b[0m)             │ (\u001b[38;5;45mNone\u001b[0m, \u001b[38;5;34m56\u001b[0m)             │             \u001b[38;5;34m0\u001b[0m │\n",
       "├─────────────────────────────────┼────────────────────────┼───────────────┤\n",
       "│ batch_normalization_2           │ (\u001b[38;5;45mNone\u001b[0m, \u001b[38;5;34m56\u001b[0m)             │           \u001b[38;5;34m224\u001b[0m │\n",
       "│ (\u001b[38;5;33mBatchNormalization\u001b[0m)            │                        │               │\n",
       "├─────────────────────────────────┼────────────────────────┼───────────────┤\n",
       "│ dense_3 (\u001b[38;5;33mDense\u001b[0m)                 │ (\u001b[38;5;45mNone\u001b[0m, \u001b[38;5;34m56\u001b[0m)             │         \u001b[38;5;34m3,192\u001b[0m │\n",
       "├─────────────────────────────────┼────────────────────────┼───────────────┤\n",
       "│ dropout_3 (\u001b[38;5;33mDropout\u001b[0m)             │ (\u001b[38;5;45mNone\u001b[0m, \u001b[38;5;34m56\u001b[0m)             │             \u001b[38;5;34m0\u001b[0m │\n",
       "├─────────────────────────────────┼────────────────────────┼───────────────┤\n",
       "│ batch_normalization_3           │ (\u001b[38;5;45mNone\u001b[0m, \u001b[38;5;34m56\u001b[0m)             │           \u001b[38;5;34m224\u001b[0m │\n",
       "│ (\u001b[38;5;33mBatchNormalization\u001b[0m)            │                        │               │\n",
       "├─────────────────────────────────┼────────────────────────┼───────────────┤\n",
       "│ dense_4 (\u001b[38;5;33mDense\u001b[0m)                 │ (\u001b[38;5;45mNone\u001b[0m, \u001b[38;5;34m2\u001b[0m)              │           \u001b[38;5;34m114\u001b[0m │\n",
       "└─────────────────────────────────┴────────────────────────┴───────────────┘\n"
      ]
     },
     "metadata": {},
     "output_type": "display_data"
    },
    {
     "data": {
      "text/html": [
       "<pre style=\"white-space:pre;overflow-x:auto;line-height:normal;font-family:Menlo,'DejaVu Sans Mono',consolas,'Courier New',monospace\"><span style=\"font-weight: bold\"> Total params: </span><span style=\"color: #00af00; text-decoration-color: #00af00\">32,544</span> (127.13 KB)\n",
       "</pre>\n"
      ],
      "text/plain": [
       "\u001b[1m Total params: \u001b[0m\u001b[38;5;34m32,544\u001b[0m (127.13 KB)\n"
      ]
     },
     "metadata": {},
     "output_type": "display_data"
    },
    {
     "data": {
      "text/html": [
       "<pre style=\"white-space:pre;overflow-x:auto;line-height:normal;font-family:Menlo,'DejaVu Sans Mono',consolas,'Courier New',monospace\"><span style=\"font-weight: bold\"> Trainable params: </span><span style=\"color: #00af00; text-decoration-color: #00af00\">10,698</span> (41.79 KB)\n",
       "</pre>\n"
      ],
      "text/plain": [
       "\u001b[1m Trainable params: \u001b[0m\u001b[38;5;34m10,698\u001b[0m (41.79 KB)\n"
      ]
     },
     "metadata": {},
     "output_type": "display_data"
    },
    {
     "data": {
      "text/html": [
       "<pre style=\"white-space:pre;overflow-x:auto;line-height:normal;font-family:Menlo,'DejaVu Sans Mono',consolas,'Courier New',monospace\"><span style=\"font-weight: bold\"> Non-trainable params: </span><span style=\"color: #00af00; text-decoration-color: #00af00\">448</span> (1.75 KB)\n",
       "</pre>\n"
      ],
      "text/plain": [
       "\u001b[1m Non-trainable params: \u001b[0m\u001b[38;5;34m448\u001b[0m (1.75 KB)\n"
      ]
     },
     "metadata": {},
     "output_type": "display_data"
    },
    {
     "data": {
      "text/html": [
       "<pre style=\"white-space:pre;overflow-x:auto;line-height:normal;font-family:Menlo,'DejaVu Sans Mono',consolas,'Courier New',monospace\"><span style=\"font-weight: bold\"> Optimizer params: </span><span style=\"color: #00af00; text-decoration-color: #00af00\">21,398</span> (83.59 KB)\n",
       "</pre>\n"
      ],
      "text/plain": [
       "\u001b[1m Optimizer params: \u001b[0m\u001b[38;5;34m21,398\u001b[0m (83.59 KB)\n"
      ]
     },
     "metadata": {},
     "output_type": "display_data"
    }
   ],
   "source": [
    "model.summary()"
   ]
  },
  {
   "cell_type": "markdown",
   "id": "7a3e48fb-0183-495d-869b-c543c1ea1602",
   "metadata": {},
   "source": [
    "## Analiza wyników modelu"
   ]
  },
  {
   "cell_type": "code",
   "execution_count": 50,
   "id": "13402ac2-d94a-459d-acf4-37e9d29c082d",
   "metadata": {},
   "outputs": [
    {
     "name": "stdout",
     "output_type": "stream",
     "text": [
      "Quited: 4279\n",
      "Stayed: 543\n"
     ]
    }
   ],
   "source": [
    "count_1 = 0\n",
    "count_0 = 0\n",
    "\n",
    "for value in df['quit']:\n",
    "    if value == 1:\n",
    "        count_1 += 1\n",
    "    elif value == 0:\n",
    "        count_0 += 1\n",
    "\n",
    "print(f\"Quited: {count_1}\")\n",
    "print(f\"Stayed: {count_0}\")"
   ]
  },
  {
   "cell_type": "code",
   "execution_count": 51,
   "id": "1916af67-f2b7-4ef9-967f-9154e50bf734",
   "metadata": {},
   "outputs": [
    {
     "name": "stdout",
     "output_type": "stream",
     "text": [
      "Procentowy udział wartości 1 w kolumnie 'quit': 88.74%\n",
      "Procentowy udział wartości 0 w kolumnie 'quit': 11.26%\n"
     ]
    }
   ],
   "source": [
    "# Liczenie procentowego udziału wartości 1 i 0\n",
    "count_total = len(df['quit'])\n",
    "percent_1 = (count_1 / count_total) * 100\n",
    "percent_0 = (count_0 / count_total) * 100\n",
    "\n",
    "print(f\"Procentowy udział wartości 1 w kolumnie 'quit': {percent_1:.2f}%\")\n",
    "print(f\"Procentowy udział wartości 0 w kolumnie 'quit': {percent_0:.2f}%\")"
   ]
  },
  {
   "cell_type": "markdown",
   "id": "200b87ab-702e-4d73-95a0-68c8e2a892d8",
   "metadata": {},
   "source": [
    "The model was evaluated using several metrics, including Accuracy, MAE, Classification Report, and AUC:\n",
    "1. Accuracy: 0.8026 (80.26%) - indicates that the model correctly classified approximately 80% of the test examples.\n",
    "2. Mean Absolute Error (MAE): 0.2874 - shows the average error between the predictions and actual values, which is not the key metric for classification but can provide additional insight into model stability.\n",
    "3. Classification Report:\n",
    "- Precision: For class `0` it is 0.80, and for class `1` it is 0.81. This means that the model performs well in predicting both classes.\n",
    "- Recall: For class `0` it is 0.80, and for class `1` it is 0.80. This shows that the model is able to detect instances of both classes with similar effectiveness.\n",
    "- F1-score: The F1-score values for both classes are around 0.80, indicating a balance between precision and recall.\n",
    "4. AUC: 0.8620 - indicates that the model distinguishes well between classes `0` and `1`. A higher AUC value indicates better capabilities in recognizing differences between classes.\n",
    "  \n",
    "Overall, the model achieved balanced results for both classes, but there is room for further optimization by adjusting hyperparameters, applying regularization, or rebalancing the data.\n"
   ]
  },
  {
   "cell_type": "code",
   "execution_count": null,
   "id": "ef5e4d8d-1fa1-4daf-bc9d-1cae11265282",
   "metadata": {},
   "outputs": [],
   "source": []
  }
 ],
 "metadata": {
  "kernelspec": {
   "display_name": "Python 3 (ipykernel)",
   "language": "python",
   "name": "python3"
  },
  "language_info": {
   "codemirror_mode": {
    "name": "ipython",
    "version": 3
   },
   "file_extension": ".py",
   "mimetype": "text/x-python",
   "name": "python",
   "nbconvert_exporter": "python",
   "pygments_lexer": "ipython3",
   "version": "3.12.7"
  }
 },
 "nbformat": 4,
 "nbformat_minor": 5
}
